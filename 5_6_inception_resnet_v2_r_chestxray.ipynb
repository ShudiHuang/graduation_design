{
 "cells": [
  {
   "cell_type": "code",
   "execution_count": 1,
   "id": "0b592544",
   "metadata": {},
   "outputs": [],
   "source": [
    "import tensorflow as tf\n",
    "import numpy as np\n",
    "import os,pathlib"
   ]
  },
  {
   "cell_type": "code",
   "execution_count": 2,
   "id": "96b37faf",
   "metadata": {},
   "outputs": [],
   "source": [
    "#方法定义 \n",
    "\n",
    "def preprocess_data(dataset):\n",
    "    all_images = []\n",
    "    all_labels = []\n",
    "    for image,label in dataset:\n",
    "        preprocessed_image = tf.keras.applications.inception_resnet_v2.preprocess_input(image)\n",
    "        all_images.append(preprocessed_image)\n",
    "        all_labels.append(label)\n",
    "    return np.concatenate(all_images),np.concatenate(all_labels)\n",
    "\n",
    "def get_r_list():\n",
    "    index_r_list = []\n",
    "    name_r_list = []\n",
    "    for i,layer in enumerate(base_model.layers):\n",
    "        if layer.name[0:5] == 'mixed' or layer.name[-4:] == '5_ac':\n",
    "            index_r_list.append(i)\n",
    "            name_r_list.append(layer.name)\n",
    "    r_list = [0]\n",
    "    for i in index_r_list:\n",
    "        r = i/len(base_model.layers)\n",
    "        r_list.append(r)\n",
    "    return r_list\n",
    "\n",
    "def build_model():\n",
    "    x = conv_base.output\n",
    "    predictions = classifier(x)\n",
    "    model = tf.keras.Model(inputs=conv_base.input,outputs=predictions)\n",
    "    return model\n",
    "\n",
    "def r_compiled_model():\n",
    "    model = build_model()\n",
    "    for layer in model.layers[:int(r*len(conv_base.layers))+1]:\n",
    "        layer.trainable = False\n",
    "    for layer in model.layers[int(r*len(conv_base.layers))+1:]:\n",
    "        layer.trainable = True\n",
    "    model.compile(optimizer=tf.keras.optimizers.SGD(learning_rate=0.0001,momentum=0.9),\n",
    "                  loss='binary_crossentropy',\n",
    "                  metrics=['accuracy'])\n",
    "    return model"
   ]
  },
  {
   "cell_type": "code",
   "execution_count": 3,
   "id": "15691d94",
   "metadata": {},
   "outputs": [
    {
     "name": "stdout",
     "output_type": "stream",
     "text": [
      "Found 100 files belonging to 2 classes.\n",
      "Found 160 files belonging to 2 classes.\n"
     ]
    }
   ],
   "source": [
    "#加载数据、预处理数据\n",
    "\n",
    "base_dir = pathlib.Path('chest_xray2/label')\n",
    "train_dataset = tf.keras.utils.image_dataset_from_directory(base_dir/'train',\n",
    "                                                            image_size=(224,224),\n",
    "                                                            batch_size=32)\n",
    "validation_dataset = tf.keras.utils.image_dataset_from_directory(base_dir/'val',\n",
    "                                                                 image_size=(224,224),\n",
    "                                                                 batch_size=32)\n",
    "train_images,train_labels = preprocess_data(train_dataset)\n",
    "val_images,val_labels = preprocess_data(validation_dataset)"
   ]
  },
  {
   "cell_type": "code",
   "execution_count": 4,
   "id": "e47fe594",
   "metadata": {},
   "outputs": [
    {
     "name": "stdout",
     "output_type": "stream",
     "text": [
      "Epoch 1/15\n",
      "WARNING:tensorflow:AutoGraph could not transform <function Model.make_train_function.<locals>.train_function at 0x000001D6AE641D08> and will run it as-is.\n",
      "Please report this to the TensorFlow team. When filing the bug, set the verbosity to 10 (on Linux, `export AUTOGRAPH_VERBOSITY=10`) and attach the full output.\n",
      "Cause: 'arguments' object has no attribute 'posonlyargs'\n",
      "To silence this warning, decorate the function with @tf.autograph.experimental.do_not_convert\n",
      "WARNING: AutoGraph could not transform <function Model.make_train_function.<locals>.train_function at 0x000001D6AE641D08> and will run it as-is.\n",
      "Please report this to the TensorFlow team. When filing the bug, set the verbosity to 10 (on Linux, `export AUTOGRAPH_VERBOSITY=10`) and attach the full output.\n",
      "Cause: 'arguments' object has no attribute 'posonlyargs'\n",
      "To silence this warning, decorate the function with @tf.autograph.experimental.do_not_convert\n",
      "4/4 [==============================] - ETA: 0s - loss: 5.2208 - accuracy: 0.4800WARNING:tensorflow:AutoGraph could not transform <function Model.make_test_function.<locals>.test_function at 0x000001D6AA3EF7B8> and will run it as-is.\n",
      "Please report this to the TensorFlow team. When filing the bug, set the verbosity to 10 (on Linux, `export AUTOGRAPH_VERBOSITY=10`) and attach the full output.\n",
      "Cause: 'arguments' object has no attribute 'posonlyargs'\n",
      "To silence this warning, decorate the function with @tf.autograph.experimental.do_not_convert\n",
      "WARNING: AutoGraph could not transform <function Model.make_test_function.<locals>.test_function at 0x000001D6AA3EF7B8> and will run it as-is.\n",
      "Please report this to the TensorFlow team. When filing the bug, set the verbosity to 10 (on Linux, `export AUTOGRAPH_VERBOSITY=10`) and attach the full output.\n",
      "Cause: 'arguments' object has no attribute 'posonlyargs'\n",
      "To silence this warning, decorate the function with @tf.autograph.experimental.do_not_convert\n",
      "4/4 [==============================] - 28s 6s/step - loss: 5.2208 - accuracy: 0.4800 - val_loss: 4.2343 - val_accuracy: 0.5000\n",
      "Epoch 2/15\n",
      "4/4 [==============================] - 18s 5s/step - loss: 1.5925 - accuracy: 0.7800 - val_loss: 1.9646 - val_accuracy: 0.5063\n",
      "Epoch 3/15\n",
      "4/4 [==============================] - 19s 5s/step - loss: 1.2273 - accuracy: 0.6500 - val_loss: 0.3351 - val_accuracy: 0.8625\n",
      "Epoch 4/15\n",
      "4/4 [==============================] - 18s 5s/step - loss: 0.2562 - accuracy: 0.8900 - val_loss: 0.4078 - val_accuracy: 0.8438\n",
      "Epoch 5/15\n",
      "4/4 [==============================] - 18s 5s/step - loss: 0.3368 - accuracy: 0.8300 - val_loss: 0.3102 - val_accuracy: 0.8500\n",
      "0.862500011920929\n"
     ]
    }
   ],
   "source": [
    "#分类器初训练\n",
    "\n",
    "base_model = tf.keras.applications.inception_resnet_v2.InceptionResNetV2(weights='imagenet',include_top=False)\n",
    "\n",
    "inputs = base_model.output\n",
    "x = tf.keras.layers.GlobalAveragePooling2D()(inputs)\n",
    "x = tf.keras.layers.Dense(units=256,activation='relu')(x)\n",
    "outputs = tf.keras.layers.Dense(units=1,activation='sigmoid')(x)\n",
    "classifier_model = tf.keras.Model(inputs=inputs,outputs=outputs)\n",
    "\n",
    "x = base_model.output\n",
    "predictions = classifier_model(x)\n",
    "model = tf.keras.Model(inputs=base_model.input,outputs=predictions)\n",
    "\n",
    "for layer in model.layers[:len(base_model.layers)]:\n",
    "    layer.trainable = False\n",
    "    \n",
    "model.compile(optimizer='rmsprop',\n",
    "              loss='binary_crossentropy',\n",
    "              metrics=['accuracy'])\n",
    "callback_list = [tf.keras.callbacks.EarlyStopping(monitor='val_accuracy',patience=2),\n",
    "                 tf.keras.callbacks.ModelCheckpoint(filepath='inceptionresnetv2_r_1.00.keras',\n",
    "                                                    monitor='val_accuracy',\n",
    "                                                    save_best_only=True)]\n",
    "history = model.fit(train_images,train_labels,\n",
    "                    epochs=15,\n",
    "                    validation_data=(val_images,val_labels),\n",
    "                    callbacks=callback_list)\n",
    "r_1_acc = max(history.history['val_accuracy'])\n",
    "print(r_1_acc)"
   ]
  },
  {
   "cell_type": "code",
   "execution_count": 5,
   "id": "dfd10806",
   "metadata": {
    "scrolled": false
   },
   "outputs": [
    {
     "name": "stdout",
     "output_type": "stream",
     "text": [
      "Epoch 1/15\n",
      "WARNING:tensorflow:AutoGraph could not transform <function Model.make_train_function.<locals>.train_function at 0x000001D6B54822F0> and will run it as-is.\n",
      "Please report this to the TensorFlow team. When filing the bug, set the verbosity to 10 (on Linux, `export AUTOGRAPH_VERBOSITY=10`) and attach the full output.\n",
      "Cause: 'arguments' object has no attribute 'posonlyargs'\n",
      "To silence this warning, decorate the function with @tf.autograph.experimental.do_not_convert\n",
      "WARNING: AutoGraph could not transform <function Model.make_train_function.<locals>.train_function at 0x000001D6B54822F0> and will run it as-is.\n",
      "Please report this to the TensorFlow team. When filing the bug, set the verbosity to 10 (on Linux, `export AUTOGRAPH_VERBOSITY=10`) and attach the full output.\n",
      "Cause: 'arguments' object has no attribute 'posonlyargs'\n",
      "To silence this warning, decorate the function with @tf.autograph.experimental.do_not_convert\n",
      "4/4 [==============================] - ETA: 0s - loss: 0.7388 - accuracy: 0.5200 WARNING:tensorflow:AutoGraph could not transform <function Model.make_test_function.<locals>.test_function at 0x000001D6B53CA9D8> and will run it as-is.\n",
      "Please report this to the TensorFlow team. When filing the bug, set the verbosity to 10 (on Linux, `export AUTOGRAPH_VERBOSITY=10`) and attach the full output.\n",
      "Cause: 'arguments' object has no attribute 'posonlyargs'\n",
      "To silence this warning, decorate the function with @tf.autograph.experimental.do_not_convert\n",
      "WARNING: AutoGraph could not transform <function Model.make_test_function.<locals>.test_function at 0x000001D6B53CA9D8> and will run it as-is.\n",
      "Please report this to the TensorFlow team. When filing the bug, set the verbosity to 10 (on Linux, `export AUTOGRAPH_VERBOSITY=10`) and attach the full output.\n",
      "Cause: 'arguments' object has no attribute 'posonlyargs'\n",
      "To silence this warning, decorate the function with @tf.autograph.experimental.do_not_convert\n",
      "4/4 [==============================] - 72s 14s/step - loss: 0.7388 - accuracy: 0.5200 - val_loss: 0.3341 - val_accuracy: 0.8375\n",
      "Epoch 2/15\n",
      "4/4 [==============================] - 50s 12s/step - loss: 0.6984 - accuracy: 0.5400 - val_loss: 0.3739 - val_accuracy: 0.8062\n",
      "Epoch 3/15\n",
      "4/4 [==============================] - 49s 12s/step - loss: 0.6960 - accuracy: 0.5200 - val_loss: 0.4134 - val_accuracy: 0.8000\n",
      "Epoch 1/15\n",
      "WARNING:tensorflow:AutoGraph could not transform <function Model.make_train_function.<locals>.train_function at 0x000001D6E29CC488> and will run it as-is.\n",
      "Please report this to the TensorFlow team. When filing the bug, set the verbosity to 10 (on Linux, `export AUTOGRAPH_VERBOSITY=10`) and attach the full output.\n",
      "Cause: 'arguments' object has no attribute 'posonlyargs'\n",
      "To silence this warning, decorate the function with @tf.autograph.experimental.do_not_convert\n",
      "WARNING: AutoGraph could not transform <function Model.make_train_function.<locals>.train_function at 0x000001D6E29CC488> and will run it as-is.\n",
      "Please report this to the TensorFlow team. When filing the bug, set the verbosity to 10 (on Linux, `export AUTOGRAPH_VERBOSITY=10`) and attach the full output.\n",
      "Cause: 'arguments' object has no attribute 'posonlyargs'\n",
      "To silence this warning, decorate the function with @tf.autograph.experimental.do_not_convert\n",
      "4/4 [==============================] - ETA: 0s - loss: 0.5547 - accuracy: 0.6300WARNING:tensorflow:AutoGraph could not transform <function Model.make_test_function.<locals>.test_function at 0x000001D6E3294510> and will run it as-is.\n",
      "Please report this to the TensorFlow team. When filing the bug, set the verbosity to 10 (on Linux, `export AUTOGRAPH_VERBOSITY=10`) and attach the full output.\n",
      "Cause: 'arguments' object has no attribute 'posonlyargs'\n",
      "To silence this warning, decorate the function with @tf.autograph.experimental.do_not_convert\n",
      "WARNING: AutoGraph could not transform <function Model.make_test_function.<locals>.test_function at 0x000001D6E3294510> and will run it as-is.\n",
      "Please report this to the TensorFlow team. When filing the bug, set the verbosity to 10 (on Linux, `export AUTOGRAPH_VERBOSITY=10`) and attach the full output.\n",
      "Cause: 'arguments' object has no attribute 'posonlyargs'\n",
      "To silence this warning, decorate the function with @tf.autograph.experimental.do_not_convert\n",
      "4/4 [==============================] - 30s 7s/step - loss: 0.5547 - accuracy: 0.6300 - val_loss: 0.3632 - val_accuracy: 0.8250\n",
      "Epoch 2/15\n",
      "4/4 [==============================] - 21s 6s/step - loss: 0.5220 - accuracy: 0.6600 - val_loss: 0.3669 - val_accuracy: 0.8250\n",
      "Epoch 3/15\n",
      "4/4 [==============================] - 21s 6s/step - loss: 0.5155 - accuracy: 0.6600 - val_loss: 0.3823 - val_accuracy: 0.8250\n",
      "Epoch 1/15\n",
      "WARNING:tensorflow:AutoGraph could not transform <function Model.make_train_function.<locals>.train_function at 0x000001D6EF6A0B70> and will run it as-is.\n",
      "Please report this to the TensorFlow team. When filing the bug, set the verbosity to 10 (on Linux, `export AUTOGRAPH_VERBOSITY=10`) and attach the full output.\n",
      "Cause: 'arguments' object has no attribute 'posonlyargs'\n",
      "To silence this warning, decorate the function with @tf.autograph.experimental.do_not_convert\n",
      "WARNING: AutoGraph could not transform <function Model.make_train_function.<locals>.train_function at 0x000001D6EF6A0B70> and will run it as-is.\n",
      "Please report this to the TensorFlow team. When filing the bug, set the verbosity to 10 (on Linux, `export AUTOGRAPH_VERBOSITY=10`) and attach the full output.\n",
      "Cause: 'arguments' object has no attribute 'posonlyargs'\n",
      "To silence this warning, decorate the function with @tf.autograph.experimental.do_not_convert\n",
      "4/4 [==============================] - ETA: 0s - loss: 0.5380 - accuracy: 0.5900WARNING:tensorflow:AutoGraph could not transform <function Model.make_test_function.<locals>.test_function at 0x000001D701379510> and will run it as-is.\n",
      "Please report this to the TensorFlow team. When filing the bug, set the verbosity to 10 (on Linux, `export AUTOGRAPH_VERBOSITY=10`) and attach the full output.\n",
      "Cause: 'arguments' object has no attribute 'posonlyargs'\n",
      "To silence this warning, decorate the function with @tf.autograph.experimental.do_not_convert\n",
      "WARNING: AutoGraph could not transform <function Model.make_test_function.<locals>.test_function at 0x000001D701379510> and will run it as-is.\n",
      "Please report this to the TensorFlow team. When filing the bug, set the verbosity to 10 (on Linux, `export AUTOGRAPH_VERBOSITY=10`) and attach the full output.\n",
      "Cause: 'arguments' object has no attribute 'posonlyargs'\n",
      "To silence this warning, decorate the function with @tf.autograph.experimental.do_not_convert\n",
      "4/4 [==============================] - 33s 7s/step - loss: 0.5380 - accuracy: 0.5900 - val_loss: 0.4144 - val_accuracy: 0.8125\n",
      "Epoch 2/15\n",
      "4/4 [==============================] - 23s 6s/step - loss: 0.5436 - accuracy: 0.6200 - val_loss: 0.4185 - val_accuracy: 0.7937\n",
      "Epoch 3/15\n",
      "4/4 [==============================] - 22s 6s/step - loss: 0.5166 - accuracy: 0.6400 - val_loss: 0.4259 - val_accuracy: 0.7937\n",
      "Epoch 1/15\n",
      "WARNING:tensorflow:AutoGraph could not transform <function Model.make_train_function.<locals>.train_function at 0x000001D6F040B598> and will run it as-is.\n",
      "Please report this to the TensorFlow team. When filing the bug, set the verbosity to 10 (on Linux, `export AUTOGRAPH_VERBOSITY=10`) and attach the full output.\n",
      "Cause: 'arguments' object has no attribute 'posonlyargs'\n",
      "To silence this warning, decorate the function with @tf.autograph.experimental.do_not_convert\n",
      "WARNING: AutoGraph could not transform <function Model.make_train_function.<locals>.train_function at 0x000001D6F040B598> and will run it as-is.\n",
      "Please report this to the TensorFlow team. When filing the bug, set the verbosity to 10 (on Linux, `export AUTOGRAPH_VERBOSITY=10`) and attach the full output.\n",
      "Cause: 'arguments' object has no attribute 'posonlyargs'\n",
      "To silence this warning, decorate the function with @tf.autograph.experimental.do_not_convert\n",
      "4/4 [==============================] - ETA: 0s - loss: 0.5457 - accuracy: 0.6900WARNING:tensorflow:AutoGraph could not transform <function Model.make_test_function.<locals>.test_function at 0x000001D6F09C58C8> and will run it as-is.\n",
      "Please report this to the TensorFlow team. When filing the bug, set the verbosity to 10 (on Linux, `export AUTOGRAPH_VERBOSITY=10`) and attach the full output.\n",
      "Cause: 'arguments' object has no attribute 'posonlyargs'\n",
      "To silence this warning, decorate the function with @tf.autograph.experimental.do_not_convert\n"
     ]
    },
    {
     "name": "stdout",
     "output_type": "stream",
     "text": [
      "WARNING: AutoGraph could not transform <function Model.make_test_function.<locals>.test_function at 0x000001D6F09C58C8> and will run it as-is.\n",
      "Please report this to the TensorFlow team. When filing the bug, set the verbosity to 10 (on Linux, `export AUTOGRAPH_VERBOSITY=10`) and attach the full output.\n",
      "Cause: 'arguments' object has no attribute 'posonlyargs'\n",
      "To silence this warning, decorate the function with @tf.autograph.experimental.do_not_convert\n",
      "4/4 [==============================] - 39s 9s/step - loss: 0.5457 - accuracy: 0.6900 - val_loss: 0.4739 - val_accuracy: 0.7937\n",
      "Epoch 2/15\n",
      "4/4 [==============================] - 28s 8s/step - loss: 0.5430 - accuracy: 0.6900 - val_loss: 0.4740 - val_accuracy: 0.7937\n",
      "Epoch 3/15\n",
      "4/4 [==============================] - 26s 7s/step - loss: 0.5294 - accuracy: 0.7100 - val_loss: 0.4751 - val_accuracy: 0.7937\n",
      "Epoch 1/15\n",
      "WARNING:tensorflow:AutoGraph could not transform <function Model.make_train_function.<locals>.train_function at 0x000001D6EAC321E0> and will run it as-is.\n",
      "Please report this to the TensorFlow team. When filing the bug, set the verbosity to 10 (on Linux, `export AUTOGRAPH_VERBOSITY=10`) and attach the full output.\n",
      "Cause: 'arguments' object has no attribute 'posonlyargs'\n",
      "To silence this warning, decorate the function with @tf.autograph.experimental.do_not_convert\n",
      "WARNING: AutoGraph could not transform <function Model.make_train_function.<locals>.train_function at 0x000001D6EAC321E0> and will run it as-is.\n",
      "Please report this to the TensorFlow team. When filing the bug, set the verbosity to 10 (on Linux, `export AUTOGRAPH_VERBOSITY=10`) and attach the full output.\n",
      "Cause: 'arguments' object has no attribute 'posonlyargs'\n",
      "To silence this warning, decorate the function with @tf.autograph.experimental.do_not_convert\n",
      "4/4 [==============================] - ETA: 0s - loss: 0.5808 - accuracy: 0.6500WARNING:tensorflow:AutoGraph could not transform <function Model.make_test_function.<locals>.test_function at 0x000001D6E360E7B8> and will run it as-is.\n",
      "Please report this to the TensorFlow team. When filing the bug, set the verbosity to 10 (on Linux, `export AUTOGRAPH_VERBOSITY=10`) and attach the full output.\n",
      "Cause: 'arguments' object has no attribute 'posonlyargs'\n",
      "To silence this warning, decorate the function with @tf.autograph.experimental.do_not_convert\n",
      "WARNING: AutoGraph could not transform <function Model.make_test_function.<locals>.test_function at 0x000001D6E360E7B8> and will run it as-is.\n",
      "Please report this to the TensorFlow team. When filing the bug, set the verbosity to 10 (on Linux, `export AUTOGRAPH_VERBOSITY=10`) and attach the full output.\n",
      "Cause: 'arguments' object has no attribute 'posonlyargs'\n",
      "To silence this warning, decorate the function with @tf.autograph.experimental.do_not_convert\n",
      "4/4 [==============================] - 60s 14s/step - loss: 0.5808 - accuracy: 0.6500 - val_loss: 0.5712 - val_accuracy: 0.7937\n",
      "Epoch 2/15\n",
      "4/4 [==============================] - 50s 14s/step - loss: 0.5896 - accuracy: 0.6700 - val_loss: 0.6068 - val_accuracy: 0.7812\n",
      "Epoch 3/15\n",
      "4/4 [==============================] - 50s 13s/step - loss: 0.5627 - accuracy: 0.7000 - val_loss: 0.6339 - val_accuracy: 0.7688\n",
      "Epoch 1/15\n",
      "WARNING:tensorflow:AutoGraph could not transform <function Model.make_train_function.<locals>.train_function at 0x000001D6E36C5AE8> and will run it as-is.\n",
      "Please report this to the TensorFlow team. When filing the bug, set the verbosity to 10 (on Linux, `export AUTOGRAPH_VERBOSITY=10`) and attach the full output.\n",
      "Cause: 'arguments' object has no attribute 'posonlyargs'\n",
      "To silence this warning, decorate the function with @tf.autograph.experimental.do_not_convert\n",
      "WARNING: AutoGraph could not transform <function Model.make_train_function.<locals>.train_function at 0x000001D6E36C5AE8> and will run it as-is.\n",
      "Please report this to the TensorFlow team. When filing the bug, set the verbosity to 10 (on Linux, `export AUTOGRAPH_VERBOSITY=10`) and attach the full output.\n",
      "Cause: 'arguments' object has no attribute 'posonlyargs'\n",
      "To silence this warning, decorate the function with @tf.autograph.experimental.do_not_convert\n",
      "4/4 [==============================] - ETA: 0s - loss: 0.6214 - accuracy: 0.6800 WARNING:tensorflow:AutoGraph could not transform <function Model.make_test_function.<locals>.test_function at 0x000001D6F0349AE8> and will run it as-is.\n",
      "Please report this to the TensorFlow team. When filing the bug, set the verbosity to 10 (on Linux, `export AUTOGRAPH_VERBOSITY=10`) and attach the full output.\n",
      "Cause: 'arguments' object has no attribute 'posonlyargs'\n",
      "To silence this warning, decorate the function with @tf.autograph.experimental.do_not_convert\n",
      "WARNING: AutoGraph could not transform <function Model.make_test_function.<locals>.test_function at 0x000001D6F0349AE8> and will run it as-is.\n",
      "Please report this to the TensorFlow team. When filing the bug, set the verbosity to 10 (on Linux, `export AUTOGRAPH_VERBOSITY=10`) and attach the full output.\n",
      "Cause: 'arguments' object has no attribute 'posonlyargs'\n",
      "To silence this warning, decorate the function with @tf.autograph.experimental.do_not_convert\n",
      "4/4 [==============================] - 70s 16s/step - loss: 0.6214 - accuracy: 0.6800 - val_loss: 0.6132 - val_accuracy: 0.7812\n",
      "Epoch 2/15\n",
      "4/4 [==============================] - 55s 15s/step - loss: 0.6243 - accuracy: 0.6200 - val_loss: 0.6545 - val_accuracy: 0.7625\n",
      "Epoch 3/15\n",
      "4/4 [==============================] - 55s 15s/step - loss: 0.6114 - accuracy: 0.6700 - val_loss: 0.6885 - val_accuracy: 0.7437\n",
      "Epoch 1/15\n",
      "WARNING:tensorflow:AutoGraph could not transform <function Model.make_train_function.<locals>.train_function at 0x000001D6F2DAF048> and will run it as-is.\n",
      "Please report this to the TensorFlow team. When filing the bug, set the verbosity to 10 (on Linux, `export AUTOGRAPH_VERBOSITY=10`) and attach the full output.\n",
      "Cause: 'arguments' object has no attribute 'posonlyargs'\n",
      "To silence this warning, decorate the function with @tf.autograph.experimental.do_not_convert\n",
      "WARNING: AutoGraph could not transform <function Model.make_train_function.<locals>.train_function at 0x000001D6F2DAF048> and will run it as-is.\n",
      "Please report this to the TensorFlow team. When filing the bug, set the verbosity to 10 (on Linux, `export AUTOGRAPH_VERBOSITY=10`) and attach the full output.\n",
      "Cause: 'arguments' object has no attribute 'posonlyargs'\n",
      "To silence this warning, decorate the function with @tf.autograph.experimental.do_not_convert\n",
      "4/4 [==============================] - ETA: 0s - loss: 0.6052 - accuracy: 0.6600 WARNING:tensorflow:AutoGraph could not transform <function Model.make_test_function.<locals>.test_function at 0x000001D6BD4EBB70> and will run it as-is.\n",
      "Please report this to the TensorFlow team. When filing the bug, set the verbosity to 10 (on Linux, `export AUTOGRAPH_VERBOSITY=10`) and attach the full output.\n",
      "Cause: 'arguments' object has no attribute 'posonlyargs'\n",
      "To silence this warning, decorate the function with @tf.autograph.experimental.do_not_convert\n",
      "WARNING: AutoGraph could not transform <function Model.make_test_function.<locals>.test_function at 0x000001D6BD4EBB70> and will run it as-is.\n",
      "Please report this to the TensorFlow team. When filing the bug, set the verbosity to 10 (on Linux, `export AUTOGRAPH_VERBOSITY=10`) and attach the full output.\n",
      "Cause: 'arguments' object has no attribute 'posonlyargs'\n",
      "To silence this warning, decorate the function with @tf.autograph.experimental.do_not_convert\n",
      "4/4 [==============================] - 80s 18s/step - loss: 0.6052 - accuracy: 0.6600 - val_loss: 0.6631 - val_accuracy: 0.7688\n",
      "Epoch 2/15\n",
      "4/4 [==============================] - 64s 17s/step - loss: 0.5923 - accuracy: 0.6700 - val_loss: 0.7088 - val_accuracy: 0.7500\n",
      "Epoch 3/15\n",
      "4/4 [==============================] - 64s 17s/step - loss: 0.5656 - accuracy: 0.7300 - val_loss: 0.7533 - val_accuracy: 0.7250\n",
      "Epoch 1/15\n",
      "WARNING:tensorflow:AutoGraph could not transform <function Model.make_train_function.<locals>.train_function at 0x000001D6EA3F0268> and will run it as-is.\n",
      "Please report this to the TensorFlow team. When filing the bug, set the verbosity to 10 (on Linux, `export AUTOGRAPH_VERBOSITY=10`) and attach the full output.\n",
      "Cause: 'arguments' object has no attribute 'posonlyargs'\n",
      "To silence this warning, decorate the function with @tf.autograph.experimental.do_not_convert\n"
     ]
    },
    {
     "name": "stdout",
     "output_type": "stream",
     "text": [
      "WARNING: AutoGraph could not transform <function Model.make_train_function.<locals>.train_function at 0x000001D6EA3F0268> and will run it as-is.\n",
      "Please report this to the TensorFlow team. When filing the bug, set the verbosity to 10 (on Linux, `export AUTOGRAPH_VERBOSITY=10`) and attach the full output.\n",
      "Cause: 'arguments' object has no attribute 'posonlyargs'\n",
      "To silence this warning, decorate the function with @tf.autograph.experimental.do_not_convert\n",
      "4/4 [==============================] - ETA: 0s - loss: 0.6434 - accuracy: 0.6300 WARNING:tensorflow:AutoGraph could not transform <function Model.make_test_function.<locals>.test_function at 0x000001D6E36C5598> and will run it as-is.\n",
      "Please report this to the TensorFlow team. When filing the bug, set the verbosity to 10 (on Linux, `export AUTOGRAPH_VERBOSITY=10`) and attach the full output.\n",
      "Cause: 'arguments' object has no attribute 'posonlyargs'\n",
      "To silence this warning, decorate the function with @tf.autograph.experimental.do_not_convert\n",
      "WARNING: AutoGraph could not transform <function Model.make_test_function.<locals>.test_function at 0x000001D6E36C5598> and will run it as-is.\n",
      "Please report this to the TensorFlow team. When filing the bug, set the verbosity to 10 (on Linux, `export AUTOGRAPH_VERBOSITY=10`) and attach the full output.\n",
      "Cause: 'arguments' object has no attribute 'posonlyargs'\n",
      "To silence this warning, decorate the function with @tf.autograph.experimental.do_not_convert\n",
      "4/4 [==============================] - 92s 21s/step - loss: 0.6434 - accuracy: 0.6300 - val_loss: 0.7245 - val_accuracy: 0.7563\n",
      "Epoch 2/15\n",
      "4/4 [==============================] - 74s 20s/step - loss: 0.6183 - accuracy: 0.6500 - val_loss: 0.7744 - val_accuracy: 0.7250\n",
      "Epoch 3/15\n",
      "4/4 [==============================] - 73s 19s/step - loss: 0.6129 - accuracy: 0.6800 - val_loss: 0.8236 - val_accuracy: 0.7063\n"
     ]
    }
   ],
   "source": [
    "#搜索最佳迁移率R(验证理论)\n",
    "\n",
    "classifier_p = model.get_layer(model.layers[-1].name)\n",
    "r_list = get_r_list()\n",
    "best_acc = r_1_acc\n",
    "r_acc = []\n",
    "\n",
    "for i in range(len(r_list)):\n",
    "    r = r_list[i]\n",
    "    conv_base = tf.keras.applications.inception_resnet_v2.InceptionResNetV2(weights='imagenet',include_top=False)\n",
    "    classifier = classifier_p\n",
    "    model = r_compiled_model()\n",
    "    filepath = 'inceptionresnetv2_r_{:.2f}.keras'.format(r)\n",
    "    callbacks = [tf.keras.callbacks.EarlyStopping(monitor='val_accuracy',patience=2),\n",
    "                 tf.keras.callbacks.ModelCheckpoint(filepath=filepath,\n",
    "                                                    monitor='val_accuracy',\n",
    "                                                    save_best_only=True)]\n",
    "    history = model.fit(train_images,train_labels,\n",
    "                        epochs=15,\n",
    "                        validation_data=(val_images,val_labels),\n",
    "                        callbacks=callbacks)\n",
    "    r_acc.append(max(history.history['val_accuracy']))\n",
    "    \n",
    "    if i == 0 and r_acc[0] < r_1_acc:\n",
    "        r_list = r_list[:1]+r_list[:0:-1]\n",
    "        continue\n",
    "    if r_acc[i] > best_acc:\n",
    "        best_acc = r_acc[i]"
   ]
  },
  {
   "cell_type": "code",
   "execution_count": 6,
   "id": "190b287d",
   "metadata": {},
   "outputs": [
    {
     "name": "stdout",
     "output_type": "stream",
     "text": [
      "[0, 0.8935897435897436, 0.791025641025641, 0.658974358974359, 0.45384615384615384, 0.35128205128205126, 0.19230769230769232, 0.05128205128205128]\n",
      "[0.8374999761581421, 0.824999988079071, 0.8125, 0.793749988079071, 0.793749988079071, 0.78125, 0.768750011920929, 0.7562500238418579]\n"
     ]
    }
   ],
   "source": [
    "#观察结果\n",
    "\n",
    "print(r_list)\n",
    "print(r_acc)"
   ]
  },
  {
   "cell_type": "code",
   "execution_count": 7,
   "id": "b93cb656",
   "metadata": {},
   "outputs": [
    {
     "name": "stdout",
     "output_type": "stream",
     "text": [
      "[1, 0.8935897435897436, 0.791025641025641, 0.658974358974359, 0.45384615384615384, 0.35128205128205126, 0.19230769230769232, 0.05128205128205128, 0]\n",
      "[0.862500011920929, 0.824999988079071, 0.8125, 0.793749988079071, 0.793749988079071, 0.78125, 0.768750011920929, 0.7562500238418579, 0.8374999761581421]\n"
     ]
    }
   ],
   "source": [
    "##整理结果\n",
    "\n",
    "r_list.pop(0)\n",
    "r_0_acc = r_acc.pop(0)\n",
    "\n",
    "r_list.append(0)\n",
    "r_acc.append(r_0_acc)\n",
    "\n",
    "r_list.insert(0,1)\n",
    "r_acc.insert(0,r_1_acc)\n",
    "print(r_list)\n",
    "print(r_acc)"
   ]
  },
  {
   "cell_type": "code",
   "execution_count": 8,
   "id": "8421b2d4",
   "metadata": {},
   "outputs": [
    {
     "data": {
      "image/png": "[encoded data removed]",
      "text/plain": [
       "<Figure size 640x480 with 1 Axes>"
      ]
     },
     "metadata": {},
     "output_type": "display_data"
    }
   ],
   "source": [
    "#展示结果\n",
    "\n",
    "import matplotlib.pyplot as plt\n",
    "plt.figure()\n",
    "plt.plot(r_list,r_acc,linestyle='-',marker='o',color='m',label='inception_resnet_v2')\n",
    "plt.xlabel('transfer rate')\n",
    "plt.ylabel('accuracy')\n",
    "plt.ylim((0.5,1))\n",
    "\n",
    "plt.title('Validation accuracy')\n",
    "plt.legend()\n",
    "plt.show()\n"
   ]
  },
  {
   "cell_type": "code",
   "execution_count": 3,
   "id": "683c9891",
   "metadata": {},
   "outputs": [
    {
     "name": "stdout",
     "output_type": "stream",
     "text": [
      "Found 1000 files belonging to 2 classes.\n"
     ]
    }
   ],
   "source": [
    "#在unlabel(test)数据集上测试\n",
    "\n",
    "base_dir = pathlib.Path('chest_xray2')\n",
    "test_dataset = tf.keras.utils.image_dataset_from_directory(base_dir/'unlabel',\n",
    "                                                            image_size=(224,224),\n",
    "                                                            batch_size=32)\n",
    "test_images,test_labels = preprocess_data(test_dataset)"
   ]
  },
  {
   "cell_type": "code",
   "execution_count": 4,
   "id": "5e862a4a",
   "metadata": {},
   "outputs": [],
   "source": [
    "model_0 = tf.keras.models.load_model('inceptionresnetv2_r_0.00.keras')\n",
    "model_1 = tf.keras.models.load_model('inceptionresnetv2_r_0.05.keras')\n",
    "model_2 = tf.keras.models.load_model('inceptionresnetv2_r_0.19.keras')\n",
    "model_3 = tf.keras.models.load_model('inceptionresnetv2_r_0.35.keras')\n",
    "model_4 = tf.keras.models.load_model('inceptionresnetv2_r_0.45.keras')\n",
    "model_5 = tf.keras.models.load_model('inceptionresnetv2_r_0.66.keras')\n",
    "model_6 = tf.keras.models.load_model('inceptionresnetv2_r_0.79.keras')\n",
    "model_7 = tf.keras.models.load_model('inceptionresnetv2_r_0.89.keras')\n",
    "model_8 = tf.keras.models.load_model('inceptionresnetv2_r_1.00.keras')"
   ]
  },
  {
   "cell_type": "code",
   "execution_count": 5,
   "id": "8501f8f8",
   "metadata": {},
   "outputs": [
    {
     "name": "stdout",
     "output_type": "stream",
     "text": [
      "WARNING:tensorflow:AutoGraph could not transform <function Model.make_test_function.<locals>.test_function at 0x0000021C84AA1598> and will run it as-is.\n",
      "Please report this to the TensorFlow team. When filing the bug, set the verbosity to 10 (on Linux, `export AUTOGRAPH_VERBOSITY=10`) and attach the full output.\n",
      "Cause: 'arguments' object has no attribute 'posonlyargs'\n",
      "To silence this warning, decorate the function with @tf.autograph.experimental.do_not_convert\n",
      "WARNING: AutoGraph could not transform <function Model.make_test_function.<locals>.test_function at 0x0000021C84AA1598> and will run it as-is.\n",
      "Please report this to the TensorFlow team. When filing the bug, set the verbosity to 10 (on Linux, `export AUTOGRAPH_VERBOSITY=10`) and attach the full output.\n",
      "Cause: 'arguments' object has no attribute 'posonlyargs'\n",
      "To silence this warning, decorate the function with @tf.autograph.experimental.do_not_convert\n",
      "32/32 [==============================] - 140s 4s/step - loss: 0.4907 - accuracy: 0.7800\n",
      "0.7799999713897705\n"
     ]
    }
   ],
   "source": [
    "r_acc_t = []\n",
    "test_loss,test_acc = model_0.evaluate(test_images,test_labels)\n",
    "print(test_acc)\n",
    "r_acc_t.append(test_acc)"
   ]
  },
  {
   "cell_type": "code",
   "execution_count": 6,
   "id": "b26a4942",
   "metadata": {},
   "outputs": [
    {
     "name": "stdout",
     "output_type": "stream",
     "text": [
      "WARNING:tensorflow:AutoGraph could not transform <function Model.make_test_function.<locals>.test_function at 0x0000021C84DF3D08> and will run it as-is.\n",
      "Please report this to the TensorFlow team. When filing the bug, set the verbosity to 10 (on Linux, `export AUTOGRAPH_VERBOSITY=10`) and attach the full output.\n",
      "Cause: 'arguments' object has no attribute 'posonlyargs'\n",
      "To silence this warning, decorate the function with @tf.autograph.experimental.do_not_convert\n",
      "WARNING: AutoGraph could not transform <function Model.make_test_function.<locals>.test_function at 0x0000021C84DF3D08> and will run it as-is.\n",
      "Please report this to the TensorFlow team. When filing the bug, set the verbosity to 10 (on Linux, `export AUTOGRAPH_VERBOSITY=10`) and attach the full output.\n",
      "Cause: 'arguments' object has no attribute 'posonlyargs'\n",
      "To silence this warning, decorate the function with @tf.autograph.experimental.do_not_convert\n",
      "32/32 [==============================] - 133s 4s/step - loss: 0.7967 - accuracy: 0.7370\n",
      "0.7369999885559082\n"
     ]
    }
   ],
   "source": [
    "test_loss,test_acc = model_1.evaluate(test_images,test_labels)\n",
    "print(test_acc)\n",
    "r_acc_t.append(test_acc)"
   ]
  },
  {
   "cell_type": "code",
   "execution_count": 7,
   "id": "6a3984a3",
   "metadata": {},
   "outputs": [
    {
     "name": "stdout",
     "output_type": "stream",
     "text": [
      "WARNING:tensorflow:AutoGraph could not transform <function Model.make_test_function.<locals>.test_function at 0x0000021C84DE80D0> and will run it as-is.\n",
      "Please report this to the TensorFlow team. When filing the bug, set the verbosity to 10 (on Linux, `export AUTOGRAPH_VERBOSITY=10`) and attach the full output.\n",
      "Cause: 'arguments' object has no attribute 'posonlyargs'\n",
      "To silence this warning, decorate the function with @tf.autograph.experimental.do_not_convert\n",
      "WARNING: AutoGraph could not transform <function Model.make_test_function.<locals>.test_function at 0x0000021C84DE80D0> and will run it as-is.\n",
      "Please report this to the TensorFlow team. When filing the bug, set the verbosity to 10 (on Linux, `export AUTOGRAPH_VERBOSITY=10`) and attach the full output.\n",
      "Cause: 'arguments' object has no attribute 'posonlyargs'\n",
      "To silence this warning, decorate the function with @tf.autograph.experimental.do_not_convert\n",
      "32/32 [==============================] - 136s 4s/step - loss: 0.7441 - accuracy: 0.7470\n",
      "0.746999979019165\n"
     ]
    }
   ],
   "source": [
    "test_loss,test_acc = model_2.evaluate(test_images,test_labels)\n",
    "print(test_acc)\n",
    "r_acc_t.append(test_acc)"
   ]
  },
  {
   "cell_type": "code",
   "execution_count": 8,
   "id": "43880d42",
   "metadata": {},
   "outputs": [
    {
     "name": "stdout",
     "output_type": "stream",
     "text": [
      "WARNING:tensorflow:AutoGraph could not transform <function Model.make_test_function.<locals>.test_function at 0x0000021BE4F87400> and will run it as-is.\n",
      "Please report this to the TensorFlow team. When filing the bug, set the verbosity to 10 (on Linux, `export AUTOGRAPH_VERBOSITY=10`) and attach the full output.\n",
      "Cause: 'arguments' object has no attribute 'posonlyargs'\n",
      "To silence this warning, decorate the function with @tf.autograph.experimental.do_not_convert\n",
      "WARNING: AutoGraph could not transform <function Model.make_test_function.<locals>.test_function at 0x0000021BE4F87400> and will run it as-is.\n",
      "Please report this to the TensorFlow team. When filing the bug, set the verbosity to 10 (on Linux, `export AUTOGRAPH_VERBOSITY=10`) and attach the full output.\n",
      "Cause: 'arguments' object has no attribute 'posonlyargs'\n",
      "To silence this warning, decorate the function with @tf.autograph.experimental.do_not_convert\n",
      "32/32 [==============================] - 120s 4s/step - loss: 0.7043 - accuracy: 0.7550\n",
      "0.7549999952316284\n"
     ]
    }
   ],
   "source": [
    "test_loss,test_acc = model_3.evaluate(test_images,test_labels)\n",
    "print(test_acc)\n",
    "r_acc_t.append(test_acc)"
   ]
  },
  {
   "cell_type": "code",
   "execution_count": 9,
   "id": "3fa9dd9c",
   "metadata": {},
   "outputs": [
    {
     "name": "stdout",
     "output_type": "stream",
     "text": [
      "WARNING:tensorflow:AutoGraph could not transform <function Model.make_test_function.<locals>.test_function at 0x0000021C565052F0> and will run it as-is.\n",
      "Please report this to the TensorFlow team. When filing the bug, set the verbosity to 10 (on Linux, `export AUTOGRAPH_VERBOSITY=10`) and attach the full output.\n",
      "Cause: 'arguments' object has no attribute 'posonlyargs'\n",
      "To silence this warning, decorate the function with @tf.autograph.experimental.do_not_convert\n",
      "WARNING: AutoGraph could not transform <function Model.make_test_function.<locals>.test_function at 0x0000021C565052F0> and will run it as-is.\n",
      "Please report this to the TensorFlow team. When filing the bug, set the verbosity to 10 (on Linux, `export AUTOGRAPH_VERBOSITY=10`) and attach the full output.\n",
      "Cause: 'arguments' object has no attribute 'posonlyargs'\n",
      "To silence this warning, decorate the function with @tf.autograph.experimental.do_not_convert\n",
      "32/32 [==============================] - 119s 4s/step - loss: 0.6729 - accuracy: 0.7580\n",
      "0.7580000162124634\n"
     ]
    }
   ],
   "source": [
    "test_loss,test_acc = model_4.evaluate(test_images,test_labels)\n",
    "print(test_acc)\n",
    "r_acc_t.append(test_acc)"
   ]
  },
  {
   "cell_type": "code",
   "execution_count": 10,
   "id": "b3d82011",
   "metadata": {},
   "outputs": [
    {
     "name": "stdout",
     "output_type": "stream",
     "text": [
      "WARNING:tensorflow:AutoGraph could not transform <function Model.make_test_function.<locals>.test_function at 0x0000021C96101510> and will run it as-is.\n",
      "Please report this to the TensorFlow team. When filing the bug, set the verbosity to 10 (on Linux, `export AUTOGRAPH_VERBOSITY=10`) and attach the full output.\n",
      "Cause: 'arguments' object has no attribute 'posonlyargs'\n",
      "To silence this warning, decorate the function with @tf.autograph.experimental.do_not_convert\n",
      "WARNING: AutoGraph could not transform <function Model.make_test_function.<locals>.test_function at 0x0000021C96101510> and will run it as-is.\n",
      "Please report this to the TensorFlow team. When filing the bug, set the verbosity to 10 (on Linux, `export AUTOGRAPH_VERBOSITY=10`) and attach the full output.\n",
      "Cause: 'arguments' object has no attribute 'posonlyargs'\n",
      "To silence this warning, decorate the function with @tf.autograph.experimental.do_not_convert\n",
      "32/32 [==============================] - 124s 4s/step - loss: 0.5955 - accuracy: 0.7620\n",
      "0.7620000243186951\n"
     ]
    }
   ],
   "source": [
    "test_loss,test_acc = model_5.evaluate(test_images,test_labels)\n",
    "print(test_acc)\n",
    "r_acc_t.append(test_acc)"
   ]
  },
  {
   "cell_type": "code",
   "execution_count": 11,
   "id": "4e5a29d8",
   "metadata": {},
   "outputs": [
    {
     "name": "stdout",
     "output_type": "stream",
     "text": [
      "WARNING:tensorflow:AutoGraph could not transform <function Model.make_test_function.<locals>.test_function at 0x0000021C9614F950> and will run it as-is.\n",
      "Please report this to the TensorFlow team. When filing the bug, set the verbosity to 10 (on Linux, `export AUTOGRAPH_VERBOSITY=10`) and attach the full output.\n",
      "Cause: 'arguments' object has no attribute 'posonlyargs'\n",
      "To silence this warning, decorate the function with @tf.autograph.experimental.do_not_convert\n",
      "WARNING: AutoGraph could not transform <function Model.make_test_function.<locals>.test_function at 0x0000021C9614F950> and will run it as-is.\n",
      "Please report this to the TensorFlow team. When filing the bug, set the verbosity to 10 (on Linux, `export AUTOGRAPH_VERBOSITY=10`) and attach the full output.\n",
      "Cause: 'arguments' object has no attribute 'posonlyargs'\n",
      "To silence this warning, decorate the function with @tf.autograph.experimental.do_not_convert\n",
      "32/32 [==============================] - 109s 3s/step - loss: 0.5502 - accuracy: 0.7690\n",
      "0.7689999938011169\n"
     ]
    }
   ],
   "source": [
    "test_loss,test_acc = model_6.evaluate(test_images,test_labels)\n",
    "print(test_acc)\n",
    "r_acc_t.append(test_acc)"
   ]
  },
  {
   "cell_type": "code",
   "execution_count": 12,
   "id": "c06dc04d",
   "metadata": {},
   "outputs": [
    {
     "name": "stdout",
     "output_type": "stream",
     "text": [
      "WARNING:tensorflow:AutoGraph could not transform <function Model.make_test_function.<locals>.test_function at 0x0000021C99E15EA0> and will run it as-is.\n",
      "Please report this to the TensorFlow team. When filing the bug, set the verbosity to 10 (on Linux, `export AUTOGRAPH_VERBOSITY=10`) and attach the full output.\n",
      "Cause: 'arguments' object has no attribute 'posonlyargs'\n",
      "To silence this warning, decorate the function with @tf.autograph.experimental.do_not_convert\n",
      "WARNING: AutoGraph could not transform <function Model.make_test_function.<locals>.test_function at 0x0000021C99E15EA0> and will run it as-is.\n",
      "Please report this to the TensorFlow team. When filing the bug, set the verbosity to 10 (on Linux, `export AUTOGRAPH_VERBOSITY=10`) and attach the full output.\n",
      "Cause: 'arguments' object has no attribute 'posonlyargs'\n",
      "To silence this warning, decorate the function with @tf.autograph.experimental.do_not_convert\n",
      "32/32 [==============================] - 101s 3s/step - loss: 0.5147 - accuracy: 0.7760\n",
      "0.7760000228881836\n"
     ]
    }
   ],
   "source": [
    "test_loss,test_acc = model_7.evaluate(test_images,test_labels)\n",
    "print(test_acc)\n",
    "r_acc_t.append(test_acc)"
   ]
  },
  {
   "cell_type": "code",
   "execution_count": 19,
   "id": "71b51504",
   "metadata": {},
   "outputs": [
    {
     "name": "stdout",
     "output_type": "stream",
     "text": [
      "32/32 [==============================] - 84s 3s/step - loss: 0.5629 - accuracy: 0.7620\n",
      "0.7620000243186951\n"
     ]
    }
   ],
   "source": [
    "test_loss,test_acc = model_8.evaluate(test_images,test_labels)\n",
    "print(test_acc)\n",
    "r_acc_t.append(test_acc)"
   ]
  },
  {
   "cell_type": "code",
   "execution_count": 15,
   "id": "87b44ba7",
   "metadata": {},
   "outputs": [
    {
     "name": "stdout",
     "output_type": "stream",
     "text": [
      "[0.7620000243186951, 0.7760000228881836, 0.7689999938011169, 0.7620000243186951, 0.7580000162124634, 0.7549999952316284, 0.746999979019165, 0.7369999885559082, 0.7799999713897705]\n"
     ]
    }
   ],
   "source": [
    "r_acc_t = r_acc_t[::-1]\n",
    "print(r_acc_t)"
   ]
  },
  {
   "cell_type": "code",
   "execution_count": 17,
   "id": "49180f15",
   "metadata": {},
   "outputs": [],
   "source": [
    "r_list = [1, 0.8935897435897436, 0.791025641025641, 0.658974358974359, 0.45384615384615384, 0.35128205128205126, 0.19230769230769232, 0.05128205128205128, 0]\n",
    "r_acc = [0.862500011920929, 0.824999988079071, 0.8125, 0.793749988079071, 0.793749988079071, 0.78125, 0.768750011920929, 0.7562500238418579, 0.8374999761581421]"
   ]
  },
  {
   "cell_type": "code",
   "execution_count": 18,
   "id": "8b0f9934",
   "metadata": {},
   "outputs": [
    {
     "data": {
      "text/plain": [
       "<Figure size 640x480 with 0 Axes>"
      ]
     },
     "metadata": {},
     "output_type": "display_data"
    },
    {
     "data": {
      "image/png": "[encoded data removed]",
      "text/plain": [
       "<Figure size 640x480 with 1 Axes>"
      ]
     },
     "metadata": {},
     "output_type": "display_data"
    }
   ],
   "source": [
    "import matplotlib.pyplot as plt\n",
    "plt.figure()\n",
    "plt.plot(r_list,r_acc,linestyle='-',marker='o',color='m',label='validation accuracy')\n",
    "plt.plot(r_list,r_acc_t,linestyle='--',marker='o',color='m',label='test accuracy')\n",
    "plt.xlabel('transfer rate')\n",
    "plt.ylabel('accuracy')\n",
    "plt.ylim((0.5,1))\n",
    "\n",
    "plt.title('InceptionResnetV2 performance')\n",
    "plt.legend()\n",
    "plt.show()\n"
   ]
  },
  {
   "cell_type": "code",
   "execution_count": 20,
   "id": "b531a369",
   "metadata": {},
   "outputs": [],
   "source": [
    "#在unlabel(test)数据集上测试聚类\n",
    "from sklearn.cluster import KMeans\n",
    "from sklearn.metrics import accuracy_score"
   ]
  },
  {
   "cell_type": "code",
   "execution_count": 21,
   "id": "1c19cd24",
   "metadata": {},
   "outputs": [
    {
     "name": "stdout",
     "output_type": "stream",
     "text": [
      "WARNING:tensorflow:AutoGraph could not transform <function Model.make_predict_function.<locals>.predict_function at 0x0000021CD3FF0510> and will run it as-is.\n",
      "Please report this to the TensorFlow team. When filing the bug, set the verbosity to 10 (on Linux, `export AUTOGRAPH_VERBOSITY=10`) and attach the full output.\n",
      "Cause: 'arguments' object has no attribute 'posonlyargs'\n",
      "To silence this warning, decorate the function with @tf.autograph.experimental.do_not_convert\n",
      "WARNING: AutoGraph could not transform <function Model.make_predict_function.<locals>.predict_function at 0x0000021CD3FF0510> and will run it as-is.\n",
      "Please report this to the TensorFlow team. When filing the bug, set the verbosity to 10 (on Linux, `export AUTOGRAPH_VERBOSITY=10`) and attach the full output.\n",
      "Cause: 'arguments' object has no attribute 'posonlyargs'\n",
      "To silence this warning, decorate the function with @tf.autograph.experimental.do_not_convert\n"
     ]
    }
   ],
   "source": [
    "feature = tf.keras.layers.GlobalAveragePooling2D()(model_0.get_layer('conv_7b_ac').output)\n",
    "encoder_0 = tf.keras.Model(inputs=model_0.input,outputs=feature)\n",
    "X = encoder_0.predict(test_images)"
   ]
  },
  {
   "cell_type": "code",
   "execution_count": 22,
   "id": "bd573942",
   "metadata": {},
   "outputs": [
    {
     "name": "stdout",
     "output_type": "stream",
     "text": [
      "0.6\n"
     ]
    }
   ],
   "source": [
    "kmeans = KMeans(n_clusters=2, n_init=20)\n",
    "y_pred = kmeans.fit_predict(X)\n",
    "acc = accuracy_score(test_labels,y_pred)\n",
    "print(acc)"
   ]
  },
  {
   "cell_type": "code",
   "execution_count": 23,
   "id": "271bd985",
   "metadata": {},
   "outputs": [
    {
     "name": "stdout",
     "output_type": "stream",
     "text": [
      "WARNING:tensorflow:AutoGraph could not transform <function Model.make_predict_function.<locals>.predict_function at 0x0000021B91FB2D08> and will run it as-is.\n",
      "Please report this to the TensorFlow team. When filing the bug, set the verbosity to 10 (on Linux, `export AUTOGRAPH_VERBOSITY=10`) and attach the full output.\n",
      "Cause: 'arguments' object has no attribute 'posonlyargs'\n",
      "To silence this warning, decorate the function with @tf.autograph.experimental.do_not_convert\n",
      "WARNING: AutoGraph could not transform <function Model.make_predict_function.<locals>.predict_function at 0x0000021B91FB2D08> and will run it as-is.\n",
      "Please report this to the TensorFlow team. When filing the bug, set the verbosity to 10 (on Linux, `export AUTOGRAPH_VERBOSITY=10`) and attach the full output.\n",
      "Cause: 'arguments' object has no attribute 'posonlyargs'\n",
      "To silence this warning, decorate the function with @tf.autograph.experimental.do_not_convert\n"
     ]
    }
   ],
   "source": [
    "feature = tf.keras.layers.GlobalAveragePooling2D()(model_1.get_layer('conv_7b_ac').output)\n",
    "encoder_1 = tf.keras.Model(inputs=model_1.input,outputs=feature)\n",
    "X = encoder_1.predict(test_images)"
   ]
  },
  {
   "cell_type": "code",
   "execution_count": 25,
   "id": "11144f45",
   "metadata": {},
   "outputs": [
    {
     "name": "stdout",
     "output_type": "stream",
     "text": [
      "0.617\n"
     ]
    }
   ],
   "source": [
    "kmeans = KMeans(n_clusters=2, n_init=20)\n",
    "y_pred = kmeans.fit_predict(X)\n",
    "acc = accuracy_score(test_labels,y_pred)\n",
    "print(acc)"
   ]
  },
  {
   "cell_type": "code",
   "execution_count": 26,
   "id": "0316f408",
   "metadata": {},
   "outputs": [
    {
     "name": "stdout",
     "output_type": "stream",
     "text": [
      "WARNING:tensorflow:AutoGraph could not transform <function Model.make_predict_function.<locals>.predict_function at 0x0000021CD75C5EA0> and will run it as-is.\n",
      "Please report this to the TensorFlow team. When filing the bug, set the verbosity to 10 (on Linux, `export AUTOGRAPH_VERBOSITY=10`) and attach the full output.\n",
      "Cause: 'arguments' object has no attribute 'posonlyargs'\n",
      "To silence this warning, decorate the function with @tf.autograph.experimental.do_not_convert\n",
      "WARNING: AutoGraph could not transform <function Model.make_predict_function.<locals>.predict_function at 0x0000021CD75C5EA0> and will run it as-is.\n",
      "Please report this to the TensorFlow team. When filing the bug, set the verbosity to 10 (on Linux, `export AUTOGRAPH_VERBOSITY=10`) and attach the full output.\n",
      "Cause: 'arguments' object has no attribute 'posonlyargs'\n",
      "To silence this warning, decorate the function with @tf.autograph.experimental.do_not_convert\n"
     ]
    }
   ],
   "source": [
    "feature = tf.keras.layers.GlobalAveragePooling2D()(model_2.get_layer('conv_7b_ac').output)\n",
    "encoder_2 = tf.keras.Model(inputs=model_2.input,outputs=feature)\n",
    "X = encoder_2.predict(test_images)"
   ]
  },
  {
   "cell_type": "code",
   "execution_count": 28,
   "id": "7af8115d",
   "metadata": {},
   "outputs": [
    {
     "name": "stdout",
     "output_type": "stream",
     "text": [
      "0.614\n"
     ]
    }
   ],
   "source": [
    "kmeans = KMeans(n_clusters=2, n_init=20)\n",
    "y_pred = kmeans.fit_predict(X)\n",
    "acc = accuracy_score(test_labels,y_pred)\n",
    "print(acc)"
   ]
  },
  {
   "cell_type": "code",
   "execution_count": 29,
   "id": "21bd04ab",
   "metadata": {},
   "outputs": [
    {
     "name": "stdout",
     "output_type": "stream",
     "text": [
      "WARNING:tensorflow:AutoGraph could not transform <function Model.make_predict_function.<locals>.predict_function at 0x0000021CD7B95268> and will run it as-is.\n",
      "Please report this to the TensorFlow team. When filing the bug, set the verbosity to 10 (on Linux, `export AUTOGRAPH_VERBOSITY=10`) and attach the full output.\n",
      "Cause: 'arguments' object has no attribute 'posonlyargs'\n",
      "To silence this warning, decorate the function with @tf.autograph.experimental.do_not_convert\n",
      "WARNING: AutoGraph could not transform <function Model.make_predict_function.<locals>.predict_function at 0x0000021CD7B95268> and will run it as-is.\n",
      "Please report this to the TensorFlow team. When filing the bug, set the verbosity to 10 (on Linux, `export AUTOGRAPH_VERBOSITY=10`) and attach the full output.\n",
      "Cause: 'arguments' object has no attribute 'posonlyargs'\n",
      "To silence this warning, decorate the function with @tf.autograph.experimental.do_not_convert\n"
     ]
    }
   ],
   "source": [
    "feature = tf.keras.layers.GlobalAveragePooling2D()(model_3.get_layer('conv_7b_ac').output)\n",
    "encoder_3 = tf.keras.Model(inputs=model_3.input,outputs=feature)\n",
    "X = encoder_3.predict(test_images)"
   ]
  },
  {
   "cell_type": "code",
   "execution_count": 32,
   "id": "3f087ab6",
   "metadata": {},
   "outputs": [
    {
     "name": "stdout",
     "output_type": "stream",
     "text": [
      "0.614\n"
     ]
    }
   ],
   "source": [
    "kmeans = KMeans(n_clusters=2, n_init=20)\n",
    "y_pred = kmeans.fit_predict(X)\n",
    "acc = accuracy_score(test_labels,y_pred)\n",
    "print(acc)"
   ]
  },
  {
   "cell_type": "code",
   "execution_count": 33,
   "id": "8483077a",
   "metadata": {},
   "outputs": [
    {
     "name": "stdout",
     "output_type": "stream",
     "text": [
      "WARNING:tensorflow:AutoGraph could not transform <function Model.make_predict_function.<locals>.predict_function at 0x0000021CDB25D598> and will run it as-is.\n",
      "Please report this to the TensorFlow team. When filing the bug, set the verbosity to 10 (on Linux, `export AUTOGRAPH_VERBOSITY=10`) and attach the full output.\n",
      "Cause: 'arguments' object has no attribute 'posonlyargs'\n",
      "To silence this warning, decorate the function with @tf.autograph.experimental.do_not_convert\n",
      "WARNING: AutoGraph could not transform <function Model.make_predict_function.<locals>.predict_function at 0x0000021CDB25D598> and will run it as-is.\n",
      "Please report this to the TensorFlow team. When filing the bug, set the verbosity to 10 (on Linux, `export AUTOGRAPH_VERBOSITY=10`) and attach the full output.\n",
      "Cause: 'arguments' object has no attribute 'posonlyargs'\n",
      "To silence this warning, decorate the function with @tf.autograph.experimental.do_not_convert\n"
     ]
    }
   ],
   "source": [
    "feature = tf.keras.layers.GlobalAveragePooling2D()(model_4.get_layer('conv_7b_ac').output)\n",
    "encoder_4 = tf.keras.Model(inputs=model_4.input,outputs=feature)\n",
    "X = encoder_4.predict(test_images)"
   ]
  },
  {
   "cell_type": "code",
   "execution_count": 34,
   "id": "6be5db7a",
   "metadata": {},
   "outputs": [
    {
     "name": "stdout",
     "output_type": "stream",
     "text": [
      "0.616\n"
     ]
    }
   ],
   "source": [
    "kmeans = KMeans(n_clusters=2, n_init=20)\n",
    "y_pred = kmeans.fit_predict(X)\n",
    "acc = accuracy_score(test_labels,y_pred)\n",
    "print(acc)"
   ]
  },
  {
   "cell_type": "code",
   "execution_count": 35,
   "id": "af8ec77a",
   "metadata": {},
   "outputs": [
    {
     "name": "stdout",
     "output_type": "stream",
     "text": [
      "WARNING:tensorflow:AutoGraph could not transform <function Model.make_predict_function.<locals>.predict_function at 0x0000021C9B7CBE18> and will run it as-is.\n",
      "Please report this to the TensorFlow team. When filing the bug, set the verbosity to 10 (on Linux, `export AUTOGRAPH_VERBOSITY=10`) and attach the full output.\n",
      "Cause: 'arguments' object has no attribute 'posonlyargs'\n",
      "To silence this warning, decorate the function with @tf.autograph.experimental.do_not_convert\n",
      "WARNING: AutoGraph could not transform <function Model.make_predict_function.<locals>.predict_function at 0x0000021C9B7CBE18> and will run it as-is.\n",
      "Please report this to the TensorFlow team. When filing the bug, set the verbosity to 10 (on Linux, `export AUTOGRAPH_VERBOSITY=10`) and attach the full output.\n",
      "Cause: 'arguments' object has no attribute 'posonlyargs'\n",
      "To silence this warning, decorate the function with @tf.autograph.experimental.do_not_convert\n"
     ]
    }
   ],
   "source": [
    "feature = tf.keras.layers.GlobalAveragePooling2D()(model_5.get_layer('conv_7b_ac').output)\n",
    "encoder_5 = tf.keras.Model(inputs=model_5.input,outputs=feature)\n",
    "X = encoder_5.predict(test_images)"
   ]
  },
  {
   "cell_type": "code",
   "execution_count": 37,
   "id": "7b56b8dc",
   "metadata": {},
   "outputs": [
    {
     "name": "stdout",
     "output_type": "stream",
     "text": [
      "0.61\n"
     ]
    }
   ],
   "source": [
    "kmeans = KMeans(n_clusters=2, n_init=20)\n",
    "y_pred = kmeans.fit_predict(X)\n",
    "acc = accuracy_score(test_labels,y_pred)\n",
    "print(acc)"
   ]
  },
  {
   "cell_type": "code",
   "execution_count": 38,
   "id": "c80234b5",
   "metadata": {},
   "outputs": [
    {
     "name": "stdout",
     "output_type": "stream",
     "text": [
      "WARNING:tensorflow:AutoGraph could not transform <function Model.make_predict_function.<locals>.predict_function at 0x0000021CDB25D840> and will run it as-is.\n",
      "Please report this to the TensorFlow team. When filing the bug, set the verbosity to 10 (on Linux, `export AUTOGRAPH_VERBOSITY=10`) and attach the full output.\n",
      "Cause: 'arguments' object has no attribute 'posonlyargs'\n",
      "To silence this warning, decorate the function with @tf.autograph.experimental.do_not_convert\n",
      "WARNING: AutoGraph could not transform <function Model.make_predict_function.<locals>.predict_function at 0x0000021CDB25D840> and will run it as-is.\n",
      "Please report this to the TensorFlow team. When filing the bug, set the verbosity to 10 (on Linux, `export AUTOGRAPH_VERBOSITY=10`) and attach the full output.\n",
      "Cause: 'arguments' object has no attribute 'posonlyargs'\n",
      "To silence this warning, decorate the function with @tf.autograph.experimental.do_not_convert\n"
     ]
    }
   ],
   "source": [
    "feature = tf.keras.layers.GlobalAveragePooling2D()(model_6.get_layer('conv_7b_ac').output)\n",
    "encoder_6 = tf.keras.Model(inputs=model_6.input,outputs=feature)\n",
    "X = encoder_6.predict(test_images)"
   ]
  },
  {
   "cell_type": "code",
   "execution_count": 40,
   "id": "1f7dd7ff",
   "metadata": {},
   "outputs": [
    {
     "name": "stdout",
     "output_type": "stream",
     "text": [
      "0.634\n"
     ]
    }
   ],
   "source": [
    "kmeans = KMeans(n_clusters=2, n_init=20)\n",
    "y_pred = kmeans.fit_predict(X)\n",
    "acc = accuracy_score(test_labels,y_pred)\n",
    "print(acc)"
   ]
  },
  {
   "cell_type": "code",
   "execution_count": 41,
   "id": "2ac81f54",
   "metadata": {},
   "outputs": [
    {
     "name": "stdout",
     "output_type": "stream",
     "text": [
      "WARNING:tensorflow:AutoGraph could not transform <function Model.make_predict_function.<locals>.predict_function at 0x0000021B91FB2730> and will run it as-is.\n",
      "Please report this to the TensorFlow team. When filing the bug, set the verbosity to 10 (on Linux, `export AUTOGRAPH_VERBOSITY=10`) and attach the full output.\n",
      "Cause: 'arguments' object has no attribute 'posonlyargs'\n",
      "To silence this warning, decorate the function with @tf.autograph.experimental.do_not_convert\n",
      "WARNING: AutoGraph could not transform <function Model.make_predict_function.<locals>.predict_function at 0x0000021B91FB2730> and will run it as-is.\n",
      "Please report this to the TensorFlow team. When filing the bug, set the verbosity to 10 (on Linux, `export AUTOGRAPH_VERBOSITY=10`) and attach the full output.\n",
      "Cause: 'arguments' object has no attribute 'posonlyargs'\n",
      "To silence this warning, decorate the function with @tf.autograph.experimental.do_not_convert\n"
     ]
    }
   ],
   "source": [
    "feature = tf.keras.layers.GlobalAveragePooling2D()(model_7.get_layer('conv_7b_ac').output)\n",
    "encoder_7 = tf.keras.Model(inputs=model_7.input,outputs=feature)\n",
    "X = encoder_7.predict(test_images)"
   ]
  },
  {
   "cell_type": "code",
   "execution_count": 42,
   "id": "d7e3f1b6",
   "metadata": {},
   "outputs": [
    {
     "name": "stdout",
     "output_type": "stream",
     "text": [
      "0.635\n"
     ]
    }
   ],
   "source": [
    "kmeans = KMeans(n_clusters=2, n_init=20)\n",
    "y_pred = kmeans.fit_predict(X)\n",
    "acc = accuracy_score(test_labels,y_pred)\n",
    "print(acc)"
   ]
  },
  {
   "cell_type": "code",
   "execution_count": 43,
   "id": "172f2008",
   "metadata": {},
   "outputs": [
    {
     "name": "stdout",
     "output_type": "stream",
     "text": [
      "WARNING:tensorflow:AutoGraph could not transform <function Model.make_predict_function.<locals>.predict_function at 0x0000021CB10E2378> and will run it as-is.\n",
      "Please report this to the TensorFlow team. When filing the bug, set the verbosity to 10 (on Linux, `export AUTOGRAPH_VERBOSITY=10`) and attach the full output.\n",
      "Cause: 'arguments' object has no attribute 'posonlyargs'\n",
      "To silence this warning, decorate the function with @tf.autograph.experimental.do_not_convert\n",
      "WARNING: AutoGraph could not transform <function Model.make_predict_function.<locals>.predict_function at 0x0000021CB10E2378> and will run it as-is.\n",
      "Please report this to the TensorFlow team. When filing the bug, set the verbosity to 10 (on Linux, `export AUTOGRAPH_VERBOSITY=10`) and attach the full output.\n",
      "Cause: 'arguments' object has no attribute 'posonlyargs'\n",
      "To silence this warning, decorate the function with @tf.autograph.experimental.do_not_convert\n"
     ]
    }
   ],
   "source": [
    "feature = tf.keras.layers.GlobalAveragePooling2D()(model_8.get_layer('conv_7b_ac').output)\n",
    "encoder_8 = tf.keras.Model(inputs=model_8.input,outputs=feature)\n",
    "X = encoder_8.predict(test_images)"
   ]
  },
  {
   "cell_type": "code",
   "execution_count": 44,
   "id": "33bd9b5d",
   "metadata": {},
   "outputs": [
    {
     "name": "stdout",
     "output_type": "stream",
     "text": [
      "0.635\n"
     ]
    }
   ],
   "source": [
    "kmeans = KMeans(n_clusters=2, n_init=20)\n",
    "y_pred = kmeans.fit_predict(X)\n",
    "acc = accuracy_score(test_labels,y_pred)\n",
    "print(acc)"
   ]
  },
  {
   "cell_type": "code",
   "execution_count": 45,
   "id": "60a535da",
   "metadata": {},
   "outputs": [],
   "source": [
    "r_acc_k = [0.635,0.635,0.634,0.61,0.616,0.614,0.614,0.617,0.6]"
   ]
  },
  {
   "cell_type": "code",
   "execution_count": 50,
   "id": "282e4d07",
   "metadata": {},
   "outputs": [
    {
     "name": "stdout",
     "output_type": "stream",
     "text": [
      "[0.7620000243186951, 0.7760000228881836, 0.7689999938011169, 0.7620000243186951, 0.7580000162124634, 0.7549999952316284, 0.746999979019165, 0.7369999885559082, 0.7799999713897705]\n"
     ]
    }
   ],
   "source": [
    "r_acc_t.pop()\n",
    "print(r_acc_t)"
   ]
  },
  {
   "cell_type": "code",
   "execution_count": 52,
   "id": "1ae465d9",
   "metadata": {},
   "outputs": [
    {
     "data": {
      "image/png": "[encoded data removed]",
      "text/plain": [
       "<Figure size 640x480 with 1 Axes>"
      ]
     },
     "metadata": {},
     "output_type": "display_data"
    }
   ],
   "source": [
    "import matplotlib.pyplot as plt\n",
    "plt.figure()\n",
    "plt.plot(r_list,r_acc,linestyle='-',marker='o',color='m',label='validation accuracy')\n",
    "plt.plot(r_list,r_acc_t,linestyle='--',marker='o',color='m',label='test accuracy')\n",
    "plt.plot(r_list,r_acc_k,linestyle=':',marker='o',color='m',label='cluster accuracy')\n",
    "plt.xlabel('transfer rate')\n",
    "plt.ylabel('accuracy')\n",
    "plt.ylim((0.5,1))\n",
    "\n",
    "plt.title('InceptionResnetV2 performance')\n",
    "plt.legend()\n",
    "plt.show()"
   ]
  },
  {
   "cell_type": "code",
   "execution_count": null,
   "id": "969f1e5a",
   "metadata": {},
   "outputs": [],
   "source": []
  }
 ],
 "metadata": {
  "kernelspec": {
   "display_name": "Python 3",
   "language": "python",
   "name": "python3"
  },
  "language_info": {
   "codemirror_mode": {
    "name": "ipython",
    "version": 3
   },
   "file_extension": ".py",
   "mimetype": "text/x-python",
   "name": "python",
   "nbconvert_exporter": "python",
   "pygments_lexer": "ipython3",
   "version": "3.7.0"
  }
 },
 "nbformat": 4,
 "nbformat_minor": 5
}
