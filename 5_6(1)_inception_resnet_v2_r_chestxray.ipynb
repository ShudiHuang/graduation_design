{
 "cells": [
  {
   "cell_type": "code",
   "execution_count": 1,
   "id": "0b592544",
   "metadata": {},
   "outputs": [],
   "source": [
    "import tensorflow as tf\n",
    "import numpy as np\n",
    "import os,pathlib"
   ]
  },
  {
   "cell_type": "code",
   "execution_count": 2,
   "id": "96b37faf",
   "metadata": {},
   "outputs": [],
   "source": [
    "#方法定义 \n",
    "\n",
    "def preprocess_data(dataset):\n",
    "    all_images = []\n",
    "    all_labels = []\n",
    "    for image,label in dataset:\n",
    "        preprocessed_image = tf.keras.applications.inception_resnet_v2.preprocess_input(image)\n",
    "        all_images.append(preprocessed_image)\n",
    "        all_labels.append(label)\n",
    "    return np.concatenate(all_images),np.concatenate(all_labels)\n",
    "\n",
    "def get_r_list():\n",
    "    index_r_list = []\n",
    "    name_r_list = []\n",
    "    for i,layer in enumerate(base_model.layers):\n",
    "        if layer.name[0:5] == 'mixed' or layer.name[-4:] == '5_ac':\n",
    "            index_r_list.append(i)\n",
    "            name_r_list.append(layer.name)\n",
    "    r_list = [0]\n",
    "    for i in index_r_list:\n",
    "        r = i/len(base_model.layers)\n",
    "        r_list.append(r)\n",
    "    return r_list\n",
    "\n",
    "def build_model():\n",
    "    x = conv_base.output\n",
    "    predictions = classifier(x)\n",
    "    model = tf.keras.Model(inputs=conv_base.input,outputs=predictions)\n",
    "    return model\n",
    "\n",
    "def r_compiled_model():\n",
    "    model = build_model()\n",
    "    for layer in model.layers[:int(r*len(conv_base.layers))+1]:\n",
    "        layer.trainable = False\n",
    "    for layer in model.layers[int(r*len(conv_base.layers))+1:]:\n",
    "        layer.trainable = True\n",
    "        if isinstance(layer,tf.keras.layers.BatchNormalization):\n",
    "            layer.trainable = False\n",
    "    model.compile(optimizer=tf.keras.optimizers.SGD(learning_rate=0.0001,momentum=0.9),\n",
    "                  loss='binary_crossentropy',\n",
    "                  metrics=['accuracy'])\n",
    "    return model"
   ]
  },
  {
   "cell_type": "code",
   "execution_count": 3,
   "id": "15691d94",
   "metadata": {},
   "outputs": [
    {
     "name": "stdout",
     "output_type": "stream",
     "text": [
      "Found 100 files belonging to 2 classes.\n",
      "Found 160 files belonging to 2 classes.\n"
     ]
    }
   ],
   "source": [
    "#加载数据、预处理数据\n",
    "\n",
    "base_dir = pathlib.Path('chest_xray2/label')\n",
    "train_dataset = tf.keras.utils.image_dataset_from_directory(base_dir/'train',\n",
    "                                                            image_size=(224,224),\n",
    "                                                            batch_size=32)\n",
    "validation_dataset = tf.keras.utils.image_dataset_from_directory(base_dir/'val',\n",
    "                                                                 image_size=(224,224),\n",
    "                                                                 batch_size=32)\n",
    "train_images,train_labels = preprocess_data(train_dataset)\n",
    "val_images,val_labels = preprocess_data(validation_dataset)"
   ]
  },
  {
   "cell_type": "code",
   "execution_count": 4,
   "id": "e47fe594",
   "metadata": {},
   "outputs": [
    {
     "name": "stdout",
     "output_type": "stream",
     "text": [
      "Epoch 1/15\n",
      "WARNING:tensorflow:AutoGraph could not transform <function Model.make_train_function.<locals>.train_function at 0x00000201BE071D08> and will run it as-is.\n",
      "Please report this to the TensorFlow team. When filing the bug, set the verbosity to 10 (on Linux, `export AUTOGRAPH_VERBOSITY=10`) and attach the full output.\n",
      "Cause: 'arguments' object has no attribute 'posonlyargs'\n",
      "To silence this warning, decorate the function with @tf.autograph.experimental.do_not_convert\n",
      "WARNING: AutoGraph could not transform <function Model.make_train_function.<locals>.train_function at 0x00000201BE071D08> and will run it as-is.\n",
      "Please report this to the TensorFlow team. When filing the bug, set the verbosity to 10 (on Linux, `export AUTOGRAPH_VERBOSITY=10`) and attach the full output.\n",
      "Cause: 'arguments' object has no attribute 'posonlyargs'\n",
      "To silence this warning, decorate the function with @tf.autograph.experimental.do_not_convert\n",
      "4/4 [==============================] - ETA: 0s - loss: 3.2136 - accuracy: 0.6500WARNING:tensorflow:AutoGraph could not transform <function Model.make_test_function.<locals>.test_function at 0x00000201BE071158> and will run it as-is.\n",
      "Please report this to the TensorFlow team. When filing the bug, set the verbosity to 10 (on Linux, `export AUTOGRAPH_VERBOSITY=10`) and attach the full output.\n",
      "Cause: 'arguments' object has no attribute 'posonlyargs'\n",
      "To silence this warning, decorate the function with @tf.autograph.experimental.do_not_convert\n",
      "WARNING: AutoGraph could not transform <function Model.make_test_function.<locals>.test_function at 0x00000201BE071158> and will run it as-is.\n",
      "Please report this to the TensorFlow team. When filing the bug, set the verbosity to 10 (on Linux, `export AUTOGRAPH_VERBOSITY=10`) and attach the full output.\n",
      "Cause: 'arguments' object has no attribute 'posonlyargs'\n",
      "To silence this warning, decorate the function with @tf.autograph.experimental.do_not_convert\n",
      "4/4 [==============================] - 27s 6s/step - loss: 3.2136 - accuracy: 0.6500 - val_loss: 7.7586 - val_accuracy: 0.5000\n",
      "Epoch 2/15\n",
      "4/4 [==============================] - 18s 5s/step - loss: 3.5900 - accuracy: 0.5400 - val_loss: 1.6743 - val_accuracy: 0.5688\n",
      "Epoch 3/15\n",
      "4/4 [==============================] - 19s 6s/step - loss: 1.0851 - accuracy: 0.6200 - val_loss: 0.3362 - val_accuracy: 0.8562\n",
      "Epoch 4/15\n",
      "4/4 [==============================] - 18s 5s/step - loss: 0.3808 - accuracy: 0.8500 - val_loss: 0.5093 - val_accuracy: 0.7875\n",
      "Epoch 5/15\n",
      "4/4 [==============================] - 18s 5s/step - loss: 0.4397 - accuracy: 0.8500 - val_loss: 2.6697 - val_accuracy: 0.5312\n",
      "0.856249988079071\n"
     ]
    }
   ],
   "source": [
    "#分类器初训练\n",
    "\n",
    "base_model = tf.keras.applications.inception_resnet_v2.InceptionResNetV2(weights='imagenet',include_top=False)\n",
    "\n",
    "inputs = base_model.output\n",
    "x = tf.keras.layers.GlobalAveragePooling2D()(inputs)\n",
    "x = tf.keras.layers.Dense(units=256,activation='relu')(x)\n",
    "outputs = tf.keras.layers.Dense(units=1,activation='sigmoid')(x)\n",
    "classifier_model = tf.keras.Model(inputs=inputs,outputs=outputs)\n",
    "\n",
    "x = base_model.output\n",
    "predictions = classifier_model(x)\n",
    "model = tf.keras.Model(inputs=base_model.input,outputs=predictions)\n",
    "\n",
    "for layer in model.layers[:len(base_model.layers)]:\n",
    "    layer.trainable = False\n",
    "    \n",
    "model.compile(optimizer='rmsprop',\n",
    "              loss='binary_crossentropy',\n",
    "              metrics=['accuracy'])\n",
    "callback_list = [tf.keras.callbacks.EarlyStopping(monitor='val_accuracy',patience=2),\n",
    "                 tf.keras.callbacks.ModelCheckpoint(filepath='inceptionresnetv2_r_1.00.keras',\n",
    "                                                    monitor='val_accuracy',\n",
    "                                                    save_best_only=True)]\n",
    "history = model.fit(train_images,train_labels,\n",
    "                    epochs=15,\n",
    "                    validation_data=(val_images,val_labels),\n",
    "                    callbacks=callback_list)\n",
    "r_1_acc = max(history.history['val_accuracy'])\n",
    "print(r_1_acc)"
   ]
  },
  {
   "cell_type": "code",
   "execution_count": 5,
   "id": "dfd10806",
   "metadata": {
    "scrolled": false
   },
   "outputs": [
    {
     "name": "stdout",
     "output_type": "stream",
     "text": [
      "Epoch 1/15\n",
      "WARNING:tensorflow:AutoGraph could not transform <function Model.make_train_function.<locals>.train_function at 0x00000201C7370378> and will run it as-is.\n",
      "Please report this to the TensorFlow team. When filing the bug, set the verbosity to 10 (on Linux, `export AUTOGRAPH_VERBOSITY=10`) and attach the full output.\n",
      "Cause: 'arguments' object has no attribute 'posonlyargs'\n",
      "To silence this warning, decorate the function with @tf.autograph.experimental.do_not_convert\n",
      "WARNING: AutoGraph could not transform <function Model.make_train_function.<locals>.train_function at 0x00000201C7370378> and will run it as-is.\n",
      "Please report this to the TensorFlow team. When filing the bug, set the verbosity to 10 (on Linux, `export AUTOGRAPH_VERBOSITY=10`) and attach the full output.\n",
      "Cause: 'arguments' object has no attribute 'posonlyargs'\n",
      "To silence this warning, decorate the function with @tf.autograph.experimental.do_not_convert\n",
      "4/4 [==============================] - ETA: 0s - loss: 1.0806 - accuracy: 0.7000 WARNING:tensorflow:AutoGraph could not transform <function Model.make_test_function.<locals>.test_function at 0x00000201C6DAB7B8> and will run it as-is.\n",
      "Please report this to the TensorFlow team. When filing the bug, set the verbosity to 10 (on Linux, `export AUTOGRAPH_VERBOSITY=10`) and attach the full output.\n",
      "Cause: 'arguments' object has no attribute 'posonlyargs'\n",
      "To silence this warning, decorate the function with @tf.autograph.experimental.do_not_convert\n",
      "WARNING: AutoGraph could not transform <function Model.make_test_function.<locals>.test_function at 0x00000201C6DAB7B8> and will run it as-is.\n",
      "Please report this to the TensorFlow team. When filing the bug, set the verbosity to 10 (on Linux, `export AUTOGRAPH_VERBOSITY=10`) and attach the full output.\n",
      "Cause: 'arguments' object has no attribute 'posonlyargs'\n",
      "To silence this warning, decorate the function with @tf.autograph.experimental.do_not_convert\n",
      "4/4 [==============================] - 68s 14s/step - loss: 1.0806 - accuracy: 0.7000 - val_loss: 0.8760 - val_accuracy: 0.6562\n",
      "Epoch 2/15\n",
      "4/4 [==============================] - 52s 13s/step - loss: 0.9467 - accuracy: 0.6300 - val_loss: 0.3492 - val_accuracy: 0.8250\n",
      "Epoch 3/15\n",
      "4/4 [==============================] - 50s 12s/step - loss: 0.3033 - accuracy: 0.8600 - val_loss: 0.5696 - val_accuracy: 0.7563\n",
      "Epoch 4/15\n",
      "4/4 [==============================] - 54s 14s/step - loss: 0.3325 - accuracy: 0.8400 - val_loss: 0.2427 - val_accuracy: 0.8875\n",
      "Epoch 5/15\n",
      "4/4 [==============================] - 48s 12s/step - loss: 0.1914 - accuracy: 0.9000 - val_loss: 0.2596 - val_accuracy: 0.8687\n",
      "Epoch 6/15\n",
      "4/4 [==============================] - 55s 14s/step - loss: 0.1613 - accuracy: 0.9300 - val_loss: 0.2288 - val_accuracy: 0.9062\n",
      "Epoch 7/15\n",
      "4/4 [==============================] - 50s 12s/step - loss: 0.1150 - accuracy: 0.9700 - val_loss: 0.2718 - val_accuracy: 0.9062\n",
      "Epoch 8/15\n",
      "4/4 [==============================] - 50s 13s/step - loss: 0.0805 - accuracy: 0.9800 - val_loss: 0.2128 - val_accuracy: 0.8938\n",
      "Epoch 1/15\n",
      "WARNING:tensorflow:AutoGraph could not transform <function Model.make_train_function.<locals>.train_function at 0x000002018082B158> and will run it as-is.\n",
      "Please report this to the TensorFlow team. When filing the bug, set the verbosity to 10 (on Linux, `export AUTOGRAPH_VERBOSITY=10`) and attach the full output.\n",
      "Cause: 'arguments' object has no attribute 'posonlyargs'\n",
      "To silence this warning, decorate the function with @tf.autograph.experimental.do_not_convert\n",
      "WARNING: AutoGraph could not transform <function Model.make_train_function.<locals>.train_function at 0x000002018082B158> and will run it as-is.\n",
      "Please report this to the TensorFlow team. When filing the bug, set the verbosity to 10 (on Linux, `export AUTOGRAPH_VERBOSITY=10`) and attach the full output.\n",
      "Cause: 'arguments' object has no attribute 'posonlyargs'\n",
      "To silence this warning, decorate the function with @tf.autograph.experimental.do_not_convert\n",
      "4/4 [==============================] - ETA: 0s - loss: 0.9389 - accuracy: 0.7600 WARNING:tensorflow:AutoGraph could not transform <function Model.make_test_function.<locals>.test_function at 0x00000201804BE730> and will run it as-is.\n",
      "Please report this to the TensorFlow team. When filing the bug, set the verbosity to 10 (on Linux, `export AUTOGRAPH_VERBOSITY=10`) and attach the full output.\n",
      "Cause: 'arguments' object has no attribute 'posonlyargs'\n",
      "To silence this warning, decorate the function with @tf.autograph.experimental.do_not_convert\n",
      "WARNING: AutoGraph could not transform <function Model.make_test_function.<locals>.test_function at 0x00000201804BE730> and will run it as-is.\n",
      "Please report this to the TensorFlow team. When filing the bug, set the verbosity to 10 (on Linux, `export AUTOGRAPH_VERBOSITY=10`) and attach the full output.\n",
      "Cause: 'arguments' object has no attribute 'posonlyargs'\n",
      "To silence this warning, decorate the function with @tf.autograph.experimental.do_not_convert\n",
      "4/4 [==============================] - 57s 12s/step - loss: 0.9389 - accuracy: 0.7600 - val_loss: 0.4824 - val_accuracy: 0.7937\n",
      "Epoch 2/15\n",
      "4/4 [==============================] - 46s 12s/step - loss: 0.6775 - accuracy: 0.7100 - val_loss: 0.3605 - val_accuracy: 0.8313\n",
      "Epoch 3/15\n",
      "4/4 [==============================] - 45s 11s/step - loss: 0.2336 - accuracy: 0.9100 - val_loss: 0.5729 - val_accuracy: 0.7937\n",
      "Epoch 4/15\n",
      "4/4 [==============================] - 45s 12s/step - loss: 0.3636 - accuracy: 0.8300 - val_loss: 0.2966 - val_accuracy: 0.8938\n",
      "Epoch 5/15\n",
      "4/4 [==============================] - 44s 11s/step - loss: 0.1634 - accuracy: 0.9300 - val_loss: 0.2775 - val_accuracy: 0.8500\n",
      "Epoch 6/15\n",
      "4/4 [==============================] - 46s 12s/step - loss: 0.2134 - accuracy: 0.9100 - val_loss: 0.2623 - val_accuracy: 0.8625\n",
      "Epoch 1/15\n",
      "WARNING:tensorflow:AutoGraph could not transform <function Model.make_train_function.<locals>.train_function at 0x0000020189C0FD90> and will run it as-is.\n",
      "Please report this to the TensorFlow team. When filing the bug, set the verbosity to 10 (on Linux, `export AUTOGRAPH_VERBOSITY=10`) and attach the full output.\n",
      "Cause: 'arguments' object has no attribute 'posonlyargs'\n",
      "To silence this warning, decorate the function with @tf.autograph.experimental.do_not_convert\n",
      "WARNING: AutoGraph could not transform <function Model.make_train_function.<locals>.train_function at 0x0000020189C0FD90> and will run it as-is.\n",
      "Please report this to the TensorFlow team. When filing the bug, set the verbosity to 10 (on Linux, `export AUTOGRAPH_VERBOSITY=10`) and attach the full output.\n",
      "Cause: 'arguments' object has no attribute 'posonlyargs'\n",
      "To silence this warning, decorate the function with @tf.autograph.experimental.do_not_convert\n",
      "4/4 [==============================] - ETA: 0s - loss: 0.8284 - accuracy: 0.7600WARNING:tensorflow:AutoGraph could not transform <function Model.make_test_function.<locals>.test_function at 0x000002018A2B8268> and will run it as-is.\n",
      "Please report this to the TensorFlow team. When filing the bug, set the verbosity to 10 (on Linux, `export AUTOGRAPH_VERBOSITY=10`) and attach the full output.\n",
      "Cause: 'arguments' object has no attribute 'posonlyargs'\n",
      "To silence this warning, decorate the function with @tf.autograph.experimental.do_not_convert\n",
      "WARNING: AutoGraph could not transform <function Model.make_test_function.<locals>.test_function at 0x000002018A2B8268> and will run it as-is.\n",
      "Please report this to the TensorFlow team. When filing the bug, set the verbosity to 10 (on Linux, `export AUTOGRAPH_VERBOSITY=10`) and attach the full output.\n",
      "Cause: 'arguments' object has no attribute 'posonlyargs'\n",
      "To silence this warning, decorate the function with @tf.autograph.experimental.do_not_convert\n",
      "4/4 [==============================] - 54s 11s/step - loss: 0.8284 - accuracy: 0.7600 - val_loss: 0.3948 - val_accuracy: 0.8062\n",
      "Epoch 2/15\n",
      "4/4 [==============================] - 43s 11s/step - loss: 0.5495 - accuracy: 0.7700 - val_loss: 0.3629 - val_accuracy: 0.8313\n",
      "Epoch 3/15\n",
      "4/4 [==============================] - 41s 11s/step - loss: 0.2313 - accuracy: 0.8700 - val_loss: 0.4263 - val_accuracy: 0.8500\n",
      "Epoch 4/15\n"
     ]
    },
    {
     "name": "stdout",
     "output_type": "stream",
     "text": [
      "4/4 [==============================] - 44s 12s/step - loss: 0.2163 - accuracy: 0.9200 - val_loss: 0.3406 - val_accuracy: 0.8750\n",
      "Epoch 5/15\n",
      "4/4 [==============================] - 44s 11s/step - loss: 0.1280 - accuracy: 0.9700 - val_loss: 0.2248 - val_accuracy: 0.8938\n",
      "Epoch 6/15\n",
      "4/4 [==============================] - 44s 12s/step - loss: 0.1321 - accuracy: 0.9400 - val_loss: 0.2248 - val_accuracy: 0.8938\n",
      "Epoch 7/15\n",
      "4/4 [==============================] - 45s 12s/step - loss: 0.0925 - accuracy: 0.9600 - val_loss: 0.2231 - val_accuracy: 0.9125\n",
      "Epoch 8/15\n",
      "4/4 [==============================] - 41s 11s/step - loss: 0.0712 - accuracy: 0.9700 - val_loss: 0.2973 - val_accuracy: 0.9000\n",
      "Epoch 9/15\n",
      "4/4 [==============================] - 42s 11s/step - loss: 0.0716 - accuracy: 0.9800 - val_loss: 0.2202 - val_accuracy: 0.9062\n",
      "Epoch 1/15\n",
      "WARNING:tensorflow:AutoGraph could not transform <function Model.make_train_function.<locals>.train_function at 0x00000201C7131D08> and will run it as-is.\n",
      "Please report this to the TensorFlow team. When filing the bug, set the verbosity to 10 (on Linux, `export AUTOGRAPH_VERBOSITY=10`) and attach the full output.\n",
      "Cause: 'arguments' object has no attribute 'posonlyargs'\n",
      "To silence this warning, decorate the function with @tf.autograph.experimental.do_not_convert\n",
      "WARNING: AutoGraph could not transform <function Model.make_train_function.<locals>.train_function at 0x00000201C7131D08> and will run it as-is.\n",
      "Please report this to the TensorFlow team. When filing the bug, set the verbosity to 10 (on Linux, `export AUTOGRAPH_VERBOSITY=10`) and attach the full output.\n",
      "Cause: 'arguments' object has no attribute 'posonlyargs'\n",
      "To silence this warning, decorate the function with @tf.autograph.experimental.do_not_convert\n",
      "4/4 [==============================] - ETA: 0s - loss: 0.8449 - accuracy: 0.7200WARNING:tensorflow:AutoGraph could not transform <function Model.make_test_function.<locals>.test_function at 0x00000201CB749EA0> and will run it as-is.\n",
      "Please report this to the TensorFlow team. When filing the bug, set the verbosity to 10 (on Linux, `export AUTOGRAPH_VERBOSITY=10`) and attach the full output.\n",
      "Cause: 'arguments' object has no attribute 'posonlyargs'\n",
      "To silence this warning, decorate the function with @tf.autograph.experimental.do_not_convert\n",
      "WARNING: AutoGraph could not transform <function Model.make_test_function.<locals>.test_function at 0x00000201CB749EA0> and will run it as-is.\n",
      "Please report this to the TensorFlow team. When filing the bug, set the verbosity to 10 (on Linux, `export AUTOGRAPH_VERBOSITY=10`) and attach the full output.\n",
      "Cause: 'arguments' object has no attribute 'posonlyargs'\n",
      "To silence this warning, decorate the function with @tf.autograph.experimental.do_not_convert\n",
      "4/4 [==============================] - 50s 10s/step - loss: 0.8449 - accuracy: 0.7200 - val_loss: 0.3330 - val_accuracy: 0.8313\n",
      "Epoch 2/15\n",
      "4/4 [==============================] - 35s 9s/step - loss: 0.3765 - accuracy: 0.8600 - val_loss: 0.3659 - val_accuracy: 0.8188\n",
      "Epoch 3/15\n",
      "4/4 [==============================] - 35s 9s/step - loss: 0.2336 - accuracy: 0.9000 - val_loss: 0.3513 - val_accuracy: 0.8750\n",
      "Epoch 4/15\n",
      "4/4 [==============================] - 34s 9s/step - loss: 0.2255 - accuracy: 0.9100 - val_loss: 0.3709 - val_accuracy: 0.8750\n",
      "Epoch 5/15\n",
      "4/4 [==============================] - 36s 10s/step - loss: 0.1175 - accuracy: 0.9700 - val_loss: 0.2249 - val_accuracy: 0.8875\n",
      "Epoch 6/15\n",
      "4/4 [==============================] - 34s 9s/step - loss: 0.1707 - accuracy: 0.9000 - val_loss: 0.2680 - val_accuracy: 0.8813\n",
      "Epoch 7/15\n",
      "4/4 [==============================] - 35s 9s/step - loss: 0.1168 - accuracy: 0.9800 - val_loss: 0.2176 - val_accuracy: 0.9125\n",
      "Epoch 8/15\n",
      "4/4 [==============================] - 34s 9s/step - loss: 0.0586 - accuracy: 1.0000 - val_loss: 0.3265 - val_accuracy: 0.8813\n",
      "Epoch 9/15\n",
      "4/4 [==============================] - 36s 9s/step - loss: 0.0886 - accuracy: 0.9600 - val_loss: 0.2942 - val_accuracy: 0.8938\n",
      "Epoch 1/15\n",
      "WARNING:tensorflow:AutoGraph could not transform <function Model.make_train_function.<locals>.train_function at 0x00000201C68F1268> and will run it as-is.\n",
      "Please report this to the TensorFlow team. When filing the bug, set the verbosity to 10 (on Linux, `export AUTOGRAPH_VERBOSITY=10`) and attach the full output.\n",
      "Cause: 'arguments' object has no attribute 'posonlyargs'\n",
      "To silence this warning, decorate the function with @tf.autograph.experimental.do_not_convert\n",
      "WARNING: AutoGraph could not transform <function Model.make_train_function.<locals>.train_function at 0x00000201C68F1268> and will run it as-is.\n",
      "Please report this to the TensorFlow team. When filing the bug, set the verbosity to 10 (on Linux, `export AUTOGRAPH_VERBOSITY=10`) and attach the full output.\n",
      "Cause: 'arguments' object has no attribute 'posonlyargs'\n",
      "To silence this warning, decorate the function with @tf.autograph.experimental.do_not_convert\n",
      "4/4 [==============================] - ETA: 0s - loss: 0.7879 - accuracy: 0.7400WARNING:tensorflow:AutoGraph could not transform <function Model.make_test_function.<locals>.test_function at 0x00000201CB749D90> and will run it as-is.\n",
      "Please report this to the TensorFlow team. When filing the bug, set the verbosity to 10 (on Linux, `export AUTOGRAPH_VERBOSITY=10`) and attach the full output.\n",
      "Cause: 'arguments' object has no attribute 'posonlyargs'\n",
      "To silence this warning, decorate the function with @tf.autograph.experimental.do_not_convert\n",
      "WARNING: AutoGraph could not transform <function Model.make_test_function.<locals>.test_function at 0x00000201CB749D90> and will run it as-is.\n",
      "Please report this to the TensorFlow team. When filing the bug, set the verbosity to 10 (on Linux, `export AUTOGRAPH_VERBOSITY=10`) and attach the full output.\n",
      "Cause: 'arguments' object has no attribute 'posonlyargs'\n",
      "To silence this warning, decorate the function with @tf.autograph.experimental.do_not_convert\n",
      "4/4 [==============================] - 44s 10s/step - loss: 0.7879 - accuracy: 0.7400 - val_loss: 0.2918 - val_accuracy: 0.8750\n",
      "Epoch 2/15\n",
      "4/4 [==============================] - 31s 8s/step - loss: 0.2802 - accuracy: 0.8500 - val_loss: 0.4699 - val_accuracy: 0.8188\n",
      "Epoch 3/15\n",
      "4/4 [==============================] - 32s 9s/step - loss: 0.2973 - accuracy: 0.8500 - val_loss: 0.2690 - val_accuracy: 0.8813\n",
      "Epoch 4/15\n",
      "4/4 [==============================] - 33s 9s/step - loss: 0.1261 - accuracy: 0.9500 - val_loss: 0.3540 - val_accuracy: 0.8625\n",
      "Epoch 5/15\n",
      "4/4 [==============================] - 33s 9s/step - loss: 0.1311 - accuracy: 0.9400 - val_loss: 0.2534 - val_accuracy: 0.8938\n",
      "Epoch 6/15\n",
      "4/4 [==============================] - 31s 8s/step - loss: 0.0837 - accuracy: 0.9800 - val_loss: 0.2090 - val_accuracy: 0.8938\n",
      "Epoch 7/15\n",
      "4/4 [==============================] - 33s 9s/step - loss: 0.0926 - accuracy: 0.9700 - val_loss: 0.2061 - val_accuracy: 0.9062\n",
      "Epoch 8/15\n",
      "4/4 [==============================] - 33s 9s/step - loss: 0.0809 - accuracy: 0.9800 - val_loss: 0.2063 - val_accuracy: 0.9125\n",
      "Epoch 9/15\n",
      "4/4 [==============================] - 31s 8s/step - loss: 0.0542 - accuracy: 1.0000 - val_loss: 0.2592 - val_accuracy: 0.8938\n",
      "Epoch 10/15\n",
      "4/4 [==============================] - 32s 9s/step - loss: 0.0642 - accuracy: 0.9800 - val_loss: 0.2804 - val_accuracy: 0.8938\n",
      "Epoch 1/15\n",
      "WARNING:tensorflow:AutoGraph could not transform <function Model.make_train_function.<locals>.train_function at 0x00000201FACE32F0> and will run it as-is.\n",
      "Please report this to the TensorFlow team. When filing the bug, set the verbosity to 10 (on Linux, `export AUTOGRAPH_VERBOSITY=10`) and attach the full output.\n",
      "Cause: 'arguments' object has no attribute 'posonlyargs'\n",
      "To silence this warning, decorate the function with @tf.autograph.experimental.do_not_convert\n",
      "WARNING: AutoGraph could not transform <function Model.make_train_function.<locals>.train_function at 0x00000201FACE32F0> and will run it as-is.\n",
      "Please report this to the TensorFlow team. When filing the bug, set the verbosity to 10 (on Linux, `export AUTOGRAPH_VERBOSITY=10`) and attach the full output.\n",
      "Cause: 'arguments' object has no attribute 'posonlyargs'\n",
      "To silence this warning, decorate the function with @tf.autograph.experimental.do_not_convert\n"
     ]
    },
    {
     "name": "stdout",
     "output_type": "stream",
     "text": [
      "4/4 [==============================] - ETA: 0s - loss: 0.7409 - accuracy: 0.7200WARNING:tensorflow:AutoGraph could not transform <function Model.make_test_function.<locals>.test_function at 0x00000201F90C6510> and will run it as-is.\n",
      "Please report this to the TensorFlow team. When filing the bug, set the verbosity to 10 (on Linux, `export AUTOGRAPH_VERBOSITY=10`) and attach the full output.\n",
      "Cause: 'arguments' object has no attribute 'posonlyargs'\n",
      "To silence this warning, decorate the function with @tf.autograph.experimental.do_not_convert\n",
      "WARNING: AutoGraph could not transform <function Model.make_test_function.<locals>.test_function at 0x00000201F90C6510> and will run it as-is.\n",
      "Please report this to the TensorFlow team. When filing the bug, set the verbosity to 10 (on Linux, `export AUTOGRAPH_VERBOSITY=10`) and attach the full output.\n",
      "Cause: 'arguments' object has no attribute 'posonlyargs'\n",
      "To silence this warning, decorate the function with @tf.autograph.experimental.do_not_convert\n",
      "4/4 [==============================] - 37s 8s/step - loss: 0.7409 - accuracy: 0.7200 - val_loss: 0.3784 - val_accuracy: 0.8375\n",
      "Epoch 2/15\n",
      "4/4 [==============================] - 26s 7s/step - loss: 0.1850 - accuracy: 0.9100 - val_loss: 0.4161 - val_accuracy: 0.8250\n",
      "Epoch 3/15\n",
      "4/4 [==============================] - 28s 8s/step - loss: 0.3482 - accuracy: 0.8200 - val_loss: 0.3553 - val_accuracy: 0.8500\n",
      "Epoch 4/15\n",
      "4/4 [==============================] - 28s 8s/step - loss: 0.1930 - accuracy: 0.9000 - val_loss: 0.2550 - val_accuracy: 0.9000\n",
      "Epoch 5/15\n",
      "4/4 [==============================] - 27s 7s/step - loss: 0.1179 - accuracy: 0.9400 - val_loss: 0.3653 - val_accuracy: 0.8625\n",
      "Epoch 6/15\n",
      "4/4 [==============================] - 27s 8s/step - loss: 0.1551 - accuracy: 0.9500 - val_loss: 0.3314 - val_accuracy: 0.8938\n",
      "Epoch 1/15\n",
      "WARNING:tensorflow:AutoGraph could not transform <function Model.make_train_function.<locals>.train_function at 0x0000020182A77620> and will run it as-is.\n",
      "Please report this to the TensorFlow team. When filing the bug, set the verbosity to 10 (on Linux, `export AUTOGRAPH_VERBOSITY=10`) and attach the full output.\n",
      "Cause: 'arguments' object has no attribute 'posonlyargs'\n",
      "To silence this warning, decorate the function with @tf.autograph.experimental.do_not_convert\n",
      "WARNING: AutoGraph could not transform <function Model.make_train_function.<locals>.train_function at 0x0000020182A77620> and will run it as-is.\n",
      "Please report this to the TensorFlow team. When filing the bug, set the verbosity to 10 (on Linux, `export AUTOGRAPH_VERBOSITY=10`) and attach the full output.\n",
      "Cause: 'arguments' object has no attribute 'posonlyargs'\n",
      "To silence this warning, decorate the function with @tf.autograph.experimental.do_not_convert\n",
      "4/4 [==============================] - ETA: 0s - loss: 0.6935 - accuracy: 0.7600WARNING:tensorflow:AutoGraph could not transform <function Model.make_test_function.<locals>.test_function at 0x0000020187AD7AE8> and will run it as-is.\n",
      "Please report this to the TensorFlow team. When filing the bug, set the verbosity to 10 (on Linux, `export AUTOGRAPH_VERBOSITY=10`) and attach the full output.\n",
      "Cause: 'arguments' object has no attribute 'posonlyargs'\n",
      "To silence this warning, decorate the function with @tf.autograph.experimental.do_not_convert\n",
      "WARNING: AutoGraph could not transform <function Model.make_test_function.<locals>.test_function at 0x0000020187AD7AE8> and will run it as-is.\n",
      "Please report this to the TensorFlow team. When filing the bug, set the verbosity to 10 (on Linux, `export AUTOGRAPH_VERBOSITY=10`) and attach the full output.\n",
      "Cause: 'arguments' object has no attribute 'posonlyargs'\n",
      "To silence this warning, decorate the function with @tf.autograph.experimental.do_not_convert\n",
      "4/4 [==============================] - 34s 8s/step - loss: 0.6935 - accuracy: 0.7600 - val_loss: 0.6146 - val_accuracy: 0.7937\n",
      "Epoch 2/15\n",
      "4/4 [==============================] - 26s 8s/step - loss: 0.2584 - accuracy: 0.8800 - val_loss: 0.2982 - val_accuracy: 0.8625\n",
      "Epoch 3/15\n",
      "4/4 [==============================] - 23s 6s/step - loss: 0.1686 - accuracy: 0.9200 - val_loss: 0.3187 - val_accuracy: 0.8500\n",
      "Epoch 4/15\n",
      "4/4 [==============================] - 24s 7s/step - loss: 0.1923 - accuracy: 0.9100 - val_loss: 0.2921 - val_accuracy: 0.8562\n",
      "Epoch 1/15\n",
      "WARNING:tensorflow:AutoGraph could not transform <function Model.make_train_function.<locals>.train_function at 0x00000201CEF8ED08> and will run it as-is.\n",
      "Please report this to the TensorFlow team. When filing the bug, set the verbosity to 10 (on Linux, `export AUTOGRAPH_VERBOSITY=10`) and attach the full output.\n",
      "Cause: 'arguments' object has no attribute 'posonlyargs'\n",
      "To silence this warning, decorate the function with @tf.autograph.experimental.do_not_convert\n",
      "WARNING: AutoGraph could not transform <function Model.make_train_function.<locals>.train_function at 0x00000201CEF8ED08> and will run it as-is.\n",
      "Please report this to the TensorFlow team. When filing the bug, set the verbosity to 10 (on Linux, `export AUTOGRAPH_VERBOSITY=10`) and attach the full output.\n",
      "Cause: 'arguments' object has no attribute 'posonlyargs'\n",
      "To silence this warning, decorate the function with @tf.autograph.experimental.do_not_convert\n",
      "4/4 [==============================] - ETA: 0s - loss: 0.5253 - accuracy: 0.8000WARNING:tensorflow:AutoGraph could not transform <function Model.make_test_function.<locals>.test_function at 0x000002021E55D620> and will run it as-is.\n",
      "Please report this to the TensorFlow team. When filing the bug, set the verbosity to 10 (on Linux, `export AUTOGRAPH_VERBOSITY=10`) and attach the full output.\n",
      "Cause: 'arguments' object has no attribute 'posonlyargs'\n",
      "To silence this warning, decorate the function with @tf.autograph.experimental.do_not_convert\n",
      "WARNING: AutoGraph could not transform <function Model.make_test_function.<locals>.test_function at 0x000002021E55D620> and will run it as-is.\n",
      "Please report this to the TensorFlow team. When filing the bug, set the verbosity to 10 (on Linux, `export AUTOGRAPH_VERBOSITY=10`) and attach the full output.\n",
      "Cause: 'arguments' object has no attribute 'posonlyargs'\n",
      "To silence this warning, decorate the function with @tf.autograph.experimental.do_not_convert\n",
      "4/4 [==============================] - 33s 7s/step - loss: 0.5253 - accuracy: 0.8000 - val_loss: 0.6222 - val_accuracy: 0.7937\n",
      "Epoch 2/15\n",
      "4/4 [==============================] - 24s 7s/step - loss: 0.3083 - accuracy: 0.8900 - val_loss: 0.3391 - val_accuracy: 0.8625\n",
      "Epoch 3/15\n",
      "4/4 [==============================] - 24s 7s/step - loss: 0.1656 - accuracy: 0.9300 - val_loss: 0.2854 - val_accuracy: 0.8750\n",
      "Epoch 4/15\n",
      "4/4 [==============================] - 24s 7s/step - loss: 0.1725 - accuracy: 0.9300 - val_loss: 0.3026 - val_accuracy: 0.8625\n",
      "Epoch 5/15\n",
      "4/4 [==============================] - 24s 7s/step - loss: 0.1927 - accuracy: 0.9200 - val_loss: 0.2928 - val_accuracy: 0.8813\n",
      "Epoch 6/15\n",
      "4/4 [==============================] - 27s 8s/step - loss: 0.1707 - accuracy: 0.9300 - val_loss: 0.2764 - val_accuracy: 0.8750\n",
      "Epoch 7/15\n",
      "4/4 [==============================] - 23s 6s/step - loss: 0.1440 - accuracy: 0.9300 - val_loss: 0.2752 - val_accuracy: 0.8813\n"
     ]
    }
   ],
   "source": [
    "#搜索最佳迁移率R(验证理论)\n",
    "\n",
    "classifier_p = model.get_layer(model.layers[-1].name)\n",
    "r_list = get_r_list()\n",
    "best_acc = r_1_acc\n",
    "r_acc = []\n",
    "\n",
    "for i in range(len(r_list)):\n",
    "    r = r_list[i]\n",
    "    conv_base = tf.keras.applications.inception_resnet_v2.InceptionResNetV2(weights='imagenet',include_top=False)\n",
    "    classifier = classifier_p\n",
    "    model = r_compiled_model()\n",
    "    filepath = 'inceptionresnetv2_r_{:.2f}.keras'.format(r)\n",
    "    callbacks = [tf.keras.callbacks.EarlyStopping(monitor='val_accuracy',patience=2),\n",
    "                 tf.keras.callbacks.ModelCheckpoint(filepath=filepath,\n",
    "                                                    monitor='val_accuracy',\n",
    "                                                    save_best_only=True)]\n",
    "    history = model.fit(train_images,train_labels,\n",
    "                        epochs=15,\n",
    "                        validation_data=(val_images,val_labels),\n",
    "                        callbacks=callbacks)\n",
    "    r_acc.append(max(history.history['val_accuracy']))\n",
    "    \n",
    "    if i == 0 and r_acc[0] < r_1_acc:\n",
    "        r_list = r_list[:1]+r_list[:0:-1]\n",
    "        continue\n",
    "    if r_acc[i] > best_acc:\n",
    "        best_acc = r_acc[i]"
   ]
  },
  {
   "cell_type": "code",
   "execution_count": 6,
   "id": "190b287d",
   "metadata": {},
   "outputs": [
    {
     "name": "stdout",
     "output_type": "stream",
     "text": [
      "[0, 0.05128205128205128, 0.19230769230769232, 0.35128205128205126, 0.45384615384615384, 0.658974358974359, 0.791025641025641, 0.8935897435897436]\n",
      "[0.90625, 0.893750011920929, 0.9125000238418579, 0.9125000238418579, 0.9125000238418579, 0.8999999761581421, 0.862500011920929, 0.8812500238418579]\n"
     ]
    }
   ],
   "source": [
    "#观察结果\n",
    "\n",
    "print(r_list)\n",
    "print(r_acc)"
   ]
  },
  {
   "cell_type": "code",
   "execution_count": 7,
   "id": "b93cb656",
   "metadata": {},
   "outputs": [
    {
     "name": "stdout",
     "output_type": "stream",
     "text": [
      "[0, 0.05128205128205128, 0.19230769230769232, 0.35128205128205126, 0.45384615384615384, 0.658974358974359, 0.791025641025641, 0.8935897435897436, 1]\n",
      "[0.90625, 0.893750011920929, 0.9125000238418579, 0.9125000238418579, 0.9125000238418579, 0.8999999761581421, 0.862500011920929, 0.8812500238418579, 0.856249988079071]\n"
     ]
    }
   ],
   "source": [
    "##整理结果\n",
    "\n",
    "#r_list.pop(0)\n",
    "#r_0_acc = r_acc.pop(0)\n",
    "\n",
    "#r_list.append(0)\n",
    "#r_acc.append(r_0_acc)\n",
    "\n",
    "#r_list.insert(0,1)\n",
    "#r_acc.insert(0,r_1_acc)\n",
    "r_list.append(1)\n",
    "r_acc.append(r_1_acc)\n",
    "print(r_list)\n",
    "print(r_acc)"
   ]
  },
  {
   "cell_type": "code",
   "execution_count": 8,
   "id": "8421b2d4",
   "metadata": {},
   "outputs": [
    {
     "data": {
      "image/png": "[encoded data removed]",
      "text/plain": [
       "<Figure size 640x480 with 1 Axes>"
      ]
     },
     "metadata": {},
     "output_type": "display_data"
    }
   ],
   "source": [
    "#展示结果\n",
    "\n",
    "import matplotlib.pyplot as plt\n",
    "plt.figure()\n",
    "plt.plot(r_list,r_acc,linestyle='-',marker='o',color='m',label='inception_resnet_v2')\n",
    "plt.xlabel('transfer rate')\n",
    "plt.ylabel('accuracy')\n",
    "plt.ylim((0.5,1))\n",
    "\n",
    "plt.title('Validation accuracy')\n",
    "plt.legend()\n",
    "plt.show()\n"
   ]
  },
  {
   "cell_type": "code",
   "execution_count": null,
   "id": "9ba6796f",
   "metadata": {},
   "outputs": [],
   "source": [
    "#增加"
   ]
  },
  {
   "cell_type": "code",
   "execution_count": 3,
   "id": "683c9891",
   "metadata": {},
   "outputs": [
    {
     "name": "stdout",
     "output_type": "stream",
     "text": [
      "Found 1000 files belonging to 2 classes.\n"
     ]
    }
   ],
   "source": [
    "#在unlabel(test)数据集上测试\n",
    "\n",
    "base_dir = pathlib.Path('chest_xray2')\n",
    "test_dataset = tf.keras.utils.image_dataset_from_directory(base_dir/'unlabel',\n",
    "                                                            image_size=(224,224),\n",
    "                                                            batch_size=32)\n",
    "test_images,test_labels = preprocess_data(test_dataset)"
   ]
  },
  {
   "cell_type": "code",
   "execution_count": 4,
   "id": "5e862a4a",
   "metadata": {},
   "outputs": [],
   "source": [
    "model_0 = tf.keras.models.load_model('inceptionresnetv2_r_0.00.keras')\n",
    "model_1 = tf.keras.models.load_model('inceptionresnetv2_r_0.05.keras')\n",
    "model_2 = tf.keras.models.load_model('inceptionresnetv2_r_0.19.keras')\n",
    "model_3 = tf.keras.models.load_model('inceptionresnetv2_r_0.35.keras')\n",
    "model_4 = tf.keras.models.load_model('inceptionresnetv2_r_0.45.keras')\n",
    "model_5 = tf.keras.models.load_model('inceptionresnetv2_r_0.66.keras')\n",
    "model_6 = tf.keras.models.load_model('inceptionresnetv2_r_0.79.keras')\n",
    "model_7 = tf.keras.models.load_model('inceptionresnetv2_r_0.89.keras')\n",
    "model_8 = tf.keras.models.load_model('inceptionresnetv2_r_1.00.keras')"
   ]
  },
  {
   "cell_type": "code",
   "execution_count": 11,
   "id": "8501f8f8",
   "metadata": {},
   "outputs": [
    {
     "name": "stdout",
     "output_type": "stream",
     "text": [
      "WARNING:tensorflow:AutoGraph could not transform <function Model.make_test_function.<locals>.test_function at 0x0000020290450378> and will run it as-is.\n",
      "Please report this to the TensorFlow team. When filing the bug, set the verbosity to 10 (on Linux, `export AUTOGRAPH_VERBOSITY=10`) and attach the full output.\n",
      "Cause: 'arguments' object has no attribute 'posonlyargs'\n",
      "To silence this warning, decorate the function with @tf.autograph.experimental.do_not_convert\n",
      "WARNING: AutoGraph could not transform <function Model.make_test_function.<locals>.test_function at 0x0000020290450378> and will run it as-is.\n",
      "Please report this to the TensorFlow team. When filing the bug, set the verbosity to 10 (on Linux, `export AUTOGRAPH_VERBOSITY=10`) and attach the full output.\n",
      "Cause: 'arguments' object has no attribute 'posonlyargs'\n",
      "To silence this warning, decorate the function with @tf.autograph.experimental.do_not_convert\n",
      "32/32 [==============================] - 257s 8s/step - loss: 0.3517 - accuracy: 0.8450\n",
      "0.8450000286102295\n"
     ]
    }
   ],
   "source": [
    "r_acc_t = []\n",
    "test_loss,test_acc = model_0.evaluate(test_images,test_labels)\n",
    "print(test_acc)\n",
    "r_acc_t.append(test_acc)"
   ]
  },
  {
   "cell_type": "code",
   "execution_count": 12,
   "id": "b26a4942",
   "metadata": {},
   "outputs": [
    {
     "name": "stdout",
     "output_type": "stream",
     "text": [
      "WARNING:tensorflow:AutoGraph could not transform <function Model.make_test_function.<locals>.test_function at 0x0000020298B08048> and will run it as-is.\n",
      "Please report this to the TensorFlow team. When filing the bug, set the verbosity to 10 (on Linux, `export AUTOGRAPH_VERBOSITY=10`) and attach the full output.\n",
      "Cause: 'arguments' object has no attribute 'posonlyargs'\n",
      "To silence this warning, decorate the function with @tf.autograph.experimental.do_not_convert\n",
      "WARNING: AutoGraph could not transform <function Model.make_test_function.<locals>.test_function at 0x0000020298B08048> and will run it as-is.\n",
      "Please report this to the TensorFlow team. When filing the bug, set the verbosity to 10 (on Linux, `export AUTOGRAPH_VERBOSITY=10`) and attach the full output.\n",
      "Cause: 'arguments' object has no attribute 'posonlyargs'\n",
      "To silence this warning, decorate the function with @tf.autograph.experimental.do_not_convert\n",
      "32/32 [==============================] - 252s 8s/step - loss: 0.3868 - accuracy: 0.8480\n",
      "0.8479999899864197\n"
     ]
    }
   ],
   "source": [
    "test_loss,test_acc = model_1.evaluate(test_images,test_labels)\n",
    "print(test_acc)\n",
    "r_acc_t.append(test_acc)"
   ]
  },
  {
   "cell_type": "code",
   "execution_count": 13,
   "id": "6a3984a3",
   "metadata": {},
   "outputs": [
    {
     "name": "stdout",
     "output_type": "stream",
     "text": [
      "WARNING:tensorflow:AutoGraph could not transform <function Model.make_test_function.<locals>.test_function at 0x00000202B3D01B70> and will run it as-is.\n",
      "Please report this to the TensorFlow team. When filing the bug, set the verbosity to 10 (on Linux, `export AUTOGRAPH_VERBOSITY=10`) and attach the full output.\n",
      "Cause: 'arguments' object has no attribute 'posonlyargs'\n",
      "To silence this warning, decorate the function with @tf.autograph.experimental.do_not_convert\n",
      "WARNING: AutoGraph could not transform <function Model.make_test_function.<locals>.test_function at 0x00000202B3D01B70> and will run it as-is.\n",
      "Please report this to the TensorFlow team. When filing the bug, set the verbosity to 10 (on Linux, `export AUTOGRAPH_VERBOSITY=10`) and attach the full output.\n",
      "Cause: 'arguments' object has no attribute 'posonlyargs'\n",
      "To silence this warning, decorate the function with @tf.autograph.experimental.do_not_convert\n",
      "32/32 [==============================] - 248s 8s/step - loss: 0.3393 - accuracy: 0.8500\n",
      "0.8500000238418579\n"
     ]
    }
   ],
   "source": [
    "test_loss,test_acc = model_2.evaluate(test_images,test_labels)\n",
    "print(test_acc)\n",
    "r_acc_t.append(test_acc)"
   ]
  },
  {
   "cell_type": "code",
   "execution_count": 14,
   "id": "43880d42",
   "metadata": {},
   "outputs": [
    {
     "name": "stdout",
     "output_type": "stream",
     "text": [
      "WARNING:tensorflow:AutoGraph could not transform <function Model.make_test_function.<locals>.test_function at 0x00000202C90DA8C8> and will run it as-is.\n",
      "Please report this to the TensorFlow team. When filing the bug, set the verbosity to 10 (on Linux, `export AUTOGRAPH_VERBOSITY=10`) and attach the full output.\n",
      "Cause: 'arguments' object has no attribute 'posonlyargs'\n",
      "To silence this warning, decorate the function with @tf.autograph.experimental.do_not_convert\n",
      "WARNING: AutoGraph could not transform <function Model.make_test_function.<locals>.test_function at 0x00000202C90DA8C8> and will run it as-is.\n",
      "Please report this to the TensorFlow team. When filing the bug, set the verbosity to 10 (on Linux, `export AUTOGRAPH_VERBOSITY=10`) and attach the full output.\n",
      "Cause: 'arguments' object has no attribute 'posonlyargs'\n",
      "To silence this warning, decorate the function with @tf.autograph.experimental.do_not_convert\n",
      "32/32 [==============================] - 251s 8s/step - loss: 0.3312 - accuracy: 0.8500\n",
      "0.8500000238418579\n"
     ]
    }
   ],
   "source": [
    "test_loss,test_acc = model_3.evaluate(test_images,test_labels)\n",
    "print(test_acc)\n",
    "r_acc_t.append(test_acc)"
   ]
  },
  {
   "cell_type": "code",
   "execution_count": 15,
   "id": "3fa9dd9c",
   "metadata": {},
   "outputs": [
    {
     "name": "stdout",
     "output_type": "stream",
     "text": [
      "WARNING:tensorflow:AutoGraph could not transform <function Model.make_test_function.<locals>.test_function at 0x00000203532FE268> and will run it as-is.\n",
      "Please report this to the TensorFlow team. When filing the bug, set the verbosity to 10 (on Linux, `export AUTOGRAPH_VERBOSITY=10`) and attach the full output.\n",
      "Cause: 'arguments' object has no attribute 'posonlyargs'\n",
      "To silence this warning, decorate the function with @tf.autograph.experimental.do_not_convert\n",
      "WARNING: AutoGraph could not transform <function Model.make_test_function.<locals>.test_function at 0x00000203532FE268> and will run it as-is.\n",
      "Please report this to the TensorFlow team. When filing the bug, set the verbosity to 10 (on Linux, `export AUTOGRAPH_VERBOSITY=10`) and attach the full output.\n",
      "Cause: 'arguments' object has no attribute 'posonlyargs'\n",
      "To silence this warning, decorate the function with @tf.autograph.experimental.do_not_convert\n",
      "32/32 [==============================] - 264s 8s/step - loss: 0.3743 - accuracy: 0.8320\n",
      "0.8320000171661377\n"
     ]
    }
   ],
   "source": [
    "test_loss,test_acc = model_4.evaluate(test_images,test_labels)\n",
    "print(test_acc)\n",
    "r_acc_t.append(test_acc)"
   ]
  },
  {
   "cell_type": "code",
   "execution_count": 16,
   "id": "b3d82011",
   "metadata": {},
   "outputs": [
    {
     "name": "stdout",
     "output_type": "stream",
     "text": [
      "WARNING:tensorflow:AutoGraph could not transform <function Model.make_test_function.<locals>.test_function at 0x00000203533320D0> and will run it as-is.\n",
      "Please report this to the TensorFlow team. When filing the bug, set the verbosity to 10 (on Linux, `export AUTOGRAPH_VERBOSITY=10`) and attach the full output.\n",
      "Cause: 'arguments' object has no attribute 'posonlyargs'\n",
      "To silence this warning, decorate the function with @tf.autograph.experimental.do_not_convert\n",
      "WARNING: AutoGraph could not transform <function Model.make_test_function.<locals>.test_function at 0x00000203533320D0> and will run it as-is.\n",
      "Please report this to the TensorFlow team. When filing the bug, set the verbosity to 10 (on Linux, `export AUTOGRAPH_VERBOSITY=10`) and attach the full output.\n",
      "Cause: 'arguments' object has no attribute 'posonlyargs'\n",
      "To silence this warning, decorate the function with @tf.autograph.experimental.do_not_convert\n",
      "32/32 [==============================] - 270s 8s/step - loss: 0.4145 - accuracy: 0.8210\n",
      "0.8209999799728394\n"
     ]
    }
   ],
   "source": [
    "test_loss,test_acc = model_5.evaluate(test_images,test_labels)\n",
    "print(test_acc)\n",
    "r_acc_t.append(test_acc)"
   ]
  },
  {
   "cell_type": "code",
   "execution_count": 17,
   "id": "4e5a29d8",
   "metadata": {},
   "outputs": [
    {
     "name": "stdout",
     "output_type": "stream",
     "text": [
      "WARNING:tensorflow:AutoGraph could not transform <function Model.make_test_function.<locals>.test_function at 0x0000020355DE1AE8> and will run it as-is.\n",
      "Please report this to the TensorFlow team. When filing the bug, set the verbosity to 10 (on Linux, `export AUTOGRAPH_VERBOSITY=10`) and attach the full output.\n",
      "Cause: 'arguments' object has no attribute 'posonlyargs'\n",
      "To silence this warning, decorate the function with @tf.autograph.experimental.do_not_convert\n",
      "WARNING: AutoGraph could not transform <function Model.make_test_function.<locals>.test_function at 0x0000020355DE1AE8> and will run it as-is.\n",
      "Please report this to the TensorFlow team. When filing the bug, set the verbosity to 10 (on Linux, `export AUTOGRAPH_VERBOSITY=10`) and attach the full output.\n",
      "Cause: 'arguments' object has no attribute 'posonlyargs'\n",
      "To silence this warning, decorate the function with @tf.autograph.experimental.do_not_convert\n",
      "32/32 [==============================] - 282s 9s/step - loss: 0.5172 - accuracy: 0.7980\n",
      "0.7979999780654907\n"
     ]
    }
   ],
   "source": [
    "test_loss,test_acc = model_6.evaluate(test_images,test_labels)\n",
    "print(test_acc)\n",
    "r_acc_t.append(test_acc)"
   ]
  },
  {
   "cell_type": "code",
   "execution_count": 18,
   "id": "c06dc04d",
   "metadata": {},
   "outputs": [
    {
     "name": "stdout",
     "output_type": "stream",
     "text": [
      "WARNING:tensorflow:AutoGraph could not transform <function Model.make_test_function.<locals>.test_function at 0x00000203563C7D90> and will run it as-is.\n",
      "Please report this to the TensorFlow team. When filing the bug, set the verbosity to 10 (on Linux, `export AUTOGRAPH_VERBOSITY=10`) and attach the full output.\n",
      "Cause: 'arguments' object has no attribute 'posonlyargs'\n",
      "To silence this warning, decorate the function with @tf.autograph.experimental.do_not_convert\n",
      "WARNING: AutoGraph could not transform <function Model.make_test_function.<locals>.test_function at 0x00000203563C7D90> and will run it as-is.\n",
      "Please report this to the TensorFlow team. When filing the bug, set the verbosity to 10 (on Linux, `export AUTOGRAPH_VERBOSITY=10`) and attach the full output.\n",
      "Cause: 'arguments' object has no attribute 'posonlyargs'\n",
      "To silence this warning, decorate the function with @tf.autograph.experimental.do_not_convert\n",
      "32/32 [==============================] - 297s 9s/step - loss: 0.5792 - accuracy: 0.7810\n",
      "0.781000018119812\n"
     ]
    }
   ],
   "source": [
    "test_loss,test_acc = model_7.evaluate(test_images,test_labels)\n",
    "print(test_acc)\n",
    "r_acc_t.append(test_acc)"
   ]
  },
  {
   "cell_type": "code",
   "execution_count": 19,
   "id": "71b51504",
   "metadata": {},
   "outputs": [
    {
     "name": "stdout",
     "output_type": "stream",
     "text": [
      "WARNING:tensorflow:AutoGraph could not transform <function Model.make_test_function.<locals>.test_function at 0x0000020356A3D1E0> and will run it as-is.\n",
      "Please report this to the TensorFlow team. When filing the bug, set the verbosity to 10 (on Linux, `export AUTOGRAPH_VERBOSITY=10`) and attach the full output.\n",
      "Cause: 'arguments' object has no attribute 'posonlyargs'\n",
      "To silence this warning, decorate the function with @tf.autograph.experimental.do_not_convert\n",
      "WARNING: AutoGraph could not transform <function Model.make_test_function.<locals>.test_function at 0x0000020356A3D1E0> and will run it as-is.\n",
      "Please report this to the TensorFlow team. When filing the bug, set the verbosity to 10 (on Linux, `export AUTOGRAPH_VERBOSITY=10`) and attach the full output.\n",
      "Cause: 'arguments' object has no attribute 'posonlyargs'\n",
      "To silence this warning, decorate the function with @tf.autograph.experimental.do_not_convert\n",
      "32/32 [==============================] - 274s 8s/step - loss: 0.6553 - accuracy: 0.7670\n",
      "0.7670000195503235\n"
     ]
    }
   ],
   "source": [
    "test_loss,test_acc = model_8.evaluate(test_images,test_labels)\n",
    "print(test_acc)\n",
    "r_acc_t.append(test_acc)"
   ]
  },
  {
   "cell_type": "code",
   "execution_count": 20,
   "id": "87b44ba7",
   "metadata": {},
   "outputs": [
    {
     "name": "stdout",
     "output_type": "stream",
     "text": [
      "[0.8450000286102295, 0.8479999899864197, 0.8500000238418579, 0.8500000238418579, 0.8320000171661377, 0.8209999799728394, 0.7979999780654907, 0.781000018119812, 0.7670000195503235]\n"
     ]
    }
   ],
   "source": [
    "print(r_acc_t)"
   ]
  },
  {
   "cell_type": "code",
   "execution_count": 21,
   "id": "8b0f9934",
   "metadata": {},
   "outputs": [
    {
     "data": {
      "image/png": "[encoded data removed]",
      "text/plain": [
       "<Figure size 640x480 with 1 Axes>"
      ]
     },
     "metadata": {},
     "output_type": "display_data"
    }
   ],
   "source": [
    "import matplotlib.pyplot as plt\n",
    "plt.figure()\n",
    "plt.plot(r_list,r_acc,linestyle='-',marker='o',color='m',label='validation accuracy')\n",
    "plt.plot(r_list,r_acc_t,linestyle='--',marker='o',color='m',label='test accuracy')\n",
    "plt.xlabel('transfer rate')\n",
    "plt.ylabel('accuracy')\n",
    "plt.ylim((0.5,1))\n",
    "\n",
    "plt.title('InceptionResnetV2 performance')\n",
    "plt.legend()\n",
    "plt.show()\n"
   ]
  },
  {
   "cell_type": "code",
   "execution_count": 5,
   "id": "b531a369",
   "metadata": {},
   "outputs": [],
   "source": [
    "#在unlabel(test)数据集上测试聚类\n",
    "from sklearn.cluster import KMeans\n",
    "from sklearn.metrics import accuracy_score"
   ]
  },
  {
   "cell_type": "code",
   "execution_count": 6,
   "id": "1c19cd24",
   "metadata": {},
   "outputs": [
    {
     "name": "stdout",
     "output_type": "stream",
     "text": [
      "WARNING:tensorflow:AutoGraph could not transform <function Model.make_predict_function.<locals>.predict_function at 0x000001FF073A06A8> and will run it as-is.\n",
      "Please report this to the TensorFlow team. When filing the bug, set the verbosity to 10 (on Linux, `export AUTOGRAPH_VERBOSITY=10`) and attach the full output.\n",
      "Cause: 'arguments' object has no attribute 'posonlyargs'\n",
      "To silence this warning, decorate the function with @tf.autograph.experimental.do_not_convert\n",
      "WARNING: AutoGraph could not transform <function Model.make_predict_function.<locals>.predict_function at 0x000001FF073A06A8> and will run it as-is.\n",
      "Please report this to the TensorFlow team. When filing the bug, set the verbosity to 10 (on Linux, `export AUTOGRAPH_VERBOSITY=10`) and attach the full output.\n",
      "Cause: 'arguments' object has no attribute 'posonlyargs'\n",
      "To silence this warning, decorate the function with @tf.autograph.experimental.do_not_convert\n"
     ]
    }
   ],
   "source": [
    "feature = tf.keras.layers.GlobalAveragePooling2D()(model_0.get_layer('conv_7b_ac').output)\n",
    "encoder_0 = tf.keras.Model(inputs=model_0.input,outputs=feature)\n",
    "X = encoder_0.predict(test_images)"
   ]
  },
  {
   "cell_type": "code",
   "execution_count": 11,
   "id": "bd573942",
   "metadata": {},
   "outputs": [
    {
     "name": "stdout",
     "output_type": "stream",
     "text": [
      "0.776\n"
     ]
    }
   ],
   "source": [
    "kmeans = KMeans(n_clusters=2, n_init=20)\n",
    "y_pred = kmeans.fit_predict(X)\n",
    "acc = accuracy_score(test_labels,y_pred)\n",
    "print(acc)"
   ]
  },
  {
   "cell_type": "code",
   "execution_count": 12,
   "id": "271bd985",
   "metadata": {},
   "outputs": [
    {
     "name": "stdout",
     "output_type": "stream",
     "text": [
      "WARNING:tensorflow:AutoGraph could not transform <function Model.make_predict_function.<locals>.predict_function at 0x000001FF07449E18> and will run it as-is.\n",
      "Please report this to the TensorFlow team. When filing the bug, set the verbosity to 10 (on Linux, `export AUTOGRAPH_VERBOSITY=10`) and attach the full output.\n",
      "Cause: 'arguments' object has no attribute 'posonlyargs'\n",
      "To silence this warning, decorate the function with @tf.autograph.experimental.do_not_convert\n",
      "WARNING: AutoGraph could not transform <function Model.make_predict_function.<locals>.predict_function at 0x000001FF07449E18> and will run it as-is.\n",
      "Please report this to the TensorFlow team. When filing the bug, set the verbosity to 10 (on Linux, `export AUTOGRAPH_VERBOSITY=10`) and attach the full output.\n",
      "Cause: 'arguments' object has no attribute 'posonlyargs'\n",
      "To silence this warning, decorate the function with @tf.autograph.experimental.do_not_convert\n"
     ]
    }
   ],
   "source": [
    "feature = tf.keras.layers.GlobalAveragePooling2D()(model_1.get_layer('conv_7b_ac').output)\n",
    "encoder_1 = tf.keras.Model(inputs=model_1.input,outputs=feature)\n",
    "X = encoder_1.predict(test_images)"
   ]
  },
  {
   "cell_type": "code",
   "execution_count": 13,
   "id": "11144f45",
   "metadata": {},
   "outputs": [
    {
     "name": "stdout",
     "output_type": "stream",
     "text": [
      "0.727\n"
     ]
    }
   ],
   "source": [
    "kmeans = KMeans(n_clusters=2, n_init=20)\n",
    "y_pred = kmeans.fit_predict(X)\n",
    "acc = accuracy_score(test_labels,y_pred)\n",
    "print(acc)"
   ]
  },
  {
   "cell_type": "code",
   "execution_count": 14,
   "id": "0316f408",
   "metadata": {},
   "outputs": [
    {
     "name": "stdout",
     "output_type": "stream",
     "text": [
      "WARNING:tensorflow:AutoGraph could not transform <function Model.make_predict_function.<locals>.predict_function at 0x000001FF0A1E91E0> and will run it as-is.\n",
      "Please report this to the TensorFlow team. When filing the bug, set the verbosity to 10 (on Linux, `export AUTOGRAPH_VERBOSITY=10`) and attach the full output.\n",
      "Cause: 'arguments' object has no attribute 'posonlyargs'\n",
      "To silence this warning, decorate the function with @tf.autograph.experimental.do_not_convert\n",
      "WARNING: AutoGraph could not transform <function Model.make_predict_function.<locals>.predict_function at 0x000001FF0A1E91E0> and will run it as-is.\n",
      "Please report this to the TensorFlow team. When filing the bug, set the verbosity to 10 (on Linux, `export AUTOGRAPH_VERBOSITY=10`) and attach the full output.\n",
      "Cause: 'arguments' object has no attribute 'posonlyargs'\n",
      "To silence this warning, decorate the function with @tf.autograph.experimental.do_not_convert\n"
     ]
    }
   ],
   "source": [
    "feature = tf.keras.layers.GlobalAveragePooling2D()(model_2.get_layer('conv_7b_ac').output)\n",
    "encoder_2 = tf.keras.Model(inputs=model_2.input,outputs=feature)\n",
    "X = encoder_2.predict(test_images)"
   ]
  },
  {
   "cell_type": "code",
   "execution_count": 16,
   "id": "7af8115d",
   "metadata": {},
   "outputs": [
    {
     "name": "stdout",
     "output_type": "stream",
     "text": [
      "0.712\n"
     ]
    }
   ],
   "source": [
    "kmeans = KMeans(n_clusters=2, n_init=20)\n",
    "y_pred = kmeans.fit_predict(X)\n",
    "acc = accuracy_score(test_labels,y_pred)\n",
    "print(acc)"
   ]
  },
  {
   "cell_type": "code",
   "execution_count": 17,
   "id": "21bd04ab",
   "metadata": {},
   "outputs": [
    {
     "name": "stdout",
     "output_type": "stream",
     "text": [
      "WARNING:tensorflow:AutoGraph could not transform <function Model.make_predict_function.<locals>.predict_function at 0x000001FF07449D08> and will run it as-is.\n",
      "Please report this to the TensorFlow team. When filing the bug, set the verbosity to 10 (on Linux, `export AUTOGRAPH_VERBOSITY=10`) and attach the full output.\n",
      "Cause: 'arguments' object has no attribute 'posonlyargs'\n",
      "To silence this warning, decorate the function with @tf.autograph.experimental.do_not_convert\n",
      "WARNING: AutoGraph could not transform <function Model.make_predict_function.<locals>.predict_function at 0x000001FF07449D08> and will run it as-is.\n",
      "Please report this to the TensorFlow team. When filing the bug, set the verbosity to 10 (on Linux, `export AUTOGRAPH_VERBOSITY=10`) and attach the full output.\n",
      "Cause: 'arguments' object has no attribute 'posonlyargs'\n",
      "To silence this warning, decorate the function with @tf.autograph.experimental.do_not_convert\n"
     ]
    }
   ],
   "source": [
    "feature = tf.keras.layers.GlobalAveragePooling2D()(model_3.get_layer('conv_7b_ac').output)\n",
    "encoder_3 = tf.keras.Model(inputs=model_3.input,outputs=feature)\n",
    "X = encoder_3.predict(test_images)"
   ]
  },
  {
   "cell_type": "code",
   "execution_count": 18,
   "id": "3f087ab6",
   "metadata": {},
   "outputs": [
    {
     "name": "stdout",
     "output_type": "stream",
     "text": [
      "0.601\n"
     ]
    }
   ],
   "source": [
    "kmeans = KMeans(n_clusters=2, n_init=20)\n",
    "y_pred = kmeans.fit_predict(X)\n",
    "acc = accuracy_score(test_labels,y_pred)\n",
    "print(acc)"
   ]
  },
  {
   "cell_type": "code",
   "execution_count": 19,
   "id": "8483077a",
   "metadata": {},
   "outputs": [
    {
     "name": "stdout",
     "output_type": "stream",
     "text": [
      "WARNING:tensorflow:AutoGraph could not transform <function Model.make_predict_function.<locals>.predict_function at 0x000001FF0A8C3598> and will run it as-is.\n",
      "Please report this to the TensorFlow team. When filing the bug, set the verbosity to 10 (on Linux, `export AUTOGRAPH_VERBOSITY=10`) and attach the full output.\n",
      "Cause: 'arguments' object has no attribute 'posonlyargs'\n",
      "To silence this warning, decorate the function with @tf.autograph.experimental.do_not_convert\n",
      "WARNING: AutoGraph could not transform <function Model.make_predict_function.<locals>.predict_function at 0x000001FF0A8C3598> and will run it as-is.\n",
      "Please report this to the TensorFlow team. When filing the bug, set the verbosity to 10 (on Linux, `export AUTOGRAPH_VERBOSITY=10`) and attach the full output.\n",
      "Cause: 'arguments' object has no attribute 'posonlyargs'\n",
      "To silence this warning, decorate the function with @tf.autograph.experimental.do_not_convert\n"
     ]
    }
   ],
   "source": [
    "feature = tf.keras.layers.GlobalAveragePooling2D()(model_4.get_layer('conv_7b_ac').output)\n",
    "encoder_4 = tf.keras.Model(inputs=model_4.input,outputs=feature)\n",
    "X = encoder_4.predict(test_images)"
   ]
  },
  {
   "cell_type": "code",
   "execution_count": 21,
   "id": "6be5db7a",
   "metadata": {},
   "outputs": [
    {
     "name": "stdout",
     "output_type": "stream",
     "text": [
      "0.645\n"
     ]
    }
   ],
   "source": [
    "kmeans = KMeans(n_clusters=2, n_init=20)\n",
    "y_pred = kmeans.fit_predict(X)\n",
    "acc = accuracy_score(test_labels,y_pred)\n",
    "print(acc)"
   ]
  },
  {
   "cell_type": "code",
   "execution_count": 22,
   "id": "af8ec77a",
   "metadata": {},
   "outputs": [
    {
     "name": "stdout",
     "output_type": "stream",
     "text": [
      "WARNING:tensorflow:AutoGraph could not transform <function Model.make_predict_function.<locals>.predict_function at 0x000001FF17C76D08> and will run it as-is.\n",
      "Please report this to the TensorFlow team. When filing the bug, set the verbosity to 10 (on Linux, `export AUTOGRAPH_VERBOSITY=10`) and attach the full output.\n",
      "Cause: 'arguments' object has no attribute 'posonlyargs'\n",
      "To silence this warning, decorate the function with @tf.autograph.experimental.do_not_convert\n",
      "WARNING: AutoGraph could not transform <function Model.make_predict_function.<locals>.predict_function at 0x000001FF17C76D08> and will run it as-is.\n",
      "Please report this to the TensorFlow team. When filing the bug, set the verbosity to 10 (on Linux, `export AUTOGRAPH_VERBOSITY=10`) and attach the full output.\n",
      "Cause: 'arguments' object has no attribute 'posonlyargs'\n",
      "To silence this warning, decorate the function with @tf.autograph.experimental.do_not_convert\n"
     ]
    }
   ],
   "source": [
    "feature = tf.keras.layers.GlobalAveragePooling2D()(model_5.get_layer('conv_7b_ac').output)\n",
    "encoder_5 = tf.keras.Model(inputs=model_5.input,outputs=feature)\n",
    "X = encoder_5.predict(test_images)"
   ]
  },
  {
   "cell_type": "code",
   "execution_count": 25,
   "id": "7b56b8dc",
   "metadata": {},
   "outputs": [
    {
     "name": "stdout",
     "output_type": "stream",
     "text": [
      "0.554\n"
     ]
    }
   ],
   "source": [
    "kmeans = KMeans(n_clusters=2, n_init=20)\n",
    "y_pred = kmeans.fit_predict(X)\n",
    "acc = accuracy_score(test_labels,y_pred)\n",
    "print(acc)"
   ]
  },
  {
   "cell_type": "code",
   "execution_count": 26,
   "id": "c80234b5",
   "metadata": {},
   "outputs": [
    {
     "name": "stdout",
     "output_type": "stream",
     "text": [
      "WARNING:tensorflow:AutoGraph could not transform <function Model.make_predict_function.<locals>.predict_function at 0x000001FF181C6E18> and will run it as-is.\n",
      "Please report this to the TensorFlow team. When filing the bug, set the verbosity to 10 (on Linux, `export AUTOGRAPH_VERBOSITY=10`) and attach the full output.\n",
      "Cause: 'arguments' object has no attribute 'posonlyargs'\n",
      "To silence this warning, decorate the function with @tf.autograph.experimental.do_not_convert\n",
      "WARNING: AutoGraph could not transform <function Model.make_predict_function.<locals>.predict_function at 0x000001FF181C6E18> and will run it as-is.\n",
      "Please report this to the TensorFlow team. When filing the bug, set the verbosity to 10 (on Linux, `export AUTOGRAPH_VERBOSITY=10`) and attach the full output.\n",
      "Cause: 'arguments' object has no attribute 'posonlyargs'\n",
      "To silence this warning, decorate the function with @tf.autograph.experimental.do_not_convert\n"
     ]
    }
   ],
   "source": [
    "feature = tf.keras.layers.GlobalAveragePooling2D()(model_6.get_layer('conv_7b_ac').output)\n",
    "encoder_6 = tf.keras.Model(inputs=model_6.input,outputs=feature)\n",
    "X = encoder_6.predict(test_images)"
   ]
  },
  {
   "cell_type": "code",
   "execution_count": 29,
   "id": "1f7dd7ff",
   "metadata": {},
   "outputs": [
    {
     "name": "stdout",
     "output_type": "stream",
     "text": [
      "0.618\n"
     ]
    }
   ],
   "source": [
    "kmeans = KMeans(n_clusters=2, n_init=20)\n",
    "y_pred = kmeans.fit_predict(X)\n",
    "acc = accuracy_score(test_labels,y_pred)\n",
    "print(acc)"
   ]
  },
  {
   "cell_type": "code",
   "execution_count": 30,
   "id": "2ac81f54",
   "metadata": {},
   "outputs": [
    {
     "name": "stdout",
     "output_type": "stream",
     "text": [
      "WARNING:tensorflow:AutoGraph could not transform <function Model.make_predict_function.<locals>.predict_function at 0x000001FF083252F0> and will run it as-is.\n",
      "Please report this to the TensorFlow team. When filing the bug, set the verbosity to 10 (on Linux, `export AUTOGRAPH_VERBOSITY=10`) and attach the full output.\n",
      "Cause: 'arguments' object has no attribute 'posonlyargs'\n",
      "To silence this warning, decorate the function with @tf.autograph.experimental.do_not_convert\n",
      "WARNING: AutoGraph could not transform <function Model.make_predict_function.<locals>.predict_function at 0x000001FF083252F0> and will run it as-is.\n",
      "Please report this to the TensorFlow team. When filing the bug, set the verbosity to 10 (on Linux, `export AUTOGRAPH_VERBOSITY=10`) and attach the full output.\n",
      "Cause: 'arguments' object has no attribute 'posonlyargs'\n",
      "To silence this warning, decorate the function with @tf.autograph.experimental.do_not_convert\n"
     ]
    }
   ],
   "source": [
    "feature = tf.keras.layers.GlobalAveragePooling2D()(model_7.get_layer('conv_7b_ac').output)\n",
    "encoder_7 = tf.keras.Model(inputs=model_7.input,outputs=feature)\n",
    "X = encoder_7.predict(test_images)"
   ]
  },
  {
   "cell_type": "code",
   "execution_count": 32,
   "id": "d7e3f1b6",
   "metadata": {},
   "outputs": [
    {
     "name": "stdout",
     "output_type": "stream",
     "text": [
      "0.65\n"
     ]
    }
   ],
   "source": [
    "kmeans = KMeans(n_clusters=2, n_init=20)\n",
    "y_pred = kmeans.fit_predict(X)\n",
    "acc = accuracy_score(test_labels,y_pred)\n",
    "print(acc)"
   ]
  },
  {
   "cell_type": "code",
   "execution_count": 33,
   "id": "172f2008",
   "metadata": {},
   "outputs": [
    {
     "name": "stdout",
     "output_type": "stream",
     "text": [
      "WARNING:tensorflow:AutoGraph could not transform <function Model.make_predict_function.<locals>.predict_function at 0x000001FF1B935620> and will run it as-is.\n",
      "Please report this to the TensorFlow team. When filing the bug, set the verbosity to 10 (on Linux, `export AUTOGRAPH_VERBOSITY=10`) and attach the full output.\n",
      "Cause: 'arguments' object has no attribute 'posonlyargs'\n",
      "To silence this warning, decorate the function with @tf.autograph.experimental.do_not_convert\n",
      "WARNING: AutoGraph could not transform <function Model.make_predict_function.<locals>.predict_function at 0x000001FF1B935620> and will run it as-is.\n",
      "Please report this to the TensorFlow team. When filing the bug, set the verbosity to 10 (on Linux, `export AUTOGRAPH_VERBOSITY=10`) and attach the full output.\n",
      "Cause: 'arguments' object has no attribute 'posonlyargs'\n",
      "To silence this warning, decorate the function with @tf.autograph.experimental.do_not_convert\n"
     ]
    }
   ],
   "source": [
    "feature = tf.keras.layers.GlobalAveragePooling2D()(model_8.get_layer('conv_7b_ac').output)\n",
    "encoder_8 = tf.keras.Model(inputs=model_8.input,outputs=feature)\n",
    "X = encoder_8.predict(test_images)"
   ]
  },
  {
   "cell_type": "code",
   "execution_count": 34,
   "id": "33bd9b5d",
   "metadata": {},
   "outputs": [
    {
     "name": "stdout",
     "output_type": "stream",
     "text": [
      "0.637\n"
     ]
    }
   ],
   "source": [
    "kmeans = KMeans(n_clusters=2, n_init=20)\n",
    "y_pred = kmeans.fit_predict(X)\n",
    "acc = accuracy_score(test_labels,y_pred)\n",
    "print(acc)"
   ]
  },
  {
   "cell_type": "code",
   "execution_count": 35,
   "id": "60a535da",
   "metadata": {},
   "outputs": [],
   "source": [
    "r_acc_k = [0.776,0.727,0.712,0.601,0.645,0.554,0.618,0.65,0.637]"
   ]
  },
  {
   "cell_type": "code",
   "execution_count": 36,
   "id": "282e4d07",
   "metadata": {},
   "outputs": [],
   "source": [
    "r_list = [0, 0.05128205128205128, 0.19230769230769232, 0.35128205128205126, 0.45384615384615384, 0.658974358974359, 0.791025641025641, 0.8935897435897436, 1]\n",
    "r_acc = [0.90625, 0.893750011920929, 0.9125000238418579, 0.9125000238418579, 0.9125000238418579, 0.8999999761581421, 0.862500011920929, 0.8812500238418579, 0.856249988079071]\n",
    "r_acc_t = [0.8450000286102295, 0.8479999899864197, 0.8500000238418579, 0.8500000238418579, 0.8320000171661377, 0.8209999799728394, 0.7979999780654907, 0.781000018119812, 0.7670000195503235]"
   ]
  },
  {
   "cell_type": "code",
   "execution_count": 37,
   "id": "1ae465d9",
   "metadata": {},
   "outputs": [
    {
     "data": {
      "image/png": "[encoded data removed]",
      "text/plain": [
       "<Figure size 640x480 with 1 Axes>"
      ]
     },
     "metadata": {},
     "output_type": "display_data"
    }
   ],
   "source": [
    "import matplotlib.pyplot as plt\n",
    "plt.figure()\n",
    "plt.plot(r_list,r_acc,linestyle='-',marker='o',color='m',label='validation accuracy')\n",
    "plt.plot(r_list,r_acc_t,linestyle='--',marker='o',color='m',label='test accuracy')\n",
    "plt.plot(r_list,r_acc_k,linestyle=':',marker='o',color='m',label='cluster accuracy')\n",
    "plt.xlabel('transfer rate')\n",
    "plt.ylabel('accuracy')\n",
    "plt.ylim((0.5,1))\n",
    "\n",
    "plt.title('InceptionResnetV2 performance')\n",
    "plt.legend()\n",
    "plt.show()"
   ]
  },
  {
   "cell_type": "code",
   "execution_count": null,
   "id": "969f1e5a",
   "metadata": {},
   "outputs": [],
   "source": []
  }
 ],
 "metadata": {
  "kernelspec": {
   "display_name": "Python 3",
   "language": "python",
   "name": "python3"
  },
  "language_info": {
   "codemirror_mode": {
    "name": "ipython",
    "version": 3
   },
   "file_extension": ".py",
   "mimetype": "text/x-python",
   "name": "python",
   "nbconvert_exporter": "python",
   "pygments_lexer": "ipython3",
   "version": "3.7.0"
  }
 },
 "nbformat": 4,
 "nbformat_minor": 5
}
