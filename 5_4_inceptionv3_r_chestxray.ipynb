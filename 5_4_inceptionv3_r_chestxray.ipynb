{
 "cells": [
  {
   "cell_type": "code",
   "execution_count": 1,
   "id": "0b592544",
   "metadata": {},
   "outputs": [],
   "source": [
    "import tensorflow as tf\n",
    "import numpy as np\n",
    "import os,pathlib"
   ]
  },
  {
   "cell_type": "code",
   "execution_count": 2,
   "id": "96b37faf",
   "metadata": {},
   "outputs": [],
   "source": [
    "#方法定义\n",
    "\n",
    "def preprocess_data(dataset):\n",
    "    all_images = []\n",
    "    all_labels = []\n",
    "    for image,label in dataset:\n",
    "        preprocessed_image = tf.keras.applications.inception_v3.preprocess_input(image)\n",
    "        all_images.append(preprocessed_image)\n",
    "        all_labels.append(label)\n",
    "    return np.concatenate(all_images),np.concatenate(all_labels)\n",
    "\n",
    "def get_r_list():\n",
    "    index_mix_list = []\n",
    "    name_mix_list = []\n",
    "    for i,layer in enumerate(base_model.layers):\n",
    "        if layer.name[0:5] == 'mixed':\n",
    "            index_mix_list.append(i)\n",
    "            name_mix_list.append(layer.name)\n",
    "    index_r_list = []\n",
    "    name_r_list = []\n",
    "    for j in range(len(name_mix_list)-2):\n",
    "        if name_mix_list[j][0:7] != name_mix_list[j+1][0:7] and name_mix_list[j][0:7] != name_mix_list[j+2][0:7]:\n",
    "            index_r_list.append(index_mix_list[j])\n",
    "            name_r_list.append(name_mix_list[j])\n",
    "    r_list = [0]\n",
    "    for i in index_r_list:\n",
    "        r = i/len(base_model.layers)\n",
    "        r_list.append(r)\n",
    "    return r_list\n",
    "\n",
    "def build_model():\n",
    "    x = conv_base.output\n",
    "    predictions = classifier(x)\n",
    "    model = tf.keras.Model(inputs=conv_base.input,outputs=predictions)\n",
    "    return model\n",
    "\n",
    "def r_compiled_model():\n",
    "    model = build_model()\n",
    "    for layer in model.layers[:int(r*len(conv_base.layers))+1]:\n",
    "        layer.trainable = False\n",
    "    for layer in model.layers[int(r*len(conv_base.layers))+1:]:\n",
    "        layer.trainable = True\n",
    "    model.compile(optimizer=tf.keras.optimizers.SGD(learning_rate=0.0001,momentum=0.9),\n",
    "                  loss='binary_crossentropy',\n",
    "                  metrics=['accuracy'])\n",
    "    return model"
   ]
  },
  {
   "cell_type": "code",
   "execution_count": 3,
   "id": "15691d94",
   "metadata": {},
   "outputs": [
    {
     "name": "stdout",
     "output_type": "stream",
     "text": [
      "Found 100 files belonging to 2 classes.\n",
      "Found 160 files belonging to 2 classes.\n"
     ]
    }
   ],
   "source": [
    "#加载数据、预处理数据\n",
    "\n",
    "base_dir = pathlib.Path('chest_xray2/label')\n",
    "train_dataset = tf.keras.utils.image_dataset_from_directory(base_dir/'train',\n",
    "                                                            image_size=(224,224),\n",
    "                                                            batch_size=32)\n",
    "validation_dataset = tf.keras.utils.image_dataset_from_directory(base_dir/'val',\n",
    "                                                                 image_size=(224,224),\n",
    "                                                                 batch_size=32)\n",
    "train_images,train_labels = preprocess_data(train_dataset)\n",
    "val_images,val_labels = preprocess_data(validation_dataset)"
   ]
  },
  {
   "cell_type": "code",
   "execution_count": 4,
   "id": "e47fe594",
   "metadata": {},
   "outputs": [
    {
     "name": "stdout",
     "output_type": "stream",
     "text": [
      "Epoch 1/15\n",
      "WARNING:tensorflow:AutoGraph could not transform <function Model.make_train_function.<locals>.train_function at 0x0000021880462730> and will run it as-is.\n",
      "Please report this to the TensorFlow team. When filing the bug, set the verbosity to 10 (on Linux, `export AUTOGRAPH_VERBOSITY=10`) and attach the full output.\n",
      "Cause: 'arguments' object has no attribute 'posonlyargs'\n",
      "To silence this warning, decorate the function with @tf.autograph.experimental.do_not_convert\n",
      "WARNING: AutoGraph could not transform <function Model.make_train_function.<locals>.train_function at 0x0000021880462730> and will run it as-is.\n",
      "Please report this to the TensorFlow team. When filing the bug, set the verbosity to 10 (on Linux, `export AUTOGRAPH_VERBOSITY=10`) and attach the full output.\n",
      "Cause: 'arguments' object has no attribute 'posonlyargs'\n",
      "To silence this warning, decorate the function with @tf.autograph.experimental.do_not_convert\n",
      "4/4 [==============================] - ETA: 0s - loss: 6.0942 - accuracy: 0.3300WARNING:tensorflow:AutoGraph could not transform <function Model.make_test_function.<locals>.test_function at 0x000002188130C7B8> and will run it as-is.\n",
      "Please report this to the TensorFlow team. When filing the bug, set the verbosity to 10 (on Linux, `export AUTOGRAPH_VERBOSITY=10`) and attach the full output.\n",
      "Cause: 'arguments' object has no attribute 'posonlyargs'\n",
      "To silence this warning, decorate the function with @tf.autograph.experimental.do_not_convert\n",
      "WARNING: AutoGraph could not transform <function Model.make_test_function.<locals>.test_function at 0x000002188130C7B8> and will run it as-is.\n",
      "Please report this to the TensorFlow team. When filing the bug, set the verbosity to 10 (on Linux, `export AUTOGRAPH_VERBOSITY=10`) and attach the full output.\n",
      "Cause: 'arguments' object has no attribute 'posonlyargs'\n",
      "To silence this warning, decorate the function with @tf.autograph.experimental.do_not_convert\n",
      "4/4 [==============================] - 11s 2s/step - loss: 6.0942 - accuracy: 0.3300 - val_loss: 2.1276 - val_accuracy: 0.5000\n",
      "Epoch 2/15\n",
      "4/4 [==============================] - 7s 2s/step - loss: 1.5804 - accuracy: 0.5400 - val_loss: 0.3816 - val_accuracy: 0.8562\n",
      "Epoch 3/15\n",
      "4/4 [==============================] - 6s 2s/step - loss: 0.2843 - accuracy: 0.8700 - val_loss: 0.3156 - val_accuracy: 0.8375\n",
      "Epoch 4/15\n",
      "4/4 [==============================] - 7s 2s/step - loss: 0.3017 - accuracy: 0.8800 - val_loss: 0.2774 - val_accuracy: 0.8438\n",
      "0.856249988079071\n"
     ]
    }
   ],
   "source": [
    "#分类器初训练\n",
    "\n",
    "base_model = tf.keras.applications.inception_v3.InceptionV3(weights='imagenet',include_top=False)\n",
    "\n",
    "inputs = base_model.output\n",
    "x = tf.keras.layers.GlobalAveragePooling2D()(inputs)\n",
    "x = tf.keras.layers.Dense(units=256,activation='relu')(x)\n",
    "outputs = tf.keras.layers.Dense(units=1,activation='sigmoid')(x)\n",
    "classifier_model = tf.keras.Model(inputs=inputs,outputs=outputs)\n",
    "\n",
    "x = base_model.output\n",
    "predictions = classifier_model(x)\n",
    "model = tf.keras.Model(inputs=base_model.input,outputs=predictions)\n",
    "\n",
    "for layer in model.layers[:len(base_model.layers)]:\n",
    "    layer.trainable = False\n",
    "    \n",
    "model.compile(optimizer='rmsprop',\n",
    "              loss='binary_crossentropy',\n",
    "              metrics=['accuracy'])\n",
    "callback_list = [tf.keras.callbacks.EarlyStopping(monitor='val_accuracy',patience=2),\n",
    "                 tf.keras.callbacks.ModelCheckpoint(filepath='inceptionv3_r_1.00.keras',\n",
    "                                                    monitor='val_accuracy',\n",
    "                                                    save_best_only=True)]\n",
    "history = model.fit(train_images,train_labels,\n",
    "                    epochs=15,\n",
    "                    validation_data=(val_images,val_labels),\n",
    "                    callbacks=callback_list)\n",
    "r_1_acc = max(history.history['val_accuracy'])\n",
    "print(r_1_acc)"
   ]
  },
  {
   "cell_type": "code",
   "execution_count": 5,
   "id": "dfd10806",
   "metadata": {
    "scrolled": false
   },
   "outputs": [
    {
     "name": "stdout",
     "output_type": "stream",
     "text": [
      "Epoch 1/15\n",
      "WARNING:tensorflow:AutoGraph could not transform <function Model.make_train_function.<locals>.train_function at 0x0000021881A13D90> and will run it as-is.\n",
      "Please report this to the TensorFlow team. When filing the bug, set the verbosity to 10 (on Linux, `export AUTOGRAPH_VERBOSITY=10`) and attach the full output.\n",
      "Cause: 'arguments' object has no attribute 'posonlyargs'\n",
      "To silence this warning, decorate the function with @tf.autograph.experimental.do_not_convert\n",
      "WARNING: AutoGraph could not transform <function Model.make_train_function.<locals>.train_function at 0x0000021881A13D90> and will run it as-is.\n",
      "Please report this to the TensorFlow team. When filing the bug, set the verbosity to 10 (on Linux, `export AUTOGRAPH_VERBOSITY=10`) and attach the full output.\n",
      "Cause: 'arguments' object has no attribute 'posonlyargs'\n",
      "To silence this warning, decorate the function with @tf.autograph.experimental.do_not_convert\n",
      "4/4 [==============================] - ETA: 0s - loss: 0.6280 - accuracy: 0.6200WARNING:tensorflow:AutoGraph could not transform <function Model.make_test_function.<locals>.test_function at 0x000002188130C950> and will run it as-is.\n",
      "Please report this to the TensorFlow team. When filing the bug, set the verbosity to 10 (on Linux, `export AUTOGRAPH_VERBOSITY=10`) and attach the full output.\n",
      "Cause: 'arguments' object has no attribute 'posonlyargs'\n",
      "To silence this warning, decorate the function with @tf.autograph.experimental.do_not_convert\n",
      "WARNING: AutoGraph could not transform <function Model.make_test_function.<locals>.test_function at 0x000002188130C950> and will run it as-is.\n",
      "Please report this to the TensorFlow team. When filing the bug, set the verbosity to 10 (on Linux, `export AUTOGRAPH_VERBOSITY=10`) and attach the full output.\n",
      "Cause: 'arguments' object has no attribute 'posonlyargs'\n",
      "To silence this warning, decorate the function with @tf.autograph.experimental.do_not_convert\n",
      "4/4 [==============================] - 32s 7s/step - loss: 0.6280 - accuracy: 0.6200 - val_loss: 0.2888 - val_accuracy: 0.8500\n",
      "Epoch 2/15\n",
      "4/4 [==============================] - 23s 6s/step - loss: 0.6189 - accuracy: 0.7300 - val_loss: 0.3085 - val_accuracy: 0.8313\n",
      "Epoch 3/15\n",
      "4/4 [==============================] - 23s 6s/step - loss: 0.5642 - accuracy: 0.7100 - val_loss: 0.3339 - val_accuracy: 0.8375\n",
      "Epoch 1/15\n",
      "WARNING:tensorflow:AutoGraph could not transform <function Model.make_train_function.<locals>.train_function at 0x000002188E99ED08> and will run it as-is.\n",
      "Please report this to the TensorFlow team. When filing the bug, set the verbosity to 10 (on Linux, `export AUTOGRAPH_VERBOSITY=10`) and attach the full output.\n",
      "Cause: 'arguments' object has no attribute 'posonlyargs'\n",
      "To silence this warning, decorate the function with @tf.autograph.experimental.do_not_convert\n",
      "WARNING: AutoGraph could not transform <function Model.make_train_function.<locals>.train_function at 0x000002188E99ED08> and will run it as-is.\n",
      "Please report this to the TensorFlow team. When filing the bug, set the verbosity to 10 (on Linux, `export AUTOGRAPH_VERBOSITY=10`) and attach the full output.\n",
      "Cause: 'arguments' object has no attribute 'posonlyargs'\n",
      "To silence this warning, decorate the function with @tf.autograph.experimental.do_not_convert\n",
      "4/4 [==============================] - ETA: 0s - loss: 0.3150 - accuracy: 0.9500WARNING:tensorflow:AutoGraph could not transform <function Model.make_test_function.<locals>.test_function at 0x000002188F0919D8> and will run it as-is.\n",
      "Please report this to the TensorFlow team. When filing the bug, set the verbosity to 10 (on Linux, `export AUTOGRAPH_VERBOSITY=10`) and attach the full output.\n",
      "Cause: 'arguments' object has no attribute 'posonlyargs'\n",
      "To silence this warning, decorate the function with @tf.autograph.experimental.do_not_convert\n",
      "WARNING: AutoGraph could not transform <function Model.make_test_function.<locals>.test_function at 0x000002188F0919D8> and will run it as-is.\n",
      "Please report this to the TensorFlow team. When filing the bug, set the verbosity to 10 (on Linux, `export AUTOGRAPH_VERBOSITY=10`) and attach the full output.\n",
      "Cause: 'arguments' object has no attribute 'posonlyargs'\n",
      "To silence this warning, decorate the function with @tf.autograph.experimental.do_not_convert\n",
      "4/4 [==============================] - 12s 3s/step - loss: 0.3150 - accuracy: 0.9500 - val_loss: 0.2792 - val_accuracy: 0.8500\n",
      "Epoch 2/15\n",
      "4/4 [==============================] - 8s 2s/step - loss: 0.3267 - accuracy: 0.9400 - val_loss: 0.2748 - val_accuracy: 0.8438\n",
      "Epoch 3/15\n",
      "4/4 [==============================] - 9s 3s/step - loss: 0.3309 - accuracy: 0.9100 - val_loss: 0.2718 - val_accuracy: 0.8438\n",
      "Epoch 1/15\n",
      "WARNING:tensorflow:AutoGraph could not transform <function Model.make_train_function.<locals>.train_function at 0x000002188074AF28> and will run it as-is.\n",
      "Please report this to the TensorFlow team. When filing the bug, set the verbosity to 10 (on Linux, `export AUTOGRAPH_VERBOSITY=10`) and attach the full output.\n",
      "Cause: 'arguments' object has no attribute 'posonlyargs'\n",
      "To silence this warning, decorate the function with @tf.autograph.experimental.do_not_convert\n",
      "WARNING: AutoGraph could not transform <function Model.make_train_function.<locals>.train_function at 0x000002188074AF28> and will run it as-is.\n",
      "Please report this to the TensorFlow team. When filing the bug, set the verbosity to 10 (on Linux, `export AUTOGRAPH_VERBOSITY=10`) and attach the full output.\n",
      "Cause: 'arguments' object has no attribute 'posonlyargs'\n",
      "To silence this warning, decorate the function with @tf.autograph.experimental.do_not_convert\n",
      "4/4 [==============================] - ETA: 0s - loss: 0.4844 - accuracy: 0.8700WARNING:tensorflow:AutoGraph could not transform <function Model.make_test_function.<locals>.test_function at 0x000002188400EC80> and will run it as-is.\n",
      "Please report this to the TensorFlow team. When filing the bug, set the verbosity to 10 (on Linux, `export AUTOGRAPH_VERBOSITY=10`) and attach the full output.\n",
      "Cause: 'arguments' object has no attribute 'posonlyargs'\n",
      "To silence this warning, decorate the function with @tf.autograph.experimental.do_not_convert\n",
      "WARNING: AutoGraph could not transform <function Model.make_test_function.<locals>.test_function at 0x000002188400EC80> and will run it as-is.\n",
      "Please report this to the TensorFlow team. When filing the bug, set the verbosity to 10 (on Linux, `export AUTOGRAPH_VERBOSITY=10`) and attach the full output.\n",
      "Cause: 'arguments' object has no attribute 'posonlyargs'\n",
      "To silence this warning, decorate the function with @tf.autograph.experimental.do_not_convert\n",
      "4/4 [==============================] - 13s 3s/step - loss: 0.4844 - accuracy: 0.8700 - val_loss: 0.2813 - val_accuracy: 0.8500\n",
      "Epoch 2/15\n",
      "4/4 [==============================] - 9s 2s/step - loss: 0.4876 - accuracy: 0.8800 - val_loss: 0.2774 - val_accuracy: 0.8500\n",
      "Epoch 3/15\n",
      "4/4 [==============================] - 9s 3s/step - loss: 0.4677 - accuracy: 0.8900 - val_loss: 0.2752 - val_accuracy: 0.8500\n",
      "Epoch 1/15\n",
      "WARNING:tensorflow:AutoGraph could not transform <function Model.make_train_function.<locals>.train_function at 0x00000218A7972598> and will run it as-is.\n",
      "Please report this to the TensorFlow team. When filing the bug, set the verbosity to 10 (on Linux, `export AUTOGRAPH_VERBOSITY=10`) and attach the full output.\n",
      "Cause: 'arguments' object has no attribute 'posonlyargs'\n",
      "To silence this warning, decorate the function with @tf.autograph.experimental.do_not_convert\n",
      "WARNING: AutoGraph could not transform <function Model.make_train_function.<locals>.train_function at 0x00000218A7972598> and will run it as-is.\n",
      "Please report this to the TensorFlow team. When filing the bug, set the verbosity to 10 (on Linux, `export AUTOGRAPH_VERBOSITY=10`) and attach the full output.\n",
      "Cause: 'arguments' object has no attribute 'posonlyargs'\n",
      "To silence this warning, decorate the function with @tf.autograph.experimental.do_not_convert\n",
      "4/4 [==============================] - ETA: 0s - loss: 0.5082 - accuracy: 0.8200WARNING:tensorflow:AutoGraph could not transform <function Model.make_test_function.<locals>.test_function at 0x000002188E99E158> and will run it as-is.\n",
      "Please report this to the TensorFlow team. When filing the bug, set the verbosity to 10 (on Linux, `export AUTOGRAPH_VERBOSITY=10`) and attach the full output.\n",
      "Cause: 'arguments' object has no attribute 'posonlyargs'\n",
      "To silence this warning, decorate the function with @tf.autograph.experimental.do_not_convert\n"
     ]
    },
    {
     "name": "stdout",
     "output_type": "stream",
     "text": [
      "WARNING: AutoGraph could not transform <function Model.make_test_function.<locals>.test_function at 0x000002188E99E158> and will run it as-is.\n",
      "Please report this to the TensorFlow team. When filing the bug, set the verbosity to 10 (on Linux, `export AUTOGRAPH_VERBOSITY=10`) and attach the full output.\n",
      "Cause: 'arguments' object has no attribute 'posonlyargs'\n",
      "To silence this warning, decorate the function with @tf.autograph.experimental.do_not_convert\n",
      "4/4 [==============================] - 14s 3s/step - loss: 0.5082 - accuracy: 0.8200 - val_loss: 0.2875 - val_accuracy: 0.8500\n",
      "Epoch 2/15\n",
      "4/4 [==============================] - 10s 3s/step - loss: 0.5136 - accuracy: 0.7800 - val_loss: 0.2845 - val_accuracy: 0.8438\n",
      "Epoch 3/15\n",
      "4/4 [==============================] - 10s 3s/step - loss: 0.4883 - accuracy: 0.8700 - val_loss: 0.2814 - val_accuracy: 0.8438\n",
      "Epoch 1/15\n",
      "WARNING:tensorflow:AutoGraph could not transform <function Model.make_train_function.<locals>.train_function at 0x00000218A034EAE8> and will run it as-is.\n",
      "Please report this to the TensorFlow team. When filing the bug, set the verbosity to 10 (on Linux, `export AUTOGRAPH_VERBOSITY=10`) and attach the full output.\n",
      "Cause: 'arguments' object has no attribute 'posonlyargs'\n",
      "To silence this warning, decorate the function with @tf.autograph.experimental.do_not_convert\n",
      "WARNING: AutoGraph could not transform <function Model.make_train_function.<locals>.train_function at 0x00000218A034EAE8> and will run it as-is.\n",
      "Please report this to the TensorFlow team. When filing the bug, set the verbosity to 10 (on Linux, `export AUTOGRAPH_VERBOSITY=10`) and attach the full output.\n",
      "Cause: 'arguments' object has no attribute 'posonlyargs'\n",
      "To silence this warning, decorate the function with @tf.autograph.experimental.do_not_convert\n",
      "4/4 [==============================] - ETA: 0s - loss: 0.5680 - accuracy: 0.7700WARNING:tensorflow:AutoGraph could not transform <function Model.make_test_function.<locals>.test_function at 0x000002188400E158> and will run it as-is.\n",
      "Please report this to the TensorFlow team. When filing the bug, set the verbosity to 10 (on Linux, `export AUTOGRAPH_VERBOSITY=10`) and attach the full output.\n",
      "Cause: 'arguments' object has no attribute 'posonlyargs'\n",
      "To silence this warning, decorate the function with @tf.autograph.experimental.do_not_convert\n",
      "WARNING: AutoGraph could not transform <function Model.make_test_function.<locals>.test_function at 0x000002188400E158> and will run it as-is.\n",
      "Please report this to the TensorFlow team. When filing the bug, set the verbosity to 10 (on Linux, `export AUTOGRAPH_VERBOSITY=10`) and attach the full output.\n",
      "Cause: 'arguments' object has no attribute 'posonlyargs'\n",
      "To silence this warning, decorate the function with @tf.autograph.experimental.do_not_convert\n",
      "4/4 [==============================] - 15s 3s/step - loss: 0.5680 - accuracy: 0.7700 - val_loss: 0.2864 - val_accuracy: 0.8500\n",
      "Epoch 2/15\n",
      "4/4 [==============================] - 11s 3s/step - loss: 0.5498 - accuracy: 0.7300 - val_loss: 0.2863 - val_accuracy: 0.8500\n",
      "Epoch 3/15\n",
      "4/4 [==============================] - 11s 3s/step - loss: 0.5239 - accuracy: 0.8500 - val_loss: 0.2901 - val_accuracy: 0.8438\n",
      "Epoch 1/15\n",
      "WARNING:tensorflow:AutoGraph could not transform <function Model.make_train_function.<locals>.train_function at 0x000002188411AAE8> and will run it as-is.\n",
      "Please report this to the TensorFlow team. When filing the bug, set the verbosity to 10 (on Linux, `export AUTOGRAPH_VERBOSITY=10`) and attach the full output.\n",
      "Cause: 'arguments' object has no attribute 'posonlyargs'\n",
      "To silence this warning, decorate the function with @tf.autograph.experimental.do_not_convert\n",
      "WARNING: AutoGraph could not transform <function Model.make_train_function.<locals>.train_function at 0x000002188411AAE8> and will run it as-is.\n",
      "Please report this to the TensorFlow team. When filing the bug, set the verbosity to 10 (on Linux, `export AUTOGRAPH_VERBOSITY=10`) and attach the full output.\n",
      "Cause: 'arguments' object has no attribute 'posonlyargs'\n",
      "To silence this warning, decorate the function with @tf.autograph.experimental.do_not_convert\n",
      "4/4 [==============================] - ETA: 0s - loss: 0.6069 - accuracy: 0.6800WARNING:tensorflow:AutoGraph could not transform <function Model.make_test_function.<locals>.test_function at 0x00000218898EB268> and will run it as-is.\n",
      "Please report this to the TensorFlow team. When filing the bug, set the verbosity to 10 (on Linux, `export AUTOGRAPH_VERBOSITY=10`) and attach the full output.\n",
      "Cause: 'arguments' object has no attribute 'posonlyargs'\n",
      "To silence this warning, decorate the function with @tf.autograph.experimental.do_not_convert\n",
      "WARNING: AutoGraph could not transform <function Model.make_test_function.<locals>.test_function at 0x00000218898EB268> and will run it as-is.\n",
      "Please report this to the TensorFlow team. When filing the bug, set the verbosity to 10 (on Linux, `export AUTOGRAPH_VERBOSITY=10`) and attach the full output.\n",
      "Cause: 'arguments' object has no attribute 'posonlyargs'\n",
      "To silence this warning, decorate the function with @tf.autograph.experimental.do_not_convert\n",
      "4/4 [==============================] - 17s 4s/step - loss: 0.6069 - accuracy: 0.6800 - val_loss: 0.2881 - val_accuracy: 0.8500\n",
      "Epoch 2/15\n",
      "4/4 [==============================] - 12s 3s/step - loss: 0.5832 - accuracy: 0.7600 - val_loss: 0.2872 - val_accuracy: 0.8438\n",
      "Epoch 3/15\n",
      "4/4 [==============================] - 12s 3s/step - loss: 0.5632 - accuracy: 0.8200 - val_loss: 0.2824 - val_accuracy: 0.8500\n",
      "Epoch 1/15\n",
      "WARNING:tensorflow:AutoGraph could not transform <function Model.make_train_function.<locals>.train_function at 0x00000218841B8D90> and will run it as-is.\n",
      "Please report this to the TensorFlow team. When filing the bug, set the verbosity to 10 (on Linux, `export AUTOGRAPH_VERBOSITY=10`) and attach the full output.\n",
      "Cause: 'arguments' object has no attribute 'posonlyargs'\n",
      "To silence this warning, decorate the function with @tf.autograph.experimental.do_not_convert\n",
      "WARNING: AutoGraph could not transform <function Model.make_train_function.<locals>.train_function at 0x00000218841B8D90> and will run it as-is.\n",
      "Please report this to the TensorFlow team. When filing the bug, set the verbosity to 10 (on Linux, `export AUTOGRAPH_VERBOSITY=10`) and attach the full output.\n",
      "Cause: 'arguments' object has no attribute 'posonlyargs'\n",
      "To silence this warning, decorate the function with @tf.autograph.experimental.do_not_convert\n",
      "4/4 [==============================] - ETA: 0s - loss: 0.5778 - accuracy: 0.7600WARNING:tensorflow:AutoGraph could not transform <function Model.make_test_function.<locals>.test_function at 0x0000021899EFC620> and will run it as-is.\n",
      "Please report this to the TensorFlow team. When filing the bug, set the verbosity to 10 (on Linux, `export AUTOGRAPH_VERBOSITY=10`) and attach the full output.\n",
      "Cause: 'arguments' object has no attribute 'posonlyargs'\n",
      "To silence this warning, decorate the function with @tf.autograph.experimental.do_not_convert\n",
      "WARNING: AutoGraph could not transform <function Model.make_test_function.<locals>.test_function at 0x0000021899EFC620> and will run it as-is.\n",
      "Please report this to the TensorFlow team. When filing the bug, set the verbosity to 10 (on Linux, `export AUTOGRAPH_VERBOSITY=10`) and attach the full output.\n",
      "Cause: 'arguments' object has no attribute 'posonlyargs'\n",
      "To silence this warning, decorate the function with @tf.autograph.experimental.do_not_convert\n",
      "4/4 [==============================] - 18s 4s/step - loss: 0.5778 - accuracy: 0.7600 - val_loss: 0.2943 - val_accuracy: 0.8438\n",
      "Epoch 2/15\n",
      "4/4 [==============================] - 13s 3s/step - loss: 0.5829 - accuracy: 0.7500 - val_loss: 0.2988 - val_accuracy: 0.8438\n",
      "Epoch 3/15\n",
      "4/4 [==============================] - 14s 4s/step - loss: 0.5444 - accuracy: 0.7500 - val_loss: 0.3049 - val_accuracy: 0.8500\n",
      "Epoch 4/15\n",
      "4/4 [==============================] - 13s 4s/step - loss: 0.5200 - accuracy: 0.8200 - val_loss: 0.3121 - val_accuracy: 0.8500\n",
      "Epoch 5/15\n",
      "4/4 [==============================] - 14s 4s/step - loss: 0.4875 - accuracy: 0.8300 - val_loss: 0.3248 - val_accuracy: 0.8562\n",
      "Epoch 6/15\n",
      "4/4 [==============================] - 13s 3s/step - loss: 0.4555 - accuracy: 0.9300 - val_loss: 0.3224 - val_accuracy: 0.8438\n",
      "Epoch 7/15\n",
      "4/4 [==============================] - 13s 3s/step - loss: 0.4336 - accuracy: 0.9400 - val_loss: 0.3249 - val_accuracy: 0.8500\n",
      "Epoch 1/15\n",
      "WARNING:tensorflow:AutoGraph could not transform <function Model.make_train_function.<locals>.train_function at 0x000002188E8306A8> and will run it as-is.\n",
      "Please report this to the TensorFlow team. When filing the bug, set the verbosity to 10 (on Linux, `export AUTOGRAPH_VERBOSITY=10`) and attach the full output.\n",
      "Cause: 'arguments' object has no attribute 'posonlyargs'\n",
      "To silence this warning, decorate the function with @tf.autograph.experimental.do_not_convert\n",
      "WARNING: AutoGraph could not transform <function Model.make_train_function.<locals>.train_function at 0x000002188E8306A8> and will run it as-is.\n",
      "Please report this to the TensorFlow team. When filing the bug, set the verbosity to 10 (on Linux, `export AUTOGRAPH_VERBOSITY=10`) and attach the full output.\n",
      "Cause: 'arguments' object has no attribute 'posonlyargs'\n",
      "To silence this warning, decorate the function with @tf.autograph.experimental.do_not_convert\n",
      "4/4 [==============================] - ETA: 0s - loss: 0.5807 - accuracy: 0.7300WARNING:tensorflow:AutoGraph could not transform <function Model.make_test_function.<locals>.test_function at 0x00000218A35627B8> and will run it as-is.\n",
      "Please report this to the TensorFlow team. When filing the bug, set the verbosity to 10 (on Linux, `export AUTOGRAPH_VERBOSITY=10`) and attach the full output.\n",
      "Cause: 'arguments' object has no attribute 'posonlyargs'\n",
      "To silence this warning, decorate the function with @tf.autograph.experimental.do_not_convert\n",
      "WARNING: AutoGraph could not transform <function Model.make_test_function.<locals>.test_function at 0x00000218A35627B8> and will run it as-is.\n",
      "Please report this to the TensorFlow team. When filing the bug, set the verbosity to 10 (on Linux, `export AUTOGRAPH_VERBOSITY=10`) and attach the full output.\n",
      "Cause: 'arguments' object has no attribute 'posonlyargs'\n",
      "To silence this warning, decorate the function with @tf.autograph.experimental.do_not_convert\n",
      "4/4 [==============================] - 21s 5s/step - loss: 0.5807 - accuracy: 0.7300 - val_loss: 0.3147 - val_accuracy: 0.8313\n",
      "Epoch 2/15\n",
      "4/4 [==============================] - 16s 4s/step - loss: 0.5627 - accuracy: 0.7400 - val_loss: 0.3176 - val_accuracy: 0.8375\n",
      "Epoch 3/15\n",
      "4/4 [==============================] - 14s 4s/step - loss: 0.5251 - accuracy: 0.8500 - val_loss: 0.3273 - val_accuracy: 0.8438\n",
      "Epoch 4/15\n",
      "4/4 [==============================] - 14s 4s/step - loss: 0.5077 - accuracy: 0.8600 - val_loss: 0.3356 - val_accuracy: 0.8438\n",
      "Epoch 5/15\n",
      "4/4 [==============================] - 14s 4s/step - loss: 0.4741 - accuracy: 0.8900 - val_loss: 0.3441 - val_accuracy: 0.8438\n",
      "Epoch 1/15\n",
      "WARNING:tensorflow:AutoGraph could not transform <function Model.make_train_function.<locals>.train_function at 0x000002189A3C67B8> and will run it as-is.\n",
      "Please report this to the TensorFlow team. When filing the bug, set the verbosity to 10 (on Linux, `export AUTOGRAPH_VERBOSITY=10`) and attach the full output.\n",
      "Cause: 'arguments' object has no attribute 'posonlyargs'\n",
      "To silence this warning, decorate the function with @tf.autograph.experimental.do_not_convert\n",
      "WARNING: AutoGraph could not transform <function Model.make_train_function.<locals>.train_function at 0x000002189A3C67B8> and will run it as-is.\n",
      "Please report this to the TensorFlow team. When filing the bug, set the verbosity to 10 (on Linux, `export AUTOGRAPH_VERBOSITY=10`) and attach the full output.\n",
      "Cause: 'arguments' object has no attribute 'posonlyargs'\n",
      "To silence this warning, decorate the function with @tf.autograph.experimental.do_not_convert\n",
      "4/4 [==============================] - ETA: 0s - loss: 0.5643 - accuracy: 0.7500WARNING:tensorflow:AutoGraph could not transform <function Model.make_test_function.<locals>.test_function at 0x00000218A35FBF28> and will run it as-is.\n",
      "Please report this to the TensorFlow team. When filing the bug, set the verbosity to 10 (on Linux, `export AUTOGRAPH_VERBOSITY=10`) and attach the full output.\n",
      "Cause: 'arguments' object has no attribute 'posonlyargs'\n",
      "To silence this warning, decorate the function with @tf.autograph.experimental.do_not_convert\n",
      "WARNING: AutoGraph could not transform <function Model.make_test_function.<locals>.test_function at 0x00000218A35FBF28> and will run it as-is.\n",
      "Please report this to the TensorFlow team. When filing the bug, set the verbosity to 10 (on Linux, `export AUTOGRAPH_VERBOSITY=10`) and attach the full output.\n",
      "Cause: 'arguments' object has no attribute 'posonlyargs'\n",
      "To silence this warning, decorate the function with @tf.autograph.experimental.do_not_convert\n",
      "4/4 [==============================] - 20s 4s/step - loss: 0.5643 - accuracy: 0.7500 - val_loss: 0.3107 - val_accuracy: 0.8313\n",
      "Epoch 2/15\n",
      "4/4 [==============================] - 15s 4s/step - loss: 0.5611 - accuracy: 0.7700 - val_loss: 0.3178 - val_accuracy: 0.8375\n",
      "Epoch 3/15\n",
      "4/4 [==============================] - 15s 4s/step - loss: 0.5252 - accuracy: 0.8500 - val_loss: 0.3360 - val_accuracy: 0.8375\n",
      "Epoch 4/15\n",
      "4/4 [==============================] - 15s 4s/step - loss: 0.4986 - accuracy: 0.8600 - val_loss: 0.3503 - val_accuracy: 0.8438\n",
      "Epoch 5/15\n",
      "4/4 [==============================] - 14s 4s/step - loss: 0.4601 - accuracy: 0.8700 - val_loss: 0.3613 - val_accuracy: 0.8375\n",
      "Epoch 6/15\n",
      "4/4 [==============================] - 15s 4s/step - loss: 0.4435 - accuracy: 0.9100 - val_loss: 0.3685 - val_accuracy: 0.8438\n",
      "Epoch 1/15\n",
      "WARNING:tensorflow:AutoGraph could not transform <function Model.make_train_function.<locals>.train_function at 0x00000218A76BD950> and will run it as-is.\n",
      "Please report this to the TensorFlow team. When filing the bug, set the verbosity to 10 (on Linux, `export AUTOGRAPH_VERBOSITY=10`) and attach the full output.\n",
      "Cause: 'arguments' object has no attribute 'posonlyargs'\n",
      "To silence this warning, decorate the function with @tf.autograph.experimental.do_not_convert\n",
      "WARNING: AutoGraph could not transform <function Model.make_train_function.<locals>.train_function at 0x00000218A76BD950> and will run it as-is.\n",
      "Please report this to the TensorFlow team. When filing the bug, set the verbosity to 10 (on Linux, `export AUTOGRAPH_VERBOSITY=10`) and attach the full output.\n",
      "Cause: 'arguments' object has no attribute 'posonlyargs'\n",
      "To silence this warning, decorate the function with @tf.autograph.experimental.do_not_convert\n",
      "4/4 [==============================] - ETA: 0s - loss: 0.5867 - accuracy: 0.7400WARNING:tensorflow:AutoGraph could not transform <function Model.make_test_function.<locals>.test_function at 0x000002189E617D08> and will run it as-is.\n",
      "Please report this to the TensorFlow team. When filing the bug, set the verbosity to 10 (on Linux, `export AUTOGRAPH_VERBOSITY=10`) and attach the full output.\n",
      "Cause: 'arguments' object has no attribute 'posonlyargs'\n",
      "To silence this warning, decorate the function with @tf.autograph.experimental.do_not_convert\n",
      "WARNING: AutoGraph could not transform <function Model.make_test_function.<locals>.test_function at 0x000002189E617D08> and will run it as-is.\n",
      "Please report this to the TensorFlow team. When filing the bug, set the verbosity to 10 (on Linux, `export AUTOGRAPH_VERBOSITY=10`) and attach the full output.\n",
      "Cause: 'arguments' object has no attribute 'posonlyargs'\n",
      "To silence this warning, decorate the function with @tf.autograph.experimental.do_not_convert\n",
      "4/4 [==============================] - 22s 5s/step - loss: 0.5867 - accuracy: 0.7400 - val_loss: 0.3121 - val_accuracy: 0.8313\n",
      "Epoch 2/15\n",
      "4/4 [==============================] - 17s 5s/step - loss: 0.5522 - accuracy: 0.8000 - val_loss: 0.3255 - val_accuracy: 0.8438\n",
      "Epoch 3/15\n",
      "4/4 [==============================] - 16s 4s/step - loss: 0.5443 - accuracy: 0.8000 - val_loss: 0.3390 - val_accuracy: 0.8438\n",
      "Epoch 4/15\n",
      "4/4 [==============================] - 16s 4s/step - loss: 0.5038 - accuracy: 0.8600 - val_loss: 0.3537 - val_accuracy: 0.8438\n",
      "Epoch 1/15\n",
      "WARNING:tensorflow:AutoGraph could not transform <function Model.make_train_function.<locals>.train_function at 0x000002188A0D31E0> and will run it as-is.\n",
      "Please report this to the TensorFlow team. When filing the bug, set the verbosity to 10 (on Linux, `export AUTOGRAPH_VERBOSITY=10`) and attach the full output.\n",
      "Cause: 'arguments' object has no attribute 'posonlyargs'\n",
      "To silence this warning, decorate the function with @tf.autograph.experimental.do_not_convert\n"
     ]
    },
    {
     "name": "stdout",
     "output_type": "stream",
     "text": [
      "WARNING: AutoGraph could not transform <function Model.make_train_function.<locals>.train_function at 0x000002188A0D31E0> and will run it as-is.\n",
      "Please report this to the TensorFlow team. When filing the bug, set the verbosity to 10 (on Linux, `export AUTOGRAPH_VERBOSITY=10`) and attach the full output.\n",
      "Cause: 'arguments' object has no attribute 'posonlyargs'\n",
      "To silence this warning, decorate the function with @tf.autograph.experimental.do_not_convert\n",
      "4/4 [==============================] - ETA: 0s - loss: 0.5552 - accuracy: 0.8200WARNING:tensorflow:AutoGraph could not transform <function Model.make_test_function.<locals>.test_function at 0x00000218A9DB7950> and will run it as-is.\n",
      "Please report this to the TensorFlow team. When filing the bug, set the verbosity to 10 (on Linux, `export AUTOGRAPH_VERBOSITY=10`) and attach the full output.\n",
      "Cause: 'arguments' object has no attribute 'posonlyargs'\n",
      "To silence this warning, decorate the function with @tf.autograph.experimental.do_not_convert\n",
      "WARNING: AutoGraph could not transform <function Model.make_test_function.<locals>.test_function at 0x00000218A9DB7950> and will run it as-is.\n",
      "Please report this to the TensorFlow team. When filing the bug, set the verbosity to 10 (on Linux, `export AUTOGRAPH_VERBOSITY=10`) and attach the full output.\n",
      "Cause: 'arguments' object has no attribute 'posonlyargs'\n",
      "To silence this warning, decorate the function with @tf.autograph.experimental.do_not_convert\n",
      "4/4 [==============================] - 23s 5s/step - loss: 0.5552 - accuracy: 0.8200 - val_loss: 0.3114 - val_accuracy: 0.8375\n",
      "Epoch 2/15\n",
      "4/4 [==============================] - 18s 5s/step - loss: 0.5361 - accuracy: 0.8100 - val_loss: 0.3212 - val_accuracy: 0.8500\n",
      "Epoch 3/15\n",
      "4/4 [==============================] - 18s 5s/step - loss: 0.5150 - accuracy: 0.8300 - val_loss: 0.3323 - val_accuracy: 0.8562\n",
      "Epoch 4/15\n",
      "4/4 [==============================] - 17s 4s/step - loss: 0.4773 - accuracy: 0.9400 - val_loss: 0.3498 - val_accuracy: 0.8500\n",
      "Epoch 5/15\n",
      "4/4 [==============================] - 17s 4s/step - loss: 0.4596 - accuracy: 0.8900 - val_loss: 0.3579 - val_accuracy: 0.8438\n"
     ]
    }
   ],
   "source": [
    "#搜索最佳迁移率R(验证理论)\n",
    "\n",
    "classifier_p = model.get_layer(model.layers[-1].name)\n",
    "r_list = get_r_list()\n",
    "best_acc = r_1_acc\n",
    "r_acc = []\n",
    "\n",
    "for i in range(len(r_list)):\n",
    "    r = r_list[i]\n",
    "    conv_base = tf.keras.applications.inception_v3.InceptionV3(weights='imagenet',include_top=False)\n",
    "    classifier = classifier_p\n",
    "    model = r_compiled_model()\n",
    "    filepath = 'inceptionv3_r_{:.2f}.keras'.format(r)\n",
    "    callbacks = [tf.keras.callbacks.EarlyStopping(monitor='val_accuracy',patience=2),\n",
    "                 tf.keras.callbacks.ModelCheckpoint(filepath=filepath,\n",
    "                                                    monitor='val_accuracy',\n",
    "                                                    save_best_only=True)]\n",
    "    history = model.fit(train_images,train_labels,\n",
    "                        epochs=15,\n",
    "                        validation_data=(val_images,val_labels),\n",
    "                        callbacks=callbacks)\n",
    "    r_acc.append(max(history.history['val_accuracy']))\n",
    "    \n",
    "    if i == 0 and r_acc[0] < r_1_acc:\n",
    "        r_list = r_list[:1]+r_list[:0:-1]\n",
    "        continue\n",
    "    if r_acc[i] > best_acc:\n",
    "        best_acc = r_acc[i]"
   ]
  },
  {
   "cell_type": "code",
   "execution_count": 6,
   "id": "190b287d",
   "metadata": {},
   "outputs": [
    {
     "name": "stdout",
     "output_type": "stream",
     "text": [
      "[0, 0.8971061093247589, 0.797427652733119, 0.7331189710610932, 0.6302250803858521, 0.5273311897106109, 0.42443729903536975, 0.3215434083601286, 0.2765273311897106, 0.20257234726688103, 0.12861736334405144]\n",
      "[0.8500000238418579, 0.8500000238418579, 0.8500000238418579, 0.8500000238418579, 0.8500000238418579, 0.8500000238418579, 0.856249988079071, 0.84375, 0.84375, 0.84375, 0.856249988079071]\n"
     ]
    }
   ],
   "source": [
    "#观察结果\n",
    "\n",
    "print(r_list)\n",
    "print(r_acc)"
   ]
  },
  {
   "cell_type": "code",
   "execution_count": 7,
   "id": "b93cb656",
   "metadata": {},
   "outputs": [
    {
     "name": "stdout",
     "output_type": "stream",
     "text": [
      "[1, 0.8971061093247589, 0.797427652733119, 0.7331189710610932, 0.6302250803858521, 0.5273311897106109, 0.42443729903536975, 0.3215434083601286, 0.2765273311897106, 0.20257234726688103, 0.12861736334405144, 0]\n",
      "[0.856249988079071, 0.8500000238418579, 0.8500000238418579, 0.8500000238418579, 0.8500000238418579, 0.8500000238418579, 0.856249988079071, 0.84375, 0.84375, 0.84375, 0.856249988079071, 0.8500000238418579]\n"
     ]
    }
   ],
   "source": [
    "##整理结果\n",
    "\n",
    "r_list.pop(0)\n",
    "r_0_acc = r_acc.pop(0)\n",
    "\n",
    "r_list.append(0)\n",
    "r_acc.append(r_0_acc)\n",
    "\n",
    "r_list.insert(0,1)\n",
    "r_acc.insert(0,r_1_acc)\n",
    "\n",
    "#r_list.append(1)\n",
    "#r_acc.append(r_1_acc)\n",
    "print(r_list)\n",
    "print(r_acc)"
   ]
  },
  {
   "cell_type": "code",
   "execution_count": 9,
   "id": "8421b2d4",
   "metadata": {},
   "outputs": [
    {
     "data": {
      "image/png": "[encoded data removed]",
      "text/plain": [
       "<Figure size 640x480 with 1 Axes>"
      ]
     },
     "metadata": {},
     "output_type": "display_data"
    }
   ],
   "source": [
    "#展示结果\n",
    "\n",
    "import matplotlib.pyplot as plt\n",
    "plt.figure()\n",
    "plt.plot(r_list,r_acc,linestyle='-',marker='o',color='b',label='inceptionv3')\n",
    "plt.xlabel('transfer rate')\n",
    "plt.ylabel('accuracy')\n",
    "plt.ylim((0.7,1))\n",
    "\n",
    "plt.title('Validation accuracy')\n",
    "plt.legend()\n",
    "plt.show()\n"
   ]
  },
  {
   "cell_type": "code",
   "execution_count": 3,
   "id": "683c9891",
   "metadata": {},
   "outputs": [
    {
     "name": "stdout",
     "output_type": "stream",
     "text": [
      "Found 1000 files belonging to 2 classes.\n"
     ]
    }
   ],
   "source": [
    "#在unlabel(test)数据集上测试\n",
    "\n",
    "base_dir = pathlib.Path('chest_xray2')\n",
    "test_dataset = tf.keras.utils.image_dataset_from_directory(base_dir/'unlabel',\n",
    "                                                            image_size=(224,224),\n",
    "                                                            batch_size=32)\n",
    "test_images,test_labels = preprocess_data(test_dataset)"
   ]
  },
  {
   "cell_type": "code",
   "execution_count": 4,
   "id": "18a3499f",
   "metadata": {},
   "outputs": [],
   "source": [
    "model_0 = tf.keras.models.load_model('inceptionv3_r_0.00.keras')\n",
    "model_1 = tf.keras.models.load_model('inceptionv3_r_0.13.keras')\n",
    "model_2 = tf.keras.models.load_model('inceptionv3_r_0.20.keras')\n",
    "model_3 = tf.keras.models.load_model('inceptionv3_r_0.28.keras')\n",
    "model_4 = tf.keras.models.load_model('inceptionv3_r_0.32.keras')\n",
    "model_5 = tf.keras.models.load_model('inceptionv3_r_0.42.keras')\n",
    "model_6 = tf.keras.models.load_model('inceptionv3_r_0.53.keras')\n",
    "model_7 = tf.keras.models.load_model('inceptionv3_r_0.63.keras')\n",
    "model_8 = tf.keras.models.load_model('inceptionv3_r_0.73.keras')\n",
    "model_9 = tf.keras.models.load_model('inceptionv3_r_0.80.keras')\n",
    "model_10 = tf.keras.models.load_model('inceptionv3_r_0.90.keras')\n",
    "model_11 = tf.keras.models.load_model('inceptionv3_r_1.00.keras')"
   ]
  },
  {
   "cell_type": "code",
   "execution_count": 12,
   "id": "63dc766e",
   "metadata": {},
   "outputs": [
    {
     "name": "stdout",
     "output_type": "stream",
     "text": [
      "WARNING:tensorflow:AutoGraph could not transform <function Model.make_test_function.<locals>.test_function at 0x00000219345E1620> and will run it as-is.\n",
      "Please report this to the TensorFlow team. When filing the bug, set the verbosity to 10 (on Linux, `export AUTOGRAPH_VERBOSITY=10`) and attach the full output.\n",
      "Cause: 'arguments' object has no attribute 'posonlyargs'\n",
      "To silence this warning, decorate the function with @tf.autograph.experimental.do_not_convert\n",
      "WARNING: AutoGraph could not transform <function Model.make_test_function.<locals>.test_function at 0x00000219345E1620> and will run it as-is.\n",
      "Please report this to the TensorFlow team. When filing the bug, set the verbosity to 10 (on Linux, `export AUTOGRAPH_VERBOSITY=10`) and attach the full output.\n",
      "Cause: 'arguments' object has no attribute 'posonlyargs'\n",
      "To silence this warning, decorate the function with @tf.autograph.experimental.do_not_convert\n",
      "32/32 [==============================] - 37s 1s/step - loss: 0.4792 - accuracy: 0.7860\n",
      "0.7860000133514404\n"
     ]
    }
   ],
   "source": [
    "r_acc_t = []\n",
    "test_loss,test_acc = model_0.evaluate(test_images,test_labels)\n",
    "print(test_acc)\n",
    "r_acc_t.append(test_acc)"
   ]
  },
  {
   "cell_type": "code",
   "execution_count": 13,
   "id": "f03c38c0",
   "metadata": {},
   "outputs": [
    {
     "name": "stdout",
     "output_type": "stream",
     "text": [
      "WARNING:tensorflow:AutoGraph could not transform <function Model.make_test_function.<locals>.test_function at 0x000002194AE2A1E0> and will run it as-is.\n",
      "Please report this to the TensorFlow team. When filing the bug, set the verbosity to 10 (on Linux, `export AUTOGRAPH_VERBOSITY=10`) and attach the full output.\n",
      "Cause: 'arguments' object has no attribute 'posonlyargs'\n",
      "To silence this warning, decorate the function with @tf.autograph.experimental.do_not_convert\n",
      "WARNING: AutoGraph could not transform <function Model.make_test_function.<locals>.test_function at 0x000002194AE2A1E0> and will run it as-is.\n",
      "Please report this to the TensorFlow team. When filing the bug, set the verbosity to 10 (on Linux, `export AUTOGRAPH_VERBOSITY=10`) and attach the full output.\n",
      "Cause: 'arguments' object has no attribute 'posonlyargs'\n",
      "To silence this warning, decorate the function with @tf.autograph.experimental.do_not_convert\n",
      "32/32 [==============================] - 29s 882ms/step - loss: 0.5501 - accuracy: 0.7660\n",
      "0.765999972820282\n"
     ]
    }
   ],
   "source": [
    "test_loss,test_acc = model_1.evaluate(test_images,test_labels)\n",
    "print(test_acc)\n",
    "r_acc_t.append(test_acc)"
   ]
  },
  {
   "cell_type": "code",
   "execution_count": 14,
   "id": "c078549d",
   "metadata": {},
   "outputs": [
    {
     "name": "stdout",
     "output_type": "stream",
     "text": [
      "WARNING:tensorflow:AutoGraph could not transform <function Model.make_test_function.<locals>.test_function at 0x000002194DCF91E0> and will run it as-is.\n",
      "Please report this to the TensorFlow team. When filing the bug, set the verbosity to 10 (on Linux, `export AUTOGRAPH_VERBOSITY=10`) and attach the full output.\n",
      "Cause: 'arguments' object has no attribute 'posonlyargs'\n",
      "To silence this warning, decorate the function with @tf.autograph.experimental.do_not_convert\n",
      "WARNING: AutoGraph could not transform <function Model.make_test_function.<locals>.test_function at 0x000002194DCF91E0> and will run it as-is.\n",
      "Please report this to the TensorFlow team. When filing the bug, set the verbosity to 10 (on Linux, `export AUTOGRAPH_VERBOSITY=10`) and attach the full output.\n",
      "Cause: 'arguments' object has no attribute 'posonlyargs'\n",
      "To silence this warning, decorate the function with @tf.autograph.experimental.do_not_convert\n",
      "32/32 [==============================] - 30s 897ms/step - loss: 0.5480 - accuracy: 0.7640\n",
      "0.7639999985694885\n"
     ]
    }
   ],
   "source": [
    "test_loss,test_acc = model_2.evaluate(test_images,test_labels)\n",
    "print(test_acc)\n",
    "r_acc_t.append(test_acc)"
   ]
  },
  {
   "cell_type": "code",
   "execution_count": 15,
   "id": "a3e6c6cc",
   "metadata": {},
   "outputs": [
    {
     "name": "stdout",
     "output_type": "stream",
     "text": [
      "WARNING:tensorflow:AutoGraph could not transform <function Model.make_test_function.<locals>.test_function at 0x00000219526EEF28> and will run it as-is.\n",
      "Please report this to the TensorFlow team. When filing the bug, set the verbosity to 10 (on Linux, `export AUTOGRAPH_VERBOSITY=10`) and attach the full output.\n",
      "Cause: 'arguments' object has no attribute 'posonlyargs'\n",
      "To silence this warning, decorate the function with @tf.autograph.experimental.do_not_convert\n",
      "WARNING: AutoGraph could not transform <function Model.make_test_function.<locals>.test_function at 0x00000219526EEF28> and will run it as-is.\n",
      "Please report this to the TensorFlow team. When filing the bug, set the verbosity to 10 (on Linux, `export AUTOGRAPH_VERBOSITY=10`) and attach the full output.\n",
      "Cause: 'arguments' object has no attribute 'posonlyargs'\n",
      "To silence this warning, decorate the function with @tf.autograph.experimental.do_not_convert\n",
      "32/32 [==============================] - 30s 891ms/step - loss: 0.5798 - accuracy: 0.7490\n",
      "0.7490000128746033\n"
     ]
    }
   ],
   "source": [
    "test_loss,test_acc = model_3.evaluate(test_images,test_labels)\n",
    "print(test_acc)\n",
    "r_acc_t.append(test_acc)"
   ]
  },
  {
   "cell_type": "code",
   "execution_count": 16,
   "id": "338a1ca0",
   "metadata": {},
   "outputs": [
    {
     "name": "stdout",
     "output_type": "stream",
     "text": [
      "WARNING:tensorflow:AutoGraph could not transform <function Model.make_test_function.<locals>.test_function at 0x000002196B504E18> and will run it as-is.\n",
      "Please report this to the TensorFlow team. When filing the bug, set the verbosity to 10 (on Linux, `export AUTOGRAPH_VERBOSITY=10`) and attach the full output.\n",
      "Cause: 'arguments' object has no attribute 'posonlyargs'\n",
      "To silence this warning, decorate the function with @tf.autograph.experimental.do_not_convert\n",
      "WARNING: AutoGraph could not transform <function Model.make_test_function.<locals>.test_function at 0x000002196B504E18> and will run it as-is.\n",
      "Please report this to the TensorFlow team. When filing the bug, set the verbosity to 10 (on Linux, `export AUTOGRAPH_VERBOSITY=10`) and attach the full output.\n",
      "Cause: 'arguments' object has no attribute 'posonlyargs'\n",
      "To silence this warning, decorate the function with @tf.autograph.experimental.do_not_convert\n",
      "32/32 [==============================] - 28s 841ms/step - loss: 0.5504 - accuracy: 0.7630\n",
      "0.7630000114440918\n"
     ]
    }
   ],
   "source": [
    "test_loss,test_acc = model_4.evaluate(test_images,test_labels)\n",
    "print(test_acc)\n",
    "r_acc_t.append(test_acc)"
   ]
  },
  {
   "cell_type": "code",
   "execution_count": 17,
   "id": "6c674866",
   "metadata": {},
   "outputs": [
    {
     "name": "stdout",
     "output_type": "stream",
     "text": [
      "WARNING:tensorflow:AutoGraph could not transform <function Model.make_test_function.<locals>.test_function at 0x000002196DBCF620> and will run it as-is.\n",
      "Please report this to the TensorFlow team. When filing the bug, set the verbosity to 10 (on Linux, `export AUTOGRAPH_VERBOSITY=10`) and attach the full output.\n",
      "Cause: 'arguments' object has no attribute 'posonlyargs'\n",
      "To silence this warning, decorate the function with @tf.autograph.experimental.do_not_convert\n",
      "WARNING: AutoGraph could not transform <function Model.make_test_function.<locals>.test_function at 0x000002196DBCF620> and will run it as-is.\n",
      "Please report this to the TensorFlow team. When filing the bug, set the verbosity to 10 (on Linux, `export AUTOGRAPH_VERBOSITY=10`) and attach the full output.\n",
      "Cause: 'arguments' object has no attribute 'posonlyargs'\n",
      "To silence this warning, decorate the function with @tf.autograph.experimental.do_not_convert\n",
      "32/32 [==============================] - 28s 837ms/step - loss: 0.5681 - accuracy: 0.7570\n",
      "0.7570000290870667\n"
     ]
    }
   ],
   "source": [
    "test_loss,test_acc = model_5.evaluate(test_images,test_labels)\n",
    "print(test_acc)\n",
    "r_acc_t.append(test_acc)"
   ]
  },
  {
   "cell_type": "code",
   "execution_count": 18,
   "id": "4d71621f",
   "metadata": {},
   "outputs": [
    {
     "name": "stdout",
     "output_type": "stream",
     "text": [
      "WARNING:tensorflow:AutoGraph could not transform <function Model.make_test_function.<locals>.test_function at 0x00000219AC4CC510> and will run it as-is.\n",
      "Please report this to the TensorFlow team. When filing the bug, set the verbosity to 10 (on Linux, `export AUTOGRAPH_VERBOSITY=10`) and attach the full output.\n",
      "Cause: 'arguments' object has no attribute 'posonlyargs'\n",
      "To silence this warning, decorate the function with @tf.autograph.experimental.do_not_convert\n",
      "WARNING: AutoGraph could not transform <function Model.make_test_function.<locals>.test_function at 0x00000219AC4CC510> and will run it as-is.\n",
      "Please report this to the TensorFlow team. When filing the bug, set the verbosity to 10 (on Linux, `export AUTOGRAPH_VERBOSITY=10`) and attach the full output.\n",
      "Cause: 'arguments' object has no attribute 'posonlyargs'\n",
      "To silence this warning, decorate the function with @tf.autograph.experimental.do_not_convert\n",
      "32/32 [==============================] - 29s 857ms/step - loss: 0.4911 - accuracy: 0.7890\n",
      "0.7889999747276306\n"
     ]
    }
   ],
   "source": [
    "test_loss,test_acc = model_6.evaluate(test_images,test_labels)\n",
    "print(test_acc)\n",
    "r_acc_t.append(test_acc)"
   ]
  },
  {
   "cell_type": "code",
   "execution_count": 19,
   "id": "d4e31fe2",
   "metadata": {},
   "outputs": [
    {
     "name": "stdout",
     "output_type": "stream",
     "text": [
      "WARNING:tensorflow:AutoGraph could not transform <function Model.make_test_function.<locals>.test_function at 0x00000219B6A65D08> and will run it as-is.\n",
      "Please report this to the TensorFlow team. When filing the bug, set the verbosity to 10 (on Linux, `export AUTOGRAPH_VERBOSITY=10`) and attach the full output.\n",
      "Cause: 'arguments' object has no attribute 'posonlyargs'\n",
      "To silence this warning, decorate the function with @tf.autograph.experimental.do_not_convert\n",
      "WARNING: AutoGraph could not transform <function Model.make_test_function.<locals>.test_function at 0x00000219B6A65D08> and will run it as-is.\n",
      "Please report this to the TensorFlow team. When filing the bug, set the verbosity to 10 (on Linux, `export AUTOGRAPH_VERBOSITY=10`) and attach the full output.\n",
      "Cause: 'arguments' object has no attribute 'posonlyargs'\n",
      "To silence this warning, decorate the function with @tf.autograph.experimental.do_not_convert\n",
      "32/32 [==============================] - 29s 859ms/step - loss: 0.4901 - accuracy: 0.7930\n",
      "0.7929999828338623\n"
     ]
    }
   ],
   "source": [
    "test_loss,test_acc = model_7.evaluate(test_images,test_labels)\n",
    "print(test_acc)\n",
    "r_acc_t.append(test_acc)"
   ]
  },
  {
   "cell_type": "code",
   "execution_count": 20,
   "id": "a0185598",
   "metadata": {},
   "outputs": [
    {
     "name": "stdout",
     "output_type": "stream",
     "text": [
      "WARNING:tensorflow:AutoGraph could not transform <function Model.make_test_function.<locals>.test_function at 0x00000219BB8BAD08> and will run it as-is.\n",
      "Please report this to the TensorFlow team. When filing the bug, set the verbosity to 10 (on Linux, `export AUTOGRAPH_VERBOSITY=10`) and attach the full output.\n",
      "Cause: 'arguments' object has no attribute 'posonlyargs'\n",
      "To silence this warning, decorate the function with @tf.autograph.experimental.do_not_convert\n",
      "WARNING: AutoGraph could not transform <function Model.make_test_function.<locals>.test_function at 0x00000219BB8BAD08> and will run it as-is.\n",
      "Please report this to the TensorFlow team. When filing the bug, set the verbosity to 10 (on Linux, `export AUTOGRAPH_VERBOSITY=10`) and attach the full output.\n",
      "Cause: 'arguments' object has no attribute 'posonlyargs'\n",
      "To silence this warning, decorate the function with @tf.autograph.experimental.do_not_convert\n",
      "32/32 [==============================] - 30s 894ms/step - loss: 0.4900 - accuracy: 0.7890\n",
      "0.7889999747276306\n"
     ]
    }
   ],
   "source": [
    "test_loss,test_acc = model_8.evaluate(test_images,test_labels)\n",
    "print(test_acc)\n",
    "r_acc_t.append(test_acc)"
   ]
  },
  {
   "cell_type": "code",
   "execution_count": 21,
   "id": "872e83bf",
   "metadata": {},
   "outputs": [
    {
     "name": "stdout",
     "output_type": "stream",
     "text": [
      "WARNING:tensorflow:AutoGraph could not transform <function Model.make_test_function.<locals>.test_function at 0x00000219BD6992F0> and will run it as-is.\n",
      "Please report this to the TensorFlow team. When filing the bug, set the verbosity to 10 (on Linux, `export AUTOGRAPH_VERBOSITY=10`) and attach the full output.\n",
      "Cause: 'arguments' object has no attribute 'posonlyargs'\n",
      "To silence this warning, decorate the function with @tf.autograph.experimental.do_not_convert\n",
      "WARNING: AutoGraph could not transform <function Model.make_test_function.<locals>.test_function at 0x00000219BD6992F0> and will run it as-is.\n",
      "Please report this to the TensorFlow team. When filing the bug, set the verbosity to 10 (on Linux, `export AUTOGRAPH_VERBOSITY=10`) and attach the full output.\n",
      "Cause: 'arguments' object has no attribute 'posonlyargs'\n",
      "To silence this warning, decorate the function with @tf.autograph.experimental.do_not_convert\n",
      "32/32 [==============================] - 29s 883ms/step - loss: 0.4783 - accuracy: 0.7940\n",
      "0.7940000295639038\n"
     ]
    }
   ],
   "source": [
    "test_loss,test_acc = model_9.evaluate(test_images,test_labels)\n",
    "print(test_acc)\n",
    "r_acc_t.append(test_acc)"
   ]
  },
  {
   "cell_type": "code",
   "execution_count": 22,
   "id": "b9130f6b",
   "metadata": {},
   "outputs": [
    {
     "name": "stdout",
     "output_type": "stream",
     "text": [
      "WARNING:tensorflow:AutoGraph could not transform <function Model.make_test_function.<locals>.test_function at 0x00000219BD6C5620> and will run it as-is.\n",
      "Please report this to the TensorFlow team. When filing the bug, set the verbosity to 10 (on Linux, `export AUTOGRAPH_VERBOSITY=10`) and attach the full output.\n",
      "Cause: 'arguments' object has no attribute 'posonlyargs'\n",
      "To silence this warning, decorate the function with @tf.autograph.experimental.do_not_convert\n",
      "WARNING: AutoGraph could not transform <function Model.make_test_function.<locals>.test_function at 0x00000219BD6C5620> and will run it as-is.\n",
      "Please report this to the TensorFlow team. When filing the bug, set the verbosity to 10 (on Linux, `export AUTOGRAPH_VERBOSITY=10`) and attach the full output.\n",
      "Cause: 'arguments' object has no attribute 'posonlyargs'\n",
      "To silence this warning, decorate the function with @tf.autograph.experimental.do_not_convert\n",
      "32/32 [==============================] - 31s 942ms/step - loss: 0.4718 - accuracy: 0.7950\n",
      "0.7950000166893005\n"
     ]
    }
   ],
   "source": [
    "test_loss,test_acc = model_10.evaluate(test_images,test_labels)\n",
    "print(test_acc)\n",
    "r_acc_t.append(test_acc)"
   ]
  },
  {
   "cell_type": "code",
   "execution_count": 30,
   "id": "da0a1f54",
   "metadata": {},
   "outputs": [
    {
     "name": "stdout",
     "output_type": "stream",
     "text": [
      "32/32 [==============================] - 30s 931ms/step - loss: 0.5327 - accuracy: 0.7250\n",
      "0.7250000238418579\n"
     ]
    }
   ],
   "source": [
    "test_loss,test_acc = model_11.evaluate(test_images,test_labels)\n",
    "print(test_acc)\n",
    "r_acc_t.append(test_acc)"
   ]
  },
  {
   "cell_type": "code",
   "execution_count": 25,
   "id": "e9788679",
   "metadata": {},
   "outputs": [
    {
     "name": "stdout",
     "output_type": "stream",
     "text": [
      "[1, 0.8971061093247589, 0.797427652733119, 0.7331189710610932, 0.6302250803858521, 0.5273311897106109, 0.42443729903536975, 0.3215434083601286, 0.2765273311897106, 0.20257234726688103, 0.12861736334405144, 0]\n",
      "[0.7860000133514404, 0.765999972820282, 0.7639999985694885, 0.7490000128746033, 0.7630000114440918, 0.7570000290870667, 0.7889999747276306, 0.7929999828338623, 0.7889999747276306, 0.7940000295639038, 0.7950000166893005, 0.7250000238418579]\n"
     ]
    }
   ],
   "source": [
    "print(r_list)\n",
    "print(r_acc_t)"
   ]
  },
  {
   "cell_type": "code",
   "execution_count": 28,
   "id": "4c75f807",
   "metadata": {},
   "outputs": [
    {
     "name": "stdout",
     "output_type": "stream",
     "text": [
      "[0.7250000238418579, 0.7950000166893005, 0.7940000295639038, 0.7889999747276306, 0.7929999828338623, 0.7889999747276306, 0.7570000290870667, 0.7630000114440918, 0.7490000128746033, 0.7639999985694885, 0.765999972820282, 0.7860000133514404]\n"
     ]
    }
   ],
   "source": [
    "r_acc_t = r_acc_t[::-1]\n",
    "print(r_acc_t)"
   ]
  },
  {
   "cell_type": "code",
   "execution_count": 29,
   "id": "bea4d124",
   "metadata": {},
   "outputs": [
    {
     "data": {
      "image/png": "[encoded data removed]",
      "text/plain": [
       "<Figure size 640x480 with 1 Axes>"
      ]
     },
     "metadata": {},
     "output_type": "display_data"
    }
   ],
   "source": [
    "import matplotlib.pyplot as plt\n",
    "plt.figure()\n",
    "plt.plot(r_list,r_acc,linestyle='-',marker='o',color='b',label='validation accuracy')\n",
    "plt.plot(r_list,r_acc_t,linestyle='--',marker='o',color='b',label='test accuracy')\n",
    "plt.xlabel('transfer rate')\n",
    "plt.ylabel('accuracy')\n",
    "plt.ylim((0.7,1))\n",
    "\n",
    "plt.title('InceptionV3 performance')\n",
    "plt.legend()\n",
    "plt.show()\n"
   ]
  },
  {
   "cell_type": "code",
   "execution_count": 5,
   "id": "ecd1463e",
   "metadata": {},
   "outputs": [],
   "source": [
    "#在unlabel(test)数据集上测试聚类\n",
    "\n",
    "from sklearn.cluster import KMeans\n",
    "from sklearn.metrics import accuracy_score"
   ]
  },
  {
   "cell_type": "code",
   "execution_count": 32,
   "id": "e81f334d",
   "metadata": {},
   "outputs": [
    {
     "name": "stdout",
     "output_type": "stream",
     "text": [
      "WARNING:tensorflow:AutoGraph could not transform <function Model.make_predict_function.<locals>.predict_function at 0x00000219CE1A9D90> and will run it as-is.\n",
      "Please report this to the TensorFlow team. When filing the bug, set the verbosity to 10 (on Linux, `export AUTOGRAPH_VERBOSITY=10`) and attach the full output.\n",
      "Cause: 'arguments' object has no attribute 'posonlyargs'\n",
      "To silence this warning, decorate the function with @tf.autograph.experimental.do_not_convert\n",
      "WARNING: AutoGraph could not transform <function Model.make_predict_function.<locals>.predict_function at 0x00000219CE1A9D90> and will run it as-is.\n",
      "Please report this to the TensorFlow team. When filing the bug, set the verbosity to 10 (on Linux, `export AUTOGRAPH_VERBOSITY=10`) and attach the full output.\n",
      "Cause: 'arguments' object has no attribute 'posonlyargs'\n",
      "To silence this warning, decorate the function with @tf.autograph.experimental.do_not_convert\n"
     ]
    }
   ],
   "source": [
    "feature = tf.keras.layers.GlobalAveragePooling2D()(model_0.get_layer('mixed10').output)\n",
    "encoder_0 = tf.keras.Model(inputs=model_0.input,outputs=feature)\n",
    "X = encoder_0.predict(test_images)"
   ]
  },
  {
   "cell_type": "code",
   "execution_count": 34,
   "id": "448cd35a",
   "metadata": {},
   "outputs": [
    {
     "name": "stdout",
     "output_type": "stream",
     "text": [
      "0.614\n"
     ]
    }
   ],
   "source": [
    "kmeans = KMeans(n_clusters=2, n_init=20)\n",
    "y_pred = kmeans.fit_predict(X)\n",
    "acc = accuracy_score(test_labels,y_pred)\n",
    "print(acc)"
   ]
  },
  {
   "cell_type": "code",
   "execution_count": 35,
   "id": "3959497b",
   "metadata": {},
   "outputs": [
    {
     "name": "stdout",
     "output_type": "stream",
     "text": [
      "WARNING:tensorflow:AutoGraph could not transform <function Model.make_predict_function.<locals>.predict_function at 0x00000218F06E2F28> and will run it as-is.\n",
      "Please report this to the TensorFlow team. When filing the bug, set the verbosity to 10 (on Linux, `export AUTOGRAPH_VERBOSITY=10`) and attach the full output.\n",
      "Cause: 'arguments' object has no attribute 'posonlyargs'\n",
      "To silence this warning, decorate the function with @tf.autograph.experimental.do_not_convert\n",
      "WARNING: AutoGraph could not transform <function Model.make_predict_function.<locals>.predict_function at 0x00000218F06E2F28> and will run it as-is.\n",
      "Please report this to the TensorFlow team. When filing the bug, set the verbosity to 10 (on Linux, `export AUTOGRAPH_VERBOSITY=10`) and attach the full output.\n",
      "Cause: 'arguments' object has no attribute 'posonlyargs'\n",
      "To silence this warning, decorate the function with @tf.autograph.experimental.do_not_convert\n"
     ]
    }
   ],
   "source": [
    "feature = tf.keras.layers.GlobalAveragePooling2D()(model_1.get_layer('mixed10').output)\n",
    "encoder_1 = tf.keras.Model(inputs=model_1.input,outputs=feature)\n",
    "X = encoder_1.predict(test_images)"
   ]
  },
  {
   "cell_type": "code",
   "execution_count": 37,
   "id": "20a7785e",
   "metadata": {},
   "outputs": [
    {
     "name": "stdout",
     "output_type": "stream",
     "text": [
      "0.64\n"
     ]
    }
   ],
   "source": [
    "kmeans = KMeans(n_clusters=2, n_init=20)\n",
    "y_pred = kmeans.fit_predict(X)\n",
    "acc = accuracy_score(test_labels,y_pred)\n",
    "print(acc)"
   ]
  },
  {
   "cell_type": "code",
   "execution_count": 6,
   "id": "ea444f16",
   "metadata": {},
   "outputs": [
    {
     "name": "stdout",
     "output_type": "stream",
     "text": [
      "WARNING:tensorflow:AutoGraph could not transform <function Model.make_predict_function.<locals>.predict_function at 0x0000027D449EC730> and will run it as-is.\n",
      "Please report this to the TensorFlow team. When filing the bug, set the verbosity to 10 (on Linux, `export AUTOGRAPH_VERBOSITY=10`) and attach the full output.\n",
      "Cause: 'arguments' object has no attribute 'posonlyargs'\n",
      "To silence this warning, decorate the function with @tf.autograph.experimental.do_not_convert\n",
      "WARNING: AutoGraph could not transform <function Model.make_predict_function.<locals>.predict_function at 0x0000027D449EC730> and will run it as-is.\n",
      "Please report this to the TensorFlow team. When filing the bug, set the verbosity to 10 (on Linux, `export AUTOGRAPH_VERBOSITY=10`) and attach the full output.\n",
      "Cause: 'arguments' object has no attribute 'posonlyargs'\n",
      "To silence this warning, decorate the function with @tf.autograph.experimental.do_not_convert\n"
     ]
    }
   ],
   "source": [
    "feature = tf.keras.layers.GlobalAveragePooling2D()(model_2.get_layer('mixed10').output)\n",
    "encoder_2 = tf.keras.Model(inputs=model_2.input,outputs=feature)\n",
    "X = encoder_2.predict(test_images)"
   ]
  },
  {
   "cell_type": "code",
   "execution_count": 7,
   "id": "a389032c",
   "metadata": {},
   "outputs": [
    {
     "name": "stdout",
     "output_type": "stream",
     "text": [
      "0.618\n"
     ]
    }
   ],
   "source": [
    "kmeans = KMeans(n_clusters=2, n_init=20)\n",
    "y_pred = kmeans.fit_predict(X)\n",
    "acc = accuracy_score(test_labels,y_pred)\n",
    "print(acc)"
   ]
  },
  {
   "cell_type": "code",
   "execution_count": 8,
   "id": "74e53a8c",
   "metadata": {},
   "outputs": [
    {
     "name": "stdout",
     "output_type": "stream",
     "text": [
      "WARNING:tensorflow:AutoGraph could not transform <function Model.make_predict_function.<locals>.predict_function at 0x0000027D44A4AF28> and will run it as-is.\n",
      "Please report this to the TensorFlow team. When filing the bug, set the verbosity to 10 (on Linux, `export AUTOGRAPH_VERBOSITY=10`) and attach the full output.\n",
      "Cause: 'arguments' object has no attribute 'posonlyargs'\n",
      "To silence this warning, decorate the function with @tf.autograph.experimental.do_not_convert\n",
      "WARNING: AutoGraph could not transform <function Model.make_predict_function.<locals>.predict_function at 0x0000027D44A4AF28> and will run it as-is.\n",
      "Please report this to the TensorFlow team. When filing the bug, set the verbosity to 10 (on Linux, `export AUTOGRAPH_VERBOSITY=10`) and attach the full output.\n",
      "Cause: 'arguments' object has no attribute 'posonlyargs'\n",
      "To silence this warning, decorate the function with @tf.autograph.experimental.do_not_convert\n"
     ]
    }
   ],
   "source": [
    "feature = tf.keras.layers.GlobalAveragePooling2D()(model_3.get_layer('mixed10').output)\n",
    "encoder_3 = tf.keras.Model(inputs=model_3.input,outputs=feature)\n",
    "X = encoder_3.predict(test_images)"
   ]
  },
  {
   "cell_type": "code",
   "execution_count": 10,
   "id": "650506f2",
   "metadata": {},
   "outputs": [
    {
     "name": "stdout",
     "output_type": "stream",
     "text": [
      "0.62\n"
     ]
    }
   ],
   "source": [
    "kmeans = KMeans(n_clusters=2, n_init=20)\n",
    "y_pred = kmeans.fit_predict(X)\n",
    "acc = accuracy_score(test_labels,y_pred)\n",
    "print(acc)"
   ]
  },
  {
   "cell_type": "code",
   "execution_count": 11,
   "id": "dd97cb7b",
   "metadata": {},
   "outputs": [
    {
     "name": "stdout",
     "output_type": "stream",
     "text": [
      "WARNING:tensorflow:AutoGraph could not transform <function Model.make_predict_function.<locals>.predict_function at 0x0000027D44FC5158> and will run it as-is.\n",
      "Please report this to the TensorFlow team. When filing the bug, set the verbosity to 10 (on Linux, `export AUTOGRAPH_VERBOSITY=10`) and attach the full output.\n",
      "Cause: 'arguments' object has no attribute 'posonlyargs'\n",
      "To silence this warning, decorate the function with @tf.autograph.experimental.do_not_convert\n",
      "WARNING: AutoGraph could not transform <function Model.make_predict_function.<locals>.predict_function at 0x0000027D44FC5158> and will run it as-is.\n",
      "Please report this to the TensorFlow team. When filing the bug, set the verbosity to 10 (on Linux, `export AUTOGRAPH_VERBOSITY=10`) and attach the full output.\n",
      "Cause: 'arguments' object has no attribute 'posonlyargs'\n",
      "To silence this warning, decorate the function with @tf.autograph.experimental.do_not_convert\n"
     ]
    }
   ],
   "source": [
    "feature = tf.keras.layers.GlobalAveragePooling2D()(model_4.get_layer('mixed10').output)\n",
    "encoder_4 = tf.keras.Model(inputs=model_4.input,outputs=feature)\n",
    "X = encoder_4.predict(test_images)"
   ]
  },
  {
   "cell_type": "code",
   "execution_count": 14,
   "id": "a0d1ba12",
   "metadata": {},
   "outputs": [
    {
     "name": "stdout",
     "output_type": "stream",
     "text": [
      "0.379\n"
     ]
    }
   ],
   "source": [
    "kmeans = KMeans(n_clusters=2, n_init=20)\n",
    "y_pred = kmeans.fit_predict(X)\n",
    "acc = accuracy_score(test_labels,y_pred)\n",
    "print(acc)"
   ]
  },
  {
   "cell_type": "code",
   "execution_count": 15,
   "id": "c5b77ff6",
   "metadata": {},
   "outputs": [
    {
     "name": "stdout",
     "output_type": "stream",
     "text": [
      "WARNING:tensorflow:AutoGraph could not transform <function Model.make_predict_function.<locals>.predict_function at 0x0000027D4352B9D8> and will run it as-is.\n",
      "Please report this to the TensorFlow team. When filing the bug, set the verbosity to 10 (on Linux, `export AUTOGRAPH_VERBOSITY=10`) and attach the full output.\n",
      "Cause: 'arguments' object has no attribute 'posonlyargs'\n",
      "To silence this warning, decorate the function with @tf.autograph.experimental.do_not_convert\n",
      "WARNING: AutoGraph could not transform <function Model.make_predict_function.<locals>.predict_function at 0x0000027D4352B9D8> and will run it as-is.\n",
      "Please report this to the TensorFlow team. When filing the bug, set the verbosity to 10 (on Linux, `export AUTOGRAPH_VERBOSITY=10`) and attach the full output.\n",
      "Cause: 'arguments' object has no attribute 'posonlyargs'\n",
      "To silence this warning, decorate the function with @tf.autograph.experimental.do_not_convert\n"
     ]
    }
   ],
   "source": [
    "feature = tf.keras.layers.GlobalAveragePooling2D()(model_5.get_layer('mixed10').output)\n",
    "encoder_5 = tf.keras.Model(inputs=model_5.input,outputs=feature)\n",
    "X = encoder_5.predict(test_images)"
   ]
  },
  {
   "cell_type": "code",
   "execution_count": 16,
   "id": "31d5cb15",
   "metadata": {},
   "outputs": [
    {
     "name": "stdout",
     "output_type": "stream",
     "text": [
      "0.645\n"
     ]
    }
   ],
   "source": [
    "kmeans = KMeans(n_clusters=2, n_init=20)\n",
    "y_pred = kmeans.fit_predict(X)\n",
    "acc = accuracy_score(test_labels,y_pred)\n",
    "print(acc)"
   ]
  },
  {
   "cell_type": "code",
   "execution_count": 17,
   "id": "d71e1db8",
   "metadata": {},
   "outputs": [
    {
     "name": "stdout",
     "output_type": "stream",
     "text": [
      "WARNING:tensorflow:AutoGraph could not transform <function Model.make_predict_function.<locals>.predict_function at 0x0000027D44FF1E18> and will run it as-is.\n",
      "Please report this to the TensorFlow team. When filing the bug, set the verbosity to 10 (on Linux, `export AUTOGRAPH_VERBOSITY=10`) and attach the full output.\n",
      "Cause: 'arguments' object has no attribute 'posonlyargs'\n",
      "To silence this warning, decorate the function with @tf.autograph.experimental.do_not_convert\n",
      "WARNING: AutoGraph could not transform <function Model.make_predict_function.<locals>.predict_function at 0x0000027D44FF1E18> and will run it as-is.\n",
      "Please report this to the TensorFlow team. When filing the bug, set the verbosity to 10 (on Linux, `export AUTOGRAPH_VERBOSITY=10`) and attach the full output.\n",
      "Cause: 'arguments' object has no attribute 'posonlyargs'\n",
      "To silence this warning, decorate the function with @tf.autograph.experimental.do_not_convert\n"
     ]
    }
   ],
   "source": [
    "feature = tf.keras.layers.GlobalAveragePooling2D()(model_6.get_layer('mixed10').output)\n",
    "encoder_6 = tf.keras.Model(inputs=model_6.input,outputs=feature)\n",
    "X = encoder_6.predict(test_images)"
   ]
  },
  {
   "cell_type": "code",
   "execution_count": 18,
   "id": "e51cc509",
   "metadata": {},
   "outputs": [
    {
     "name": "stdout",
     "output_type": "stream",
     "text": [
      "0.38\n"
     ]
    }
   ],
   "source": [
    "kmeans = KMeans(n_clusters=2, n_init=20)\n",
    "y_pred = kmeans.fit_predict(X)\n",
    "acc = accuracy_score(test_labels,y_pred)\n",
    "print(acc)"
   ]
  },
  {
   "cell_type": "code",
   "execution_count": 19,
   "id": "ceb435be",
   "metadata": {},
   "outputs": [
    {
     "name": "stdout",
     "output_type": "stream",
     "text": [
      "WARNING:tensorflow:AutoGraph could not transform <function Model.make_predict_function.<locals>.predict_function at 0x0000027D46D890D0> and will run it as-is.\n",
      "Please report this to the TensorFlow team. When filing the bug, set the verbosity to 10 (on Linux, `export AUTOGRAPH_VERBOSITY=10`) and attach the full output.\n",
      "Cause: 'arguments' object has no attribute 'posonlyargs'\n",
      "To silence this warning, decorate the function with @tf.autograph.experimental.do_not_convert\n",
      "WARNING: AutoGraph could not transform <function Model.make_predict_function.<locals>.predict_function at 0x0000027D46D890D0> and will run it as-is.\n",
      "Please report this to the TensorFlow team. When filing the bug, set the verbosity to 10 (on Linux, `export AUTOGRAPH_VERBOSITY=10`) and attach the full output.\n",
      "Cause: 'arguments' object has no attribute 'posonlyargs'\n",
      "To silence this warning, decorate the function with @tf.autograph.experimental.do_not_convert\n"
     ]
    }
   ],
   "source": [
    "feature = tf.keras.layers.GlobalAveragePooling2D()(model_7.get_layer('mixed10').output)\n",
    "encoder_7 = tf.keras.Model(inputs=model_7.input,outputs=feature)\n",
    "X = encoder_7.predict(test_images)"
   ]
  },
  {
   "cell_type": "code",
   "execution_count": 21,
   "id": "e69ac533",
   "metadata": {},
   "outputs": [
    {
     "name": "stdout",
     "output_type": "stream",
     "text": [
      "0.373\n"
     ]
    }
   ],
   "source": [
    "kmeans = KMeans(n_clusters=2, n_init=20)\n",
    "y_pred = kmeans.fit_predict(X)\n",
    "acc = accuracy_score(test_labels,y_pred)\n",
    "print(acc)"
   ]
  },
  {
   "cell_type": "code",
   "execution_count": 25,
   "id": "7d34627a",
   "metadata": {},
   "outputs": [
    {
     "name": "stdout",
     "output_type": "stream",
     "text": [
      "WARNING:tensorflow:AutoGraph could not transform <function Model.make_predict_function.<locals>.predict_function at 0x0000027D53B82400> and will run it as-is.\n",
      "Please report this to the TensorFlow team. When filing the bug, set the verbosity to 10 (on Linux, `export AUTOGRAPH_VERBOSITY=10`) and attach the full output.\n",
      "Cause: 'arguments' object has no attribute 'posonlyargs'\n",
      "To silence this warning, decorate the function with @tf.autograph.experimental.do_not_convert\n",
      "WARNING: AutoGraph could not transform <function Model.make_predict_function.<locals>.predict_function at 0x0000027D53B82400> and will run it as-is.\n",
      "Please report this to the TensorFlow team. When filing the bug, set the verbosity to 10 (on Linux, `export AUTOGRAPH_VERBOSITY=10`) and attach the full output.\n",
      "Cause: 'arguments' object has no attribute 'posonlyargs'\n",
      "To silence this warning, decorate the function with @tf.autograph.experimental.do_not_convert\n"
     ]
    }
   ],
   "source": [
    "feature = tf.keras.layers.GlobalAveragePooling2D()(model_8.get_layer('mixed10').output)\n",
    "encoder_8 = tf.keras.Model(inputs=model_8.input,outputs=feature)\n",
    "X = encoder_8.predict(test_images)"
   ]
  },
  {
   "cell_type": "code",
   "execution_count": 26,
   "id": "a81ac4f3",
   "metadata": {},
   "outputs": [
    {
     "name": "stdout",
     "output_type": "stream",
     "text": [
      "0.373\n"
     ]
    }
   ],
   "source": [
    "kmeans = KMeans(n_clusters=2, n_init=20)\n",
    "y_pred = kmeans.fit_predict(X)\n",
    "acc = accuracy_score(test_labels,y_pred)\n",
    "print(acc)"
   ]
  },
  {
   "cell_type": "code",
   "execution_count": 27,
   "id": "94ad35c1",
   "metadata": {},
   "outputs": [
    {
     "name": "stdout",
     "output_type": "stream",
     "text": [
      "WARNING:tensorflow:AutoGraph could not transform <function Model.make_predict_function.<locals>.predict_function at 0x0000027D53E69D08> and will run it as-is.\n",
      "Please report this to the TensorFlow team. When filing the bug, set the verbosity to 10 (on Linux, `export AUTOGRAPH_VERBOSITY=10`) and attach the full output.\n",
      "Cause: 'arguments' object has no attribute 'posonlyargs'\n",
      "To silence this warning, decorate the function with @tf.autograph.experimental.do_not_convert\n",
      "WARNING: AutoGraph could not transform <function Model.make_predict_function.<locals>.predict_function at 0x0000027D53E69D08> and will run it as-is.\n",
      "Please report this to the TensorFlow team. When filing the bug, set the verbosity to 10 (on Linux, `export AUTOGRAPH_VERBOSITY=10`) and attach the full output.\n",
      "Cause: 'arguments' object has no attribute 'posonlyargs'\n",
      "To silence this warning, decorate the function with @tf.autograph.experimental.do_not_convert\n"
     ]
    }
   ],
   "source": [
    "feature = tf.keras.layers.GlobalAveragePooling2D()(model_9.get_layer('mixed10').output)\n",
    "encoder_9 = tf.keras.Model(inputs=model_9.input,outputs=feature)\n",
    "X = encoder_9.predict(test_images)"
   ]
  },
  {
   "cell_type": "code",
   "execution_count": 29,
   "id": "21f3e04d",
   "metadata": {},
   "outputs": [
    {
     "name": "stdout",
     "output_type": "stream",
     "text": [
      "0.623\n"
     ]
    }
   ],
   "source": [
    "kmeans = KMeans(n_clusters=2, n_init=20)\n",
    "y_pred = kmeans.fit_predict(X)\n",
    "acc = accuracy_score(test_labels,y_pred)\n",
    "print(acc)"
   ]
  },
  {
   "cell_type": "code",
   "execution_count": 30,
   "id": "c01d1615",
   "metadata": {},
   "outputs": [
    {
     "name": "stdout",
     "output_type": "stream",
     "text": [
      "WARNING:tensorflow:AutoGraph could not transform <function Model.make_predict_function.<locals>.predict_function at 0x0000027D5B8D5F28> and will run it as-is.\n",
      "Please report this to the TensorFlow team. When filing the bug, set the verbosity to 10 (on Linux, `export AUTOGRAPH_VERBOSITY=10`) and attach the full output.\n",
      "Cause: 'arguments' object has no attribute 'posonlyargs'\n",
      "To silence this warning, decorate the function with @tf.autograph.experimental.do_not_convert\n",
      "WARNING: AutoGraph could not transform <function Model.make_predict_function.<locals>.predict_function at 0x0000027D5B8D5F28> and will run it as-is.\n",
      "Please report this to the TensorFlow team. When filing the bug, set the verbosity to 10 (on Linux, `export AUTOGRAPH_VERBOSITY=10`) and attach the full output.\n",
      "Cause: 'arguments' object has no attribute 'posonlyargs'\n",
      "To silence this warning, decorate the function with @tf.autograph.experimental.do_not_convert\n"
     ]
    }
   ],
   "source": [
    "feature = tf.keras.layers.GlobalAveragePooling2D()(model_10.get_layer('mixed10').output)\n",
    "encoder_10 = tf.keras.Model(inputs=model_10.input,outputs=feature)\n",
    "X = encoder_10.predict(test_images)"
   ]
  },
  {
   "cell_type": "code",
   "execution_count": 33,
   "id": "74532018",
   "metadata": {},
   "outputs": [
    {
     "name": "stdout",
     "output_type": "stream",
     "text": [
      "0.376\n"
     ]
    }
   ],
   "source": [
    "kmeans = KMeans(n_clusters=2, n_init=20)\n",
    "y_pred = kmeans.fit_predict(X)\n",
    "acc = accuracy_score(test_labels,y_pred)\n",
    "print(acc)"
   ]
  },
  {
   "cell_type": "code",
   "execution_count": 34,
   "id": "2d725579",
   "metadata": {},
   "outputs": [
    {
     "name": "stdout",
     "output_type": "stream",
     "text": [
      "WARNING:tensorflow:AutoGraph could not transform <function Model.make_predict_function.<locals>.predict_function at 0x0000027D5CD4C158> and will run it as-is.\n",
      "Please report this to the TensorFlow team. When filing the bug, set the verbosity to 10 (on Linux, `export AUTOGRAPH_VERBOSITY=10`) and attach the full output.\n",
      "Cause: 'arguments' object has no attribute 'posonlyargs'\n",
      "To silence this warning, decorate the function with @tf.autograph.experimental.do_not_convert\n",
      "WARNING: AutoGraph could not transform <function Model.make_predict_function.<locals>.predict_function at 0x0000027D5CD4C158> and will run it as-is.\n",
      "Please report this to the TensorFlow team. When filing the bug, set the verbosity to 10 (on Linux, `export AUTOGRAPH_VERBOSITY=10`) and attach the full output.\n",
      "Cause: 'arguments' object has no attribute 'posonlyargs'\n",
      "To silence this warning, decorate the function with @tf.autograph.experimental.do_not_convert\n"
     ]
    }
   ],
   "source": [
    "feature = tf.keras.layers.GlobalAveragePooling2D()(model_11.get_layer('mixed10').output)\n",
    "encoder_11 = tf.keras.Model(inputs=model_11.input,outputs=feature)\n",
    "X = encoder_11.predict(test_images)"
   ]
  },
  {
   "cell_type": "code",
   "execution_count": 35,
   "id": "75d2c414",
   "metadata": {},
   "outputs": [
    {
     "name": "stdout",
     "output_type": "stream",
     "text": [
      "0.619\n"
     ]
    }
   ],
   "source": [
    "kmeans = KMeans(n_clusters=2, n_init=20)\n",
    "y_pred = kmeans.fit_predict(X)\n",
    "acc = accuracy_score(test_labels,y_pred)\n",
    "print(acc)"
   ]
  },
  {
   "cell_type": "code",
   "execution_count": 36,
   "id": "9a571eb3",
   "metadata": {},
   "outputs": [],
   "source": [
    "r_list = [1,0.8971061093247589,0.797427652733119,0.7331189710610932,0.6302250803858521,0.5273311897106109,0.42443729903536975,0.3215434083601286,0.2765273311897106,0.20257234726688103,0.12861736334405144,0]\n",
    "r_acc = [0.856249988079071,0.8500000238418579,0.8500000238418579,0.8500000238418579,0.8500000238418579,0.8500000238418579,0.856249988079071,0.84375,0.84375,0.84375,0.856249988079071,0.8500000238418579]\n",
    "r_acc_t = [0.7250000238418579,0.7950000166893005,0.7940000295639038,0.7889999747276306,0.7929999828338623,0.7889999747276306,0.7570000290870667,0.7630000114440918,0.7490000128746033,0.7639999985694885,0.765999972820282,0.7860000133514404]\n",
    "r_acc_k = [0.619,1-0.376,0.623,1-0.373,1-0.373,1-0.38,0.645,1-0.379,0.62,0.618,0.64,0.614]"
   ]
  },
  {
   "cell_type": "code",
   "execution_count": 40,
   "id": "cdf4f035",
   "metadata": {},
   "outputs": [
    {
     "name": "stdout",
     "output_type": "stream",
     "text": [
      "[0.619, 0.624, 0.623, 0.627, 0.627, 0.62, 0.645, 0.621, 0.62, 0.618, 0.64, 0.614]\n"
     ]
    }
   ],
   "source": [
    "print(r_acc_k)"
   ]
  },
  {
   "cell_type": "code",
   "execution_count": 39,
   "id": "3c2ab214",
   "metadata": {},
   "outputs": [
    {
     "data": {
      "image/png": "[encoded data removed]",
      "text/plain": [
       "<Figure size 640x480 with 1 Axes>"
      ]
     },
     "metadata": {},
     "output_type": "display_data"
    }
   ],
   "source": [
    "import matplotlib.pyplot as plt\n",
    "plt.figure()\n",
    "plt.plot(r_list,r_acc,linestyle='-',marker='o',color='b',label='validation accuracy')\n",
    "plt.plot(r_list,r_acc_t,linestyle='--',marker='o',color='b',label='test accuracy')\n",
    "plt.plot(r_list,r_acc_k,linestyle=':',marker='o',color='b',label='cluster accuracy')\n",
    "plt.xlabel('transfer rate')\n",
    "plt.ylabel('accuracy')\n",
    "plt.ylim((0.5,1))\n",
    "\n",
    "plt.title('InceptionV3 performance')\n",
    "plt.legend()\n",
    "plt.show()"
   ]
  },
  {
   "cell_type": "code",
   "execution_count": null,
   "id": "1b890079",
   "metadata": {},
   "outputs": [],
   "source": []
  },
  {
   "cell_type": "code",
   "execution_count": null,
   "id": "94f4a0ab",
   "metadata": {},
   "outputs": [],
   "source": []
  }
 ],
 "metadata": {
  "kernelspec": {
   "display_name": "Python 3",
   "language": "python",
   "name": "python3"
  },
  "language_info": {
   "codemirror_mode": {
    "name": "ipython",
    "version": 3
   },
   "file_extension": ".py",
   "mimetype": "text/x-python",
   "name": "python",
   "nbconvert_exporter": "python",
   "pygments_lexer": "ipython3",
   "version": "3.7.0"
  }
 },
 "nbformat": 4,
 "nbformat_minor": 5
}
