{
 "cells": [
  {
   "cell_type": "code",
   "execution_count": 1,
   "id": "0b592544",
   "metadata": {},
   "outputs": [],
   "source": [
    "import tensorflow as tf\n",
    "import numpy as np\n",
    "import os,pathlib"
   ]
  },
  {
   "cell_type": "code",
   "execution_count": 2,
   "id": "96b37faf",
   "metadata": {},
   "outputs": [],
   "source": [
    "#方法定义 \n",
    "\n",
    "def preprocess_data(dataset):\n",
    "    all_images = []\n",
    "    all_labels = []\n",
    "    for image,label in dataset:\n",
    "        preprocessed_image = tf.keras.applications.mobilenet_v2.preprocess_input(image)\n",
    "        all_images.append(preprocessed_image)\n",
    "        all_labels.append(label)\n",
    "    return np.concatenate(all_images),np.concatenate(all_labels)\n",
    "\n",
    "def get_r_list():\n",
    "    index_r_list = []\n",
    "    name_r_list = []\n",
    "    for i,layer in enumerate(base_model.layers):\n",
    "        if layer.name[-3:] == 'add':\n",
    "            index_r_list.append(i)\n",
    "            name_r_list.append(layer.name)\n",
    "    r_list = [0]\n",
    "    for i in index_r_list:\n",
    "        r = i/len(base_model.layers)\n",
    "        r_list.append(r)\n",
    "    return r_list\n",
    "\n",
    "def build_model():\n",
    "    x = conv_base.output\n",
    "    predictions = classifier(x)\n",
    "    model = tf.keras.Model(inputs=conv_base.input,outputs=predictions)\n",
    "    return model\n",
    "\n",
    "def r_compiled_model():\n",
    "    model = build_model()\n",
    "    for layer in model.layers[:int(r*len(conv_base.layers))+1]:\n",
    "        layer.trainable = False\n",
    "    for layer in model.layers[int(r*len(conv_base.layers))+1:]:\n",
    "        layer.trainable = True\n",
    "        if isinstance(layer,tf.keras.layers.BatchNormalization):\n",
    "            layer.trainable = False\n",
    "    model.compile(optimizer=tf.keras.optimizers.SGD(learning_rate=0.0001,momentum=0.9),\n",
    "                  loss='binary_crossentropy',\n",
    "                  metrics=['accuracy'])\n",
    "    return model"
   ]
  },
  {
   "cell_type": "code",
   "execution_count": 3,
   "id": "15691d94",
   "metadata": {},
   "outputs": [
    {
     "name": "stdout",
     "output_type": "stream",
     "text": [
      "Found 100 files belonging to 2 classes.\n",
      "Found 160 files belonging to 2 classes.\n"
     ]
    }
   ],
   "source": [
    "#加载数据、预处理数据\n",
    "\n",
    "base_dir = pathlib.Path('chest_xray2/label')\n",
    "train_dataset = tf.keras.utils.image_dataset_from_directory(base_dir/'train',\n",
    "                                                            image_size=(224,224),\n",
    "                                                            batch_size=32)\n",
    "validation_dataset = tf.keras.utils.image_dataset_from_directory(base_dir/'val',\n",
    "                                                                 image_size=(224,224),\n",
    "                                                                 batch_size=32)\n",
    "train_images,train_labels = preprocess_data(train_dataset)\n",
    "val_images,val_labels = preprocess_data(validation_dataset)"
   ]
  },
  {
   "cell_type": "code",
   "execution_count": 4,
   "id": "e47fe594",
   "metadata": {},
   "outputs": [
    {
     "name": "stdout",
     "output_type": "stream",
     "text": [
      "WARNING:tensorflow:`input_shape` is undefined or non-square, or `rows` is not in [96, 128, 160, 192, 224]. Weights for input shape (224, 224) will be loaded as the default.\n",
      "Epoch 1/15\n",
      "WARNING:tensorflow:AutoGraph could not transform <function Model.make_train_function.<locals>.train_function at 0x000002B57351E598> and will run it as-is.\n",
      "Please report this to the TensorFlow team. When filing the bug, set the verbosity to 10 (on Linux, `export AUTOGRAPH_VERBOSITY=10`) and attach the full output.\n",
      "Cause: 'arguments' object has no attribute 'posonlyargs'\n",
      "To silence this warning, decorate the function with @tf.autograph.experimental.do_not_convert\n",
      "WARNING: AutoGraph could not transform <function Model.make_train_function.<locals>.train_function at 0x000002B57351E598> and will run it as-is.\n",
      "Please report this to the TensorFlow team. When filing the bug, set the verbosity to 10 (on Linux, `export AUTOGRAPH_VERBOSITY=10`) and attach the full output.\n",
      "Cause: 'arguments' object has no attribute 'posonlyargs'\n",
      "To silence this warning, decorate the function with @tf.autograph.experimental.do_not_convert\n",
      "4/4 [==============================] - ETA: 0s - loss: 1.9761 - accuracy: 0.5300WARNING:tensorflow:AutoGraph could not transform <function Model.make_test_function.<locals>.test_function at 0x000002B5035BCB70> and will run it as-is.\n",
      "Please report this to the TensorFlow team. When filing the bug, set the verbosity to 10 (on Linux, `export AUTOGRAPH_VERBOSITY=10`) and attach the full output.\n",
      "Cause: 'arguments' object has no attribute 'posonlyargs'\n",
      "To silence this warning, decorate the function with @tf.autograph.experimental.do_not_convert\n",
      "WARNING: AutoGraph could not transform <function Model.make_test_function.<locals>.test_function at 0x000002B5035BCB70> and will run it as-is.\n",
      "Please report this to the TensorFlow team. When filing the bug, set the verbosity to 10 (on Linux, `export AUTOGRAPH_VERBOSITY=10`) and attach the full output.\n",
      "Cause: 'arguments' object has no attribute 'posonlyargs'\n",
      "To silence this warning, decorate the function with @tf.autograph.experimental.do_not_convert\n",
      "4/4 [==============================] - 7s 2s/step - loss: 1.9761 - accuracy: 0.5300 - val_loss: 0.4924 - val_accuracy: 0.7625\n",
      "Epoch 2/15\n",
      "4/4 [==============================] - 5s 1s/step - loss: 0.2551 - accuracy: 0.8800 - val_loss: 0.2312 - val_accuracy: 0.8938\n",
      "Epoch 3/15\n",
      "4/4 [==============================] - 4s 1s/step - loss: 0.4380 - accuracy: 0.8100 - val_loss: 0.1761 - val_accuracy: 0.9312\n",
      "Epoch 4/15\n",
      "4/4 [==============================] - 4s 1s/step - loss: 0.1276 - accuracy: 0.9400 - val_loss: 0.1233 - val_accuracy: 0.9625\n",
      "Epoch 5/15\n",
      "4/4 [==============================] - 4s 1s/step - loss: 0.1217 - accuracy: 0.9500 - val_loss: 0.1193 - val_accuracy: 0.9312\n",
      "Epoch 6/15\n",
      "4/4 [==============================] - 4s 1s/step - loss: 0.0882 - accuracy: 0.9700 - val_loss: 0.1537 - val_accuracy: 0.9250\n",
      "0.9624999761581421\n"
     ]
    }
   ],
   "source": [
    "#分类器初训练\n",
    "\n",
    "base_model = tf.keras.applications.mobilenet_v2.MobileNetV2(weights='imagenet',include_top=False)\n",
    "\n",
    "inputs = base_model.output\n",
    "x = tf.keras.layers.GlobalAveragePooling2D()(inputs)\n",
    "x = tf.keras.layers.Dense(units=256,activation='relu')(x)\n",
    "outputs = tf.keras.layers.Dense(units=1,activation='sigmoid')(x)\n",
    "classifier_model = tf.keras.Model(inputs=inputs,outputs=outputs)\n",
    "\n",
    "x = base_model.output\n",
    "predictions = classifier_model(x)\n",
    "model = tf.keras.Model(inputs=base_model.input,outputs=predictions)\n",
    "\n",
    "for layer in model.layers[:len(base_model.layers)]:\n",
    "    layer.trainable = False\n",
    "    \n",
    "model.compile(optimizer='rmsprop',\n",
    "              loss='binary_crossentropy',\n",
    "              metrics=['accuracy'])\n",
    "callback_list = [tf.keras.callbacks.EarlyStopping(monitor='val_accuracy',patience=2),\n",
    "                 tf.keras.callbacks.ModelCheckpoint(filepath='mobilenet_v2_r_1.00.keras',\n",
    "                                                    monitor='val_accuracy',\n",
    "                                                    save_best_only=True)]\n",
    "history = model.fit(train_images,train_labels,\n",
    "                    epochs=15,\n",
    "                    validation_data=(val_images,val_labels),\n",
    "                    callbacks=callback_list)\n",
    "r_1_acc = max(history.history['val_accuracy'])\n",
    "print(r_1_acc)"
   ]
  },
  {
   "cell_type": "code",
   "execution_count": 5,
   "id": "dfd10806",
   "metadata": {
    "scrolled": false
   },
   "outputs": [
    {
     "name": "stdout",
     "output_type": "stream",
     "text": [
      "WARNING:tensorflow:`input_shape` is undefined or non-square, or `rows` is not in [96, 128, 160, 192, 224]. Weights for input shape (224, 224) will be loaded as the default.\n",
      "Epoch 1/15\n",
      "WARNING:tensorflow:AutoGraph could not transform <function Model.make_train_function.<locals>.train_function at 0x000002B503B640D0> and will run it as-is.\n",
      "Please report this to the TensorFlow team. When filing the bug, set the verbosity to 10 (on Linux, `export AUTOGRAPH_VERBOSITY=10`) and attach the full output.\n",
      "Cause: 'arguments' object has no attribute 'posonlyargs'\n",
      "To silence this warning, decorate the function with @tf.autograph.experimental.do_not_convert\n",
      "WARNING: AutoGraph could not transform <function Model.make_train_function.<locals>.train_function at 0x000002B503B640D0> and will run it as-is.\n",
      "Please report this to the TensorFlow team. When filing the bug, set the verbosity to 10 (on Linux, `export AUTOGRAPH_VERBOSITY=10`) and attach the full output.\n",
      "Cause: 'arguments' object has no attribute 'posonlyargs'\n",
      "To silence this warning, decorate the function with @tf.autograph.experimental.do_not_convert\n",
      "4/4 [==============================] - ETA: 0s - loss: 0.0802 - accuracy: 0.9700WARNING:tensorflow:AutoGraph could not transform <function Model.make_test_function.<locals>.test_function at 0x000002B505872B70> and will run it as-is.\n",
      "Please report this to the TensorFlow team. When filing the bug, set the verbosity to 10 (on Linux, `export AUTOGRAPH_VERBOSITY=10`) and attach the full output.\n",
      "Cause: 'arguments' object has no attribute 'posonlyargs'\n",
      "To silence this warning, decorate the function with @tf.autograph.experimental.do_not_convert\n",
      "WARNING: AutoGraph could not transform <function Model.make_test_function.<locals>.test_function at 0x000002B505872B70> and will run it as-is.\n",
      "Please report this to the TensorFlow team. When filing the bug, set the verbosity to 10 (on Linux, `export AUTOGRAPH_VERBOSITY=10`) and attach the full output.\n",
      "Cause: 'arguments' object has no attribute 'posonlyargs'\n",
      "To silence this warning, decorate the function with @tf.autograph.experimental.do_not_convert\n",
      "4/4 [==============================] - 13s 3s/step - loss: 0.0802 - accuracy: 0.9700 - val_loss: 0.3041 - val_accuracy: 0.8750\n",
      "Epoch 2/15\n",
      "4/4 [==============================] - 10s 2s/step - loss: 0.0845 - accuracy: 0.9500 - val_loss: 1.0084 - val_accuracy: 0.6000\n",
      "Epoch 3/15\n",
      "4/4 [==============================] - 9s 2s/step - loss: 0.8897 - accuracy: 0.7100 - val_loss: 0.7899 - val_accuracy: 0.5500\n",
      "WARNING:tensorflow:`input_shape` is undefined or non-square, or `rows` is not in [96, 128, 160, 192, 224]. Weights for input shape (224, 224) will be loaded as the default.\n",
      "Epoch 1/15\n",
      "WARNING:tensorflow:AutoGraph could not transform <function Model.make_train_function.<locals>.train_function at 0x000002B503933C80> and will run it as-is.\n",
      "Please report this to the TensorFlow team. When filing the bug, set the verbosity to 10 (on Linux, `export AUTOGRAPH_VERBOSITY=10`) and attach the full output.\n",
      "Cause: 'arguments' object has no attribute 'posonlyargs'\n",
      "To silence this warning, decorate the function with @tf.autograph.experimental.do_not_convert\n",
      "WARNING: AutoGraph could not transform <function Model.make_train_function.<locals>.train_function at 0x000002B503933C80> and will run it as-is.\n",
      "Please report this to the TensorFlow team. When filing the bug, set the verbosity to 10 (on Linux, `export AUTOGRAPH_VERBOSITY=10`) and attach the full output.\n",
      "Cause: 'arguments' object has no attribute 'posonlyargs'\n",
      "To silence this warning, decorate the function with @tf.autograph.experimental.do_not_convert\n",
      "4/4 [==============================] - ETA: 0s - loss: 0.1389 - accuracy: 0.9500WARNING:tensorflow:AutoGraph could not transform <function Model.make_test_function.<locals>.test_function at 0x000002B506C95598> and will run it as-is.\n",
      "Please report this to the TensorFlow team. When filing the bug, set the verbosity to 10 (on Linux, `export AUTOGRAPH_VERBOSITY=10`) and attach the full output.\n",
      "Cause: 'arguments' object has no attribute 'posonlyargs'\n",
      "To silence this warning, decorate the function with @tf.autograph.experimental.do_not_convert\n",
      "WARNING: AutoGraph could not transform <function Model.make_test_function.<locals>.test_function at 0x000002B506C95598> and will run it as-is.\n",
      "Please report this to the TensorFlow team. When filing the bug, set the verbosity to 10 (on Linux, `export AUTOGRAPH_VERBOSITY=10`) and attach the full output.\n",
      "Cause: 'arguments' object has no attribute 'posonlyargs'\n",
      "To silence this warning, decorate the function with @tf.autograph.experimental.do_not_convert\n",
      "4/4 [==============================] - 7s 2s/step - loss: 0.1389 - accuracy: 0.9500 - val_loss: 0.0968 - val_accuracy: 0.9688\n",
      "Epoch 2/15\n",
      "4/4 [==============================] - 5s 1s/step - loss: 0.0684 - accuracy: 0.9700 - val_loss: 0.1350 - val_accuracy: 0.9625\n",
      "Epoch 3/15\n",
      "4/4 [==============================] - 4s 1s/step - loss: 0.0840 - accuracy: 0.9900 - val_loss: 0.1363 - val_accuracy: 0.9625\n",
      "WARNING:tensorflow:`input_shape` is undefined or non-square, or `rows` is not in [96, 128, 160, 192, 224]. Weights for input shape (224, 224) will be loaded as the default.\n",
      "Epoch 1/15\n",
      "WARNING:tensorflow:AutoGraph could not transform <function Model.make_train_function.<locals>.train_function at 0x000002B50802F400> and will run it as-is.\n",
      "Please report this to the TensorFlow team. When filing the bug, set the verbosity to 10 (on Linux, `export AUTOGRAPH_VERBOSITY=10`) and attach the full output.\n",
      "Cause: 'arguments' object has no attribute 'posonlyargs'\n",
      "To silence this warning, decorate the function with @tf.autograph.experimental.do_not_convert\n",
      "WARNING: AutoGraph could not transform <function Model.make_train_function.<locals>.train_function at 0x000002B50802F400> and will run it as-is.\n",
      "Please report this to the TensorFlow team. When filing the bug, set the verbosity to 10 (on Linux, `export AUTOGRAPH_VERBOSITY=10`) and attach the full output.\n",
      "Cause: 'arguments' object has no attribute 'posonlyargs'\n",
      "To silence this warning, decorate the function with @tf.autograph.experimental.do_not_convert\n",
      "4/4 [==============================] - ETA: 0s - loss: 0.1157 - accuracy: 0.9500WARNING:tensorflow:AutoGraph could not transform <function Model.make_test_function.<locals>.test_function at 0x000002B503D6B2F0> and will run it as-is.\n",
      "Please report this to the TensorFlow team. When filing the bug, set the verbosity to 10 (on Linux, `export AUTOGRAPH_VERBOSITY=10`) and attach the full output.\n",
      "Cause: 'arguments' object has no attribute 'posonlyargs'\n",
      "To silence this warning, decorate the function with @tf.autograph.experimental.do_not_convert\n",
      "WARNING: AutoGraph could not transform <function Model.make_test_function.<locals>.test_function at 0x000002B503D6B2F0> and will run it as-is.\n",
      "Please report this to the TensorFlow team. When filing the bug, set the verbosity to 10 (on Linux, `export AUTOGRAPH_VERBOSITY=10`) and attach the full output.\n",
      "Cause: 'arguments' object has no attribute 'posonlyargs'\n",
      "To silence this warning, decorate the function with @tf.autograph.experimental.do_not_convert\n",
      "4/4 [==============================] - 7s 2s/step - loss: 0.1157 - accuracy: 0.9500 - val_loss: 0.1799 - val_accuracy: 0.9312\n",
      "Epoch 2/15\n",
      "4/4 [==============================] - 5s 1s/step - loss: 0.1054 - accuracy: 0.9800 - val_loss: 0.0915 - val_accuracy: 0.9625\n",
      "Epoch 3/15\n",
      "4/4 [==============================] - 4s 1s/step - loss: 0.1002 - accuracy: 0.9600 - val_loss: 0.0869 - val_accuracy: 0.9625\n",
      "Epoch 4/15\n",
      "4/4 [==============================] - 5s 1s/step - loss: 0.0623 - accuracy: 0.9800 - val_loss: 0.0868 - val_accuracy: 0.9688\n",
      "Epoch 5/15\n",
      "4/4 [==============================] - 4s 1s/step - loss: 0.0815 - accuracy: 0.9600 - val_loss: 0.0805 - val_accuracy: 0.9625\n",
      "Epoch 6/15\n",
      "4/4 [==============================] - 4s 1s/step - loss: 0.0568 - accuracy: 0.9800 - val_loss: 0.1799 - val_accuracy: 0.9312\n",
      "WARNING:tensorflow:`input_shape` is undefined or non-square, or `rows` is not in [96, 128, 160, 192, 224]. Weights for input shape (224, 224) will be loaded as the default.\n",
      "Epoch 1/15\n",
      "WARNING:tensorflow:AutoGraph could not transform <function Model.make_train_function.<locals>.train_function at 0x000002B5038AF158> and will run it as-is.\n",
      "Please report this to the TensorFlow team. When filing the bug, set the verbosity to 10 (on Linux, `export AUTOGRAPH_VERBOSITY=10`) and attach the full output.\n",
      "Cause: 'arguments' object has no attribute 'posonlyargs'\n",
      "To silence this warning, decorate the function with @tf.autograph.experimental.do_not_convert\n"
     ]
    },
    {
     "name": "stdout",
     "output_type": "stream",
     "text": [
      "WARNING: AutoGraph could not transform <function Model.make_train_function.<locals>.train_function at 0x000002B5038AF158> and will run it as-is.\n",
      "Please report this to the TensorFlow team. When filing the bug, set the verbosity to 10 (on Linux, `export AUTOGRAPH_VERBOSITY=10`) and attach the full output.\n",
      "Cause: 'arguments' object has no attribute 'posonlyargs'\n",
      "To silence this warning, decorate the function with @tf.autograph.experimental.do_not_convert\n",
      "4/4 [==============================] - ETA: 0s - loss: 0.0736 - accuracy: 0.9800WARNING:tensorflow:AutoGraph could not transform <function Model.make_test_function.<locals>.test_function at 0x000002B506A20D08> and will run it as-is.\n",
      "Please report this to the TensorFlow team. When filing the bug, set the verbosity to 10 (on Linux, `export AUTOGRAPH_VERBOSITY=10`) and attach the full output.\n",
      "Cause: 'arguments' object has no attribute 'posonlyargs'\n",
      "To silence this warning, decorate the function with @tf.autograph.experimental.do_not_convert\n",
      "WARNING: AutoGraph could not transform <function Model.make_test_function.<locals>.test_function at 0x000002B506A20D08> and will run it as-is.\n",
      "Please report this to the TensorFlow team. When filing the bug, set the verbosity to 10 (on Linux, `export AUTOGRAPH_VERBOSITY=10`) and attach the full output.\n",
      "Cause: 'arguments' object has no attribute 'posonlyargs'\n",
      "To silence this warning, decorate the function with @tf.autograph.experimental.do_not_convert\n",
      "4/4 [==============================] - 7s 2s/step - loss: 0.0736 - accuracy: 0.9800 - val_loss: 0.3768 - val_accuracy: 0.8438\n",
      "Epoch 2/15\n",
      "4/4 [==============================] - 5s 1s/step - loss: 0.1572 - accuracy: 0.9500 - val_loss: 0.1073 - val_accuracy: 0.9625\n",
      "Epoch 3/15\n",
      "4/4 [==============================] - 5s 1s/step - loss: 0.2115 - accuracy: 0.9100 - val_loss: 0.2113 - val_accuracy: 0.9250\n",
      "Epoch 4/15\n",
      "4/4 [==============================] - 5s 1s/step - loss: 0.2466 - accuracy: 0.8700 - val_loss: 0.2829 - val_accuracy: 0.8750\n",
      "WARNING:tensorflow:`input_shape` is undefined or non-square, or `rows` is not in [96, 128, 160, 192, 224]. Weights for input shape (224, 224) will be loaded as the default.\n",
      "Epoch 1/15\n",
      "WARNING:tensorflow:AutoGraph could not transform <function Model.make_train_function.<locals>.train_function at 0x000002B503D44950> and will run it as-is.\n",
      "Please report this to the TensorFlow team. When filing the bug, set the verbosity to 10 (on Linux, `export AUTOGRAPH_VERBOSITY=10`) and attach the full output.\n",
      "Cause: 'arguments' object has no attribute 'posonlyargs'\n",
      "To silence this warning, decorate the function with @tf.autograph.experimental.do_not_convert\n",
      "WARNING: AutoGraph could not transform <function Model.make_train_function.<locals>.train_function at 0x000002B503D44950> and will run it as-is.\n",
      "Please report this to the TensorFlow team. When filing the bug, set the verbosity to 10 (on Linux, `export AUTOGRAPH_VERBOSITY=10`) and attach the full output.\n",
      "Cause: 'arguments' object has no attribute 'posonlyargs'\n",
      "To silence this warning, decorate the function with @tf.autograph.experimental.do_not_convert\n",
      "4/4 [==============================] - ETA: 0s - loss: 0.1016 - accuracy: 0.9700WARNING:tensorflow:AutoGraph could not transform <function Model.make_test_function.<locals>.test_function at 0x000002B503B64E18> and will run it as-is.\n",
      "Please report this to the TensorFlow team. When filing the bug, set the verbosity to 10 (on Linux, `export AUTOGRAPH_VERBOSITY=10`) and attach the full output.\n",
      "Cause: 'arguments' object has no attribute 'posonlyargs'\n",
      "To silence this warning, decorate the function with @tf.autograph.experimental.do_not_convert\n",
      "WARNING: AutoGraph could not transform <function Model.make_test_function.<locals>.test_function at 0x000002B503B64E18> and will run it as-is.\n",
      "Please report this to the TensorFlow team. When filing the bug, set the verbosity to 10 (on Linux, `export AUTOGRAPH_VERBOSITY=10`) and attach the full output.\n",
      "Cause: 'arguments' object has no attribute 'posonlyargs'\n",
      "To silence this warning, decorate the function with @tf.autograph.experimental.do_not_convert\n",
      "4/4 [==============================] - 7s 2s/step - loss: 0.1016 - accuracy: 0.9700 - val_loss: 0.1993 - val_accuracy: 0.9125\n",
      "Epoch 2/15\n",
      "4/4 [==============================] - 5s 1s/step - loss: 0.0693 - accuracy: 0.9900 - val_loss: 0.2122 - val_accuracy: 0.9312\n",
      "Epoch 3/15\n",
      "4/4 [==============================] - 5s 1s/step - loss: 0.1265 - accuracy: 0.9600 - val_loss: 0.2127 - val_accuracy: 0.9250\n",
      "Epoch 4/15\n",
      "4/4 [==============================] - 5s 1s/step - loss: 0.0450 - accuracy: 1.0000 - val_loss: 0.2461 - val_accuracy: 0.9187\n",
      "WARNING:tensorflow:`input_shape` is undefined or non-square, or `rows` is not in [96, 128, 160, 192, 224]. Weights for input shape (224, 224) will be loaded as the default.\n",
      "Epoch 1/15\n",
      "WARNING:tensorflow:AutoGraph could not transform <function Model.make_train_function.<locals>.train_function at 0x000002B5191921E0> and will run it as-is.\n",
      "Please report this to the TensorFlow team. When filing the bug, set the verbosity to 10 (on Linux, `export AUTOGRAPH_VERBOSITY=10`) and attach the full output.\n",
      "Cause: 'arguments' object has no attribute 'posonlyargs'\n",
      "To silence this warning, decorate the function with @tf.autograph.experimental.do_not_convert\n",
      "WARNING: AutoGraph could not transform <function Model.make_train_function.<locals>.train_function at 0x000002B5191921E0> and will run it as-is.\n",
      "Please report this to the TensorFlow team. When filing the bug, set the verbosity to 10 (on Linux, `export AUTOGRAPH_VERBOSITY=10`) and attach the full output.\n",
      "Cause: 'arguments' object has no attribute 'posonlyargs'\n",
      "To silence this warning, decorate the function with @tf.autograph.experimental.do_not_convert\n",
      "4/4 [==============================] - ETA: 0s - loss: 0.0973 - accuracy: 0.9700WARNING:tensorflow:AutoGraph could not transform <function Model.make_test_function.<locals>.test_function at 0x000002B5069CCBF8> and will run it as-is.\n",
      "Please report this to the TensorFlow team. When filing the bug, set the verbosity to 10 (on Linux, `export AUTOGRAPH_VERBOSITY=10`) and attach the full output.\n",
      "Cause: 'arguments' object has no attribute 'posonlyargs'\n",
      "To silence this warning, decorate the function with @tf.autograph.experimental.do_not_convert\n",
      "WARNING: AutoGraph could not transform <function Model.make_test_function.<locals>.test_function at 0x000002B5069CCBF8> and will run it as-is.\n",
      "Please report this to the TensorFlow team. When filing the bug, set the verbosity to 10 (on Linux, `export AUTOGRAPH_VERBOSITY=10`) and attach the full output.\n",
      "Cause: 'arguments' object has no attribute 'posonlyargs'\n",
      "To silence this warning, decorate the function with @tf.autograph.experimental.do_not_convert\n",
      "4/4 [==============================] - 8s 2s/step - loss: 0.0973 - accuracy: 0.9700 - val_loss: 0.0927 - val_accuracy: 0.9625\n",
      "Epoch 2/15\n",
      "4/4 [==============================] - 5s 1s/step - loss: 0.0988 - accuracy: 0.9600 - val_loss: 0.2258 - val_accuracy: 0.9000\n",
      "Epoch 3/15\n",
      "4/4 [==============================] - 5s 1s/step - loss: 0.1427 - accuracy: 0.9500 - val_loss: 0.1001 - val_accuracy: 0.9563\n",
      "WARNING:tensorflow:`input_shape` is undefined or non-square, or `rows` is not in [96, 128, 160, 192, 224]. Weights for input shape (224, 224) will be loaded as the default.\n",
      "Epoch 1/15\n",
      "WARNING:tensorflow:AutoGraph could not transform <function Model.make_train_function.<locals>.train_function at 0x000002B5038AFE18> and will run it as-is.\n",
      "Please report this to the TensorFlow team. When filing the bug, set the verbosity to 10 (on Linux, `export AUTOGRAPH_VERBOSITY=10`) and attach the full output.\n",
      "Cause: 'arguments' object has no attribute 'posonlyargs'\n",
      "To silence this warning, decorate the function with @tf.autograph.experimental.do_not_convert\n",
      "WARNING: AutoGraph could not transform <function Model.make_train_function.<locals>.train_function at 0x000002B5038AFE18> and will run it as-is.\n",
      "Please report this to the TensorFlow team. When filing the bug, set the verbosity to 10 (on Linux, `export AUTOGRAPH_VERBOSITY=10`) and attach the full output.\n",
      "Cause: 'arguments' object has no attribute 'posonlyargs'\n",
      "To silence this warning, decorate the function with @tf.autograph.experimental.do_not_convert\n"
     ]
    },
    {
     "name": "stdout",
     "output_type": "stream",
     "text": [
      "4/4 [==============================] - ETA: 0s - loss: 0.1054 - accuracy: 0.9600WARNING:tensorflow:AutoGraph could not transform <function Model.make_test_function.<locals>.test_function at 0x000002B518BA7C80> and will run it as-is.\n",
      "Please report this to the TensorFlow team. When filing the bug, set the verbosity to 10 (on Linux, `export AUTOGRAPH_VERBOSITY=10`) and attach the full output.\n",
      "Cause: 'arguments' object has no attribute 'posonlyargs'\n",
      "To silence this warning, decorate the function with @tf.autograph.experimental.do_not_convert\n",
      "WARNING: AutoGraph could not transform <function Model.make_test_function.<locals>.test_function at 0x000002B518BA7C80> and will run it as-is.\n",
      "Please report this to the TensorFlow team. When filing the bug, set the verbosity to 10 (on Linux, `export AUTOGRAPH_VERBOSITY=10`) and attach the full output.\n",
      "Cause: 'arguments' object has no attribute 'posonlyargs'\n",
      "To silence this warning, decorate the function with @tf.autograph.experimental.do_not_convert\n",
      "4/4 [==============================] - 8s 2s/step - loss: 0.1054 - accuracy: 0.9600 - val_loss: 0.0945 - val_accuracy: 0.9688\n",
      "Epoch 2/15\n",
      "4/4 [==============================] - 5s 1s/step - loss: 0.0862 - accuracy: 0.9700 - val_loss: 0.2171 - val_accuracy: 0.9187\n",
      "Epoch 3/15\n",
      "4/4 [==============================] - 5s 1s/step - loss: 0.0789 - accuracy: 0.9600 - val_loss: 0.2392 - val_accuracy: 0.9250\n",
      "WARNING:tensorflow:`input_shape` is undefined or non-square, or `rows` is not in [96, 128, 160, 192, 224]. Weights for input shape (224, 224) will be loaded as the default.\n",
      "Epoch 1/15\n",
      "WARNING:tensorflow:AutoGraph could not transform <function Model.make_train_function.<locals>.train_function at 0x000002B519192620> and will run it as-is.\n",
      "Please report this to the TensorFlow team. When filing the bug, set the verbosity to 10 (on Linux, `export AUTOGRAPH_VERBOSITY=10`) and attach the full output.\n",
      "Cause: 'arguments' object has no attribute 'posonlyargs'\n",
      "To silence this warning, decorate the function with @tf.autograph.experimental.do_not_convert\n",
      "WARNING: AutoGraph could not transform <function Model.make_train_function.<locals>.train_function at 0x000002B519192620> and will run it as-is.\n",
      "Please report this to the TensorFlow team. When filing the bug, set the verbosity to 10 (on Linux, `export AUTOGRAPH_VERBOSITY=10`) and attach the full output.\n",
      "Cause: 'arguments' object has no attribute 'posonlyargs'\n",
      "To silence this warning, decorate the function with @tf.autograph.experimental.do_not_convert\n",
      "4/4 [==============================] - ETA: 0s - loss: 0.2147 - accuracy: 0.9000WARNING:tensorflow:AutoGraph could not transform <function Model.make_test_function.<locals>.test_function at 0x000002B5191F82F0> and will run it as-is.\n",
      "Please report this to the TensorFlow team. When filing the bug, set the verbosity to 10 (on Linux, `export AUTOGRAPH_VERBOSITY=10`) and attach the full output.\n",
      "Cause: 'arguments' object has no attribute 'posonlyargs'\n",
      "To silence this warning, decorate the function with @tf.autograph.experimental.do_not_convert\n",
      "WARNING: AutoGraph could not transform <function Model.make_test_function.<locals>.test_function at 0x000002B5191F82F0> and will run it as-is.\n",
      "Please report this to the TensorFlow team. When filing the bug, set the verbosity to 10 (on Linux, `export AUTOGRAPH_VERBOSITY=10`) and attach the full output.\n",
      "Cause: 'arguments' object has no attribute 'posonlyargs'\n",
      "To silence this warning, decorate the function with @tf.autograph.experimental.do_not_convert\n",
      "4/4 [==============================] - 8s 2s/step - loss: 0.2147 - accuracy: 0.9000 - val_loss: 0.0979 - val_accuracy: 0.9688\n",
      "Epoch 2/15\n",
      "4/4 [==============================] - 6s 2s/step - loss: 0.0662 - accuracy: 0.9800 - val_loss: 0.0923 - val_accuracy: 0.9688\n",
      "Epoch 3/15\n",
      "4/4 [==============================] - 6s 2s/step - loss: 0.0563 - accuracy: 0.9900 - val_loss: 0.0994 - val_accuracy: 0.9563\n",
      "WARNING:tensorflow:`input_shape` is undefined or non-square, or `rows` is not in [96, 128, 160, 192, 224]. Weights for input shape (224, 224) will be loaded as the default.\n",
      "Epoch 1/15\n",
      "WARNING:tensorflow:AutoGraph could not transform <function Model.make_train_function.<locals>.train_function at 0x000002B5124D7400> and will run it as-is.\n",
      "Please report this to the TensorFlow team. When filing the bug, set the verbosity to 10 (on Linux, `export AUTOGRAPH_VERBOSITY=10`) and attach the full output.\n",
      "Cause: 'arguments' object has no attribute 'posonlyargs'\n",
      "To silence this warning, decorate the function with @tf.autograph.experimental.do_not_convert\n",
      "WARNING: AutoGraph could not transform <function Model.make_train_function.<locals>.train_function at 0x000002B5124D7400> and will run it as-is.\n",
      "Please report this to the TensorFlow team. When filing the bug, set the verbosity to 10 (on Linux, `export AUTOGRAPH_VERBOSITY=10`) and attach the full output.\n",
      "Cause: 'arguments' object has no attribute 'posonlyargs'\n",
      "To silence this warning, decorate the function with @tf.autograph.experimental.do_not_convert\n",
      "4/4 [==============================] - ETA: 0s - loss: 0.0893 - accuracy: 0.9600WARNING:tensorflow:AutoGraph could not transform <function Model.make_test_function.<locals>.test_function at 0x000002B51256FA60> and will run it as-is.\n",
      "Please report this to the TensorFlow team. When filing the bug, set the verbosity to 10 (on Linux, `export AUTOGRAPH_VERBOSITY=10`) and attach the full output.\n",
      "Cause: 'arguments' object has no attribute 'posonlyargs'\n",
      "To silence this warning, decorate the function with @tf.autograph.experimental.do_not_convert\n",
      "WARNING: AutoGraph could not transform <function Model.make_test_function.<locals>.test_function at 0x000002B51256FA60> and will run it as-is.\n",
      "Please report this to the TensorFlow team. When filing the bug, set the verbosity to 10 (on Linux, `export AUTOGRAPH_VERBOSITY=10`) and attach the full output.\n",
      "Cause: 'arguments' object has no attribute 'posonlyargs'\n",
      "To silence this warning, decorate the function with @tf.autograph.experimental.do_not_convert\n",
      "4/4 [==============================] - 9s 2s/step - loss: 0.0893 - accuracy: 0.9600 - val_loss: 0.1266 - val_accuracy: 0.9625\n",
      "Epoch 2/15\n",
      "4/4 [==============================] - 6s 2s/step - loss: 0.0498 - accuracy: 0.9900 - val_loss: 0.1257 - val_accuracy: 0.9438\n",
      "Epoch 3/15\n",
      "4/4 [==============================] - 6s 2s/step - loss: 0.0700 - accuracy: 0.9700 - val_loss: 0.1400 - val_accuracy: 0.9438\n",
      "WARNING:tensorflow:`input_shape` is undefined or non-square, or `rows` is not in [96, 128, 160, 192, 224]. Weights for input shape (224, 224) will be loaded as the default.\n",
      "Epoch 1/15\n",
      "WARNING:tensorflow:AutoGraph could not transform <function Model.make_train_function.<locals>.train_function at 0x000002B50EDF3158> and will run it as-is.\n",
      "Please report this to the TensorFlow team. When filing the bug, set the verbosity to 10 (on Linux, `export AUTOGRAPH_VERBOSITY=10`) and attach the full output.\n",
      "Cause: 'arguments' object has no attribute 'posonlyargs'\n",
      "To silence this warning, decorate the function with @tf.autograph.experimental.do_not_convert\n",
      "WARNING: AutoGraph could not transform <function Model.make_train_function.<locals>.train_function at 0x000002B50EDF3158> and will run it as-is.\n",
      "Please report this to the TensorFlow team. When filing the bug, set the verbosity to 10 (on Linux, `export AUTOGRAPH_VERBOSITY=10`) and attach the full output.\n",
      "Cause: 'arguments' object has no attribute 'posonlyargs'\n",
      "To silence this warning, decorate the function with @tf.autograph.experimental.do_not_convert\n",
      "4/4 [==============================] - ETA: 0s - loss: 0.1072 - accuracy: 0.9500WARNING:tensorflow:AutoGraph could not transform <function Model.make_test_function.<locals>.test_function at 0x000002B518FC2A60> and will run it as-is.\n",
      "Please report this to the TensorFlow team. When filing the bug, set the verbosity to 10 (on Linux, `export AUTOGRAPH_VERBOSITY=10`) and attach the full output.\n",
      "Cause: 'arguments' object has no attribute 'posonlyargs'\n",
      "To silence this warning, decorate the function with @tf.autograph.experimental.do_not_convert\n",
      "WARNING: AutoGraph could not transform <function Model.make_test_function.<locals>.test_function at 0x000002B518FC2A60> and will run it as-is.\n",
      "Please report this to the TensorFlow team. When filing the bug, set the verbosity to 10 (on Linux, `export AUTOGRAPH_VERBOSITY=10`) and attach the full output.\n",
      "Cause: 'arguments' object has no attribute 'posonlyargs'\n",
      "To silence this warning, decorate the function with @tf.autograph.experimental.do_not_convert\n"
     ]
    },
    {
     "name": "stdout",
     "output_type": "stream",
     "text": [
      "4/4 [==============================] - 9s 2s/step - loss: 0.1072 - accuracy: 0.9500 - val_loss: 0.0946 - val_accuracy: 0.9688\n",
      "Epoch 2/15\n",
      "4/4 [==============================] - 6s 2s/step - loss: 0.0568 - accuracy: 0.9800 - val_loss: 0.1100 - val_accuracy: 0.9625\n",
      "Epoch 3/15\n",
      "4/4 [==============================] - 6s 2s/step - loss: 0.0332 - accuracy: 1.0000 - val_loss: 0.2131 - val_accuracy: 0.9375\n",
      "WARNING:tensorflow:`input_shape` is undefined or non-square, or `rows` is not in [96, 128, 160, 192, 224]. Weights for input shape (224, 224) will be loaded as the default.\n",
      "Epoch 1/15\n",
      "WARNING:tensorflow:AutoGraph could not transform <function Model.make_train_function.<locals>.train_function at 0x000002B51F202378> and will run it as-is.\n",
      "Please report this to the TensorFlow team. When filing the bug, set the verbosity to 10 (on Linux, `export AUTOGRAPH_VERBOSITY=10`) and attach the full output.\n",
      "Cause: 'arguments' object has no attribute 'posonlyargs'\n",
      "To silence this warning, decorate the function with @tf.autograph.experimental.do_not_convert\n",
      "WARNING: AutoGraph could not transform <function Model.make_train_function.<locals>.train_function at 0x000002B51F202378> and will run it as-is.\n",
      "Please report this to the TensorFlow team. When filing the bug, set the verbosity to 10 (on Linux, `export AUTOGRAPH_VERBOSITY=10`) and attach the full output.\n",
      "Cause: 'arguments' object has no attribute 'posonlyargs'\n",
      "To silence this warning, decorate the function with @tf.autograph.experimental.do_not_convert\n",
      "4/4 [==============================] - ETA: 0s - loss: 0.1183 - accuracy: 0.9600WARNING:tensorflow:AutoGraph could not transform <function Model.make_test_function.<locals>.test_function at 0x000002B520738950> and will run it as-is.\n",
      "Please report this to the TensorFlow team. When filing the bug, set the verbosity to 10 (on Linux, `export AUTOGRAPH_VERBOSITY=10`) and attach the full output.\n",
      "Cause: 'arguments' object has no attribute 'posonlyargs'\n",
      "To silence this warning, decorate the function with @tf.autograph.experimental.do_not_convert\n",
      "WARNING: AutoGraph could not transform <function Model.make_test_function.<locals>.test_function at 0x000002B520738950> and will run it as-is.\n",
      "Please report this to the TensorFlow team. When filing the bug, set the verbosity to 10 (on Linux, `export AUTOGRAPH_VERBOSITY=10`) and attach the full output.\n",
      "Cause: 'arguments' object has no attribute 'posonlyargs'\n",
      "To silence this warning, decorate the function with @tf.autograph.experimental.do_not_convert\n",
      "4/4 [==============================] - 10s 2s/step - loss: 0.1183 - accuracy: 0.9600 - val_loss: 0.2305 - val_accuracy: 0.9250\n",
      "Epoch 2/15\n",
      "4/4 [==============================] - 7s 2s/step - loss: 0.1826 - accuracy: 0.9300 - val_loss: 0.6850 - val_accuracy: 0.7000\n",
      "Epoch 3/15\n",
      "4/4 [==============================] - 7s 2s/step - loss: 0.2577 - accuracy: 0.8700 - val_loss: 0.3869 - val_accuracy: 0.8375\n"
     ]
    }
   ],
   "source": [
    "#搜索最佳迁移率R(验证理论)\n",
    "\n",
    "classifier_p = model.get_layer(model.layers[-1].name)\n",
    "r_list = get_r_list()\n",
    "best_acc = r_1_acc\n",
    "r_acc = []\n",
    "\n",
    "for i in range(len(r_list)):\n",
    "    r = r_list[i]\n",
    "    conv_base = tf.keras.applications.mobilenet_v2.MobileNetV2(weights='imagenet',include_top=False)\n",
    "    classifier = classifier_p\n",
    "    model = r_compiled_model()\n",
    "    filepath = 'mobilenet_v2_r_{:.2f}.keras'.format(r)\n",
    "    callbacks = [tf.keras.callbacks.EarlyStopping(monitor='val_accuracy',patience=2),\n",
    "                 tf.keras.callbacks.ModelCheckpoint(filepath=filepath,\n",
    "                                                    monitor='val_accuracy',\n",
    "                                                    save_best_only=True)]\n",
    "    history = model.fit(train_images,train_labels,\n",
    "                        epochs=15,\n",
    "                        validation_data=(val_images,val_labels),\n",
    "                        callbacks=callbacks)\n",
    "    r_acc.append(max(history.history['val_accuracy']))\n",
    "    \n",
    "    if i == 0 and r_acc[0] < r_1_acc:\n",
    "        r_list = r_list[:1]+r_list[:0:-1]\n",
    "        continue\n",
    "    if r_acc[i] > best_acc:\n",
    "        best_acc = r_acc[i]"
   ]
  },
  {
   "cell_type": "code",
   "execution_count": 6,
   "id": "190b287d",
   "metadata": {},
   "outputs": [
    {
     "name": "stdout",
     "output_type": "stream",
     "text": [
      "[0, 0.922077922077922, 0.8636363636363636, 0.7467532467532467, 0.6883116883116883, 0.577922077922078, 0.5194805194805194, 0.461038961038961, 0.34415584415584416, 0.2857142857142857, 0.16883116883116883]\n",
      "[0.875, 0.96875, 0.96875, 0.9624999761581421, 0.9312499761581421, 0.9624999761581421, 0.96875, 0.96875, 0.9624999761581421, 0.96875, 0.925000011920929]\n"
     ]
    }
   ],
   "source": [
    "#观察结果\n",
    "\n",
    "print(r_list)\n",
    "print(r_acc)"
   ]
  },
  {
   "cell_type": "code",
   "execution_count": 7,
   "id": "b93cb656",
   "metadata": {},
   "outputs": [
    {
     "name": "stdout",
     "output_type": "stream",
     "text": [
      "[1, 0.922077922077922, 0.8636363636363636, 0.7467532467532467, 0.6883116883116883, 0.577922077922078, 0.5194805194805194, 0.461038961038961, 0.34415584415584416, 0.2857142857142857, 0.16883116883116883, 0]\n",
      "[0.9624999761581421, 0.96875, 0.96875, 0.9624999761581421, 0.9312499761581421, 0.9624999761581421, 0.96875, 0.96875, 0.9624999761581421, 0.96875, 0.925000011920929, 0.875]\n"
     ]
    }
   ],
   "source": [
    "##整理结果\n",
    "\n",
    "r_list.pop(0)\n",
    "r_0_acc = r_acc.pop(0)\n",
    "\n",
    "r_list.append(0)\n",
    "r_acc.append(r_0_acc)\n",
    "\n",
    "r_list.insert(0,1)\n",
    "r_acc.insert(0,r_1_acc)\n",
    "print(r_list)\n",
    "print(r_acc)"
   ]
  },
  {
   "cell_type": "code",
   "execution_count": 8,
   "id": "180d2d2c",
   "metadata": {},
   "outputs": [
    {
     "data": {
      "image/png": "[encoded data removed]",
      "text/plain": [
       "<Figure size 640x480 with 1 Axes>"
      ]
     },
     "metadata": {},
     "output_type": "display_data"
    }
   ],
   "source": [
    "#展示结果\n",
    "\n",
    "import matplotlib.pyplot as plt\n",
    "plt.figure()\n",
    "plt.plot(r_list,r_acc,linestyle='-',marker='o',color='r',label='mobilenet_v2')\n",
    "plt.xlabel('transfer rate')\n",
    "plt.ylabel('accuracy')\n",
    "plt.ylim((0.7,1))\n",
    "\n",
    "plt.title('Validation accuracy')\n",
    "plt.legend()\n",
    "plt.show()\n"
   ]
  },
  {
   "cell_type": "code",
   "execution_count": 9,
   "id": "fae62708",
   "metadata": {},
   "outputs": [
    {
     "name": "stdout",
     "output_type": "stream",
     "text": [
      "Found 1000 files belonging to 2 classes.\n"
     ]
    }
   ],
   "source": [
    "#在unlabel(test)数据集上测试\n",
    "\n",
    "base_dir = pathlib.Path('chest_xray2')\n",
    "test_dataset = tf.keras.utils.image_dataset_from_directory(base_dir/'unlabel',\n",
    "                                                            image_size=(224,224),\n",
    "                                                            batch_size=32)\n",
    "test_images,test_labels = preprocess_data(test_dataset)"
   ]
  },
  {
   "cell_type": "code",
   "execution_count": 10,
   "id": "12991410",
   "metadata": {},
   "outputs": [],
   "source": [
    "model_0 = tf.keras.models.load_model('mobilenet_v2_r_0.00.keras')\n",
    "model_1 = tf.keras.models.load_model('mobilenet_v2_r_0.17.keras')\n",
    "model_2 = tf.keras.models.load_model('mobilenet_v2_r_0.29.keras')\n",
    "model_3 = tf.keras.models.load_model('mobilenet_v2_r_0.34.keras')\n",
    "model_4 = tf.keras.models.load_model('mobilenet_v2_r_0.46.keras')\n",
    "model_5 = tf.keras.models.load_model('mobilenet_v2_r_0.52.keras')\n",
    "model_6 = tf.keras.models.load_model('mobilenet_v2_r_0.58.keras')\n",
    "model_7 = tf.keras.models.load_model('mobilenet_v2_r_0.69.keras')\n",
    "model_8 = tf.keras.models.load_model('mobilenet_v2_r_0.75.keras')\n",
    "model_9 = tf.keras.models.load_model('mobilenet_v2_r_0.86.keras')\n",
    "model_10 = tf.keras.models.load_model('mobilenet_v2_r_0.92.keras')\n",
    "model_11 = tf.keras.models.load_model('mobilenet_v2_r_1.00.keras')"
   ]
  },
  {
   "cell_type": "code",
   "execution_count": 13,
   "id": "9dceca8b",
   "metadata": {},
   "outputs": [
    {
     "name": "stdout",
     "output_type": "stream",
     "text": [
      "32/32 [==============================] - 16s 511ms/step - loss: 0.7039 - accuracy: 0.7360\n",
      "0.7360000014305115\n"
     ]
    }
   ],
   "source": [
    "r_acc_t = []\n",
    "test_loss,test_acc = model_0.evaluate(test_images,test_labels)\n",
    "print(test_acc)\n",
    "r_acc_t.append(test_acc)"
   ]
  },
  {
   "cell_type": "code",
   "execution_count": 15,
   "id": "a2d4965b",
   "metadata": {},
   "outputs": [
    {
     "name": "stdout",
     "output_type": "stream",
     "text": [
      "WARNING:tensorflow:AutoGraph could not transform <function Model.make_test_function.<locals>.test_function at 0x000002B53A125E18> and will run it as-is.\n",
      "Please report this to the TensorFlow team. When filing the bug, set the verbosity to 10 (on Linux, `export AUTOGRAPH_VERBOSITY=10`) and attach the full output.\n",
      "Cause: 'arguments' object has no attribute 'posonlyargs'\n",
      "To silence this warning, decorate the function with @tf.autograph.experimental.do_not_convert\n",
      "WARNING: AutoGraph could not transform <function Model.make_test_function.<locals>.test_function at 0x000002B53A125E18> and will run it as-is.\n",
      "Please report this to the TensorFlow team. When filing the bug, set the verbosity to 10 (on Linux, `export AUTOGRAPH_VERBOSITY=10`) and attach the full output.\n",
      "Cause: 'arguments' object has no attribute 'posonlyargs'\n",
      "To silence this warning, decorate the function with @tf.autograph.experimental.do_not_convert\n",
      "32/32 [==============================] - 17s 495ms/step - loss: 0.3769 - accuracy: 0.8500\n",
      "0.8500000238418579\n"
     ]
    }
   ],
   "source": [
    "test_loss,test_acc = model_1.evaluate(test_images,test_labels)\n",
    "print(test_acc)\n",
    "r_acc_t.append(test_acc)"
   ]
  },
  {
   "cell_type": "code",
   "execution_count": 16,
   "id": "8d28ee60",
   "metadata": {},
   "outputs": [
    {
     "name": "stdout",
     "output_type": "stream",
     "text": [
      "32/32 [==============================] - 16s 493ms/step - loss: 0.2567 - accuracy: 0.8890\n",
      "0.8889999985694885\n"
     ]
    }
   ],
   "source": [
    "test_loss,test_acc = model_2.evaluate(test_images,test_labels)\n",
    "print(test_acc)\n",
    "r_acc_t.append(test_acc)"
   ]
  },
  {
   "cell_type": "code",
   "execution_count": 17,
   "id": "9baac48c",
   "metadata": {},
   "outputs": [
    {
     "name": "stdout",
     "output_type": "stream",
     "text": [
      "WARNING:tensorflow:AutoGraph could not transform <function Model.make_test_function.<locals>.test_function at 0x000002B53CD9C730> and will run it as-is.\n",
      "Please report this to the TensorFlow team. When filing the bug, set the verbosity to 10 (on Linux, `export AUTOGRAPH_VERBOSITY=10`) and attach the full output.\n",
      "Cause: 'arguments' object has no attribute 'posonlyargs'\n",
      "To silence this warning, decorate the function with @tf.autograph.experimental.do_not_convert\n",
      "WARNING: AutoGraph could not transform <function Model.make_test_function.<locals>.test_function at 0x000002B53CD9C730> and will run it as-is.\n",
      "Please report this to the TensorFlow team. When filing the bug, set the verbosity to 10 (on Linux, `export AUTOGRAPH_VERBOSITY=10`) and attach the full output.\n",
      "Cause: 'arguments' object has no attribute 'posonlyargs'\n",
      "To silence this warning, decorate the function with @tf.autograph.experimental.do_not_convert\n",
      "32/32 [==============================] - 17s 496ms/step - loss: 0.3760 - accuracy: 0.8530\n",
      "0.8529999852180481\n"
     ]
    }
   ],
   "source": [
    "test_loss,test_acc = model_3.evaluate(test_images,test_labels)\n",
    "print(test_acc)\n",
    "r_acc_t.append(test_acc)"
   ]
  },
  {
   "cell_type": "code",
   "execution_count": 18,
   "id": "120aeb0e",
   "metadata": {},
   "outputs": [
    {
     "name": "stdout",
     "output_type": "stream",
     "text": [
      "WARNING:tensorflow:AutoGraph could not transform <function Model.make_test_function.<locals>.test_function at 0x000002B53A2D6730> and will run it as-is.\n",
      "Please report this to the TensorFlow team. When filing the bug, set the verbosity to 10 (on Linux, `export AUTOGRAPH_VERBOSITY=10`) and attach the full output.\n",
      "Cause: 'arguments' object has no attribute 'posonlyargs'\n",
      "To silence this warning, decorate the function with @tf.autograph.experimental.do_not_convert\n",
      "WARNING: AutoGraph could not transform <function Model.make_test_function.<locals>.test_function at 0x000002B53A2D6730> and will run it as-is.\n",
      "Please report this to the TensorFlow team. When filing the bug, set the verbosity to 10 (on Linux, `export AUTOGRAPH_VERBOSITY=10`) and attach the full output.\n",
      "Cause: 'arguments' object has no attribute 'posonlyargs'\n",
      "To silence this warning, decorate the function with @tf.autograph.experimental.do_not_convert\n",
      "32/32 [==============================] - 16s 487ms/step - loss: 0.2362 - accuracy: 0.9060\n",
      "0.906000018119812\n"
     ]
    }
   ],
   "source": [
    "test_loss,test_acc = model_4.evaluate(test_images,test_labels)\n",
    "print(test_acc)\n",
    "r_acc_t.append(test_acc)"
   ]
  },
  {
   "cell_type": "code",
   "execution_count": 19,
   "id": "f4ee830e",
   "metadata": {},
   "outputs": [
    {
     "name": "stdout",
     "output_type": "stream",
     "text": [
      "WARNING:tensorflow:AutoGraph could not transform <function Model.make_test_function.<locals>.test_function at 0x000002B50EE65048> and will run it as-is.\n",
      "Please report this to the TensorFlow team. When filing the bug, set the verbosity to 10 (on Linux, `export AUTOGRAPH_VERBOSITY=10`) and attach the full output.\n",
      "Cause: 'arguments' object has no attribute 'posonlyargs'\n",
      "To silence this warning, decorate the function with @tf.autograph.experimental.do_not_convert\n",
      "WARNING: AutoGraph could not transform <function Model.make_test_function.<locals>.test_function at 0x000002B50EE65048> and will run it as-is.\n",
      "Please report this to the TensorFlow team. When filing the bug, set the verbosity to 10 (on Linux, `export AUTOGRAPH_VERBOSITY=10`) and attach the full output.\n",
      "Cause: 'arguments' object has no attribute 'posonlyargs'\n",
      "To silence this warning, decorate the function with @tf.autograph.experimental.do_not_convert\n",
      "32/32 [==============================] - 17s 507ms/step - loss: 0.2435 - accuracy: 0.9020\n",
      "0.9020000100135803\n"
     ]
    }
   ],
   "source": [
    "test_loss,test_acc = model_5.evaluate(test_images,test_labels)\n",
    "print(test_acc)\n",
    "r_acc_t.append(test_acc)"
   ]
  },
  {
   "cell_type": "code",
   "execution_count": 20,
   "id": "e7d12a89",
   "metadata": {},
   "outputs": [
    {
     "name": "stdout",
     "output_type": "stream",
     "text": [
      "WARNING:tensorflow:AutoGraph could not transform <function Model.make_test_function.<locals>.test_function at 0x000002B5081910D0> and will run it as-is.\n",
      "Please report this to the TensorFlow team. When filing the bug, set the verbosity to 10 (on Linux, `export AUTOGRAPH_VERBOSITY=10`) and attach the full output.\n",
      "Cause: 'arguments' object has no attribute 'posonlyargs'\n",
      "To silence this warning, decorate the function with @tf.autograph.experimental.do_not_convert\n",
      "WARNING: AutoGraph could not transform <function Model.make_test_function.<locals>.test_function at 0x000002B5081910D0> and will run it as-is.\n",
      "Please report this to the TensorFlow team. When filing the bug, set the verbosity to 10 (on Linux, `export AUTOGRAPH_VERBOSITY=10`) and attach the full output.\n",
      "Cause: 'arguments' object has no attribute 'posonlyargs'\n",
      "To silence this warning, decorate the function with @tf.autograph.experimental.do_not_convert\n",
      "32/32 [==============================] - 17s 508ms/step - loss: 0.2345 - accuracy: 0.9070\n",
      "0.9070000052452087\n"
     ]
    }
   ],
   "source": [
    "test_loss,test_acc = model_6.evaluate(test_images,test_labels)\n",
    "print(test_acc)\n",
    "r_acc_t.append(test_acc)"
   ]
  },
  {
   "cell_type": "code",
   "execution_count": 21,
   "id": "58768931",
   "metadata": {},
   "outputs": [
    {
     "name": "stdout",
     "output_type": "stream",
     "text": [
      "WARNING:tensorflow:AutoGraph could not transform <function Model.make_test_function.<locals>.test_function at 0x000002B53A125840> and will run it as-is.\n",
      "Please report this to the TensorFlow team. When filing the bug, set the verbosity to 10 (on Linux, `export AUTOGRAPH_VERBOSITY=10`) and attach the full output.\n",
      "Cause: 'arguments' object has no attribute 'posonlyargs'\n",
      "To silence this warning, decorate the function with @tf.autograph.experimental.do_not_convert\n",
      "WARNING: AutoGraph could not transform <function Model.make_test_function.<locals>.test_function at 0x000002B53A125840> and will run it as-is.\n",
      "Please report this to the TensorFlow team. When filing the bug, set the verbosity to 10 (on Linux, `export AUTOGRAPH_VERBOSITY=10`) and attach the full output.\n",
      "Cause: 'arguments' object has no attribute 'posonlyargs'\n",
      "To silence this warning, decorate the function with @tf.autograph.experimental.do_not_convert\n",
      "32/32 [==============================] - 17s 498ms/step - loss: 0.3492 - accuracy: 0.8720\n",
      "0.871999979019165\n"
     ]
    }
   ],
   "source": [
    "test_loss,test_acc = model_7.evaluate(test_images,test_labels)\n",
    "print(test_acc)\n",
    "r_acc_t.append(test_acc)"
   ]
  },
  {
   "cell_type": "code",
   "execution_count": 22,
   "id": "8150d4e2",
   "metadata": {},
   "outputs": [
    {
     "name": "stdout",
     "output_type": "stream",
     "text": [
      "WARNING:tensorflow:AutoGraph could not transform <function Model.make_test_function.<locals>.test_function at 0x000002B53E57C2F0> and will run it as-is.\n",
      "Please report this to the TensorFlow team. When filing the bug, set the verbosity to 10 (on Linux, `export AUTOGRAPH_VERBOSITY=10`) and attach the full output.\n",
      "Cause: 'arguments' object has no attribute 'posonlyargs'\n",
      "To silence this warning, decorate the function with @tf.autograph.experimental.do_not_convert\n",
      "WARNING: AutoGraph could not transform <function Model.make_test_function.<locals>.test_function at 0x000002B53E57C2F0> and will run it as-is.\n",
      "Please report this to the TensorFlow team. When filing the bug, set the verbosity to 10 (on Linux, `export AUTOGRAPH_VERBOSITY=10`) and attach the full output.\n",
      "Cause: 'arguments' object has no attribute 'posonlyargs'\n",
      "To silence this warning, decorate the function with @tf.autograph.experimental.do_not_convert\n",
      "32/32 [==============================] - 16s 489ms/step - loss: 0.3094 - accuracy: 0.8680\n",
      "0.8679999709129333\n"
     ]
    }
   ],
   "source": [
    "test_loss,test_acc = model_8.evaluate(test_images,test_labels)\n",
    "print(test_acc)\n",
    "r_acc_t.append(test_acc)"
   ]
  },
  {
   "cell_type": "code",
   "execution_count": 23,
   "id": "4a5909bd",
   "metadata": {},
   "outputs": [
    {
     "name": "stdout",
     "output_type": "stream",
     "text": [
      "WARNING:tensorflow:AutoGraph could not transform <function Model.make_test_function.<locals>.test_function at 0x000002B53E5AB268> and will run it as-is.\n",
      "Please report this to the TensorFlow team. When filing the bug, set the verbosity to 10 (on Linux, `export AUTOGRAPH_VERBOSITY=10`) and attach the full output.\n",
      "Cause: 'arguments' object has no attribute 'posonlyargs'\n",
      "To silence this warning, decorate the function with @tf.autograph.experimental.do_not_convert\n",
      "WARNING: AutoGraph could not transform <function Model.make_test_function.<locals>.test_function at 0x000002B53E5AB268> and will run it as-is.\n",
      "Please report this to the TensorFlow team. When filing the bug, set the verbosity to 10 (on Linux, `export AUTOGRAPH_VERBOSITY=10`) and attach the full output.\n",
      "Cause: 'arguments' object has no attribute 'posonlyargs'\n",
      "To silence this warning, decorate the function with @tf.autograph.experimental.do_not_convert\n",
      "32/32 [==============================] - 16s 489ms/step - loss: 0.2830 - accuracy: 0.8850\n",
      "0.8849999904632568\n"
     ]
    }
   ],
   "source": [
    "test_loss,test_acc = model_9.evaluate(test_images,test_labels)\n",
    "print(test_acc)\n",
    "r_acc_t.append(test_acc)"
   ]
  },
  {
   "cell_type": "code",
   "execution_count": 24,
   "id": "52717ed9",
   "metadata": {},
   "outputs": [
    {
     "name": "stdout",
     "output_type": "stream",
     "text": [
      "WARNING:tensorflow:AutoGraph could not transform <function Model.make_test_function.<locals>.test_function at 0x000002B53E762E18> and will run it as-is.\n",
      "Please report this to the TensorFlow team. When filing the bug, set the verbosity to 10 (on Linux, `export AUTOGRAPH_VERBOSITY=10`) and attach the full output.\n",
      "Cause: 'arguments' object has no attribute 'posonlyargs'\n",
      "To silence this warning, decorate the function with @tf.autograph.experimental.do_not_convert\n",
      "WARNING: AutoGraph could not transform <function Model.make_test_function.<locals>.test_function at 0x000002B53E762E18> and will run it as-is.\n",
      "Please report this to the TensorFlow team. When filing the bug, set the verbosity to 10 (on Linux, `export AUTOGRAPH_VERBOSITY=10`) and attach the full output.\n",
      "Cause: 'arguments' object has no attribute 'posonlyargs'\n",
      "To silence this warning, decorate the function with @tf.autograph.experimental.do_not_convert\n",
      "32/32 [==============================] - 16s 491ms/step - loss: 0.2354 - accuracy: 0.9020\n",
      "0.9020000100135803\n"
     ]
    }
   ],
   "source": [
    "test_loss,test_acc = model_10.evaluate(test_images,test_labels)\n",
    "print(test_acc)\n",
    "r_acc_t.append(test_acc)"
   ]
  },
  {
   "cell_type": "code",
   "execution_count": 25,
   "id": "1179dc0a",
   "metadata": {},
   "outputs": [
    {
     "name": "stdout",
     "output_type": "stream",
     "text": [
      "WARNING:tensorflow:AutoGraph could not transform <function Model.make_test_function.<locals>.test_function at 0x000002B53E5AB598> and will run it as-is.\n",
      "Please report this to the TensorFlow team. When filing the bug, set the verbosity to 10 (on Linux, `export AUTOGRAPH_VERBOSITY=10`) and attach the full output.\n",
      "Cause: 'arguments' object has no attribute 'posonlyargs'\n",
      "To silence this warning, decorate the function with @tf.autograph.experimental.do_not_convert\n",
      "WARNING: AutoGraph could not transform <function Model.make_test_function.<locals>.test_function at 0x000002B53E5AB598> and will run it as-is.\n",
      "Please report this to the TensorFlow team. When filing the bug, set the verbosity to 10 (on Linux, `export AUTOGRAPH_VERBOSITY=10`) and attach the full output.\n",
      "Cause: 'arguments' object has no attribute 'posonlyargs'\n",
      "To silence this warning, decorate the function with @tf.autograph.experimental.do_not_convert\n",
      "32/32 [==============================] - 17s 519ms/step - loss: 0.3046 - accuracy: 0.8670\n",
      "0.8669999837875366\n"
     ]
    }
   ],
   "source": [
    "test_loss,test_acc = model_11.evaluate(test_images,test_labels)\n",
    "print(test_acc)\n",
    "r_acc_t.append(test_acc)"
   ]
  },
  {
   "cell_type": "code",
   "execution_count": 26,
   "id": "8c217834",
   "metadata": {},
   "outputs": [
    {
     "name": "stdout",
     "output_type": "stream",
     "text": [
      "[0.8669999837875366, 0.9020000100135803, 0.8849999904632568, 0.8679999709129333, 0.871999979019165, 0.9070000052452087, 0.9020000100135803, 0.906000018119812, 0.8529999852180481, 0.8889999985694885, 0.8500000238418579, 0.7360000014305115]\n"
     ]
    }
   ],
   "source": [
    "r_acc_t = r_acc_t[::-1]\n",
    "print(r_acc_t)"
   ]
  },
  {
   "cell_type": "code",
   "execution_count": 27,
   "id": "d2349346",
   "metadata": {},
   "outputs": [
    {
     "data": {
      "image/png": "[encoded data removed]",
      "text/plain": [
       "<Figure size 640x480 with 1 Axes>"
      ]
     },
     "metadata": {},
     "output_type": "display_data"
    }
   ],
   "source": [
    "import matplotlib.pyplot as plt\n",
    "plt.figure()\n",
    "plt.plot(r_list,r_acc,linestyle='-',marker='o',color='r',label='validation accuracy')\n",
    "plt.plot(r_list,r_acc_t,linestyle='--',marker='o',color='r',label='test accuracy')\n",
    "plt.xlabel('transfer rate')\n",
    "plt.ylabel('accuracy')\n",
    "plt.ylim((0.7,1))\n",
    "\n",
    "plt.title('MobilenetV2 performance')\n",
    "plt.legend()\n",
    "plt.show()"
   ]
  },
  {
   "cell_type": "code",
   "execution_count": 28,
   "id": "fc21c74b",
   "metadata": {},
   "outputs": [],
   "source": [
    "#在unlabel(test)数据集上测试聚类\n",
    "from sklearn.cluster import KMeans\n",
    "from sklearn.metrics import accuracy_score"
   ]
  },
  {
   "cell_type": "code",
   "execution_count": 29,
   "id": "3e7ba427",
   "metadata": {},
   "outputs": [
    {
     "name": "stdout",
     "output_type": "stream",
     "text": [
      "WARNING:tensorflow:AutoGraph could not transform <function Model.make_predict_function.<locals>.predict_function at 0x000002B53FCA7D90> and will run it as-is.\n",
      "Please report this to the TensorFlow team. When filing the bug, set the verbosity to 10 (on Linux, `export AUTOGRAPH_VERBOSITY=10`) and attach the full output.\n",
      "Cause: 'arguments' object has no attribute 'posonlyargs'\n",
      "To silence this warning, decorate the function with @tf.autograph.experimental.do_not_convert\n",
      "WARNING: AutoGraph could not transform <function Model.make_predict_function.<locals>.predict_function at 0x000002B53FCA7D90> and will run it as-is.\n",
      "Please report this to the TensorFlow team. When filing the bug, set the verbosity to 10 (on Linux, `export AUTOGRAPH_VERBOSITY=10`) and attach the full output.\n",
      "Cause: 'arguments' object has no attribute 'posonlyargs'\n",
      "To silence this warning, decorate the function with @tf.autograph.experimental.do_not_convert\n"
     ]
    }
   ],
   "source": [
    "feature = tf.keras.layers.GlobalAveragePooling2D()(model_0.get_layer('out_relu').output)\n",
    "encoder_0 = tf.keras.Model(inputs=model_0.input,outputs=feature)\n",
    "X = encoder_0.predict(test_images)"
   ]
  },
  {
   "cell_type": "code",
   "execution_count": 34,
   "id": "4f975a55",
   "metadata": {},
   "outputs": [
    {
     "name": "stdout",
     "output_type": "stream",
     "text": [
      "0.854\n"
     ]
    }
   ],
   "source": [
    "kmeans = KMeans(n_clusters=2, n_init=20)\n",
    "y_pred = kmeans.fit_predict(X)\n",
    "acc = accuracy_score(test_labels,y_pred)\n",
    "print(acc)"
   ]
  },
  {
   "cell_type": "code",
   "execution_count": 35,
   "id": "4f6cd678",
   "metadata": {},
   "outputs": [
    {
     "name": "stdout",
     "output_type": "stream",
     "text": [
      "WARNING:tensorflow:AutoGraph could not transform <function Model.make_predict_function.<locals>.predict_function at 0x000002B53FDF9268> and will run it as-is.\n",
      "Please report this to the TensorFlow team. When filing the bug, set the verbosity to 10 (on Linux, `export AUTOGRAPH_VERBOSITY=10`) and attach the full output.\n",
      "Cause: 'arguments' object has no attribute 'posonlyargs'\n",
      "To silence this warning, decorate the function with @tf.autograph.experimental.do_not_convert\n",
      "WARNING: AutoGraph could not transform <function Model.make_predict_function.<locals>.predict_function at 0x000002B53FDF9268> and will run it as-is.\n",
      "Please report this to the TensorFlow team. When filing the bug, set the verbosity to 10 (on Linux, `export AUTOGRAPH_VERBOSITY=10`) and attach the full output.\n",
      "Cause: 'arguments' object has no attribute 'posonlyargs'\n",
      "To silence this warning, decorate the function with @tf.autograph.experimental.do_not_convert\n"
     ]
    }
   ],
   "source": [
    "feature = tf.keras.layers.GlobalAveragePooling2D()(model_1.get_layer('out_relu').output)\n",
    "encoder_1 = tf.keras.Model(inputs=model_1.input,outputs=feature)\n",
    "X = encoder_1.predict(test_images)"
   ]
  },
  {
   "cell_type": "code",
   "execution_count": 37,
   "id": "0ef8a286",
   "metadata": {},
   "outputs": [
    {
     "name": "stdout",
     "output_type": "stream",
     "text": [
      "0.851\n"
     ]
    }
   ],
   "source": [
    "kmeans = KMeans(n_clusters=2, n_init=20)\n",
    "y_pred = kmeans.fit_predict(X)\n",
    "acc = accuracy_score(test_labels,y_pred)\n",
    "print(acc)"
   ]
  },
  {
   "cell_type": "code",
   "execution_count": 38,
   "id": "1bfa5b1f",
   "metadata": {},
   "outputs": [
    {
     "name": "stdout",
     "output_type": "stream",
     "text": [
      "WARNING:tensorflow:AutoGraph could not transform <function Model.make_predict_function.<locals>.predict_function at 0x000002B53FE30268> and will run it as-is.\n",
      "Please report this to the TensorFlow team. When filing the bug, set the verbosity to 10 (on Linux, `export AUTOGRAPH_VERBOSITY=10`) and attach the full output.\n",
      "Cause: 'arguments' object has no attribute 'posonlyargs'\n",
      "To silence this warning, decorate the function with @tf.autograph.experimental.do_not_convert\n",
      "WARNING: AutoGraph could not transform <function Model.make_predict_function.<locals>.predict_function at 0x000002B53FE30268> and will run it as-is.\n",
      "Please report this to the TensorFlow team. When filing the bug, set the verbosity to 10 (on Linux, `export AUTOGRAPH_VERBOSITY=10`) and attach the full output.\n",
      "Cause: 'arguments' object has no attribute 'posonlyargs'\n",
      "To silence this warning, decorate the function with @tf.autograph.experimental.do_not_convert\n"
     ]
    }
   ],
   "source": [
    "feature = tf.keras.layers.GlobalAveragePooling2D()(model_2.get_layer('out_relu').output)\n",
    "encoder_2 = tf.keras.Model(inputs=model_2.input,outputs=feature)\n",
    "X = encoder_2.predict(test_images)"
   ]
  },
  {
   "cell_type": "code",
   "execution_count": 40,
   "id": "e1cec2e5",
   "metadata": {},
   "outputs": [
    {
     "name": "stdout",
     "output_type": "stream",
     "text": [
      "0.844\n"
     ]
    }
   ],
   "source": [
    "kmeans = KMeans(n_clusters=2, n_init=20)\n",
    "y_pred = kmeans.fit_predict(X)\n",
    "acc = accuracy_score(test_labels,y_pred)\n",
    "print(acc)"
   ]
  },
  {
   "cell_type": "code",
   "execution_count": 41,
   "id": "961ebd31",
   "metadata": {},
   "outputs": [
    {
     "name": "stdout",
     "output_type": "stream",
     "text": [
      "WARNING:tensorflow:AutoGraph could not transform <function Model.make_predict_function.<locals>.predict_function at 0x000002B53FFBCF28> and will run it as-is.\n",
      "Please report this to the TensorFlow team. When filing the bug, set the verbosity to 10 (on Linux, `export AUTOGRAPH_VERBOSITY=10`) and attach the full output.\n",
      "Cause: 'arguments' object has no attribute 'posonlyargs'\n",
      "To silence this warning, decorate the function with @tf.autograph.experimental.do_not_convert\n",
      "WARNING: AutoGraph could not transform <function Model.make_predict_function.<locals>.predict_function at 0x000002B53FFBCF28> and will run it as-is.\n",
      "Please report this to the TensorFlow team. When filing the bug, set the verbosity to 10 (on Linux, `export AUTOGRAPH_VERBOSITY=10`) and attach the full output.\n",
      "Cause: 'arguments' object has no attribute 'posonlyargs'\n",
      "To silence this warning, decorate the function with @tf.autograph.experimental.do_not_convert\n"
     ]
    }
   ],
   "source": [
    "feature = tf.keras.layers.GlobalAveragePooling2D()(model_3.get_layer('out_relu').output)\n",
    "encoder_3 = tf.keras.Model(inputs=model_3.input,outputs=feature)\n",
    "X = encoder_3.predict(test_images)"
   ]
  },
  {
   "cell_type": "code",
   "execution_count": 42,
   "id": "2aaff7b2",
   "metadata": {},
   "outputs": [
    {
     "name": "stdout",
     "output_type": "stream",
     "text": [
      "0.858\n"
     ]
    }
   ],
   "source": [
    "kmeans = KMeans(n_clusters=2, n_init=20)\n",
    "y_pred = kmeans.fit_predict(X)\n",
    "acc = accuracy_score(test_labels,y_pred)\n",
    "print(acc)"
   ]
  },
  {
   "cell_type": "code",
   "execution_count": 43,
   "id": "1502188a",
   "metadata": {},
   "outputs": [
    {
     "name": "stdout",
     "output_type": "stream",
     "text": [
      "WARNING:tensorflow:AutoGraph could not transform <function Model.make_predict_function.<locals>.predict_function at 0x000002B5403140D0> and will run it as-is.\n",
      "Please report this to the TensorFlow team. When filing the bug, set the verbosity to 10 (on Linux, `export AUTOGRAPH_VERBOSITY=10`) and attach the full output.\n",
      "Cause: 'arguments' object has no attribute 'posonlyargs'\n",
      "To silence this warning, decorate the function with @tf.autograph.experimental.do_not_convert\n",
      "WARNING: AutoGraph could not transform <function Model.make_predict_function.<locals>.predict_function at 0x000002B5403140D0> and will run it as-is.\n",
      "Please report this to the TensorFlow team. When filing the bug, set the verbosity to 10 (on Linux, `export AUTOGRAPH_VERBOSITY=10`) and attach the full output.\n",
      "Cause: 'arguments' object has no attribute 'posonlyargs'\n",
      "To silence this warning, decorate the function with @tf.autograph.experimental.do_not_convert\n"
     ]
    }
   ],
   "source": [
    "feature = tf.keras.layers.GlobalAveragePooling2D()(model_4.get_layer('out_relu').output)\n",
    "encoder_4 = tf.keras.Model(inputs=model_4.input,outputs=feature)\n",
    "X = encoder_4.predict(test_images)"
   ]
  },
  {
   "cell_type": "code",
   "execution_count": 45,
   "id": "2b0c9c5b",
   "metadata": {},
   "outputs": [
    {
     "name": "stdout",
     "output_type": "stream",
     "text": [
      "0.851\n"
     ]
    }
   ],
   "source": [
    "kmeans = KMeans(n_clusters=2, n_init=20)\n",
    "y_pred = kmeans.fit_predict(X)\n",
    "acc = accuracy_score(test_labels,y_pred)\n",
    "print(acc)"
   ]
  },
  {
   "cell_type": "code",
   "execution_count": 46,
   "id": "f4096854",
   "metadata": {},
   "outputs": [
    {
     "name": "stdout",
     "output_type": "stream",
     "text": [
      "WARNING:tensorflow:AutoGraph could not transform <function Model.make_predict_function.<locals>.predict_function at 0x000002B5404A8378> and will run it as-is.\n",
      "Please report this to the TensorFlow team. When filing the bug, set the verbosity to 10 (on Linux, `export AUTOGRAPH_VERBOSITY=10`) and attach the full output.\n",
      "Cause: 'arguments' object has no attribute 'posonlyargs'\n",
      "To silence this warning, decorate the function with @tf.autograph.experimental.do_not_convert\n",
      "WARNING: AutoGraph could not transform <function Model.make_predict_function.<locals>.predict_function at 0x000002B5404A8378> and will run it as-is.\n",
      "Please report this to the TensorFlow team. When filing the bug, set the verbosity to 10 (on Linux, `export AUTOGRAPH_VERBOSITY=10`) and attach the full output.\n",
      "Cause: 'arguments' object has no attribute 'posonlyargs'\n",
      "To silence this warning, decorate the function with @tf.autograph.experimental.do_not_convert\n"
     ]
    }
   ],
   "source": [
    "feature = tf.keras.layers.GlobalAveragePooling2D()(model_5.get_layer('out_relu').output)\n",
    "encoder_5 = tf.keras.Model(inputs=model_5.input,outputs=feature)\n",
    "X = encoder_5.predict(test_images)"
   ]
  },
  {
   "cell_type": "code",
   "execution_count": 49,
   "id": "c49d1a19",
   "metadata": {},
   "outputs": [
    {
     "name": "stdout",
     "output_type": "stream",
     "text": [
      "0.845\n"
     ]
    }
   ],
   "source": [
    "kmeans = KMeans(n_clusters=2, n_init=20)\n",
    "y_pred = kmeans.fit_predict(X)\n",
    "acc = accuracy_score(test_labels,y_pred)\n",
    "print(acc)"
   ]
  },
  {
   "cell_type": "code",
   "execution_count": 50,
   "id": "f8a3590a",
   "metadata": {},
   "outputs": [
    {
     "name": "stdout",
     "output_type": "stream",
     "text": [
      "WARNING:tensorflow:AutoGraph could not transform <function Model.make_predict_function.<locals>.predict_function at 0x000002B5404E8D08> and will run it as-is.\n",
      "Please report this to the TensorFlow team. When filing the bug, set the verbosity to 10 (on Linux, `export AUTOGRAPH_VERBOSITY=10`) and attach the full output.\n",
      "Cause: 'arguments' object has no attribute 'posonlyargs'\n",
      "To silence this warning, decorate the function with @tf.autograph.experimental.do_not_convert\n",
      "WARNING: AutoGraph could not transform <function Model.make_predict_function.<locals>.predict_function at 0x000002B5404E8D08> and will run it as-is.\n",
      "Please report this to the TensorFlow team. When filing the bug, set the verbosity to 10 (on Linux, `export AUTOGRAPH_VERBOSITY=10`) and attach the full output.\n",
      "Cause: 'arguments' object has no attribute 'posonlyargs'\n",
      "To silence this warning, decorate the function with @tf.autograph.experimental.do_not_convert\n"
     ]
    }
   ],
   "source": [
    "feature = tf.keras.layers.GlobalAveragePooling2D()(model_6.get_layer('out_relu').output)\n",
    "encoder_6 = tf.keras.Model(inputs=model_6.input,outputs=feature)\n",
    "X = encoder_6.predict(test_images)"
   ]
  },
  {
   "cell_type": "code",
   "execution_count": 51,
   "id": "65fda502",
   "metadata": {},
   "outputs": [
    {
     "name": "stdout",
     "output_type": "stream",
     "text": [
      "0.846\n"
     ]
    }
   ],
   "source": [
    "kmeans = KMeans(n_clusters=2, n_init=20)\n",
    "y_pred = kmeans.fit_predict(X)\n",
    "acc = accuracy_score(test_labels,y_pred)\n",
    "print(acc)"
   ]
  },
  {
   "cell_type": "code",
   "execution_count": 52,
   "id": "6beed9a1",
   "metadata": {},
   "outputs": [
    {
     "name": "stdout",
     "output_type": "stream",
     "text": [
      "WARNING:tensorflow:AutoGraph could not transform <function Model.make_predict_function.<locals>.predict_function at 0x000002B540684C80> and will run it as-is.\n",
      "Please report this to the TensorFlow team. When filing the bug, set the verbosity to 10 (on Linux, `export AUTOGRAPH_VERBOSITY=10`) and attach the full output.\n",
      "Cause: 'arguments' object has no attribute 'posonlyargs'\n",
      "To silence this warning, decorate the function with @tf.autograph.experimental.do_not_convert\n",
      "WARNING: AutoGraph could not transform <function Model.make_predict_function.<locals>.predict_function at 0x000002B540684C80> and will run it as-is.\n",
      "Please report this to the TensorFlow team. When filing the bug, set the verbosity to 10 (on Linux, `export AUTOGRAPH_VERBOSITY=10`) and attach the full output.\n",
      "Cause: 'arguments' object has no attribute 'posonlyargs'\n",
      "To silence this warning, decorate the function with @tf.autograph.experimental.do_not_convert\n"
     ]
    }
   ],
   "source": [
    "feature = tf.keras.layers.GlobalAveragePooling2D()(model_7.get_layer('out_relu').output)\n",
    "encoder_7 = tf.keras.Model(inputs=model_7.input,outputs=feature)\n",
    "X = encoder_7.predict(test_images)"
   ]
  },
  {
   "cell_type": "code",
   "execution_count": 54,
   "id": "766fc6b0",
   "metadata": {},
   "outputs": [
    {
     "name": "stdout",
     "output_type": "stream",
     "text": [
      "0.855\n"
     ]
    }
   ],
   "source": [
    "kmeans = KMeans(n_clusters=2, n_init=20)\n",
    "y_pred = kmeans.fit_predict(X)\n",
    "acc = accuracy_score(test_labels,y_pred)\n",
    "print(acc)"
   ]
  },
  {
   "cell_type": "code",
   "execution_count": 55,
   "id": "d68b5aa9",
   "metadata": {},
   "outputs": [
    {
     "name": "stdout",
     "output_type": "stream",
     "text": [
      "WARNING:tensorflow:AutoGraph could not transform <function Model.make_predict_function.<locals>.predict_function at 0x000002B5404A8A60> and will run it as-is.\n",
      "Please report this to the TensorFlow team. When filing the bug, set the verbosity to 10 (on Linux, `export AUTOGRAPH_VERBOSITY=10`) and attach the full output.\n",
      "Cause: 'arguments' object has no attribute 'posonlyargs'\n",
      "To silence this warning, decorate the function with @tf.autograph.experimental.do_not_convert\n",
      "WARNING: AutoGraph could not transform <function Model.make_predict_function.<locals>.predict_function at 0x000002B5404A8A60> and will run it as-is.\n",
      "Please report this to the TensorFlow team. When filing the bug, set the verbosity to 10 (on Linux, `export AUTOGRAPH_VERBOSITY=10`) and attach the full output.\n",
      "Cause: 'arguments' object has no attribute 'posonlyargs'\n",
      "To silence this warning, decorate the function with @tf.autograph.experimental.do_not_convert\n"
     ]
    }
   ],
   "source": [
    "feature = tf.keras.layers.GlobalAveragePooling2D()(model_8.get_layer('out_relu').output)\n",
    "encoder_8 = tf.keras.Model(inputs=model_8.input,outputs=feature)\n",
    "X = encoder_8.predict(test_images)"
   ]
  },
  {
   "cell_type": "code",
   "execution_count": 58,
   "id": "7e7ce1e6",
   "metadata": {},
   "outputs": [
    {
     "name": "stdout",
     "output_type": "stream",
     "text": [
      "0.848\n"
     ]
    }
   ],
   "source": [
    "kmeans = KMeans(n_clusters=2, n_init=20)\n",
    "y_pred = kmeans.fit_predict(X)\n",
    "acc = accuracy_score(test_labels,y_pred)\n",
    "print(acc)"
   ]
  },
  {
   "cell_type": "code",
   "execution_count": 59,
   "id": "2ac489a2",
   "metadata": {},
   "outputs": [
    {
     "name": "stdout",
     "output_type": "stream",
     "text": [
      "WARNING:tensorflow:AutoGraph could not transform <function Model.make_predict_function.<locals>.predict_function at 0x000002B53FDF91E0> and will run it as-is.\n",
      "Please report this to the TensorFlow team. When filing the bug, set the verbosity to 10 (on Linux, `export AUTOGRAPH_VERBOSITY=10`) and attach the full output.\n",
      "Cause: 'arguments' object has no attribute 'posonlyargs'\n",
      "To silence this warning, decorate the function with @tf.autograph.experimental.do_not_convert\n",
      "WARNING: AutoGraph could not transform <function Model.make_predict_function.<locals>.predict_function at 0x000002B53FDF91E0> and will run it as-is.\n",
      "Please report this to the TensorFlow team. When filing the bug, set the verbosity to 10 (on Linux, `export AUTOGRAPH_VERBOSITY=10`) and attach the full output.\n",
      "Cause: 'arguments' object has no attribute 'posonlyargs'\n",
      "To silence this warning, decorate the function with @tf.autograph.experimental.do_not_convert\n"
     ]
    }
   ],
   "source": [
    "feature = tf.keras.layers.GlobalAveragePooling2D()(model_9.get_layer('out_relu').output)\n",
    "encoder_9 = tf.keras.Model(inputs=model_9.input,outputs=feature)\n",
    "X = encoder_9.predict(test_images)"
   ]
  },
  {
   "cell_type": "code",
   "execution_count": 61,
   "id": "a6c61fb4",
   "metadata": {},
   "outputs": [
    {
     "name": "stdout",
     "output_type": "stream",
     "text": [
      "0.862\n"
     ]
    }
   ],
   "source": [
    "kmeans = KMeans(n_clusters=2, n_init=20)\n",
    "y_pred = kmeans.fit_predict(X)\n",
    "acc = accuracy_score(test_labels,y_pred)\n",
    "print(acc)"
   ]
  },
  {
   "cell_type": "code",
   "execution_count": 62,
   "id": "2c3a44b7",
   "metadata": {},
   "outputs": [
    {
     "name": "stdout",
     "output_type": "stream",
     "text": [
      "WARNING:tensorflow:AutoGraph could not transform <function Model.make_predict_function.<locals>.predict_function at 0x000002B53ECF2950> and will run it as-is.\n",
      "Please report this to the TensorFlow team. When filing the bug, set the verbosity to 10 (on Linux, `export AUTOGRAPH_VERBOSITY=10`) and attach the full output.\n",
      "Cause: 'arguments' object has no attribute 'posonlyargs'\n",
      "To silence this warning, decorate the function with @tf.autograph.experimental.do_not_convert\n",
      "WARNING: AutoGraph could not transform <function Model.make_predict_function.<locals>.predict_function at 0x000002B53ECF2950> and will run it as-is.\n",
      "Please report this to the TensorFlow team. When filing the bug, set the verbosity to 10 (on Linux, `export AUTOGRAPH_VERBOSITY=10`) and attach the full output.\n",
      "Cause: 'arguments' object has no attribute 'posonlyargs'\n",
      "To silence this warning, decorate the function with @tf.autograph.experimental.do_not_convert\n"
     ]
    }
   ],
   "source": [
    "feature = tf.keras.layers.GlobalAveragePooling2D()(model_10.get_layer('out_relu').output)\n",
    "encoder_10 = tf.keras.Model(inputs=model_10.input,outputs=feature)\n",
    "X = encoder_10.predict(test_images)"
   ]
  },
  {
   "cell_type": "code",
   "execution_count": 64,
   "id": "58b0f779",
   "metadata": {},
   "outputs": [
    {
     "name": "stdout",
     "output_type": "stream",
     "text": [
      "0.846\n"
     ]
    }
   ],
   "source": [
    "kmeans = KMeans(n_clusters=2, n_init=20)\n",
    "y_pred = kmeans.fit_predict(X)\n",
    "acc = accuracy_score(test_labels,y_pred)\n",
    "print(acc)"
   ]
  },
  {
   "cell_type": "code",
   "execution_count": 65,
   "id": "1c8bfc05",
   "metadata": {},
   "outputs": [
    {
     "name": "stdout",
     "output_type": "stream",
     "text": [
      "WARNING:tensorflow:AutoGraph could not transform <function Model.make_predict_function.<locals>.predict_function at 0x000002B53EC97400> and will run it as-is.\n",
      "Please report this to the TensorFlow team. When filing the bug, set the verbosity to 10 (on Linux, `export AUTOGRAPH_VERBOSITY=10`) and attach the full output.\n",
      "Cause: 'arguments' object has no attribute 'posonlyargs'\n",
      "To silence this warning, decorate the function with @tf.autograph.experimental.do_not_convert\n",
      "WARNING: AutoGraph could not transform <function Model.make_predict_function.<locals>.predict_function at 0x000002B53EC97400> and will run it as-is.\n",
      "Please report this to the TensorFlow team. When filing the bug, set the verbosity to 10 (on Linux, `export AUTOGRAPH_VERBOSITY=10`) and attach the full output.\n",
      "Cause: 'arguments' object has no attribute 'posonlyargs'\n",
      "To silence this warning, decorate the function with @tf.autograph.experimental.do_not_convert\n"
     ]
    }
   ],
   "source": [
    "feature = tf.keras.layers.GlobalAveragePooling2D()(model_11.get_layer('out_relu').output)\n",
    "encoder_11 = tf.keras.Model(inputs=model_11.input,outputs=feature)\n",
    "X = encoder_11.predict(test_images)"
   ]
  },
  {
   "cell_type": "code",
   "execution_count": 69,
   "id": "b26a46b0",
   "metadata": {},
   "outputs": [
    {
     "name": "stdout",
     "output_type": "stream",
     "text": [
      "0.847\n"
     ]
    }
   ],
   "source": [
    "kmeans = KMeans(n_clusters=2, n_init=20)\n",
    "y_pred = kmeans.fit_predict(X)\n",
    "acc = accuracy_score(test_labels,y_pred)\n",
    "print(acc)"
   ]
  },
  {
   "cell_type": "code",
   "execution_count": 71,
   "id": "76b7f871",
   "metadata": {},
   "outputs": [
    {
     "name": "stdout",
     "output_type": "stream",
     "text": [
      "[0.847, 0.846, 0.862, 0.848, 0.855, 0.846, 0.845, 0.851, 0.858, 0.844, 0.851, 0.854]\n"
     ]
    }
   ],
   "source": [
    "r_acc_k = [0.854,0.851,0.844,0.858,0.851,0.845,0.846,0.855,0.848,0.862,0.846,0.847]\n",
    "r_acc_k = r_acc_k[::-1]\n",
    "print(r_acc_k)"
   ]
  },
  {
   "cell_type": "code",
   "execution_count": 72,
   "id": "cd1b8c64",
   "metadata": {},
   "outputs": [
    {
     "data": {
      "image/png": "[encoded data removed]",
      "text/plain": [
       "<Figure size 640x480 with 1 Axes>"
      ]
     },
     "metadata": {},
     "output_type": "display_data"
    }
   ],
   "source": [
    "import matplotlib.pyplot as plt\n",
    "plt.figure()\n",
    "plt.plot(r_list,r_acc,linestyle='-',marker='o',color='r',label='validation accuracy')\n",
    "plt.plot(r_list,r_acc_t,linestyle='--',marker='o',color='r',label='test accuracy')\n",
    "plt.plot(r_list,r_acc_k,linestyle=':',marker='o',color='r',label='cluster accuracy')\n",
    "plt.xlabel('transfer rate')\n",
    "plt.ylabel('accuracy')\n",
    "plt.ylim((0.7,1))\n",
    "\n",
    "plt.title('MobilenetV2 performance')\n",
    "plt.legend()\n",
    "plt.show()"
   ]
  },
  {
   "cell_type": "code",
   "execution_count": null,
   "id": "9805cea3",
   "metadata": {},
   "outputs": [],
   "source": []
  }
 ],
 "metadata": {
  "kernelspec": {
   "display_name": "Python 3",
   "language": "python",
   "name": "python3"
  },
  "language_info": {
   "codemirror_mode": {
    "name": "ipython",
    "version": 3
   },
   "file_extension": ".py",
   "mimetype": "text/x-python",
   "name": "python",
   "nbconvert_exporter": "python",
   "pygments_lexer": "ipython3",
   "version": "3.7.0"
  }
 },
 "nbformat": 4,
 "nbformat_minor": 5
}
