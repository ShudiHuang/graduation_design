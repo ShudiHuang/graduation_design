{
 "cells": [
  {
   "cell_type": "code",
   "execution_count": 1,
   "id": "0b592544",
   "metadata": {},
   "outputs": [],
   "source": [
    "import tensorflow as tf\n",
    "import numpy as np\n",
    "import os,pathlib"
   ]
  },
  {
   "cell_type": "code",
   "execution_count": 2,
   "id": "96b37faf",
   "metadata": {},
   "outputs": [],
   "source": [
    "#方法定义 \n",
    "\n",
    "def preprocess_data(dataset):\n",
    "    all_images = []\n",
    "    all_labels = []\n",
    "    for image,label in dataset:\n",
    "        preprocessed_image = tf.keras.applications.mobilenet_v2.preprocess_input(image)\n",
    "        all_images.append(preprocessed_image)\n",
    "        all_labels.append(label)\n",
    "    return np.concatenate(all_images),np.concatenate(all_labels)\n",
    "\n",
    "def get_r_list():\n",
    "    index_r_list = []\n",
    "    name_r_list = []\n",
    "    for i,layer in enumerate(base_model.layers):\n",
    "        if layer.name[-3:] == 'add':\n",
    "            index_r_list.append(i)\n",
    "            name_r_list.append(layer.name)\n",
    "    r_list = [0]\n",
    "    for i in index_r_list:\n",
    "        r = i/len(base_model.layers)\n",
    "        r_list.append(r)\n",
    "    return r_list\n",
    "\n",
    "def build_model():\n",
    "    x = conv_base.output\n",
    "    predictions = classifier(x)\n",
    "    model = tf.keras.Model(inputs=conv_base.input,outputs=predictions)\n",
    "    return model\n",
    "\n",
    "def r_compiled_model():\n",
    "    model = build_model()\n",
    "    for layer in model.layers[:int(r*len(conv_base.layers))+1]:\n",
    "        layer.trainable = False\n",
    "    for layer in model.layers[int(r*len(conv_base.layers))+1:]:\n",
    "        layer.trainable = True\n",
    "    model.compile(optimizer=tf.keras.optimizers.SGD(learning_rate=0.0001,momentum=0.9),\n",
    "                  loss='binary_crossentropy',\n",
    "                  metrics=['accuracy'])\n",
    "    return model"
   ]
  },
  {
   "cell_type": "code",
   "execution_count": 3,
   "id": "15691d94",
   "metadata": {},
   "outputs": [
    {
     "name": "stdout",
     "output_type": "stream",
     "text": [
      "Found 100 files belonging to 2 classes.\n",
      "Found 160 files belonging to 2 classes.\n"
     ]
    }
   ],
   "source": [
    "#加载数据、预处理数据\n",
    "\n",
    "base_dir = pathlib.Path('chest_xray2/label')\n",
    "train_dataset = tf.keras.utils.image_dataset_from_directory(base_dir/'train',\n",
    "                                                            image_size=(224,224),\n",
    "                                                            batch_size=32)\n",
    "validation_dataset = tf.keras.utils.image_dataset_from_directory(base_dir/'val',\n",
    "                                                                 image_size=(224,224),\n",
    "                                                                 batch_size=32)\n",
    "train_images,train_labels = preprocess_data(train_dataset)\n",
    "val_images,val_labels = preprocess_data(validation_dataset)"
   ]
  },
  {
   "cell_type": "code",
   "execution_count": 4,
   "id": "e47fe594",
   "metadata": {},
   "outputs": [
    {
     "name": "stdout",
     "output_type": "stream",
     "text": [
      "WARNING:tensorflow:`input_shape` is undefined or non-square, or `rows` is not in [96, 128, 160, 192, 224]. Weights for input shape (224, 224) will be loaded as the default.\n",
      "Epoch 1/15\n",
      "WARNING:tensorflow:AutoGraph could not transform <function Model.make_train_function.<locals>.train_function at 0x000002AC60EDE598> and will run it as-is.\n",
      "Please report this to the TensorFlow team. When filing the bug, set the verbosity to 10 (on Linux, `export AUTOGRAPH_VERBOSITY=10`) and attach the full output.\n",
      "Cause: 'arguments' object has no attribute 'posonlyargs'\n",
      "To silence this warning, decorate the function with @tf.autograph.experimental.do_not_convert\n",
      "WARNING: AutoGraph could not transform <function Model.make_train_function.<locals>.train_function at 0x000002AC60EDE598> and will run it as-is.\n",
      "Please report this to the TensorFlow team. When filing the bug, set the verbosity to 10 (on Linux, `export AUTOGRAPH_VERBOSITY=10`) and attach the full output.\n",
      "Cause: 'arguments' object has no attribute 'posonlyargs'\n",
      "To silence this warning, decorate the function with @tf.autograph.experimental.do_not_convert\n",
      "4/4 [==============================] - ETA: 0s - loss: 1.4903 - accuracy: 0.5900WARNING:tensorflow:AutoGraph could not transform <function Model.make_test_function.<locals>.test_function at 0x000002AC6CF6AB70> and will run it as-is.\n",
      "Please report this to the TensorFlow team. When filing the bug, set the verbosity to 10 (on Linux, `export AUTOGRAPH_VERBOSITY=10`) and attach the full output.\n",
      "Cause: 'arguments' object has no attribute 'posonlyargs'\n",
      "To silence this warning, decorate the function with @tf.autograph.experimental.do_not_convert\n",
      "WARNING: AutoGraph could not transform <function Model.make_test_function.<locals>.test_function at 0x000002AC6CF6AB70> and will run it as-is.\n",
      "Please report this to the TensorFlow team. When filing the bug, set the verbosity to 10 (on Linux, `export AUTOGRAPH_VERBOSITY=10`) and attach the full output.\n",
      "Cause: 'arguments' object has no attribute 'posonlyargs'\n",
      "To silence this warning, decorate the function with @tf.autograph.experimental.do_not_convert\n",
      "4/4 [==============================] - 8s 2s/step - loss: 1.4903 - accuracy: 0.5900 - val_loss: 0.3826 - val_accuracy: 0.8313\n",
      "Epoch 2/15\n",
      "4/4 [==============================] - 5s 1s/step - loss: 0.3954 - accuracy: 0.7800 - val_loss: 0.2810 - val_accuracy: 0.8938\n",
      "Epoch 3/15\n",
      "4/4 [==============================] - 5s 1s/step - loss: 0.2500 - accuracy: 0.9100 - val_loss: 0.1705 - val_accuracy: 0.9625\n",
      "Epoch 4/15\n",
      "4/4 [==============================] - 5s 1s/step - loss: 0.1961 - accuracy: 0.9400 - val_loss: 0.1547 - val_accuracy: 0.9312\n",
      "Epoch 5/15\n",
      "4/4 [==============================] - 4s 1s/step - loss: 0.1765 - accuracy: 0.9200 - val_loss: 0.1883 - val_accuracy: 0.9438\n",
      "0.9624999761581421\n"
     ]
    }
   ],
   "source": [
    "#分类器初训练\n",
    "\n",
    "base_model = tf.keras.applications.mobilenet_v2.MobileNetV2(weights='imagenet',include_top=False)\n",
    "\n",
    "inputs = base_model.output\n",
    "x = tf.keras.layers.GlobalAveragePooling2D()(inputs)\n",
    "x = tf.keras.layers.Dense(units=256,activation='relu')(x)\n",
    "outputs = tf.keras.layers.Dense(units=1,activation='sigmoid')(x)\n",
    "classifier_model = tf.keras.Model(inputs=inputs,outputs=outputs)\n",
    "\n",
    "x = base_model.output\n",
    "predictions = classifier_model(x)\n",
    "model = tf.keras.Model(inputs=base_model.input,outputs=predictions)\n",
    "\n",
    "for layer in model.layers[:len(base_model.layers)]:\n",
    "    layer.trainable = False\n",
    "    \n",
    "model.compile(optimizer='rmsprop',\n",
    "              loss='binary_crossentropy',\n",
    "              metrics=['accuracy'])\n",
    "callback_list = [tf.keras.callbacks.EarlyStopping(monitor='val_accuracy',patience=2),\n",
    "                 tf.keras.callbacks.ModelCheckpoint(filepath='mobilenet_v2_r_1.00.keras',\n",
    "                                                    monitor='val_accuracy',\n",
    "                                                    save_best_only=True)]\n",
    "history = model.fit(train_images,train_labels,\n",
    "                    epochs=15,\n",
    "                    validation_data=(val_images,val_labels),\n",
    "                    callbacks=callback_list)\n",
    "r_1_acc = max(history.history['val_accuracy'])\n",
    "print(r_1_acc)"
   ]
  },
  {
   "cell_type": "code",
   "execution_count": 5,
   "id": "dfd10806",
   "metadata": {
    "scrolled": false
   },
   "outputs": [
    {
     "name": "stdout",
     "output_type": "stream",
     "text": [
      "WARNING:tensorflow:`input_shape` is undefined or non-square, or `rows` is not in [96, 128, 160, 192, 224]. Weights for input shape (224, 224) will be loaded as the default.\n",
      "Epoch 1/15\n",
      "WARNING:tensorflow:AutoGraph could not transform <function Model.make_train_function.<locals>.train_function at 0x000002AC0623D620> and will run it as-is.\n",
      "Please report this to the TensorFlow team. When filing the bug, set the verbosity to 10 (on Linux, `export AUTOGRAPH_VERBOSITY=10`) and attach the full output.\n",
      "Cause: 'arguments' object has no attribute 'posonlyargs'\n",
      "To silence this warning, decorate the function with @tf.autograph.experimental.do_not_convert\n",
      "WARNING: AutoGraph could not transform <function Model.make_train_function.<locals>.train_function at 0x000002AC0623D620> and will run it as-is.\n",
      "Please report this to the TensorFlow team. When filing the bug, set the verbosity to 10 (on Linux, `export AUTOGRAPH_VERBOSITY=10`) and attach the full output.\n",
      "Cause: 'arguments' object has no attribute 'posonlyargs'\n",
      "To silence this warning, decorate the function with @tf.autograph.experimental.do_not_convert\n",
      "4/4 [==============================] - ETA: 0s - loss: 0.4875 - accuracy: 0.7200WARNING:tensorflow:AutoGraph could not transform <function Model.make_test_function.<locals>.test_function at 0x000002AC07D92950> and will run it as-is.\n",
      "Please report this to the TensorFlow team. When filing the bug, set the verbosity to 10 (on Linux, `export AUTOGRAPH_VERBOSITY=10`) and attach the full output.\n",
      "Cause: 'arguments' object has no attribute 'posonlyargs'\n",
      "To silence this warning, decorate the function with @tf.autograph.experimental.do_not_convert\n",
      "WARNING: AutoGraph could not transform <function Model.make_test_function.<locals>.test_function at 0x000002AC07D92950> and will run it as-is.\n",
      "Please report this to the TensorFlow team. When filing the bug, set the verbosity to 10 (on Linux, `export AUTOGRAPH_VERBOSITY=10`) and attach the full output.\n",
      "Cause: 'arguments' object has no attribute 'posonlyargs'\n",
      "To silence this warning, decorate the function with @tf.autograph.experimental.do_not_convert\n",
      "4/4 [==============================] - 17s 4s/step - loss: 0.4875 - accuracy: 0.7200 - val_loss: 0.1841 - val_accuracy: 0.9500\n",
      "Epoch 2/15\n",
      "4/4 [==============================] - 12s 3s/step - loss: 0.4529 - accuracy: 0.7600 - val_loss: 0.1782 - val_accuracy: 0.9500\n",
      "Epoch 3/15\n",
      "4/4 [==============================] - 12s 3s/step - loss: 0.4154 - accuracy: 0.8000 - val_loss: 0.1713 - val_accuracy: 0.9500\n",
      "WARNING:tensorflow:`input_shape` is undefined or non-square, or `rows` is not in [96, 128, 160, 192, 224]. Weights for input shape (224, 224) will be loaded as the default.\n",
      "Epoch 1/15\n",
      "WARNING:tensorflow:AutoGraph could not transform <function Model.make_train_function.<locals>.train_function at 0x000002AC6A238D08> and will run it as-is.\n",
      "Please report this to the TensorFlow team. When filing the bug, set the verbosity to 10 (on Linux, `export AUTOGRAPH_VERBOSITY=10`) and attach the full output.\n",
      "Cause: 'arguments' object has no attribute 'posonlyargs'\n",
      "To silence this warning, decorate the function with @tf.autograph.experimental.do_not_convert\n",
      "WARNING: AutoGraph could not transform <function Model.make_train_function.<locals>.train_function at 0x000002AC6A238D08> and will run it as-is.\n",
      "Please report this to the TensorFlow team. When filing the bug, set the verbosity to 10 (on Linux, `export AUTOGRAPH_VERBOSITY=10`) and attach the full output.\n",
      "Cause: 'arguments' object has no attribute 'posonlyargs'\n",
      "To silence this warning, decorate the function with @tf.autograph.experimental.do_not_convert\n",
      "4/4 [==============================] - ETA: 0s - loss: 0.1894 - accuracy: 0.9600WARNING:tensorflow:AutoGraph could not transform <function Model.make_test_function.<locals>.test_function at 0x000002AC0C3A1EA0> and will run it as-is.\n",
      "Please report this to the TensorFlow team. When filing the bug, set the verbosity to 10 (on Linux, `export AUTOGRAPH_VERBOSITY=10`) and attach the full output.\n",
      "Cause: 'arguments' object has no attribute 'posonlyargs'\n",
      "To silence this warning, decorate the function with @tf.autograph.experimental.do_not_convert\n",
      "WARNING: AutoGraph could not transform <function Model.make_test_function.<locals>.test_function at 0x000002AC0C3A1EA0> and will run it as-is.\n",
      "Please report this to the TensorFlow team. When filing the bug, set the verbosity to 10 (on Linux, `export AUTOGRAPH_VERBOSITY=10`) and attach the full output.\n",
      "Cause: 'arguments' object has no attribute 'posonlyargs'\n",
      "To silence this warning, decorate the function with @tf.autograph.experimental.do_not_convert\n",
      "4/4 [==============================] - 7s 2s/step - loss: 0.1894 - accuracy: 0.9600 - val_loss: 0.1788 - val_accuracy: 0.9500\n",
      "Epoch 2/15\n",
      "4/4 [==============================] - 4s 1s/step - loss: 0.1919 - accuracy: 0.9500 - val_loss: 0.1785 - val_accuracy: 0.9500\n",
      "Epoch 3/15\n",
      "4/4 [==============================] - 4s 1s/step - loss: 0.1724 - accuracy: 0.9300 - val_loss: 0.1796 - val_accuracy: 0.9500\n",
      "WARNING:tensorflow:`input_shape` is undefined or non-square, or `rows` is not in [96, 128, 160, 192, 224]. Weights for input shape (224, 224) will be loaded as the default.\n",
      "Epoch 1/15\n",
      "WARNING:tensorflow:AutoGraph could not transform <function Model.make_train_function.<locals>.train_function at 0x000002AC0C5F38C8> and will run it as-is.\n",
      "Please report this to the TensorFlow team. When filing the bug, set the verbosity to 10 (on Linux, `export AUTOGRAPH_VERBOSITY=10`) and attach the full output.\n",
      "Cause: 'arguments' object has no attribute 'posonlyargs'\n",
      "To silence this warning, decorate the function with @tf.autograph.experimental.do_not_convert\n",
      "WARNING: AutoGraph could not transform <function Model.make_train_function.<locals>.train_function at 0x000002AC0C5F38C8> and will run it as-is.\n",
      "Please report this to the TensorFlow team. When filing the bug, set the verbosity to 10 (on Linux, `export AUTOGRAPH_VERBOSITY=10`) and attach the full output.\n",
      "Cause: 'arguments' object has no attribute 'posonlyargs'\n",
      "To silence this warning, decorate the function with @tf.autograph.experimental.do_not_convert\n",
      "4/4 [==============================] - ETA: 0s - loss: 0.2334 - accuracy: 0.9400WARNING:tensorflow:AutoGraph could not transform <function Model.make_test_function.<locals>.test_function at 0x000002AC06066488> and will run it as-is.\n",
      "Please report this to the TensorFlow team. When filing the bug, set the verbosity to 10 (on Linux, `export AUTOGRAPH_VERBOSITY=10`) and attach the full output.\n",
      "Cause: 'arguments' object has no attribute 'posonlyargs'\n",
      "To silence this warning, decorate the function with @tf.autograph.experimental.do_not_convert\n",
      "WARNING: AutoGraph could not transform <function Model.make_test_function.<locals>.test_function at 0x000002AC06066488> and will run it as-is.\n",
      "Please report this to the TensorFlow team. When filing the bug, set the verbosity to 10 (on Linux, `export AUTOGRAPH_VERBOSITY=10`) and attach the full output.\n",
      "Cause: 'arguments' object has no attribute 'posonlyargs'\n",
      "To silence this warning, decorate the function with @tf.autograph.experimental.do_not_convert\n",
      "4/4 [==============================] - 7s 2s/step - loss: 0.2334 - accuracy: 0.9400 - val_loss: 0.1796 - val_accuracy: 0.9500\n",
      "Epoch 2/15\n",
      "4/4 [==============================] - 5s 1s/step - loss: 0.2341 - accuracy: 0.9200 - val_loss: 0.1809 - val_accuracy: 0.9500\n",
      "Epoch 3/15\n",
      "4/4 [==============================] - 5s 1s/step - loss: 0.2402 - accuracy: 0.9400 - val_loss: 0.1814 - val_accuracy: 0.9500\n",
      "WARNING:tensorflow:`input_shape` is undefined or non-square, or `rows` is not in [96, 128, 160, 192, 224]. Weights for input shape (224, 224) will be loaded as the default.\n",
      "Epoch 1/15\n",
      "WARNING:tensorflow:AutoGraph could not transform <function Model.make_train_function.<locals>.train_function at 0x000002AC0C3A1510> and will run it as-is.\n",
      "Please report this to the TensorFlow team. When filing the bug, set the verbosity to 10 (on Linux, `export AUTOGRAPH_VERBOSITY=10`) and attach the full output.\n",
      "Cause: 'arguments' object has no attribute 'posonlyargs'\n",
      "To silence this warning, decorate the function with @tf.autograph.experimental.do_not_convert\n",
      "WARNING: AutoGraph could not transform <function Model.make_train_function.<locals>.train_function at 0x000002AC0C3A1510> and will run it as-is.\n",
      "Please report this to the TensorFlow team. When filing the bug, set the verbosity to 10 (on Linux, `export AUTOGRAPH_VERBOSITY=10`) and attach the full output.\n",
      "Cause: 'arguments' object has no attribute 'posonlyargs'\n",
      "To silence this warning, decorate the function with @tf.autograph.experimental.do_not_convert\n"
     ]
    },
    {
     "name": "stdout",
     "output_type": "stream",
     "text": [
      "4/4 [==============================] - ETA: 0s - loss: 0.3797 - accuracy: 0.8100WARNING:tensorflow:AutoGraph could not transform <function Model.make_test_function.<locals>.test_function at 0x000002AC101D4C80> and will run it as-is.\n",
      "Please report this to the TensorFlow team. When filing the bug, set the verbosity to 10 (on Linux, `export AUTOGRAPH_VERBOSITY=10`) and attach the full output.\n",
      "Cause: 'arguments' object has no attribute 'posonlyargs'\n",
      "To silence this warning, decorate the function with @tf.autograph.experimental.do_not_convert\n",
      "WARNING: AutoGraph could not transform <function Model.make_test_function.<locals>.test_function at 0x000002AC101D4C80> and will run it as-is.\n",
      "Please report this to the TensorFlow team. When filing the bug, set the verbosity to 10 (on Linux, `export AUTOGRAPH_VERBOSITY=10`) and attach the full output.\n",
      "Cause: 'arguments' object has no attribute 'posonlyargs'\n",
      "To silence this warning, decorate the function with @tf.autograph.experimental.do_not_convert\n",
      "4/4 [==============================] - 8s 2s/step - loss: 0.3797 - accuracy: 0.8100 - val_loss: 0.1757 - val_accuracy: 0.9500\n",
      "Epoch 2/15\n",
      "4/4 [==============================] - 5s 1s/step - loss: 0.3881 - accuracy: 0.8400 - val_loss: 0.1757 - val_accuracy: 0.9500\n",
      "Epoch 3/15\n",
      "4/4 [==============================] - 5s 1s/step - loss: 0.3606 - accuracy: 0.8200 - val_loss: 0.1753 - val_accuracy: 0.9500\n",
      "WARNING:tensorflow:`input_shape` is undefined or non-square, or `rows` is not in [96, 128, 160, 192, 224]. Weights for input shape (224, 224) will be loaded as the default.\n",
      "Epoch 1/15\n",
      "WARNING:tensorflow:AutoGraph could not transform <function Model.make_train_function.<locals>.train_function at 0x000002AC0623D378> and will run it as-is.\n",
      "Please report this to the TensorFlow team. When filing the bug, set the verbosity to 10 (on Linux, `export AUTOGRAPH_VERBOSITY=10`) and attach the full output.\n",
      "Cause: 'arguments' object has no attribute 'posonlyargs'\n",
      "To silence this warning, decorate the function with @tf.autograph.experimental.do_not_convert\n",
      "WARNING: AutoGraph could not transform <function Model.make_train_function.<locals>.train_function at 0x000002AC0623D378> and will run it as-is.\n",
      "Please report this to the TensorFlow team. When filing the bug, set the verbosity to 10 (on Linux, `export AUTOGRAPH_VERBOSITY=10`) and attach the full output.\n",
      "Cause: 'arguments' object has no attribute 'posonlyargs'\n",
      "To silence this warning, decorate the function with @tf.autograph.experimental.do_not_convert\n",
      "4/4 [==============================] - ETA: 0s - loss: 0.4532 - accuracy: 0.8200WARNING:tensorflow:AutoGraph could not transform <function Model.make_test_function.<locals>.test_function at 0x000002AC07D90AE8> and will run it as-is.\n",
      "Please report this to the TensorFlow team. When filing the bug, set the verbosity to 10 (on Linux, `export AUTOGRAPH_VERBOSITY=10`) and attach the full output.\n",
      "Cause: 'arguments' object has no attribute 'posonlyargs'\n",
      "To silence this warning, decorate the function with @tf.autograph.experimental.do_not_convert\n",
      "WARNING: AutoGraph could not transform <function Model.make_test_function.<locals>.test_function at 0x000002AC07D90AE8> and will run it as-is.\n",
      "Please report this to the TensorFlow team. When filing the bug, set the verbosity to 10 (on Linux, `export AUTOGRAPH_VERBOSITY=10`) and attach the full output.\n",
      "Cause: 'arguments' object has no attribute 'posonlyargs'\n",
      "To silence this warning, decorate the function with @tf.autograph.experimental.do_not_convert\n",
      "4/4 [==============================] - 8s 2s/step - loss: 0.4532 - accuracy: 0.8200 - val_loss: 0.1681 - val_accuracy: 0.9500\n",
      "Epoch 2/15\n",
      "4/4 [==============================] - 5s 1s/step - loss: 0.4073 - accuracy: 0.8400 - val_loss: 0.1717 - val_accuracy: 0.9500\n",
      "Epoch 3/15\n",
      "4/4 [==============================] - 5s 1s/step - loss: 0.3954 - accuracy: 0.8100 - val_loss: 0.1776 - val_accuracy: 0.9500\n",
      "WARNING:tensorflow:`input_shape` is undefined or non-square, or `rows` is not in [96, 128, 160, 192, 224]. Weights for input shape (224, 224) will be loaded as the default.\n",
      "Epoch 1/15\n",
      "WARNING:tensorflow:AutoGraph could not transform <function Model.make_train_function.<locals>.train_function at 0x000002AC0C692158> and will run it as-is.\n",
      "Please report this to the TensorFlow team. When filing the bug, set the verbosity to 10 (on Linux, `export AUTOGRAPH_VERBOSITY=10`) and attach the full output.\n",
      "Cause: 'arguments' object has no attribute 'posonlyargs'\n",
      "To silence this warning, decorate the function with @tf.autograph.experimental.do_not_convert\n",
      "WARNING: AutoGraph could not transform <function Model.make_train_function.<locals>.train_function at 0x000002AC0C692158> and will run it as-is.\n",
      "Please report this to the TensorFlow team. When filing the bug, set the verbosity to 10 (on Linux, `export AUTOGRAPH_VERBOSITY=10`) and attach the full output.\n",
      "Cause: 'arguments' object has no attribute 'posonlyargs'\n",
      "To silence this warning, decorate the function with @tf.autograph.experimental.do_not_convert\n",
      "4/4 [==============================] - ETA: 0s - loss: 0.5234 - accuracy: 0.7100WARNING:tensorflow:AutoGraph could not transform <function Model.make_test_function.<locals>.test_function at 0x000002AC0C667598> and will run it as-is.\n",
      "Please report this to the TensorFlow team. When filing the bug, set the verbosity to 10 (on Linux, `export AUTOGRAPH_VERBOSITY=10`) and attach the full output.\n",
      "Cause: 'arguments' object has no attribute 'posonlyargs'\n",
      "To silence this warning, decorate the function with @tf.autograph.experimental.do_not_convert\n",
      "WARNING: AutoGraph could not transform <function Model.make_test_function.<locals>.test_function at 0x000002AC0C667598> and will run it as-is.\n",
      "Please report this to the TensorFlow team. When filing the bug, set the verbosity to 10 (on Linux, `export AUTOGRAPH_VERBOSITY=10`) and attach the full output.\n",
      "Cause: 'arguments' object has no attribute 'posonlyargs'\n",
      "To silence this warning, decorate the function with @tf.autograph.experimental.do_not_convert\n",
      "4/4 [==============================] - 9s 2s/step - loss: 0.5234 - accuracy: 0.7100 - val_loss: 0.1632 - val_accuracy: 0.9500\n",
      "Epoch 2/15\n",
      "4/4 [==============================] - 6s 2s/step - loss: 0.4747 - accuracy: 0.7500 - val_loss: 0.1633 - val_accuracy: 0.9500\n",
      "Epoch 3/15\n",
      "4/4 [==============================] - 6s 2s/step - loss: 0.4194 - accuracy: 0.8200 - val_loss: 0.1647 - val_accuracy: 0.9500\n",
      "WARNING:tensorflow:`input_shape` is undefined or non-square, or `rows` is not in [96, 128, 160, 192, 224]. Weights for input shape (224, 224) will be loaded as the default.\n",
      "Epoch 1/15\n",
      "WARNING:tensorflow:AutoGraph could not transform <function Model.make_train_function.<locals>.train_function at 0x000002AC102A6620> and will run it as-is.\n",
      "Please report this to the TensorFlow team. When filing the bug, set the verbosity to 10 (on Linux, `export AUTOGRAPH_VERBOSITY=10`) and attach the full output.\n",
      "Cause: 'arguments' object has no attribute 'posonlyargs'\n",
      "To silence this warning, decorate the function with @tf.autograph.experimental.do_not_convert\n",
      "WARNING: AutoGraph could not transform <function Model.make_train_function.<locals>.train_function at 0x000002AC102A6620> and will run it as-is.\n",
      "Please report this to the TensorFlow team. When filing the bug, set the verbosity to 10 (on Linux, `export AUTOGRAPH_VERBOSITY=10`) and attach the full output.\n",
      "Cause: 'arguments' object has no attribute 'posonlyargs'\n",
      "To silence this warning, decorate the function with @tf.autograph.experimental.do_not_convert\n",
      "4/4 [==============================] - ETA: 0s - loss: 0.5098 - accuracy: 0.7600WARNING:tensorflow:AutoGraph could not transform <function Model.make_test_function.<locals>.test_function at 0x000002AC14B22C80> and will run it as-is.\n",
      "Please report this to the TensorFlow team. When filing the bug, set the verbosity to 10 (on Linux, `export AUTOGRAPH_VERBOSITY=10`) and attach the full output.\n",
      "Cause: 'arguments' object has no attribute 'posonlyargs'\n",
      "To silence this warning, decorate the function with @tf.autograph.experimental.do_not_convert\n",
      "WARNING: AutoGraph could not transform <function Model.make_test_function.<locals>.test_function at 0x000002AC14B22C80> and will run it as-is.\n",
      "Please report this to the TensorFlow team. When filing the bug, set the verbosity to 10 (on Linux, `export AUTOGRAPH_VERBOSITY=10`) and attach the full output.\n",
      "Cause: 'arguments' object has no attribute 'posonlyargs'\n",
      "To silence this warning, decorate the function with @tf.autograph.experimental.do_not_convert\n"
     ]
    },
    {
     "name": "stdout",
     "output_type": "stream",
     "text": [
      "4/4 [==============================] - 9s 2s/step - loss: 0.5098 - accuracy: 0.7600 - val_loss: 0.1561 - val_accuracy: 0.9500\n",
      "Epoch 2/15\n",
      "4/4 [==============================] - 6s 2s/step - loss: 0.4770 - accuracy: 0.7500 - val_loss: 0.1561 - val_accuracy: 0.9500\n",
      "Epoch 3/15\n",
      "4/4 [==============================] - 6s 2s/step - loss: 0.4209 - accuracy: 0.8200 - val_loss: 0.1575 - val_accuracy: 0.9500\n",
      "WARNING:tensorflow:`input_shape` is undefined or non-square, or `rows` is not in [96, 128, 160, 192, 224]. Weights for input shape (224, 224) will be loaded as the default.\n",
      "Epoch 1/15\n",
      "WARNING:tensorflow:AutoGraph could not transform <function Model.make_train_function.<locals>.train_function at 0x000002AC16260598> and will run it as-is.\n",
      "Please report this to the TensorFlow team. When filing the bug, set the verbosity to 10 (on Linux, `export AUTOGRAPH_VERBOSITY=10`) and attach the full output.\n",
      "Cause: 'arguments' object has no attribute 'posonlyargs'\n",
      "To silence this warning, decorate the function with @tf.autograph.experimental.do_not_convert\n",
      "WARNING: AutoGraph could not transform <function Model.make_train_function.<locals>.train_function at 0x000002AC16260598> and will run it as-is.\n",
      "Please report this to the TensorFlow team. When filing the bug, set the verbosity to 10 (on Linux, `export AUTOGRAPH_VERBOSITY=10`) and attach the full output.\n",
      "Cause: 'arguments' object has no attribute 'posonlyargs'\n",
      "To silence this warning, decorate the function with @tf.autograph.experimental.do_not_convert\n",
      "4/4 [==============================] - ETA: 0s - loss: 0.5767 - accuracy: 0.7300WARNING:tensorflow:AutoGraph could not transform <function Model.make_test_function.<locals>.test_function at 0x000002AC6CE96158> and will run it as-is.\n",
      "Please report this to the TensorFlow team. When filing the bug, set the verbosity to 10 (on Linux, `export AUTOGRAPH_VERBOSITY=10`) and attach the full output.\n",
      "Cause: 'arguments' object has no attribute 'posonlyargs'\n",
      "To silence this warning, decorate the function with @tf.autograph.experimental.do_not_convert\n",
      "WARNING: AutoGraph could not transform <function Model.make_test_function.<locals>.test_function at 0x000002AC6CE96158> and will run it as-is.\n",
      "Please report this to the TensorFlow team. When filing the bug, set the verbosity to 10 (on Linux, `export AUTOGRAPH_VERBOSITY=10`) and attach the full output.\n",
      "Cause: 'arguments' object has no attribute 'posonlyargs'\n",
      "To silence this warning, decorate the function with @tf.autograph.experimental.do_not_convert\n",
      "4/4 [==============================] - 9s 2s/step - loss: 0.5767 - accuracy: 0.7300 - val_loss: 0.1529 - val_accuracy: 0.9500\n",
      "Epoch 2/15\n",
      "4/4 [==============================] - 6s 2s/step - loss: 0.5387 - accuracy: 0.7800 - val_loss: 0.1546 - val_accuracy: 0.9500\n",
      "Epoch 3/15\n",
      "4/4 [==============================] - 6s 2s/step - loss: 0.4376 - accuracy: 0.8500 - val_loss: 0.1581 - val_accuracy: 0.9500\n",
      "WARNING:tensorflow:`input_shape` is undefined or non-square, or `rows` is not in [96, 128, 160, 192, 224]. Weights for input shape (224, 224) will be loaded as the default.\n",
      "Epoch 1/15\n",
      "WARNING:tensorflow:AutoGraph could not transform <function Model.make_train_function.<locals>.train_function at 0x000002AC0DFE6488> and will run it as-is.\n",
      "Please report this to the TensorFlow team. When filing the bug, set the verbosity to 10 (on Linux, `export AUTOGRAPH_VERBOSITY=10`) and attach the full output.\n",
      "Cause: 'arguments' object has no attribute 'posonlyargs'\n",
      "To silence this warning, decorate the function with @tf.autograph.experimental.do_not_convert\n",
      "WARNING: AutoGraph could not transform <function Model.make_train_function.<locals>.train_function at 0x000002AC0DFE6488> and will run it as-is.\n",
      "Please report this to the TensorFlow team. When filing the bug, set the verbosity to 10 (on Linux, `export AUTOGRAPH_VERBOSITY=10`) and attach the full output.\n",
      "Cause: 'arguments' object has no attribute 'posonlyargs'\n",
      "To silence this warning, decorate the function with @tf.autograph.experimental.do_not_convert\n",
      "4/4 [==============================] - ETA: 0s - loss: 0.6219 - accuracy: 0.6400WARNING:tensorflow:AutoGraph could not transform <function Model.make_test_function.<locals>.test_function at 0x000002AC10828510> and will run it as-is.\n",
      "Please report this to the TensorFlow team. When filing the bug, set the verbosity to 10 (on Linux, `export AUTOGRAPH_VERBOSITY=10`) and attach the full output.\n",
      "Cause: 'arguments' object has no attribute 'posonlyargs'\n",
      "To silence this warning, decorate the function with @tf.autograph.experimental.do_not_convert\n",
      "WARNING: AutoGraph could not transform <function Model.make_test_function.<locals>.test_function at 0x000002AC10828510> and will run it as-is.\n",
      "Please report this to the TensorFlow team. When filing the bug, set the verbosity to 10 (on Linux, `export AUTOGRAPH_VERBOSITY=10`) and attach the full output.\n",
      "Cause: 'arguments' object has no attribute 'posonlyargs'\n",
      "To silence this warning, decorate the function with @tf.autograph.experimental.do_not_convert\n",
      "4/4 [==============================] - 10s 2s/step - loss: 0.6219 - accuracy: 0.6400 - val_loss: 0.1489 - val_accuracy: 0.9500\n",
      "Epoch 2/15\n",
      "4/4 [==============================] - 7s 2s/step - loss: 0.5503 - accuracy: 0.7000 - val_loss: 0.1505 - val_accuracy: 0.9500\n",
      "Epoch 3/15\n",
      "4/4 [==============================] - 6s 2s/step - loss: 0.4745 - accuracy: 0.8100 - val_loss: 0.1526 - val_accuracy: 0.9500\n",
      "WARNING:tensorflow:`input_shape` is undefined or non-square, or `rows` is not in [96, 128, 160, 192, 224]. Weights for input shape (224, 224) will be loaded as the default.\n",
      "Epoch 1/15\n",
      "WARNING:tensorflow:AutoGraph could not transform <function Model.make_train_function.<locals>.train_function at 0x000002AC07FA6598> and will run it as-is.\n",
      "Please report this to the TensorFlow team. When filing the bug, set the verbosity to 10 (on Linux, `export AUTOGRAPH_VERBOSITY=10`) and attach the full output.\n",
      "Cause: 'arguments' object has no attribute 'posonlyargs'\n",
      "To silence this warning, decorate the function with @tf.autograph.experimental.do_not_convert\n",
      "WARNING: AutoGraph could not transform <function Model.make_train_function.<locals>.train_function at 0x000002AC07FA6598> and will run it as-is.\n",
      "Please report this to the TensorFlow team. When filing the bug, set the verbosity to 10 (on Linux, `export AUTOGRAPH_VERBOSITY=10`) and attach the full output.\n",
      "Cause: 'arguments' object has no attribute 'posonlyargs'\n",
      "To silence this warning, decorate the function with @tf.autograph.experimental.do_not_convert\n",
      "4/4 [==============================] - ETA: 0s - loss: 0.6036 - accuracy: 0.7000WARNING:tensorflow:AutoGraph could not transform <function Model.make_test_function.<locals>.test_function at 0x000002AC14F62B70> and will run it as-is.\n",
      "Please report this to the TensorFlow team. When filing the bug, set the verbosity to 10 (on Linux, `export AUTOGRAPH_VERBOSITY=10`) and attach the full output.\n",
      "Cause: 'arguments' object has no attribute 'posonlyargs'\n",
      "To silence this warning, decorate the function with @tf.autograph.experimental.do_not_convert\n",
      "WARNING: AutoGraph could not transform <function Model.make_test_function.<locals>.test_function at 0x000002AC14F62B70> and will run it as-is.\n",
      "Please report this to the TensorFlow team. When filing the bug, set the verbosity to 10 (on Linux, `export AUTOGRAPH_VERBOSITY=10`) and attach the full output.\n",
      "Cause: 'arguments' object has no attribute 'posonlyargs'\n",
      "To silence this warning, decorate the function with @tf.autograph.experimental.do_not_convert\n",
      "4/4 [==============================] - 10s 2s/step - loss: 0.6036 - accuracy: 0.7000 - val_loss: 0.1452 - val_accuracy: 0.9500\n",
      "Epoch 2/15\n",
      "4/4 [==============================] - 7s 2s/step - loss: 0.5015 - accuracy: 0.7600 - val_loss: 0.1458 - val_accuracy: 0.9500\n",
      "Epoch 3/15\n",
      "4/4 [==============================] - 7s 2s/step - loss: 0.4369 - accuracy: 0.8100 - val_loss: 0.1481 - val_accuracy: 0.9500\n",
      "WARNING:tensorflow:`input_shape` is undefined or non-square, or `rows` is not in [96, 128, 160, 192, 224]. Weights for input shape (224, 224) will be loaded as the default.\n",
      "Epoch 1/15\n",
      "WARNING:tensorflow:AutoGraph could not transform <function Model.make_train_function.<locals>.train_function at 0x000002AC189498C8> and will run it as-is.\n",
      "Please report this to the TensorFlow team. When filing the bug, set the verbosity to 10 (on Linux, `export AUTOGRAPH_VERBOSITY=10`) and attach the full output.\n",
      "Cause: 'arguments' object has no attribute 'posonlyargs'\n",
      "To silence this warning, decorate the function with @tf.autograph.experimental.do_not_convert\n"
     ]
    },
    {
     "name": "stdout",
     "output_type": "stream",
     "text": [
      "WARNING: AutoGraph could not transform <function Model.make_train_function.<locals>.train_function at 0x000002AC189498C8> and will run it as-is.\n",
      "Please report this to the TensorFlow team. When filing the bug, set the verbosity to 10 (on Linux, `export AUTOGRAPH_VERBOSITY=10`) and attach the full output.\n",
      "Cause: 'arguments' object has no attribute 'posonlyargs'\n",
      "To silence this warning, decorate the function with @tf.autograph.experimental.do_not_convert\n",
      "4/4 [==============================] - ETA: 0s - loss: 0.5332 - accuracy: 0.7200WARNING:tensorflow:AutoGraph could not transform <function Model.make_test_function.<locals>.test_function at 0x000002AC1921D048> and will run it as-is.\n",
      "Please report this to the TensorFlow team. When filing the bug, set the verbosity to 10 (on Linux, `export AUTOGRAPH_VERBOSITY=10`) and attach the full output.\n",
      "Cause: 'arguments' object has no attribute 'posonlyargs'\n",
      "To silence this warning, decorate the function with @tf.autograph.experimental.do_not_convert\n",
      "WARNING: AutoGraph could not transform <function Model.make_test_function.<locals>.test_function at 0x000002AC1921D048> and will run it as-is.\n",
      "Please report this to the TensorFlow team. When filing the bug, set the verbosity to 10 (on Linux, `export AUTOGRAPH_VERBOSITY=10`) and attach the full output.\n",
      "Cause: 'arguments' object has no attribute 'posonlyargs'\n",
      "To silence this warning, decorate the function with @tf.autograph.experimental.do_not_convert\n",
      "4/4 [==============================] - 11s 2s/step - loss: 0.5332 - accuracy: 0.7200 - val_loss: 0.1428 - val_accuracy: 0.9563\n",
      "Epoch 2/15\n",
      "4/4 [==============================] - 9s 2s/step - loss: 0.4764 - accuracy: 0.7600 - val_loss: 0.1404 - val_accuracy: 0.9625\n",
      "Epoch 3/15\n",
      "4/4 [==============================] - 8s 2s/step - loss: 0.3775 - accuracy: 0.8300 - val_loss: 0.1363 - val_accuracy: 0.9625\n",
      "Epoch 4/15\n",
      "4/4 [==============================] - 8s 2s/step - loss: 0.3257 - accuracy: 0.8900 - val_loss: 0.1341 - val_accuracy: 0.9625\n"
     ]
    }
   ],
   "source": [
    "#搜索最佳迁移率R(验证理论)\n",
    "\n",
    "classifier_p = model.get_layer(model.layers[-1].name)\n",
    "r_list = get_r_list()\n",
    "best_acc = r_1_acc\n",
    "r_acc = []\n",
    "\n",
    "for i in range(len(r_list)):\n",
    "    r = r_list[i]\n",
    "    conv_base = tf.keras.applications.mobilenet_v2.MobileNetV2(weights='imagenet',include_top=False)\n",
    "    classifier = classifier_p\n",
    "    model = r_compiled_model()\n",
    "    filepath = 'mobilenet_v2_r_{:.2f}.keras'.format(r)\n",
    "    callbacks = [tf.keras.callbacks.EarlyStopping(monitor='val_accuracy',patience=2),\n",
    "                 tf.keras.callbacks.ModelCheckpoint(filepath=filepath,\n",
    "                                                    monitor='val_accuracy',\n",
    "                                                    save_best_only=True)]\n",
    "    history = model.fit(train_images,train_labels,\n",
    "                        epochs=15,\n",
    "                        validation_data=(val_images,val_labels),\n",
    "                        callbacks=callbacks)\n",
    "    r_acc.append(max(history.history['val_accuracy']))\n",
    "    \n",
    "    if i == 0 and r_acc[0] < r_1_acc:\n",
    "        r_list = r_list[:1]+r_list[:0:-1]\n",
    "        continue\n",
    "    if r_acc[i] > best_acc:\n",
    "        best_acc = r_acc[i]"
   ]
  },
  {
   "cell_type": "code",
   "execution_count": 6,
   "id": "190b287d",
   "metadata": {},
   "outputs": [
    {
     "name": "stdout",
     "output_type": "stream",
     "text": [
      "[0, 0.922077922077922, 0.8636363636363636, 0.7467532467532467, 0.6883116883116883, 0.577922077922078, 0.5194805194805194, 0.461038961038961, 0.34415584415584416, 0.2857142857142857, 0.16883116883116883]\n",
      "[0.949999988079071, 0.949999988079071, 0.949999988079071, 0.949999988079071, 0.949999988079071, 0.949999988079071, 0.949999988079071, 0.949999988079071, 0.949999988079071, 0.949999988079071, 0.9624999761581421]\n"
     ]
    }
   ],
   "source": [
    "#观察结果\n",
    "\n",
    "print(r_list)\n",
    "print(r_acc)"
   ]
  },
  {
   "cell_type": "code",
   "execution_count": 7,
   "id": "b93cb656",
   "metadata": {},
   "outputs": [
    {
     "name": "stdout",
     "output_type": "stream",
     "text": [
      "[1, 0.922077922077922, 0.8636363636363636, 0.7467532467532467, 0.6883116883116883, 0.577922077922078, 0.5194805194805194, 0.461038961038961, 0.34415584415584416, 0.2857142857142857, 0.16883116883116883, 0]\n",
      "[0.9624999761581421, 0.949999988079071, 0.949999988079071, 0.949999988079071, 0.949999988079071, 0.949999988079071, 0.949999988079071, 0.949999988079071, 0.949999988079071, 0.949999988079071, 0.9624999761581421, 0.949999988079071]\n"
     ]
    }
   ],
   "source": [
    "##整理结果\n",
    "\n",
    "r_list.pop(0)\n",
    "r_0_acc = r_acc.pop(0)\n",
    "\n",
    "r_list.append(0)\n",
    "r_acc.append(r_0_acc)\n",
    "\n",
    "r_list.insert(0,1)\n",
    "r_acc.insert(0,r_1_acc)\n",
    "print(r_list)\n",
    "print(r_acc)"
   ]
  },
  {
   "cell_type": "code",
   "execution_count": 9,
   "id": "180d2d2c",
   "metadata": {},
   "outputs": [
    {
     "data": {
      "image/png": "[encoded data removed]",
      "text/plain": [
       "<Figure size 640x480 with 1 Axes>"
      ]
     },
     "metadata": {},
     "output_type": "display_data"
    }
   ],
   "source": [
    "#展示结果\n",
    "\n",
    "import matplotlib.pyplot as plt\n",
    "plt.figure()\n",
    "plt.plot(r_list,r_acc,linestyle='-',marker='o',color='r',label='mobilenet_v2')\n",
    "plt.xlabel('transfer rate')\n",
    "plt.ylabel('accuracy')\n",
    "plt.ylim((0.7,1))\n",
    "\n",
    "plt.title('Validation accuracy')\n",
    "plt.legend()\n",
    "plt.show()\n"
   ]
  },
  {
   "cell_type": "code",
   "execution_count": 10,
   "id": "fae62708",
   "metadata": {},
   "outputs": [
    {
     "name": "stdout",
     "output_type": "stream",
     "text": [
      "Found 1000 files belonging to 2 classes.\n"
     ]
    }
   ],
   "source": [
    "#在unlabel(test)数据集上测试\n",
    "\n",
    "base_dir = pathlib.Path('chest_xray2')\n",
    "test_dataset = tf.keras.utils.image_dataset_from_directory(base_dir/'unlabel',\n",
    "                                                            image_size=(224,224),\n",
    "                                                            batch_size=32)\n",
    "test_images,test_labels = preprocess_data(test_dataset)"
   ]
  },
  {
   "cell_type": "code",
   "execution_count": 11,
   "id": "12991410",
   "metadata": {},
   "outputs": [],
   "source": [
    "model_0 = tf.keras.models.load_model('mobilenet_v2_r_0.00.keras')\n",
    "model_1 = tf.keras.models.load_model('mobilenet_v2_r_0.17.keras')\n",
    "model_2 = tf.keras.models.load_model('mobilenet_v2_r_0.29.keras')\n",
    "model_3 = tf.keras.models.load_model('mobilenet_v2_r_0.34.keras')\n",
    "model_4 = tf.keras.models.load_model('mobilenet_v2_r_0.46.keras')\n",
    "model_5 = tf.keras.models.load_model('mobilenet_v2_r_0.52.keras')\n",
    "model_6 = tf.keras.models.load_model('mobilenet_v2_r_0.58.keras')\n",
    "model_7 = tf.keras.models.load_model('mobilenet_v2_r_0.69.keras')\n",
    "model_8 = tf.keras.models.load_model('mobilenet_v2_r_0.75.keras')\n",
    "model_9 = tf.keras.models.load_model('mobilenet_v2_r_0.86.keras')\n",
    "model_10 = tf.keras.models.load_model('mobilenet_v2_r_0.92.keras')\n",
    "model_11 = tf.keras.models.load_model('mobilenet_v2_r_1.00.keras')"
   ]
  },
  {
   "cell_type": "code",
   "execution_count": 12,
   "id": "9dceca8b",
   "metadata": {},
   "outputs": [
    {
     "name": "stdout",
     "output_type": "stream",
     "text": [
      "WARNING:tensorflow:AutoGraph could not transform <function Model.make_test_function.<locals>.test_function at 0x000002AC104EBBF8> and will run it as-is.\n",
      "Please report this to the TensorFlow team. When filing the bug, set the verbosity to 10 (on Linux, `export AUTOGRAPH_VERBOSITY=10`) and attach the full output.\n",
      "Cause: 'arguments' object has no attribute 'posonlyargs'\n",
      "To silence this warning, decorate the function with @tf.autograph.experimental.do_not_convert\n",
      "WARNING: AutoGraph could not transform <function Model.make_test_function.<locals>.test_function at 0x000002AC104EBBF8> and will run it as-is.\n",
      "Please report this to the TensorFlow team. When filing the bug, set the verbosity to 10 (on Linux, `export AUTOGRAPH_VERBOSITY=10`) and attach the full output.\n",
      "Cause: 'arguments' object has no attribute 'posonlyargs'\n",
      "To silence this warning, decorate the function with @tf.autograph.experimental.do_not_convert\n",
      "32/32 [==============================] - 17s 517ms/step - loss: 0.3902 - accuracy: 0.8360\n",
      "0.8360000252723694\n"
     ]
    }
   ],
   "source": [
    "r_acc_t = []\n",
    "test_loss,test_acc = model_0.evaluate(test_images,test_labels)\n",
    "print(test_acc)\n",
    "r_acc_t.append(test_acc)"
   ]
  },
  {
   "cell_type": "code",
   "execution_count": 13,
   "id": "a2d4965b",
   "metadata": {},
   "outputs": [
    {
     "name": "stdout",
     "output_type": "stream",
     "text": [
      "WARNING:tensorflow:AutoGraph could not transform <function Model.make_test_function.<locals>.test_function at 0x000002AC1D40E8C8> and will run it as-is.\n",
      "Please report this to the TensorFlow team. When filing the bug, set the verbosity to 10 (on Linux, `export AUTOGRAPH_VERBOSITY=10`) and attach the full output.\n",
      "Cause: 'arguments' object has no attribute 'posonlyargs'\n",
      "To silence this warning, decorate the function with @tf.autograph.experimental.do_not_convert\n",
      "WARNING: AutoGraph could not transform <function Model.make_test_function.<locals>.test_function at 0x000002AC1D40E8C8> and will run it as-is.\n",
      "Please report this to the TensorFlow team. When filing the bug, set the verbosity to 10 (on Linux, `export AUTOGRAPH_VERBOSITY=10`) and attach the full output.\n",
      "Cause: 'arguments' object has no attribute 'posonlyargs'\n",
      "To silence this warning, decorate the function with @tf.autograph.experimental.do_not_convert\n",
      "32/32 [==============================] - 17s 511ms/step - loss: 0.3095 - accuracy: 0.8700\n",
      "0.8700000047683716\n"
     ]
    }
   ],
   "source": [
    "test_loss,test_acc = model_1.evaluate(test_images,test_labels)\n",
    "print(test_acc)\n",
    "r_acc_t.append(test_acc)"
   ]
  },
  {
   "cell_type": "code",
   "execution_count": 14,
   "id": "8d28ee60",
   "metadata": {},
   "outputs": [
    {
     "name": "stdout",
     "output_type": "stream",
     "text": [
      "WARNING:tensorflow:AutoGraph could not transform <function Model.make_test_function.<locals>.test_function at 0x000002AC32FD3048> and will run it as-is.\n",
      "Please report this to the TensorFlow team. When filing the bug, set the verbosity to 10 (on Linux, `export AUTOGRAPH_VERBOSITY=10`) and attach the full output.\n",
      "Cause: 'arguments' object has no attribute 'posonlyargs'\n",
      "To silence this warning, decorate the function with @tf.autograph.experimental.do_not_convert\n",
      "WARNING: AutoGraph could not transform <function Model.make_test_function.<locals>.test_function at 0x000002AC32FD3048> and will run it as-is.\n",
      "Please report this to the TensorFlow team. When filing the bug, set the verbosity to 10 (on Linux, `export AUTOGRAPH_VERBOSITY=10`) and attach the full output.\n",
      "Cause: 'arguments' object has no attribute 'posonlyargs'\n",
      "To silence this warning, decorate the function with @tf.autograph.experimental.do_not_convert\n",
      "32/32 [==============================] - 18s 521ms/step - loss: 0.3163 - accuracy: 0.8680\n",
      "0.8679999709129333\n"
     ]
    }
   ],
   "source": [
    "test_loss,test_acc = model_2.evaluate(test_images,test_labels)\n",
    "print(test_acc)\n",
    "r_acc_t.append(test_acc)"
   ]
  },
  {
   "cell_type": "code",
   "execution_count": 15,
   "id": "9baac48c",
   "metadata": {},
   "outputs": [
    {
     "name": "stdout",
     "output_type": "stream",
     "text": [
      "WARNING:tensorflow:AutoGraph could not transform <function Model.make_test_function.<locals>.test_function at 0x000002AC3377C598> and will run it as-is.\n",
      "Please report this to the TensorFlow team. When filing the bug, set the verbosity to 10 (on Linux, `export AUTOGRAPH_VERBOSITY=10`) and attach the full output.\n",
      "Cause: 'arguments' object has no attribute 'posonlyargs'\n",
      "To silence this warning, decorate the function with @tf.autograph.experimental.do_not_convert\n",
      "WARNING: AutoGraph could not transform <function Model.make_test_function.<locals>.test_function at 0x000002AC3377C598> and will run it as-is.\n",
      "Please report this to the TensorFlow team. When filing the bug, set the verbosity to 10 (on Linux, `export AUTOGRAPH_VERBOSITY=10`) and attach the full output.\n",
      "Cause: 'arguments' object has no attribute 'posonlyargs'\n",
      "To silence this warning, decorate the function with @tf.autograph.experimental.do_not_convert\n",
      "32/32 [==============================] - 17s 500ms/step - loss: 0.3243 - accuracy: 0.8630\n",
      "0.8629999756813049\n"
     ]
    }
   ],
   "source": [
    "test_loss,test_acc = model_3.evaluate(test_images,test_labels)\n",
    "print(test_acc)\n",
    "r_acc_t.append(test_acc)"
   ]
  },
  {
   "cell_type": "code",
   "execution_count": 16,
   "id": "120aeb0e",
   "metadata": {},
   "outputs": [
    {
     "name": "stdout",
     "output_type": "stream",
     "text": [
      "WARNING:tensorflow:AutoGraph could not transform <function Model.make_test_function.<locals>.test_function at 0x000002AC337A47B8> and will run it as-is.\n",
      "Please report this to the TensorFlow team. When filing the bug, set the verbosity to 10 (on Linux, `export AUTOGRAPH_VERBOSITY=10`) and attach the full output.\n",
      "Cause: 'arguments' object has no attribute 'posonlyargs'\n",
      "To silence this warning, decorate the function with @tf.autograph.experimental.do_not_convert\n",
      "WARNING: AutoGraph could not transform <function Model.make_test_function.<locals>.test_function at 0x000002AC337A47B8> and will run it as-is.\n",
      "Please report this to the TensorFlow team. When filing the bug, set the verbosity to 10 (on Linux, `export AUTOGRAPH_VERBOSITY=10`) and attach the full output.\n",
      "Cause: 'arguments' object has no attribute 'posonlyargs'\n",
      "To silence this warning, decorate the function with @tf.autograph.experimental.do_not_convert\n",
      "32/32 [==============================] - 17s 506ms/step - loss: 0.3319 - accuracy: 0.8600\n",
      "0.8600000143051147\n"
     ]
    }
   ],
   "source": [
    "test_loss,test_acc = model_4.evaluate(test_images,test_labels)\n",
    "print(test_acc)\n",
    "r_acc_t.append(test_acc)"
   ]
  },
  {
   "cell_type": "code",
   "execution_count": 17,
   "id": "f4ee830e",
   "metadata": {},
   "outputs": [
    {
     "name": "stdout",
     "output_type": "stream",
     "text": [
      "WARNING:tensorflow:AutoGraph could not transform <function Model.make_test_function.<locals>.test_function at 0x000002AC3395AD90> and will run it as-is.\n",
      "Please report this to the TensorFlow team. When filing the bug, set the verbosity to 10 (on Linux, `export AUTOGRAPH_VERBOSITY=10`) and attach the full output.\n",
      "Cause: 'arguments' object has no attribute 'posonlyargs'\n",
      "To silence this warning, decorate the function with @tf.autograph.experimental.do_not_convert\n",
      "WARNING: AutoGraph could not transform <function Model.make_test_function.<locals>.test_function at 0x000002AC3395AD90> and will run it as-is.\n",
      "Please report this to the TensorFlow team. When filing the bug, set the verbosity to 10 (on Linux, `export AUTOGRAPH_VERBOSITY=10`) and attach the full output.\n",
      "Cause: 'arguments' object has no attribute 'posonlyargs'\n",
      "To silence this warning, decorate the function with @tf.autograph.experimental.do_not_convert\n",
      "32/32 [==============================] - 17s 505ms/step - loss: 0.3389 - accuracy: 0.8570\n",
      "0.8569999933242798\n"
     ]
    }
   ],
   "source": [
    "test_loss,test_acc = model_5.evaluate(test_images,test_labels)\n",
    "print(test_acc)\n",
    "r_acc_t.append(test_acc)"
   ]
  },
  {
   "cell_type": "code",
   "execution_count": 18,
   "id": "e7d12a89",
   "metadata": {},
   "outputs": [
    {
     "name": "stdout",
     "output_type": "stream",
     "text": [
      "WARNING:tensorflow:AutoGraph could not transform <function Model.make_test_function.<locals>.test_function at 0x000002AC34CDA158> and will run it as-is.\n",
      "Please report this to the TensorFlow team. When filing the bug, set the verbosity to 10 (on Linux, `export AUTOGRAPH_VERBOSITY=10`) and attach the full output.\n",
      "Cause: 'arguments' object has no attribute 'posonlyargs'\n",
      "To silence this warning, decorate the function with @tf.autograph.experimental.do_not_convert\n",
      "WARNING: AutoGraph could not transform <function Model.make_test_function.<locals>.test_function at 0x000002AC34CDA158> and will run it as-is.\n",
      "Please report this to the TensorFlow team. When filing the bug, set the verbosity to 10 (on Linux, `export AUTOGRAPH_VERBOSITY=10`) and attach the full output.\n",
      "Cause: 'arguments' object has no attribute 'posonlyargs'\n",
      "To silence this warning, decorate the function with @tf.autograph.experimental.do_not_convert\n",
      "32/32 [==============================] - 17s 520ms/step - loss: 0.3537 - accuracy: 0.8510\n",
      "0.8510000109672546\n"
     ]
    }
   ],
   "source": [
    "test_loss,test_acc = model_6.evaluate(test_images,test_labels)\n",
    "print(test_acc)\n",
    "r_acc_t.append(test_acc)"
   ]
  },
  {
   "cell_type": "code",
   "execution_count": 19,
   "id": "58768931",
   "metadata": {},
   "outputs": [
    {
     "name": "stdout",
     "output_type": "stream",
     "text": [
      "WARNING:tensorflow:AutoGraph could not transform <function Model.make_test_function.<locals>.test_function at 0x000002AC34E95378> and will run it as-is.\n",
      "Please report this to the TensorFlow team. When filing the bug, set the verbosity to 10 (on Linux, `export AUTOGRAPH_VERBOSITY=10`) and attach the full output.\n",
      "Cause: 'arguments' object has no attribute 'posonlyargs'\n",
      "To silence this warning, decorate the function with @tf.autograph.experimental.do_not_convert\n",
      "WARNING: AutoGraph could not transform <function Model.make_test_function.<locals>.test_function at 0x000002AC34E95378> and will run it as-is.\n",
      "Please report this to the TensorFlow team. When filing the bug, set the verbosity to 10 (on Linux, `export AUTOGRAPH_VERBOSITY=10`) and attach the full output.\n",
      "Cause: 'arguments' object has no attribute 'posonlyargs'\n",
      "To silence this warning, decorate the function with @tf.autograph.experimental.do_not_convert\n",
      "32/32 [==============================] - 17s 515ms/step - loss: 0.3620 - accuracy: 0.8500\n",
      "0.8500000238418579\n"
     ]
    }
   ],
   "source": [
    "test_loss,test_acc = model_7.evaluate(test_images,test_labels)\n",
    "print(test_acc)\n",
    "r_acc_t.append(test_acc)"
   ]
  },
  {
   "cell_type": "code",
   "execution_count": 20,
   "id": "8150d4e2",
   "metadata": {},
   "outputs": [
    {
     "name": "stdout",
     "output_type": "stream",
     "text": [
      "WARNING:tensorflow:AutoGraph could not transform <function Model.make_test_function.<locals>.test_function at 0x000002AC34EBE950> and will run it as-is.\n",
      "Please report this to the TensorFlow team. When filing the bug, set the verbosity to 10 (on Linux, `export AUTOGRAPH_VERBOSITY=10`) and attach the full output.\n",
      "Cause: 'arguments' object has no attribute 'posonlyargs'\n",
      "To silence this warning, decorate the function with @tf.autograph.experimental.do_not_convert\n",
      "WARNING: AutoGraph could not transform <function Model.make_test_function.<locals>.test_function at 0x000002AC34EBE950> and will run it as-is.\n",
      "Please report this to the TensorFlow team. When filing the bug, set the verbosity to 10 (on Linux, `export AUTOGRAPH_VERBOSITY=10`) and attach the full output.\n",
      "Cause: 'arguments' object has no attribute 'posonlyargs'\n",
      "To silence this warning, decorate the function with @tf.autograph.experimental.do_not_convert\n",
      "32/32 [==============================] - 17s 503ms/step - loss: 0.3761 - accuracy: 0.8440\n",
      "0.843999981880188\n"
     ]
    }
   ],
   "source": [
    "test_loss,test_acc = model_8.evaluate(test_images,test_labels)\n",
    "print(test_acc)\n",
    "r_acc_t.append(test_acc)"
   ]
  },
  {
   "cell_type": "code",
   "execution_count": 21,
   "id": "4a5909bd",
   "metadata": {},
   "outputs": [
    {
     "name": "stdout",
     "output_type": "stream",
     "text": [
      "WARNING:tensorflow:AutoGraph could not transform <function Model.make_test_function.<locals>.test_function at 0x000002AC35073EA0> and will run it as-is.\n",
      "Please report this to the TensorFlow team. When filing the bug, set the verbosity to 10 (on Linux, `export AUTOGRAPH_VERBOSITY=10`) and attach the full output.\n",
      "Cause: 'arguments' object has no attribute 'posonlyargs'\n",
      "To silence this warning, decorate the function with @tf.autograph.experimental.do_not_convert\n",
      "WARNING: AutoGraph could not transform <function Model.make_test_function.<locals>.test_function at 0x000002AC35073EA0> and will run it as-is.\n",
      "Please report this to the TensorFlow team. When filing the bug, set the verbosity to 10 (on Linux, `export AUTOGRAPH_VERBOSITY=10`) and attach the full output.\n",
      "Cause: 'arguments' object has no attribute 'posonlyargs'\n",
      "To silence this warning, decorate the function with @tf.autograph.experimental.do_not_convert\n",
      "32/32 [==============================] - 17s 508ms/step - loss: 0.3824 - accuracy: 0.8390\n",
      "0.8389999866485596\n"
     ]
    }
   ],
   "source": [
    "test_loss,test_acc = model_9.evaluate(test_images,test_labels)\n",
    "print(test_acc)\n",
    "r_acc_t.append(test_acc)"
   ]
  },
  {
   "cell_type": "code",
   "execution_count": 22,
   "id": "52717ed9",
   "metadata": {},
   "outputs": [
    {
     "name": "stdout",
     "output_type": "stream",
     "text": [
      "WARNING:tensorflow:AutoGraph could not transform <function Model.make_test_function.<locals>.test_function at 0x000002AC355A7268> and will run it as-is.\n",
      "Please report this to the TensorFlow team. When filing the bug, set the verbosity to 10 (on Linux, `export AUTOGRAPH_VERBOSITY=10`) and attach the full output.\n",
      "Cause: 'arguments' object has no attribute 'posonlyargs'\n",
      "To silence this warning, decorate the function with @tf.autograph.experimental.do_not_convert\n",
      "WARNING: AutoGraph could not transform <function Model.make_test_function.<locals>.test_function at 0x000002AC355A7268> and will run it as-is.\n",
      "Please report this to the TensorFlow team. When filing the bug, set the verbosity to 10 (on Linux, `export AUTOGRAPH_VERBOSITY=10`) and attach the full output.\n",
      "Cause: 'arguments' object has no attribute 'posonlyargs'\n",
      "To silence this warning, decorate the function with @tf.autograph.experimental.do_not_convert\n",
      "32/32 [==============================] - 17s 510ms/step - loss: 0.3802 - accuracy: 0.8390\n",
      "0.8389999866485596\n"
     ]
    }
   ],
   "source": [
    "test_loss,test_acc = model_10.evaluate(test_images,test_labels)\n",
    "print(test_acc)\n",
    "r_acc_t.append(test_acc)"
   ]
  },
  {
   "cell_type": "code",
   "execution_count": 23,
   "id": "1179dc0a",
   "metadata": {},
   "outputs": [
    {
     "name": "stdout",
     "output_type": "stream",
     "text": [
      "WARNING:tensorflow:AutoGraph could not transform <function Model.make_test_function.<locals>.test_function at 0x000002AC355D8378> and will run it as-is.\n",
      "Please report this to the TensorFlow team. When filing the bug, set the verbosity to 10 (on Linux, `export AUTOGRAPH_VERBOSITY=10`) and attach the full output.\n",
      "Cause: 'arguments' object has no attribute 'posonlyargs'\n",
      "To silence this warning, decorate the function with @tf.autograph.experimental.do_not_convert\n",
      "WARNING: AutoGraph could not transform <function Model.make_test_function.<locals>.test_function at 0x000002AC355D8378> and will run it as-is.\n",
      "Please report this to the TensorFlow team. When filing the bug, set the verbosity to 10 (on Linux, `export AUTOGRAPH_VERBOSITY=10`) and attach the full output.\n",
      "Cause: 'arguments' object has no attribute 'posonlyargs'\n",
      "To silence this warning, decorate the function with @tf.autograph.experimental.do_not_convert\n",
      "32/32 [==============================] - 19s 549ms/step - loss: 0.3158 - accuracy: 0.8670\n",
      "0.8669999837875366\n"
     ]
    }
   ],
   "source": [
    "test_loss,test_acc = model_11.evaluate(test_images,test_labels)\n",
    "print(test_acc)\n",
    "r_acc_t.append(test_acc)"
   ]
  },
  {
   "cell_type": "code",
   "execution_count": 25,
   "id": "8c217834",
   "metadata": {},
   "outputs": [
    {
     "name": "stdout",
     "output_type": "stream",
     "text": [
      "[0.8669999837875366, 0.8389999866485596, 0.8389999866485596, 0.843999981880188, 0.8500000238418579, 0.8510000109672546, 0.8569999933242798, 0.8600000143051147, 0.8629999756813049, 0.8679999709129333, 0.8700000047683716, 0.8360000252723694]\n"
     ]
    }
   ],
   "source": [
    "r_acc_t = r_acc_t[::-1]\n",
    "print(r_acc_t)"
   ]
  },
  {
   "cell_type": "code",
   "execution_count": 26,
   "id": "d2349346",
   "metadata": {},
   "outputs": [
    {
     "data": {
      "image/png": "[encoded data removed]",
      "text/plain": [
       "<Figure size 640x480 with 1 Axes>"
      ]
     },
     "metadata": {},
     "output_type": "display_data"
    }
   ],
   "source": [
    "import matplotlib.pyplot as plt\n",
    "plt.figure()\n",
    "plt.plot(r_list,r_acc,linestyle='-',marker='o',color='r',label='validation accuracy')\n",
    "plt.plot(r_list,r_acc_t,linestyle='--',marker='o',color='r',label='test accuracy')\n",
    "plt.xlabel('transfer rate')\n",
    "plt.ylabel('accuracy')\n",
    "plt.ylim((0.7,1))\n",
    "\n",
    "plt.title('MobilenetV2 performance')\n",
    "plt.legend()\n",
    "plt.show()"
   ]
  },
  {
   "cell_type": "code",
   "execution_count": 27,
   "id": "fc21c74b",
   "metadata": {},
   "outputs": [],
   "source": [
    "#在unlabel(test)数据集上测试聚类\n",
    "from sklearn.cluster import KMeans\n",
    "from sklearn.metrics import accuracy_score"
   ]
  },
  {
   "cell_type": "code",
   "execution_count": 28,
   "id": "3e7ba427",
   "metadata": {},
   "outputs": [
    {
     "name": "stdout",
     "output_type": "stream",
     "text": [
      "WARNING:tensorflow:AutoGraph could not transform <function Model.make_predict_function.<locals>.predict_function at 0x000002AC36BBC7B8> and will run it as-is.\n",
      "Please report this to the TensorFlow team. When filing the bug, set the verbosity to 10 (on Linux, `export AUTOGRAPH_VERBOSITY=10`) and attach the full output.\n",
      "Cause: 'arguments' object has no attribute 'posonlyargs'\n",
      "To silence this warning, decorate the function with @tf.autograph.experimental.do_not_convert\n",
      "WARNING: AutoGraph could not transform <function Model.make_predict_function.<locals>.predict_function at 0x000002AC36BBC7B8> and will run it as-is.\n",
      "Please report this to the TensorFlow team. When filing the bug, set the verbosity to 10 (on Linux, `export AUTOGRAPH_VERBOSITY=10`) and attach the full output.\n",
      "Cause: 'arguments' object has no attribute 'posonlyargs'\n",
      "To silence this warning, decorate the function with @tf.autograph.experimental.do_not_convert\n"
     ]
    }
   ],
   "source": [
    "feature = tf.keras.layers.GlobalAveragePooling2D()(model_0.get_layer('out_relu').output)\n",
    "encoder_0 = tf.keras.Model(inputs=model_0.input,outputs=feature)\n",
    "X = encoder_0.predict(test_images)"
   ]
  },
  {
   "cell_type": "code",
   "execution_count": 29,
   "id": "4f975a55",
   "metadata": {},
   "outputs": [
    {
     "name": "stdout",
     "output_type": "stream",
     "text": [
      "0.848\n"
     ]
    }
   ],
   "source": [
    "kmeans = KMeans(n_clusters=2, n_init=20)\n",
    "y_pred = kmeans.fit_predict(X)\n",
    "acc = accuracy_score(test_labels,y_pred)\n",
    "print(acc)"
   ]
  },
  {
   "cell_type": "code",
   "execution_count": 30,
   "id": "4f6cd678",
   "metadata": {},
   "outputs": [
    {
     "name": "stdout",
     "output_type": "stream",
     "text": [
      "WARNING:tensorflow:AutoGraph could not transform <function Model.make_predict_function.<locals>.predict_function at 0x000002AC68187EA0> and will run it as-is.\n",
      "Please report this to the TensorFlow team. When filing the bug, set the verbosity to 10 (on Linux, `export AUTOGRAPH_VERBOSITY=10`) and attach the full output.\n",
      "Cause: 'arguments' object has no attribute 'posonlyargs'\n",
      "To silence this warning, decorate the function with @tf.autograph.experimental.do_not_convert\n",
      "WARNING: AutoGraph could not transform <function Model.make_predict_function.<locals>.predict_function at 0x000002AC68187EA0> and will run it as-is.\n",
      "Please report this to the TensorFlow team. When filing the bug, set the verbosity to 10 (on Linux, `export AUTOGRAPH_VERBOSITY=10`) and attach the full output.\n",
      "Cause: 'arguments' object has no attribute 'posonlyargs'\n",
      "To silence this warning, decorate the function with @tf.autograph.experimental.do_not_convert\n"
     ]
    }
   ],
   "source": [
    "feature = tf.keras.layers.GlobalAveragePooling2D()(model_1.get_layer('out_relu').output)\n",
    "encoder_1 = tf.keras.Model(inputs=model_1.input,outputs=feature)\n",
    "X = encoder_1.predict(test_images)"
   ]
  },
  {
   "cell_type": "code",
   "execution_count": 33,
   "id": "0ef8a286",
   "metadata": {},
   "outputs": [
    {
     "name": "stdout",
     "output_type": "stream",
     "text": [
      "0.847\n"
     ]
    }
   ],
   "source": [
    "kmeans = KMeans(n_clusters=2, n_init=20)\n",
    "y_pred = kmeans.fit_predict(X)\n",
    "acc = accuracy_score(test_labels,y_pred)\n",
    "print(acc)"
   ]
  },
  {
   "cell_type": "code",
   "execution_count": 34,
   "id": "1bfa5b1f",
   "metadata": {},
   "outputs": [
    {
     "name": "stdout",
     "output_type": "stream",
     "text": [
      "WARNING:tensorflow:AutoGraph could not transform <function Model.make_predict_function.<locals>.predict_function at 0x000002AC3598CB70> and will run it as-is.\n",
      "Please report this to the TensorFlow team. When filing the bug, set the verbosity to 10 (on Linux, `export AUTOGRAPH_VERBOSITY=10`) and attach the full output.\n",
      "Cause: 'arguments' object has no attribute 'posonlyargs'\n",
      "To silence this warning, decorate the function with @tf.autograph.experimental.do_not_convert\n",
      "WARNING: AutoGraph could not transform <function Model.make_predict_function.<locals>.predict_function at 0x000002AC3598CB70> and will run it as-is.\n",
      "Please report this to the TensorFlow team. When filing the bug, set the verbosity to 10 (on Linux, `export AUTOGRAPH_VERBOSITY=10`) and attach the full output.\n",
      "Cause: 'arguments' object has no attribute 'posonlyargs'\n",
      "To silence this warning, decorate the function with @tf.autograph.experimental.do_not_convert\n"
     ]
    }
   ],
   "source": [
    "feature = tf.keras.layers.GlobalAveragePooling2D()(model_2.get_layer('out_relu').output)\n",
    "encoder_2 = tf.keras.Model(inputs=model_2.input,outputs=feature)\n",
    "X = encoder_2.predict(test_images)"
   ]
  },
  {
   "cell_type": "code",
   "execution_count": 35,
   "id": "e1cec2e5",
   "metadata": {},
   "outputs": [
    {
     "name": "stdout",
     "output_type": "stream",
     "text": [
      "0.847\n"
     ]
    }
   ],
   "source": [
    "kmeans = KMeans(n_clusters=2, n_init=20)\n",
    "y_pred = kmeans.fit_predict(X)\n",
    "acc = accuracy_score(test_labels,y_pred)\n",
    "print(acc)"
   ]
  },
  {
   "cell_type": "code",
   "execution_count": 36,
   "id": "961ebd31",
   "metadata": {},
   "outputs": [
    {
     "name": "stdout",
     "output_type": "stream",
     "text": [
      "WARNING:tensorflow:AutoGraph could not transform <function Model.make_predict_function.<locals>.predict_function at 0x000002AC3597B1E0> and will run it as-is.\n",
      "Please report this to the TensorFlow team. When filing the bug, set the verbosity to 10 (on Linux, `export AUTOGRAPH_VERBOSITY=10`) and attach the full output.\n",
      "Cause: 'arguments' object has no attribute 'posonlyargs'\n",
      "To silence this warning, decorate the function with @tf.autograph.experimental.do_not_convert\n",
      "WARNING: AutoGraph could not transform <function Model.make_predict_function.<locals>.predict_function at 0x000002AC3597B1E0> and will run it as-is.\n",
      "Please report this to the TensorFlow team. When filing the bug, set the verbosity to 10 (on Linux, `export AUTOGRAPH_VERBOSITY=10`) and attach the full output.\n",
      "Cause: 'arguments' object has no attribute 'posonlyargs'\n",
      "To silence this warning, decorate the function with @tf.autograph.experimental.do_not_convert\n"
     ]
    }
   ],
   "source": [
    "feature = tf.keras.layers.GlobalAveragePooling2D()(model_3.get_layer('out_relu').output)\n",
    "encoder_3 = tf.keras.Model(inputs=model_3.input,outputs=feature)\n",
    "X = encoder_3.predict(test_images)"
   ]
  },
  {
   "cell_type": "code",
   "execution_count": 39,
   "id": "2aaff7b2",
   "metadata": {},
   "outputs": [
    {
     "name": "stdout",
     "output_type": "stream",
     "text": [
      "0.849\n"
     ]
    }
   ],
   "source": [
    "kmeans = KMeans(n_clusters=2, n_init=20)\n",
    "y_pred = kmeans.fit_predict(X)\n",
    "acc = accuracy_score(test_labels,y_pred)\n",
    "print(acc)"
   ]
  },
  {
   "cell_type": "code",
   "execution_count": 40,
   "id": "1502188a",
   "metadata": {},
   "outputs": [
    {
     "name": "stdout",
     "output_type": "stream",
     "text": [
      "WARNING:tensorflow:AutoGraph could not transform <function Model.make_predict_function.<locals>.predict_function at 0x000002AC355A7048> and will run it as-is.\n",
      "Please report this to the TensorFlow team. When filing the bug, set the verbosity to 10 (on Linux, `export AUTOGRAPH_VERBOSITY=10`) and attach the full output.\n",
      "Cause: 'arguments' object has no attribute 'posonlyargs'\n",
      "To silence this warning, decorate the function with @tf.autograph.experimental.do_not_convert\n",
      "WARNING: AutoGraph could not transform <function Model.make_predict_function.<locals>.predict_function at 0x000002AC355A7048> and will run it as-is.\n",
      "Please report this to the TensorFlow team. When filing the bug, set the verbosity to 10 (on Linux, `export AUTOGRAPH_VERBOSITY=10`) and attach the full output.\n",
      "Cause: 'arguments' object has no attribute 'posonlyargs'\n",
      "To silence this warning, decorate the function with @tf.autograph.experimental.do_not_convert\n"
     ]
    }
   ],
   "source": [
    "feature = tf.keras.layers.GlobalAveragePooling2D()(model_4.get_layer('out_relu').output)\n",
    "encoder_4 = tf.keras.Model(inputs=model_4.input,outputs=feature)\n",
    "X = encoder_4.predict(test_images)"
   ]
  },
  {
   "cell_type": "code",
   "execution_count": 41,
   "id": "2b0c9c5b",
   "metadata": {},
   "outputs": [
    {
     "name": "stdout",
     "output_type": "stream",
     "text": [
      "0.846\n"
     ]
    }
   ],
   "source": [
    "kmeans = KMeans(n_clusters=2, n_init=20)\n",
    "y_pred = kmeans.fit_predict(X)\n",
    "acc = accuracy_score(test_labels,y_pred)\n",
    "print(acc)"
   ]
  },
  {
   "cell_type": "code",
   "execution_count": 42,
   "id": "f4096854",
   "metadata": {},
   "outputs": [
    {
     "name": "stdout",
     "output_type": "stream",
     "text": [
      "WARNING:tensorflow:AutoGraph could not transform <function Model.make_predict_function.<locals>.predict_function at 0x000002AC34E95598> and will run it as-is.\n",
      "Please report this to the TensorFlow team. When filing the bug, set the verbosity to 10 (on Linux, `export AUTOGRAPH_VERBOSITY=10`) and attach the full output.\n",
      "Cause: 'arguments' object has no attribute 'posonlyargs'\n",
      "To silence this warning, decorate the function with @tf.autograph.experimental.do_not_convert\n",
      "WARNING: AutoGraph could not transform <function Model.make_predict_function.<locals>.predict_function at 0x000002AC34E95598> and will run it as-is.\n",
      "Please report this to the TensorFlow team. When filing the bug, set the verbosity to 10 (on Linux, `export AUTOGRAPH_VERBOSITY=10`) and attach the full output.\n",
      "Cause: 'arguments' object has no attribute 'posonlyargs'\n",
      "To silence this warning, decorate the function with @tf.autograph.experimental.do_not_convert\n"
     ]
    }
   ],
   "source": [
    "feature = tf.keras.layers.GlobalAveragePooling2D()(model_5.get_layer('out_relu').output)\n",
    "encoder_5 = tf.keras.Model(inputs=model_5.input,outputs=feature)\n",
    "X = encoder_5.predict(test_images)"
   ]
  },
  {
   "cell_type": "code",
   "execution_count": 46,
   "id": "c49d1a19",
   "metadata": {},
   "outputs": [
    {
     "name": "stdout",
     "output_type": "stream",
     "text": [
      "0.152\n"
     ]
    }
   ],
   "source": [
    "kmeans = KMeans(n_clusters=2, n_init=20)\n",
    "y_pred = kmeans.fit_predict(X)\n",
    "acc = accuracy_score(test_labels,y_pred)\n",
    "print(acc)"
   ]
  },
  {
   "cell_type": "code",
   "execution_count": 47,
   "id": "f8a3590a",
   "metadata": {},
   "outputs": [
    {
     "name": "stdout",
     "output_type": "stream",
     "text": [
      "WARNING:tensorflow:AutoGraph could not transform <function Model.make_predict_function.<locals>.predict_function at 0x000002AC3377C510> and will run it as-is.\n",
      "Please report this to the TensorFlow team. When filing the bug, set the verbosity to 10 (on Linux, `export AUTOGRAPH_VERBOSITY=10`) and attach the full output.\n",
      "Cause: 'arguments' object has no attribute 'posonlyargs'\n",
      "To silence this warning, decorate the function with @tf.autograph.experimental.do_not_convert\n",
      "WARNING: AutoGraph could not transform <function Model.make_predict_function.<locals>.predict_function at 0x000002AC3377C510> and will run it as-is.\n",
      "Please report this to the TensorFlow team. When filing the bug, set the verbosity to 10 (on Linux, `export AUTOGRAPH_VERBOSITY=10`) and attach the full output.\n",
      "Cause: 'arguments' object has no attribute 'posonlyargs'\n",
      "To silence this warning, decorate the function with @tf.autograph.experimental.do_not_convert\n"
     ]
    }
   ],
   "source": [
    "feature = tf.keras.layers.GlobalAveragePooling2D()(model_6.get_layer('out_relu').output)\n",
    "encoder_6 = tf.keras.Model(inputs=model_6.input,outputs=feature)\n",
    "X = encoder_6.predict(test_images)"
   ]
  },
  {
   "cell_type": "code",
   "execution_count": 48,
   "id": "65fda502",
   "metadata": {},
   "outputs": [
    {
     "name": "stdout",
     "output_type": "stream",
     "text": [
      "0.846\n"
     ]
    }
   ],
   "source": [
    "kmeans = KMeans(n_clusters=2, n_init=20)\n",
    "y_pred = kmeans.fit_predict(X)\n",
    "acc = accuracy_score(test_labels,y_pred)\n",
    "print(acc)"
   ]
  },
  {
   "cell_type": "code",
   "execution_count": 49,
   "id": "6beed9a1",
   "metadata": {},
   "outputs": [
    {
     "name": "stdout",
     "output_type": "stream",
     "text": [
      "WARNING:tensorflow:AutoGraph could not transform <function Model.make_predict_function.<locals>.predict_function at 0x000002AC2FA0FD08> and will run it as-is.\n",
      "Please report this to the TensorFlow team. When filing the bug, set the verbosity to 10 (on Linux, `export AUTOGRAPH_VERBOSITY=10`) and attach the full output.\n",
      "Cause: 'arguments' object has no attribute 'posonlyargs'\n",
      "To silence this warning, decorate the function with @tf.autograph.experimental.do_not_convert\n",
      "WARNING: AutoGraph could not transform <function Model.make_predict_function.<locals>.predict_function at 0x000002AC2FA0FD08> and will run it as-is.\n",
      "Please report this to the TensorFlow team. When filing the bug, set the verbosity to 10 (on Linux, `export AUTOGRAPH_VERBOSITY=10`) and attach the full output.\n",
      "Cause: 'arguments' object has no attribute 'posonlyargs'\n",
      "To silence this warning, decorate the function with @tf.autograph.experimental.do_not_convert\n"
     ]
    }
   ],
   "source": [
    "feature = tf.keras.layers.GlobalAveragePooling2D()(model_7.get_layer('out_relu').output)\n",
    "encoder_7 = tf.keras.Model(inputs=model_7.input,outputs=feature)\n",
    "X = encoder_7.predict(test_images)"
   ]
  },
  {
   "cell_type": "code",
   "execution_count": 50,
   "id": "766fc6b0",
   "metadata": {},
   "outputs": [
    {
     "name": "stdout",
     "output_type": "stream",
     "text": [
      "0.848\n"
     ]
    }
   ],
   "source": [
    "kmeans = KMeans(n_clusters=2, n_init=20)\n",
    "y_pred = kmeans.fit_predict(X)\n",
    "acc = accuracy_score(test_labels,y_pred)\n",
    "print(acc)"
   ]
  },
  {
   "cell_type": "code",
   "execution_count": 51,
   "id": "d68b5aa9",
   "metadata": {},
   "outputs": [
    {
     "name": "stdout",
     "output_type": "stream",
     "text": [
      "WARNING:tensorflow:AutoGraph could not transform <function Model.make_predict_function.<locals>.predict_function at 0x000002AC6D7C01E0> and will run it as-is.\n",
      "Please report this to the TensorFlow team. When filing the bug, set the verbosity to 10 (on Linux, `export AUTOGRAPH_VERBOSITY=10`) and attach the full output.\n",
      "Cause: 'arguments' object has no attribute 'posonlyargs'\n",
      "To silence this warning, decorate the function with @tf.autograph.experimental.do_not_convert\n",
      "WARNING: AutoGraph could not transform <function Model.make_predict_function.<locals>.predict_function at 0x000002AC6D7C01E0> and will run it as-is.\n",
      "Please report this to the TensorFlow team. When filing the bug, set the verbosity to 10 (on Linux, `export AUTOGRAPH_VERBOSITY=10`) and attach the full output.\n",
      "Cause: 'arguments' object has no attribute 'posonlyargs'\n",
      "To silence this warning, decorate the function with @tf.autograph.experimental.do_not_convert\n"
     ]
    }
   ],
   "source": [
    "feature = tf.keras.layers.GlobalAveragePooling2D()(model_8.get_layer('out_relu').output)\n",
    "encoder_8 = tf.keras.Model(inputs=model_8.input,outputs=feature)\n",
    "X = encoder_8.predict(test_images)"
   ]
  },
  {
   "cell_type": "code",
   "execution_count": 56,
   "id": "7e7ce1e6",
   "metadata": {},
   "outputs": [
    {
     "name": "stdout",
     "output_type": "stream",
     "text": [
      "0.154\n"
     ]
    }
   ],
   "source": [
    "kmeans = KMeans(n_clusters=2, n_init=20)\n",
    "y_pred = kmeans.fit_predict(X)\n",
    "acc = accuracy_score(test_labels,y_pred)\n",
    "print(acc)"
   ]
  },
  {
   "cell_type": "code",
   "execution_count": 57,
   "id": "2ac489a2",
   "metadata": {},
   "outputs": [
    {
     "name": "stdout",
     "output_type": "stream",
     "text": [
      "WARNING:tensorflow:AutoGraph could not transform <function Model.make_predict_function.<locals>.predict_function at 0x000002AC6D96D510> and will run it as-is.\n",
      "Please report this to the TensorFlow team. When filing the bug, set the verbosity to 10 (on Linux, `export AUTOGRAPH_VERBOSITY=10`) and attach the full output.\n",
      "Cause: 'arguments' object has no attribute 'posonlyargs'\n",
      "To silence this warning, decorate the function with @tf.autograph.experimental.do_not_convert\n",
      "WARNING: AutoGraph could not transform <function Model.make_predict_function.<locals>.predict_function at 0x000002AC6D96D510> and will run it as-is.\n",
      "Please report this to the TensorFlow team. When filing the bug, set the verbosity to 10 (on Linux, `export AUTOGRAPH_VERBOSITY=10`) and attach the full output.\n",
      "Cause: 'arguments' object has no attribute 'posonlyargs'\n",
      "To silence this warning, decorate the function with @tf.autograph.experimental.do_not_convert\n"
     ]
    }
   ],
   "source": [
    "feature = tf.keras.layers.GlobalAveragePooling2D()(model_9.get_layer('out_relu').output)\n",
    "encoder_9 = tf.keras.Model(inputs=model_9.input,outputs=feature)\n",
    "X = encoder_9.predict(test_images)"
   ]
  },
  {
   "cell_type": "code",
   "execution_count": 58,
   "id": "a6c61fb4",
   "metadata": {},
   "outputs": [
    {
     "name": "stdout",
     "output_type": "stream",
     "text": [
      "0.843\n"
     ]
    }
   ],
   "source": [
    "kmeans = KMeans(n_clusters=2, n_init=20)\n",
    "y_pred = kmeans.fit_predict(X)\n",
    "acc = accuracy_score(test_labels,y_pred)\n",
    "print(acc)"
   ]
  },
  {
   "cell_type": "code",
   "execution_count": 59,
   "id": "2c3a44b7",
   "metadata": {},
   "outputs": [
    {
     "name": "stdout",
     "output_type": "stream",
     "text": [
      "WARNING:tensorflow:AutoGraph could not transform <function Model.make_predict_function.<locals>.predict_function at 0x000002AC75B4F378> and will run it as-is.\n",
      "Please report this to the TensorFlow team. When filing the bug, set the verbosity to 10 (on Linux, `export AUTOGRAPH_VERBOSITY=10`) and attach the full output.\n",
      "Cause: 'arguments' object has no attribute 'posonlyargs'\n",
      "To silence this warning, decorate the function with @tf.autograph.experimental.do_not_convert\n",
      "WARNING: AutoGraph could not transform <function Model.make_predict_function.<locals>.predict_function at 0x000002AC75B4F378> and will run it as-is.\n",
      "Please report this to the TensorFlow team. When filing the bug, set the verbosity to 10 (on Linux, `export AUTOGRAPH_VERBOSITY=10`) and attach the full output.\n",
      "Cause: 'arguments' object has no attribute 'posonlyargs'\n",
      "To silence this warning, decorate the function with @tf.autograph.experimental.do_not_convert\n"
     ]
    }
   ],
   "source": [
    "feature = tf.keras.layers.GlobalAveragePooling2D()(model_10.get_layer('out_relu').output)\n",
    "encoder_10 = tf.keras.Model(inputs=model_10.input,outputs=feature)\n",
    "X = encoder_10.predict(test_images)"
   ]
  },
  {
   "cell_type": "code",
   "execution_count": 60,
   "id": "58b0f779",
   "metadata": {},
   "outputs": [
    {
     "name": "stdout",
     "output_type": "stream",
     "text": [
      "0.152\n"
     ]
    }
   ],
   "source": [
    "kmeans = KMeans(n_clusters=2, n_init=20)\n",
    "y_pred = kmeans.fit_predict(X)\n",
    "acc = accuracy_score(test_labels,y_pred)\n",
    "print(acc)"
   ]
  },
  {
   "cell_type": "code",
   "execution_count": 61,
   "id": "1c8bfc05",
   "metadata": {},
   "outputs": [
    {
     "name": "stdout",
     "output_type": "stream",
     "text": [
      "WARNING:tensorflow:AutoGraph could not transform <function Model.make_predict_function.<locals>.predict_function at 0x000002AC75F11D90> and will run it as-is.\n",
      "Please report this to the TensorFlow team. When filing the bug, set the verbosity to 10 (on Linux, `export AUTOGRAPH_VERBOSITY=10`) and attach the full output.\n",
      "Cause: 'arguments' object has no attribute 'posonlyargs'\n",
      "To silence this warning, decorate the function with @tf.autograph.experimental.do_not_convert\n",
      "WARNING: AutoGraph could not transform <function Model.make_predict_function.<locals>.predict_function at 0x000002AC75F11D90> and will run it as-is.\n",
      "Please report this to the TensorFlow team. When filing the bug, set the verbosity to 10 (on Linux, `export AUTOGRAPH_VERBOSITY=10`) and attach the full output.\n",
      "Cause: 'arguments' object has no attribute 'posonlyargs'\n",
      "To silence this warning, decorate the function with @tf.autograph.experimental.do_not_convert\n"
     ]
    }
   ],
   "source": [
    "feature = tf.keras.layers.GlobalAveragePooling2D()(model_11.get_layer('out_relu').output)\n",
    "encoder_11 = tf.keras.Model(inputs=model_11.input,outputs=feature)\n",
    "X = encoder_11.predict(test_images)"
   ]
  },
  {
   "cell_type": "code",
   "execution_count": 62,
   "id": "b26a46b0",
   "metadata": {},
   "outputs": [
    {
     "name": "stdout",
     "output_type": "stream",
     "text": [
      "0.155\n"
     ]
    }
   ],
   "source": [
    "kmeans = KMeans(n_clusters=2, n_init=20)\n",
    "y_pred = kmeans.fit_predict(X)\n",
    "acc = accuracy_score(test_labels,y_pred)\n",
    "print(acc)"
   ]
  },
  {
   "cell_type": "code",
   "execution_count": 63,
   "id": "76b7f871",
   "metadata": {},
   "outputs": [
    {
     "name": "stdout",
     "output_type": "stream",
     "text": [
      "[0.845, 0.848, 0.843, 0.846, 0.848, 0.846, 0.848, 0.846, 0.849, 0.847, 0.847, 0.848]\n"
     ]
    }
   ],
   "source": [
    "r_acc_k = [1-0.155,1-0.152,0.843,1-0.154,0.848,0.846,1-0.152,0.846,0.849,0.847,0.847,0.848]\n",
    "print(r_acc_k)"
   ]
  },
  {
   "cell_type": "code",
   "execution_count": 64,
   "id": "cd1b8c64",
   "metadata": {},
   "outputs": [
    {
     "data": {
      "image/png": "[encoded data removed]",
      "text/plain": [
       "<Figure size 640x480 with 1 Axes>"
      ]
     },
     "metadata": {},
     "output_type": "display_data"
    }
   ],
   "source": [
    "import matplotlib.pyplot as plt\n",
    "plt.figure()\n",
    "plt.plot(r_list,r_acc,linestyle='-',marker='o',color='r',label='validation accuracy')\n",
    "plt.plot(r_list,r_acc_t,linestyle='--',marker='o',color='r',label='test accuracy')\n",
    "plt.plot(r_list,r_acc_k,linestyle=':',marker='o',color='r',label='cluster accuracy')\n",
    "plt.xlabel('transfer rate')\n",
    "plt.ylabel('accuracy')\n",
    "plt.ylim((0.7,1))\n",
    "\n",
    "plt.title('MobilenetV2 performance')\n",
    "plt.legend()\n",
    "plt.show()"
   ]
  },
  {
   "cell_type": "code",
   "execution_count": null,
   "id": "9805cea3",
   "metadata": {},
   "outputs": [],
   "source": []
  }
 ],
 "metadata": {
  "kernelspec": {
   "display_name": "Python 3",
   "language": "python",
   "name": "python3"
  },
  "language_info": {
   "codemirror_mode": {
    "name": "ipython",
    "version": 3
   },
   "file_extension": ".py",
   "mimetype": "text/x-python",
   "name": "python",
   "nbconvert_exporter": "python",
   "pygments_lexer": "ipython3",
   "version": "3.7.0"
  }
 },
 "nbformat": 4,
 "nbformat_minor": 5
}
